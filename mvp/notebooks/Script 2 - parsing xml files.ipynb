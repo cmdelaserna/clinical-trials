{
 "cells": [
  {
   "cell_type": "markdown",
   "metadata": {},
   "source": [
    "## Parse a selection of tags from xml files, export it as json\n",
    "- Use random function to define number of trials to test\n",
    "- Check variables for folders for all data"
   ]
  },
  {
   "cell_type": "code",
   "execution_count": null,
   "metadata": {},
   "outputs": [],
   "source": [
    "import json\n",
    "import os\n",
    "import xml.etree.ElementTree as ET\n",
    "import shutil\n",
    "import sys\n",
    "import pandas as pd"
   ]
  },
  {
   "cell_type": "code",
   "execution_count": null,
   "metadata": {},
   "outputs": [],
   "source": [
    "'''\n",
    "Create paths and folders\n",
    "'''\n",
    "\n",
    "# Folders with xml files\n",
    "path_to_all_xml_trials = os.path.abspath('../data/all_trials/')\n",
    "\n",
    "# Folders with randome sample xml files for testing and debugging\n",
    "path_to_test_folder = os.path.abspath('../data/test/')\n",
    "\n",
    "# Path for json folder [json_test for debugging]\n",
    "path_to_json_file = os.path.abspath('../data/json_test/')\n",
    "\n",
    "# Variable for all parsed files\n",
    "all_parsed_files = []\n",
    "\n",
    "#substitute first file with main xml folder\n",
    "all_folders = [path_to_all_xml_trials, path_to_json_file, path_to_test_folder]\n",
    "\n",
    "print('\\nPaths and folders created\\n')"
   ]
  },
  {
   "cell_type": "code",
   "execution_count": null,
   "metadata": {},
   "outputs": [],
   "source": [
    "#Function for creating folders\n",
    "\n",
    "create_folders_errors = []\n",
    "\n",
    "def create_folders(paths=[]):\n",
    "    for p in paths:\n",
    "        try:\n",
    "            os.mkdir(p)\n",
    "            if p:\n",
    "                print('{} created'.format(p))\n",
    "        except IOError as e:\n",
    "            create_folders_errors.append(e)\n",
    "            pass\n",
    "\n",
    "        print('\\nFolders created. Except: {}\\n'.format(create_folders_errors))\n"
   ]
  },
  {
   "cell_type": "code",
   "execution_count": null,
   "metadata": {},
   "outputs": [],
   "source": [
    "create_folders(all_folders)"
   ]
  },
  {
   "cell_type": "markdown",
   "metadata": {},
   "source": [
    "### Use it to define a sample of xml files for debugging and test"
   ]
  },
  {
   "cell_type": "code",
   "execution_count": null,
   "metadata": {},
   "outputs": [],
   "source": [
    "'''\n",
    "Select n random files from all trials and save them in test folder\n",
    "'''\n",
    "files_for_test = 1000\n",
    "\n",
    "import random\n",
    "\n",
    "# Pending: If files in test folder, delete them\n",
    "random_files = []\n",
    "random_files = random.sample(os.listdir(path_to_all_xml_trials), files_for_test)\n",
    "print('Random files: {}'.format(len(random_files)))\n",
    "\n",
    "for f in random_files:\n",
    "    src = os.path.join(path_to_all_xml_trials, f)\n",
    "    shutil.copy(src, path_to_test_folder)"
   ]
  },
  {
   "cell_type": "code",
   "execution_count": null,
   "metadata": {},
   "outputs": [],
   "source": [
    "print(random_files[0:5])"
   ]
  },
  {
   "cell_type": "code",
   "execution_count": null,
   "metadata": {},
   "outputs": [],
   "source": [
    "'''\n",
    "Parse all xml files and save them in all_parsed_files.\n",
    "Slow. Checks for xml files\n",
    "'''\n",
    "\n",
    "def parse_xml_files(path_to_folder):\n",
    "    for filename in os.listdir(path_to_folder):\n",
    "        # if not filename.endswith('.xml'): continue\n",
    "        fullname = os.path.join(path_to_folder, filename)\n",
    "        all_parsed_files.append(ET.parse(fullname).getroot())\n",
    "\n",
    "        # Checking message to the terminal\n",
    "        print(\"{} file parsed\\n\".format(fullname))\n",
    "\n",
    "#     print('Number of files parsed: {}\\n'.format(len(all_parsed_files)))\n",
    "\n",
    "    return all_parsed_files"
   ]
  },
  {
   "cell_type": "code",
   "execution_count": null,
   "metadata": {},
   "outputs": [],
   "source": [
    "##\n",
    "#substitute argument with main xml folder with all trials\n",
    "##\n",
    "%%capture\n",
    "parse_xml_files(path_to_test_folder)\n"
   ]
  },
  {
   "cell_type": "code",
   "execution_count": null,
   "metadata": {},
   "outputs": [],
   "source": [
    "'''\n",
    "Find values by unique tags in XML files\n",
    "Save them in a dictionary\n",
    "Export them to a json file\n",
    "'''\n",
    "\n",
    "all_data_dictionary = {}\n",
    "print('\\n-------------------------\\n')\n",
    "print('\\nCreated all_data_dictionary\\n')"
   ]
  },
  {
   "cell_type": "code",
   "execution_count": null,
   "metadata": {},
   "outputs": [],
   "source": [
    "#function to create dictionary from tags\n",
    "def create_dictionary_from_tag(tag, parsed_files = all_parsed_files, name_dictionary = all_data_dictionary):\n",
    "\n",
    "    # Variable to store values\n",
    "    # keys = []\n",
    "    values = []\n",
    "\n",
    "    # Iterate through all xml parsed files and tags, and append data to values\n",
    "    for n in parsed_files:\n",
    "        for i in n.iter(tag):\n",
    "            if i.text != 0:\n",
    "                values.append(i.text)\n",
    "            else:\n",
    "                values.append('nan')\n",
    "            print(\"{} file parsed\\n\".format(i.text))\n",
    "\n",
    "    # Create dictionary and set tags as keys\n",
    "    name_dictionary.setdefault(tag, [])\n",
    "\n",
    "    # Append values to dictionary\n",
    "    for i in values:\n",
    "        name_dictionary[tag].append(i)\n",
    "#         print(\"{} file added to the dictionary\\n\".format(i))"
   ]
  },
  {
   "cell_type": "code",
   "execution_count": null,
   "metadata": {},
   "outputs": [],
   "source": [
    "%%capture\n",
    "#First batch\n",
    "create_dictionary_from_tag('nct_id')\n",
    "create_dictionary_from_tag('study_first_submitted')\n",
    "create_dictionary_from_tag('source')\n",
    "create_dictionary_from_tag('brief_title')\n",
    "create_dictionary_from_tag('overall_status')\n",
    "create_dictionary_from_tag('verification_date')\n",
    "create_dictionary_from_tag('study_type')\n",
    "create_dictionary_from_tag('study_first_posted')\n",
    "create_dictionary_from_tag('last_update_submitted')\n",
    "create_dictionary_from_tag('last_update_posted')\n",
    "create_dictionary_from_tag('phase')"
   ]
  },
  {
   "cell_type": "code",
   "execution_count": null,
   "metadata": {},
   "outputs": [],
   "source": [
    "def check_values_key():\n",
    "    print('\\nChecking values by key\\n')\n",
    "\n",
    "    # Check number of values by key\n",
    "    for key, value in all_data_dictionary.items():\n",
    "        print(key, len(list(filter(bool, value))))"
   ]
  },
  {
   "cell_type": "code",
   "execution_count": null,
   "metadata": {},
   "outputs": [],
   "source": [
    "#All values need to match for JSON file\n",
    "check_values_key()"
   ]
  },
  {
   "cell_type": "code",
   "execution_count": null,
   "metadata": {},
   "outputs": [],
   "source": [
    "# Function for adding nested tags\n",
    "\n",
    "def add_new_tags(new_key):\n",
    "    all_data_dictionary.setdefault(new_key, [])\n",
    "\n",
    "    for n in all_parsed_files:\n",
    "            value_conditions = n.find(new_key)\n",
    "            if n.find(new_key) is not None:\n",
    "                all_data_dictionary[new_key].append(value_conditions.text)\n",
    "            else:\n",
    "                all_data_dictionary[new_key].append('None')\n",
    "\n",
    "    print('{} tag added'.format(new_key))"
   ]
  },
  {
   "cell_type": "code",
   "execution_count": null,
   "metadata": {},
   "outputs": [],
   "source": [
    "add_new_tags('condition')\n",
    "add_new_tags('condition_browse/mesh_term')\n",
    "add_new_tags('intervention_browse/mesh_term')\n",
    "add_new_tags('detailed_description/textblock')\n",
    "add_new_tags('brief_summary/textblock')\n",
    "add_new_tags('location/facility/address/city')\n",
    "add_new_tags('location/facility/address/country')\n",
    "add_new_tags('location/facility/address/zip')\n",
    "add_new_tags('sponsors/lead_sponsor/agency')\n",
    "add_new_tags('sponsors/lead_sponsor/agency_class')\n",
    "add_new_tags('study_design_info/allocation')\n",
    "add_new_tags('study_design_info/intervention_model')\n",
    "add_new_tags('study_design_info/primary_purpose')\n",
    "# add_new_tags('reference/citation')"
   ]
  },
  {
   "cell_type": "code",
   "execution_count": null,
   "metadata": {},
   "outputs": [],
   "source": [
    "check_values_key()"
   ]
  },
  {
   "cell_type": "markdown",
   "metadata": {},
   "source": [
    "### Put all data from dictionary in a Dataframe, fill none values"
   ]
  },
  {
   "cell_type": "code",
   "execution_count": null,
   "metadata": {},
   "outputs": [],
   "source": [
    "df = pd.DataFrame(dict([(k,pd.Series(v)) for k,v in all_data_dictionary.items()]))"
   ]
  },
  {
   "cell_type": "code",
   "execution_count": null,
   "metadata": {},
   "outputs": [],
   "source": [
    "df.sample(10)"
   ]
  },
  {
   "cell_type": "code",
   "execution_count": null,
   "metadata": {},
   "outputs": [],
   "source": [
    "df.to_json('../data/json/sample_json.json')"
   ]
  },
  {
   "cell_type": "code",
   "execution_count": null,
   "metadata": {},
   "outputs": [],
   "source": [
    "# Load json file into new dataframe\n",
    "df_json = pd.read_json('../data/json/sample_json.json')"
   ]
  },
  {
   "cell_type": "code",
   "execution_count": null,
   "metadata": {},
   "outputs": [],
   "source": [
    "df_json.shape"
   ]
  },
  {
   "cell_type": "code",
   "execution_count": null,
   "metadata": {},
   "outputs": [],
   "source": [
    "df_json.head()"
   ]
  },
  {
   "cell_type": "code",
   "execution_count": null,
   "metadata": {},
   "outputs": [],
   "source": [
    "df.size"
   ]
  },
  {
   "cell_type": "code",
   "execution_count": null,
   "metadata": {},
   "outputs": [],
   "source": []
  }
 ],
 "metadata": {
  "kernelspec": {
   "display_name": "Python 3",
   "language": "python",
   "name": "python3"
  },
  "language_info": {
   "codemirror_mode": {
    "name": "ipython",
    "version": 3
   },
   "file_extension": ".py",
   "mimetype": "text/x-python",
   "name": "python",
   "nbconvert_exporter": "python",
   "pygments_lexer": "ipython3",
   "version": "3.7.3"
  }
 },
 "nbformat": 4,
 "nbformat_minor": 2
}
