{
 "cells": [
  {
   "cell_type": "markdown",
   "metadata": {},
   "source": [
    "# Clinical trials: Dataframe setup\n"
   ]
  },
  {
   "cell_type": "code",
   "execution_count": 1,
   "metadata": {},
   "outputs": [],
   "source": [
    "import time\n",
    "import json\n",
    "import os\n",
    "import pandas as pd\n",
    "import matplotlib.pyplot as plt"
   ]
  },
  {
   "cell_type": "code",
   "execution_count": 2,
   "metadata": {},
   "outputs": [],
   "source": [
    "base_color = \"#3298D0\"\n",
    "plot_size = (14, 10)"
   ]
  },
  {
   "cell_type": "code",
   "execution_count": 3,
   "metadata": {},
   "outputs": [],
   "source": [
    "# Path for json folder & file\n",
    "path_to_json_file = os.path.abspath('../data/json/')\n",
    "\n",
    "# json file\n",
    "json_file = '/all_trials_json' #name json file  "
   ]
  },
  {
   "cell_type": "markdown",
   "metadata": {},
   "source": [
    "## Import json file in a dataframe/sframe"
   ]
  },
  {
   "cell_type": "code",
   "execution_count": 4,
   "metadata": {},
   "outputs": [],
   "source": [
    "# Import json into a dataframe\n",
    "file = '{}{}.json'.format(path_to_json_file, json_file)"
   ]
  },
  {
   "cell_type": "code",
   "execution_count": 5,
   "metadata": {},
   "outputs": [],
   "source": [
    "# breaks with large json file\n",
    "df = pd.read_json(file)"
   ]
  },
  {
   "cell_type": "markdown",
   "metadata": {},
   "source": [
    "## Basic data cleaning"
   ]
  },
  {
   "cell_type": "code",
   "execution_count": 6,
   "metadata": {},
   "outputs": [
    {
     "name": "stdout",
     "output_type": "stream",
     "text": [
      "<class 'pandas.core.frame.DataFrame'>\n",
      "RangeIndex: 292311 entries, 0 to 292310\n",
      "Data columns (total 8 columns):\n",
      "nct_id                            292311 non-null object\n",
      "study_first_submitted             292311 non-null object\n",
      "source                            292311 non-null object\n",
      "brief_title                       292311 non-null object\n",
      "condition                         292311 non-null object\n",
      "url                               292311 non-null object\n",
      "detailed_description/textblock    292311 non-null object\n",
      "brief_summary/textblock           292311 non-null object\n",
      "dtypes: object(8)\n",
      "memory usage: 17.8+ MB\n"
     ]
    }
   ],
   "source": [
    "#Check data\n",
    "df.info()"
   ]
  },
  {
   "cell_type": "code",
   "execution_count": 7,
   "metadata": {},
   "outputs": [
    {
     "data": {
      "text/html": [
       "<div>\n",
       "<style scoped>\n",
       "    .dataframe tbody tr th:only-of-type {\n",
       "        vertical-align: middle;\n",
       "    }\n",
       "\n",
       "    .dataframe tbody tr th {\n",
       "        vertical-align: top;\n",
       "    }\n",
       "\n",
       "    .dataframe thead th {\n",
       "        text-align: right;\n",
       "    }\n",
       "</style>\n",
       "<table border=\"1\" class=\"dataframe\">\n",
       "  <thead>\n",
       "    <tr style=\"text-align: right;\">\n",
       "      <th></th>\n",
       "      <th>nct_id</th>\n",
       "      <th>study_first_submitted</th>\n",
       "      <th>source</th>\n",
       "      <th>brief_title</th>\n",
       "      <th>condition</th>\n",
       "      <th>url</th>\n",
       "      <th>detailed_description/textblock</th>\n",
       "      <th>brief_summary/textblock</th>\n",
       "    </tr>\n",
       "  </thead>\n",
       "  <tbody>\n",
       "    <tr>\n",
       "      <th>0</th>\n",
       "      <td>NCT00391586</td>\n",
       "      <td>October 23, 2006</td>\n",
       "      <td>New Mexico Cancer Care Alliance</td>\n",
       "      <td>Erlotinib and Standard Platinum-Based Chemothe...</td>\n",
       "      <td>Carcinoma, Non-Small-Cell Lung</td>\n",
       "      <td>None</td>\n",
       "      <td>\\n      To compare the activities (the progres...</td>\n",
       "      <td>\\n      This study was conducted to compare th...</td>\n",
       "    </tr>\n",
       "    <tr>\n",
       "      <th>1</th>\n",
       "      <td>NCT03472664</td>\n",
       "      <td>March 12, 2018</td>\n",
       "      <td>Wake Forest University Health Sciences</td>\n",
       "      <td>Brain Energy for Amyloid Transformation in Alz...</td>\n",
       "      <td>Alzheimer Disease</td>\n",
       "      <td>None</td>\n",
       "      <td>\\n      This study will examine the effects of...</td>\n",
       "      <td>\\n      The Brain Energy for Amyloid Transform...</td>\n",
       "    </tr>\n",
       "    <tr>\n",
       "      <th>2</th>\n",
       "      <td>NCT02443948</td>\n",
       "      <td>March 19, 2015</td>\n",
       "      <td>Fondazione del Piemonte per l'Oncologia</td>\n",
       "      <td>Circulating Cell-free Tumor DNA in the Plasma ...</td>\n",
       "      <td>Gastrointestinal Stromal Tumor (GIST)</td>\n",
       "      <td>None</td>\n",
       "      <td>\\n      Demetri and colleagues presented, at t...</td>\n",
       "      <td>\\n      This observational study is proposed t...</td>\n",
       "    </tr>\n",
       "    <tr>\n",
       "      <th>3</th>\n",
       "      <td>NCT03757312</td>\n",
       "      <td>November 27, 2018</td>\n",
       "      <td>Nationwide Children's Hospital</td>\n",
       "      <td>A Pilot Study of Optic Nerve Ultrasound Follow...</td>\n",
       "      <td>Congenital Heart Disease</td>\n",
       "      <td>None</td>\n",
       "      <td>None</td>\n",
       "      <td>\\n      The purpose of the proposed study is t...</td>\n",
       "    </tr>\n",
       "    <tr>\n",
       "      <th>4</th>\n",
       "      <td>NCT02818309</td>\n",
       "      <td>June 21, 2016</td>\n",
       "      <td>National Taiwan University Hospital</td>\n",
       "      <td>Lesogaberan in Chinese Patients With Refractor...</td>\n",
       "      <td>Gastroesophageal Reflux Disease</td>\n",
       "      <td>None</td>\n",
       "      <td>\\n      To test the efficacy and safety of les...</td>\n",
       "      <td>\\n      Lesogaberan may be used in Chinese GER...</td>\n",
       "    </tr>\n",
       "  </tbody>\n",
       "</table>\n",
       "</div>"
      ],
      "text/plain": [
       "        nct_id study_first_submitted                                   source  \\\n",
       "0  NCT00391586      October 23, 2006          New Mexico Cancer Care Alliance   \n",
       "1  NCT03472664        March 12, 2018   Wake Forest University Health Sciences   \n",
       "2  NCT02443948        March 19, 2015  Fondazione del Piemonte per l'Oncologia   \n",
       "3  NCT03757312     November 27, 2018           Nationwide Children's Hospital   \n",
       "4  NCT02818309         June 21, 2016      National Taiwan University Hospital   \n",
       "\n",
       "                                         brief_title  \\\n",
       "0  Erlotinib and Standard Platinum-Based Chemothe...   \n",
       "1  Brain Energy for Amyloid Transformation in Alz...   \n",
       "2  Circulating Cell-free Tumor DNA in the Plasma ...   \n",
       "3  A Pilot Study of Optic Nerve Ultrasound Follow...   \n",
       "4  Lesogaberan in Chinese Patients With Refractor...   \n",
       "\n",
       "                               condition   url  \\\n",
       "0         Carcinoma, Non-Small-Cell Lung  None   \n",
       "1                      Alzheimer Disease  None   \n",
       "2  Gastrointestinal Stromal Tumor (GIST)  None   \n",
       "3               Congenital Heart Disease  None   \n",
       "4        Gastroesophageal Reflux Disease  None   \n",
       "\n",
       "                      detailed_description/textblock  \\\n",
       "0  \\n      To compare the activities (the progres...   \n",
       "1  \\n      This study will examine the effects of...   \n",
       "2  \\n      Demetri and colleagues presented, at t...   \n",
       "3                                               None   \n",
       "4  \\n      To test the efficacy and safety of les...   \n",
       "\n",
       "                             brief_summary/textblock  \n",
       "0  \\n      This study was conducted to compare th...  \n",
       "1  \\n      The Brain Energy for Amyloid Transform...  \n",
       "2  \\n      This observational study is proposed t...  \n",
       "3  \\n      The purpose of the proposed study is t...  \n",
       "4  \\n      Lesogaberan may be used in Chinese GER...  "
      ]
     },
     "execution_count": 7,
     "metadata": {},
     "output_type": "execute_result"
    }
   ],
   "source": [
    "df.head()"
   ]
  },
  {
   "cell_type": "code",
   "execution_count": 14,
   "metadata": {},
   "outputs": [
    {
     "data": {
      "text/plain": [
       "array(['None'], dtype=object)"
      ]
     },
     "execution_count": 14,
     "metadata": {},
     "output_type": "execute_result"
    }
   ],
   "source": [
    "df.url.unique()"
   ]
  },
  {
   "cell_type": "code",
   "execution_count": 15,
   "metadata": {},
   "outputs": [],
   "source": [
    "# DELETE URL COLUMN\n",
    "df = df.drop(columns = ['url'])"
   ]
  },
  {
   "cell_type": "code",
   "execution_count": 16,
   "metadata": {},
   "outputs": [],
   "source": [
    "# remove \\n values\n",
    "df = df.replace(r'\\n',' ', regex=True) "
   ]
  },
  {
   "cell_type": "code",
   "execution_count": 17,
   "metadata": {},
   "outputs": [
    {
     "data": {
      "text/html": [
       "<div>\n",
       "<style scoped>\n",
       "    .dataframe tbody tr th:only-of-type {\n",
       "        vertical-align: middle;\n",
       "    }\n",
       "\n",
       "    .dataframe tbody tr th {\n",
       "        vertical-align: top;\n",
       "    }\n",
       "\n",
       "    .dataframe thead th {\n",
       "        text-align: right;\n",
       "    }\n",
       "</style>\n",
       "<table border=\"1\" class=\"dataframe\">\n",
       "  <thead>\n",
       "    <tr style=\"text-align: right;\">\n",
       "      <th></th>\n",
       "      <th>nct_id</th>\n",
       "      <th>study_first_submitted</th>\n",
       "      <th>source</th>\n",
       "      <th>brief_title</th>\n",
       "      <th>condition</th>\n",
       "      <th>detailed_description/textblock</th>\n",
       "      <th>brief_summary/textblock</th>\n",
       "    </tr>\n",
       "  </thead>\n",
       "  <tbody>\n",
       "    <tr>\n",
       "      <th>0</th>\n",
       "      <td>NCT00391586</td>\n",
       "      <td>October 23, 2006</td>\n",
       "      <td>New Mexico Cancer Care Alliance</td>\n",
       "      <td>Erlotinib and Standard Platinum-Based Chemothe...</td>\n",
       "      <td>Carcinoma, Non-Small-Cell Lung</td>\n",
       "      <td>To compare the activities (the progress...</td>\n",
       "      <td>This study was conducted to compare the...</td>\n",
       "    </tr>\n",
       "    <tr>\n",
       "      <th>1</th>\n",
       "      <td>NCT03472664</td>\n",
       "      <td>March 12, 2018</td>\n",
       "      <td>Wake Forest University Health Sciences</td>\n",
       "      <td>Brain Energy for Amyloid Transformation in Alz...</td>\n",
       "      <td>Alzheimer Disease</td>\n",
       "      <td>This study will examine the effects of ...</td>\n",
       "      <td>The Brain Energy for Amyloid Transforma...</td>\n",
       "    </tr>\n",
       "    <tr>\n",
       "      <th>2</th>\n",
       "      <td>NCT02443948</td>\n",
       "      <td>March 19, 2015</td>\n",
       "      <td>Fondazione del Piemonte per l'Oncologia</td>\n",
       "      <td>Circulating Cell-free Tumor DNA in the Plasma ...</td>\n",
       "      <td>Gastrointestinal Stromal Tumor (GIST)</td>\n",
       "      <td>Demetri and colleagues presented, at th...</td>\n",
       "      <td>This observational study is proposed to...</td>\n",
       "    </tr>\n",
       "    <tr>\n",
       "      <th>3</th>\n",
       "      <td>NCT03757312</td>\n",
       "      <td>November 27, 2018</td>\n",
       "      <td>Nationwide Children's Hospital</td>\n",
       "      <td>A Pilot Study of Optic Nerve Ultrasound Follow...</td>\n",
       "      <td>Congenital Heart Disease</td>\n",
       "      <td>None</td>\n",
       "      <td>The purpose of the proposed study is to...</td>\n",
       "    </tr>\n",
       "    <tr>\n",
       "      <th>4</th>\n",
       "      <td>NCT02818309</td>\n",
       "      <td>June 21, 2016</td>\n",
       "      <td>National Taiwan University Hospital</td>\n",
       "      <td>Lesogaberan in Chinese Patients With Refractor...</td>\n",
       "      <td>Gastroesophageal Reflux Disease</td>\n",
       "      <td>To test the efficacy and safety of leso...</td>\n",
       "      <td>Lesogaberan may be used in Chinese GERD...</td>\n",
       "    </tr>\n",
       "  </tbody>\n",
       "</table>\n",
       "</div>"
      ],
      "text/plain": [
       "        nct_id study_first_submitted                                   source  \\\n",
       "0  NCT00391586      October 23, 2006          New Mexico Cancer Care Alliance   \n",
       "1  NCT03472664        March 12, 2018   Wake Forest University Health Sciences   \n",
       "2  NCT02443948        March 19, 2015  Fondazione del Piemonte per l'Oncologia   \n",
       "3  NCT03757312     November 27, 2018           Nationwide Children's Hospital   \n",
       "4  NCT02818309         June 21, 2016      National Taiwan University Hospital   \n",
       "\n",
       "                                         brief_title  \\\n",
       "0  Erlotinib and Standard Platinum-Based Chemothe...   \n",
       "1  Brain Energy for Amyloid Transformation in Alz...   \n",
       "2  Circulating Cell-free Tumor DNA in the Plasma ...   \n",
       "3  A Pilot Study of Optic Nerve Ultrasound Follow...   \n",
       "4  Lesogaberan in Chinese Patients With Refractor...   \n",
       "\n",
       "                               condition  \\\n",
       "0         Carcinoma, Non-Small-Cell Lung   \n",
       "1                      Alzheimer Disease   \n",
       "2  Gastrointestinal Stromal Tumor (GIST)   \n",
       "3               Congenital Heart Disease   \n",
       "4        Gastroesophageal Reflux Disease   \n",
       "\n",
       "                      detailed_description/textblock  \\\n",
       "0         To compare the activities (the progress...   \n",
       "1         This study will examine the effects of ...   \n",
       "2         Demetri and colleagues presented, at th...   \n",
       "3                                               None   \n",
       "4         To test the efficacy and safety of leso...   \n",
       "\n",
       "                             brief_summary/textblock  \n",
       "0         This study was conducted to compare the...  \n",
       "1         The Brain Energy for Amyloid Transforma...  \n",
       "2         This observational study is proposed to...  \n",
       "3         The purpose of the proposed study is to...  \n",
       "4         Lesogaberan may be used in Chinese GERD...  "
      ]
     },
     "execution_count": 17,
     "metadata": {},
     "output_type": "execute_result"
    }
   ],
   "source": [
    "df.head(5)"
   ]
  },
  {
   "cell_type": "code",
   "execution_count": 18,
   "metadata": {},
   "outputs": [],
   "source": [
    "# Rename columns\n",
    "df.columns = ['id', 'submission_date','source', 'brief_title', 'condition', 'full_description', 'summary']"
   ]
  },
  {
   "cell_type": "code",
   "execution_count": 19,
   "metadata": {},
   "outputs": [
    {
     "data": {
      "text/html": [
       "<div>\n",
       "<style scoped>\n",
       "    .dataframe tbody tr th:only-of-type {\n",
       "        vertical-align: middle;\n",
       "    }\n",
       "\n",
       "    .dataframe tbody tr th {\n",
       "        vertical-align: top;\n",
       "    }\n",
       "\n",
       "    .dataframe thead th {\n",
       "        text-align: right;\n",
       "    }\n",
       "</style>\n",
       "<table border=\"1\" class=\"dataframe\">\n",
       "  <thead>\n",
       "    <tr style=\"text-align: right;\">\n",
       "      <th></th>\n",
       "      <th>id</th>\n",
       "      <th>submission_date</th>\n",
       "      <th>source</th>\n",
       "      <th>brief_title</th>\n",
       "      <th>condition</th>\n",
       "      <th>full_description</th>\n",
       "      <th>summary</th>\n",
       "    </tr>\n",
       "  </thead>\n",
       "  <tbody>\n",
       "    <tr>\n",
       "      <th>0</th>\n",
       "      <td>NCT00391586</td>\n",
       "      <td>October 23, 2006</td>\n",
       "      <td>New Mexico Cancer Care Alliance</td>\n",
       "      <td>Erlotinib and Standard Platinum-Based Chemothe...</td>\n",
       "      <td>Carcinoma, Non-Small-Cell Lung</td>\n",
       "      <td>To compare the activities (the progress...</td>\n",
       "      <td>This study was conducted to compare the...</td>\n",
       "    </tr>\n",
       "    <tr>\n",
       "      <th>1</th>\n",
       "      <td>NCT03472664</td>\n",
       "      <td>March 12, 2018</td>\n",
       "      <td>Wake Forest University Health Sciences</td>\n",
       "      <td>Brain Energy for Amyloid Transformation in Alz...</td>\n",
       "      <td>Alzheimer Disease</td>\n",
       "      <td>This study will examine the effects of ...</td>\n",
       "      <td>The Brain Energy for Amyloid Transforma...</td>\n",
       "    </tr>\n",
       "    <tr>\n",
       "      <th>2</th>\n",
       "      <td>NCT02443948</td>\n",
       "      <td>March 19, 2015</td>\n",
       "      <td>Fondazione del Piemonte per l'Oncologia</td>\n",
       "      <td>Circulating Cell-free Tumor DNA in the Plasma ...</td>\n",
       "      <td>Gastrointestinal Stromal Tumor (GIST)</td>\n",
       "      <td>Demetri and colleagues presented, at th...</td>\n",
       "      <td>This observational study is proposed to...</td>\n",
       "    </tr>\n",
       "    <tr>\n",
       "      <th>3</th>\n",
       "      <td>NCT03757312</td>\n",
       "      <td>November 27, 2018</td>\n",
       "      <td>Nationwide Children's Hospital</td>\n",
       "      <td>A Pilot Study of Optic Nerve Ultrasound Follow...</td>\n",
       "      <td>Congenital Heart Disease</td>\n",
       "      <td>None</td>\n",
       "      <td>The purpose of the proposed study is to...</td>\n",
       "    </tr>\n",
       "    <tr>\n",
       "      <th>4</th>\n",
       "      <td>NCT02818309</td>\n",
       "      <td>June 21, 2016</td>\n",
       "      <td>National Taiwan University Hospital</td>\n",
       "      <td>Lesogaberan in Chinese Patients With Refractor...</td>\n",
       "      <td>Gastroesophageal Reflux Disease</td>\n",
       "      <td>To test the efficacy and safety of leso...</td>\n",
       "      <td>Lesogaberan may be used in Chinese GERD...</td>\n",
       "    </tr>\n",
       "  </tbody>\n",
       "</table>\n",
       "</div>"
      ],
      "text/plain": [
       "            id    submission_date                                   source  \\\n",
       "0  NCT00391586   October 23, 2006          New Mexico Cancer Care Alliance   \n",
       "1  NCT03472664     March 12, 2018   Wake Forest University Health Sciences   \n",
       "2  NCT02443948     March 19, 2015  Fondazione del Piemonte per l'Oncologia   \n",
       "3  NCT03757312  November 27, 2018           Nationwide Children's Hospital   \n",
       "4  NCT02818309      June 21, 2016      National Taiwan University Hospital   \n",
       "\n",
       "                                         brief_title  \\\n",
       "0  Erlotinib and Standard Platinum-Based Chemothe...   \n",
       "1  Brain Energy for Amyloid Transformation in Alz...   \n",
       "2  Circulating Cell-free Tumor DNA in the Plasma ...   \n",
       "3  A Pilot Study of Optic Nerve Ultrasound Follow...   \n",
       "4  Lesogaberan in Chinese Patients With Refractor...   \n",
       "\n",
       "                               condition  \\\n",
       "0         Carcinoma, Non-Small-Cell Lung   \n",
       "1                      Alzheimer Disease   \n",
       "2  Gastrointestinal Stromal Tumor (GIST)   \n",
       "3               Congenital Heart Disease   \n",
       "4        Gastroesophageal Reflux Disease   \n",
       "\n",
       "                                    full_description  \\\n",
       "0         To compare the activities (the progress...   \n",
       "1         This study will examine the effects of ...   \n",
       "2         Demetri and colleagues presented, at th...   \n",
       "3                                               None   \n",
       "4         To test the efficacy and safety of leso...   \n",
       "\n",
       "                                             summary  \n",
       "0         This study was conducted to compare the...  \n",
       "1         The Brain Energy for Amyloid Transforma...  \n",
       "2         This observational study is proposed to...  \n",
       "3         The purpose of the proposed study is to...  \n",
       "4         Lesogaberan may be used in Chinese GERD...  "
      ]
     },
     "execution_count": 19,
     "metadata": {},
     "output_type": "execute_result"
    }
   ],
   "source": [
    "df.head()"
   ]
  },
  {
   "cell_type": "markdown",
   "metadata": {},
   "source": [
    "## Add new date columns"
   ]
  },
  {
   "cell_type": "code",
   "execution_count": 21,
   "metadata": {},
   "outputs": [
    {
     "name": "stdout",
     "output_type": "stream",
     "text": [
      "CPU times: user 32.5 s, sys: 27.7 ms, total: 32.5 s\n",
      "Wall time: 32.6 s\n"
     ]
    }
   ],
   "source": [
    "# Create new column: study_first_submitted as dates\n",
    "%time df['full_date'] = pd.to_datetime(df['submission_date'])"
   ]
  },
  {
   "cell_type": "code",
   "execution_count": 22,
   "metadata": {},
   "outputs": [],
   "source": [
    "# Create new column: dates as year\n",
    "df['year'] = df['full_date'].dt.year"
   ]
  },
  {
   "cell_type": "code",
   "execution_count": 23,
   "metadata": {},
   "outputs": [],
   "source": [
    "# Sort records by date\n",
    "df = df.sort_values(by ='full_date')"
   ]
  },
  {
   "cell_type": "code",
   "execution_count": 24,
   "metadata": {},
   "outputs": [
    {
     "data": {
      "text/html": [
       "<div>\n",
       "<style scoped>\n",
       "    .dataframe tbody tr th:only-of-type {\n",
       "        vertical-align: middle;\n",
       "    }\n",
       "\n",
       "    .dataframe tbody tr th {\n",
       "        vertical-align: top;\n",
       "    }\n",
       "\n",
       "    .dataframe thead th {\n",
       "        text-align: right;\n",
       "    }\n",
       "</style>\n",
       "<table border=\"1\" class=\"dataframe\">\n",
       "  <thead>\n",
       "    <tr style=\"text-align: right;\">\n",
       "      <th></th>\n",
       "      <th>id</th>\n",
       "      <th>submission_date</th>\n",
       "      <th>source</th>\n",
       "      <th>brief_title</th>\n",
       "      <th>condition</th>\n",
       "      <th>full_description</th>\n",
       "      <th>summary</th>\n",
       "      <th>full_date</th>\n",
       "      <th>year</th>\n",
       "    </tr>\n",
       "  </thead>\n",
       "  <tbody>\n",
       "    <tr>\n",
       "      <th>153887</th>\n",
       "      <td>NCT00004639</td>\n",
       "      <td>September 17, 1999</td>\n",
       "      <td>University of Florida</td>\n",
       "      <td>Cleft Palate Surgery and Speech Development</td>\n",
       "      <td>Cleft Lip</td>\n",
       "      <td>This study is conducted with patients w...</td>\n",
       "      <td>Compare the outcome of two primary surg...</td>\n",
       "      <td>1999-09-17</td>\n",
       "      <td>1999</td>\n",
       "    </tr>\n",
       "    <tr>\n",
       "      <th>46938</th>\n",
       "      <td>NCT00004640</td>\n",
       "      <td>September 17, 1999</td>\n",
       "      <td>University of Washington</td>\n",
       "      <td>\"Clinical Trials to Enhance Elders' Oral Healt...</td>\n",
       "      <td>Tooth Loss</td>\n",
       "      <td>\"TEETH\" is a double-blinded, randomized...</td>\n",
       "      <td>The purpose of this study is to determi...</td>\n",
       "      <td>1999-09-17</td>\n",
       "      <td>1999</td>\n",
       "    </tr>\n",
       "    <tr>\n",
       "      <th>182804</th>\n",
       "      <td>NCT00000267</td>\n",
       "      <td>September 20, 1999</td>\n",
       "      <td>National Institute on Drug Abuse (NIDA)</td>\n",
       "      <td>Risperidone Treatment in Dually-Diagnosed Indi...</td>\n",
       "      <td>Cocaine-Related Disorders</td>\n",
       "      <td>None</td>\n",
       "      <td>The purpose of this study is to evaluat...</td>\n",
       "      <td>1999-09-20</td>\n",
       "      <td>1999</td>\n",
       "    </tr>\n",
       "    <tr>\n",
       "      <th>73402</th>\n",
       "      <td>NCT00000244</td>\n",
       "      <td>September 20, 1999</td>\n",
       "      <td>University of Minnesota - Clinical and Transla...</td>\n",
       "      <td>Effects of Dynorphin 1-13 on Heroin Addiction - 1</td>\n",
       "      <td>Opioid-Related Disorders</td>\n",
       "      <td>Randomized double blinded study of the ...</td>\n",
       "      <td>The purpose of this study is to evaluat...</td>\n",
       "      <td>1999-09-20</td>\n",
       "      <td>1999</td>\n",
       "    </tr>\n",
       "    <tr>\n",
       "      <th>73336</th>\n",
       "      <td>NCT00000250</td>\n",
       "      <td>September 20, 1999</td>\n",
       "      <td>University of Chicago</td>\n",
       "      <td>Cold Water Immersion Modulates Reinforcing Eff...</td>\n",
       "      <td>Opioid-Related Disorders</td>\n",
       "      <td>None</td>\n",
       "      <td>The purpose of this study is to conduct...</td>\n",
       "      <td>1999-09-20</td>\n",
       "      <td>1999</td>\n",
       "    </tr>\n",
       "  </tbody>\n",
       "</table>\n",
       "</div>"
      ],
      "text/plain": [
       "                 id     submission_date  \\\n",
       "153887  NCT00004639  September 17, 1999   \n",
       "46938   NCT00004640  September 17, 1999   \n",
       "182804  NCT00000267  September 20, 1999   \n",
       "73402   NCT00000244  September 20, 1999   \n",
       "73336   NCT00000250  September 20, 1999   \n",
       "\n",
       "                                                   source  \\\n",
       "153887                              University of Florida   \n",
       "46938                            University of Washington   \n",
       "182804            National Institute on Drug Abuse (NIDA)   \n",
       "73402   University of Minnesota - Clinical and Transla...   \n",
       "73336                               University of Chicago   \n",
       "\n",
       "                                              brief_title  \\\n",
       "153887        Cleft Palate Surgery and Speech Development   \n",
       "46938   \"Clinical Trials to Enhance Elders' Oral Healt...   \n",
       "182804  Risperidone Treatment in Dually-Diagnosed Indi...   \n",
       "73402   Effects of Dynorphin 1-13 on Heroin Addiction - 1   \n",
       "73336   Cold Water Immersion Modulates Reinforcing Eff...   \n",
       "\n",
       "                        condition  \\\n",
       "153887                  Cleft Lip   \n",
       "46938                  Tooth Loss   \n",
       "182804  Cocaine-Related Disorders   \n",
       "73402    Opioid-Related Disorders   \n",
       "73336    Opioid-Related Disorders   \n",
       "\n",
       "                                         full_description  \\\n",
       "153887         This study is conducted with patients w...   \n",
       "46938          \"TEETH\" is a double-blinded, randomized...   \n",
       "182804                                               None   \n",
       "73402          Randomized double blinded study of the ...   \n",
       "73336                                                None   \n",
       "\n",
       "                                                  summary  full_date  year  \n",
       "153887         Compare the outcome of two primary surg... 1999-09-17  1999  \n",
       "46938          The purpose of this study is to determi... 1999-09-17  1999  \n",
       "182804         The purpose of this study is to evaluat... 1999-09-20  1999  \n",
       "73402          The purpose of this study is to evaluat... 1999-09-20  1999  \n",
       "73336          The purpose of this study is to conduct... 1999-09-20  1999  "
      ]
     },
     "execution_count": 24,
     "metadata": {},
     "output_type": "execute_result"
    }
   ],
   "source": [
    "df.head()"
   ]
  },
  {
   "cell_type": "code",
   "execution_count": 25,
   "metadata": {},
   "outputs": [
    {
     "data": {
      "text/plain": [
       "Index               2338488\n",
       "id                  2338488\n",
       "submission_date     2338488\n",
       "source              2338488\n",
       "brief_title         2338488\n",
       "condition           2338488\n",
       "full_description    2338488\n",
       "summary             2338488\n",
       "full_date           2338488\n",
       "year                2338488\n",
       "dtype: int64"
      ]
     },
     "execution_count": 25,
     "metadata": {},
     "output_type": "execute_result"
    }
   ],
   "source": [
    "df.memory_usage()"
   ]
  },
  {
   "cell_type": "markdown",
   "metadata": {},
   "source": [
    "## Export dataframe as csv"
   ]
  },
  {
   "cell_type": "code",
   "execution_count": 27,
   "metadata": {},
   "outputs": [
    {
     "name": "stdout",
     "output_type": "stream",
     "text": [
      "[Errno 17] File exists: '/Users/cmserna/Sites/clinical trials/mvp/data/csv'\n"
     ]
    }
   ],
   "source": [
    "# Export dataframe as csv file\n",
    "\n",
    "path_to_csv = os.path.abspath('../data/csv/')\n",
    "\n",
    "try:\n",
    "    os.mkdir(path_to_csv)\n",
    "    print('{} created'.format(csv))\n",
    "except IOError as e:\n",
    "    print(e)\n",
    "    pass\n",
    "\n",
    "\n"
   ]
  },
  {
   "cell_type": "code",
   "execution_count": 28,
   "metadata": {},
   "outputs": [],
   "source": [
    "csv_file = '/clean_data.csv'\n",
    "df.to_csv(path_to_csv + csv_file)"
   ]
  },
  {
   "cell_type": "code",
   "execution_count": null,
   "metadata": {},
   "outputs": [],
   "source": []
  }
 ],
 "metadata": {
  "kernelspec": {
   "display_name": "Python 3",
   "language": "python",
   "name": "python3"
  },
  "language_info": {
   "codemirror_mode": {
    "name": "ipython",
    "version": 3
   },
   "file_extension": ".py",
   "mimetype": "text/x-python",
   "name": "python",
   "nbconvert_exporter": "python",
   "pygments_lexer": "ipython3",
   "version": "3.7.0"
  }
 },
 "nbformat": 4,
 "nbformat_minor": 2
}
