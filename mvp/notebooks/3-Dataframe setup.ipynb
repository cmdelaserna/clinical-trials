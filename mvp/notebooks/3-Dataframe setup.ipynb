{
 "cells": [
  {
   "cell_type": "markdown",
   "metadata": {},
   "source": [
    "# Clinical trials: Dataframe setup\n"
   ]
  },
  {
   "cell_type": "code",
   "execution_count": 1,
   "metadata": {},
   "outputs": [],
   "source": [
    "import time\n",
    "import json\n",
    "import os\n",
    "import pandas as pd\n",
    "import matplotlib.pyplot as plt"
   ]
  },
  {
   "cell_type": "code",
   "execution_count": 2,
   "metadata": {},
   "outputs": [],
   "source": [
    "base_color = \"#3298D0\"\n",
    "plot_size = (14, 10)"
   ]
  },
  {
   "cell_type": "code",
   "execution_count": 3,
   "metadata": {},
   "outputs": [],
   "source": [
    "# Path for json folder & file\n",
    "path_to_json_file = os.path.abspath('../data/json/')\n",
    "\n",
    "# json file\n",
    "json_file = '/all_trials_json' #name json file  "
   ]
  },
  {
   "cell_type": "markdown",
   "metadata": {},
   "source": [
    "## Import json file in a dataframe/sframe"
   ]
  },
  {
   "cell_type": "code",
   "execution_count": 4,
   "metadata": {},
   "outputs": [],
   "source": [
    "# Import json into a dataframe\n",
    "file = '{}{}.json'.format(path_to_json_file, json_file)"
   ]
  },
  {
   "cell_type": "code",
   "execution_count": 5,
   "metadata": {},
   "outputs": [],
   "source": [
    "# breaks with large json file\n",
    "df = pd.read_json(file)"
   ]
  },
  {
   "cell_type": "markdown",
   "metadata": {},
   "source": [
    "## Basic data cleaning"
   ]
  },
  {
   "cell_type": "code",
   "execution_count": 6,
   "metadata": {},
   "outputs": [
    {
     "name": "stdout",
     "output_type": "stream",
     "text": [
      "<class 'pandas.core.frame.DataFrame'>\n",
      "RangeIndex: 1000 entries, 0 to 999\n",
      "Data columns (total 7 columns):\n",
      "nct_id                            1000 non-null object\n",
      "study_first_submitted             1000 non-null object\n",
      "source                            1000 non-null object\n",
      "brief_title                       1000 non-null object\n",
      "condition                         1000 non-null object\n",
      "detailed_description/textblock    1000 non-null object\n",
      "brief_summary/textblock           1000 non-null object\n",
      "dtypes: object(7)\n",
      "memory usage: 54.8+ KB\n"
     ]
    }
   ],
   "source": [
    "#Check data\n",
    "df.info()"
   ]
  },
  {
   "cell_type": "code",
   "execution_count": 7,
   "metadata": {},
   "outputs": [
    {
     "data": {
      "text/html": [
       "<div>\n",
       "<style scoped>\n",
       "    .dataframe tbody tr th:only-of-type {\n",
       "        vertical-align: middle;\n",
       "    }\n",
       "\n",
       "    .dataframe tbody tr th {\n",
       "        vertical-align: top;\n",
       "    }\n",
       "\n",
       "    .dataframe thead th {\n",
       "        text-align: right;\n",
       "    }\n",
       "</style>\n",
       "<table border=\"1\" class=\"dataframe\">\n",
       "  <thead>\n",
       "    <tr style=\"text-align: right;\">\n",
       "      <th></th>\n",
       "      <th>nct_id</th>\n",
       "      <th>study_first_submitted</th>\n",
       "      <th>source</th>\n",
       "      <th>brief_title</th>\n",
       "      <th>condition</th>\n",
       "      <th>detailed_description/textblock</th>\n",
       "      <th>brief_summary/textblock</th>\n",
       "    </tr>\n",
       "  </thead>\n",
       "  <tbody>\n",
       "    <tr>\n",
       "      <th>0</th>\n",
       "      <td>NCT01995227</td>\n",
       "      <td>November 18, 2013</td>\n",
       "      <td>Immunovative Therapies, Ltd.</td>\n",
       "      <td>An Individualized Anti-Cancer Vaccine Study in...</td>\n",
       "      <td>Hepatocellular Carcinoma</td>\n",
       "      <td>\\n      All accrued subjects will undergo tumo...</td>\n",
       "      <td>\\n      The purpose of this study is to determ...</td>\n",
       "    </tr>\n",
       "    <tr>\n",
       "      <th>1</th>\n",
       "      <td>NCT03186248</td>\n",
       "      <td>June 9, 2017</td>\n",
       "      <td>Asian Institute of Gastroenterology, India</td>\n",
       "      <td>Randomized Clinical Trial Comparing Short Vers...</td>\n",
       "      <td>Achalasia Cardia</td>\n",
       "      <td>\\n      The primary goal of treatment of achal...</td>\n",
       "      <td>\\n      Aim of this study is to compare the ou...</td>\n",
       "    </tr>\n",
       "    <tr>\n",
       "      <th>2</th>\n",
       "      <td>NCT01612962</td>\n",
       "      <td>May 30, 2012</td>\n",
       "      <td>Georgetown University</td>\n",
       "      <td>Diagnostic Tests to Help Determine Osteomyelitis</td>\n",
       "      <td>Osteomyelitis</td>\n",
       "      <td>\\n      Osteomyelitis is present in approximat...</td>\n",
       "      <td>\\n      In this study, the investigators will ...</td>\n",
       "    </tr>\n",
       "    <tr>\n",
       "      <th>3</th>\n",
       "      <td>NCT01257763</td>\n",
       "      <td>December 8, 2010</td>\n",
       "      <td>Northwestern University</td>\n",
       "      <td>Tolerability Study of the Application of a 3M ...</td>\n",
       "      <td>Healthy</td>\n",
       "      <td>None</td>\n",
       "      <td>\\n      The purpose of this study is to evalua...</td>\n",
       "    </tr>\n",
       "    <tr>\n",
       "      <th>4</th>\n",
       "      <td>NCT02599922</td>\n",
       "      <td>November 5, 2015</td>\n",
       "      <td>Applied Genetic Technologies Corp</td>\n",
       "      <td>Safety and Efficacy Trial of AAV Gene Therapy ...</td>\n",
       "      <td>Achromatopsia</td>\n",
       "      <td>\\n      This will be a non-randomized, open-la...</td>\n",
       "      <td>\\n      This will be a non-randomized, open-la...</td>\n",
       "    </tr>\n",
       "  </tbody>\n",
       "</table>\n",
       "</div>"
      ],
      "text/plain": [
       "        nct_id study_first_submitted  \\\n",
       "0  NCT01995227     November 18, 2013   \n",
       "1  NCT03186248          June 9, 2017   \n",
       "2  NCT01612962          May 30, 2012   \n",
       "3  NCT01257763      December 8, 2010   \n",
       "4  NCT02599922      November 5, 2015   \n",
       "\n",
       "                                       source  \\\n",
       "0                Immunovative Therapies, Ltd.   \n",
       "1  Asian Institute of Gastroenterology, India   \n",
       "2                       Georgetown University   \n",
       "3                     Northwestern University   \n",
       "4           Applied Genetic Technologies Corp   \n",
       "\n",
       "                                         brief_title  \\\n",
       "0  An Individualized Anti-Cancer Vaccine Study in...   \n",
       "1  Randomized Clinical Trial Comparing Short Vers...   \n",
       "2   Diagnostic Tests to Help Determine Osteomyelitis   \n",
       "3  Tolerability Study of the Application of a 3M ...   \n",
       "4  Safety and Efficacy Trial of AAV Gene Therapy ...   \n",
       "\n",
       "                  condition  \\\n",
       "0  Hepatocellular Carcinoma   \n",
       "1          Achalasia Cardia   \n",
       "2             Osteomyelitis   \n",
       "3                   Healthy   \n",
       "4             Achromatopsia   \n",
       "\n",
       "                      detailed_description/textblock  \\\n",
       "0  \\n      All accrued subjects will undergo tumo...   \n",
       "1  \\n      The primary goal of treatment of achal...   \n",
       "2  \\n      Osteomyelitis is present in approximat...   \n",
       "3                                               None   \n",
       "4  \\n      This will be a non-randomized, open-la...   \n",
       "\n",
       "                             brief_summary/textblock  \n",
       "0  \\n      The purpose of this study is to determ...  \n",
       "1  \\n      Aim of this study is to compare the ou...  \n",
       "2  \\n      In this study, the investigators will ...  \n",
       "3  \\n      The purpose of this study is to evalua...  \n",
       "4  \\n      This will be a non-randomized, open-la...  "
      ]
     },
     "execution_count": 7,
     "metadata": {},
     "output_type": "execute_result"
    }
   ],
   "source": [
    "df.head()"
   ]
  },
  {
   "cell_type": "code",
   "execution_count": 8,
   "metadata": {},
   "outputs": [],
   "source": [
    "# DELETE URL COLUMN\n",
    "\n",
    "# print(df.url.describe())\n",
    "# # df = df.drop(columns = ['url'])"
   ]
  },
  {
   "cell_type": "code",
   "execution_count": 9,
   "metadata": {},
   "outputs": [],
   "source": [
    "# remove \\n values\n",
    "df = df.replace(r'\\n',' ', regex=True) "
   ]
  },
  {
   "cell_type": "code",
   "execution_count": 10,
   "metadata": {},
   "outputs": [
    {
     "data": {
      "text/html": [
       "<div>\n",
       "<style scoped>\n",
       "    .dataframe tbody tr th:only-of-type {\n",
       "        vertical-align: middle;\n",
       "    }\n",
       "\n",
       "    .dataframe tbody tr th {\n",
       "        vertical-align: top;\n",
       "    }\n",
       "\n",
       "    .dataframe thead th {\n",
       "        text-align: right;\n",
       "    }\n",
       "</style>\n",
       "<table border=\"1\" class=\"dataframe\">\n",
       "  <thead>\n",
       "    <tr style=\"text-align: right;\">\n",
       "      <th></th>\n",
       "      <th>nct_id</th>\n",
       "      <th>study_first_submitted</th>\n",
       "      <th>source</th>\n",
       "      <th>brief_title</th>\n",
       "      <th>condition</th>\n",
       "      <th>detailed_description/textblock</th>\n",
       "      <th>brief_summary/textblock</th>\n",
       "    </tr>\n",
       "  </thead>\n",
       "  <tbody>\n",
       "    <tr>\n",
       "      <th>0</th>\n",
       "      <td>NCT01995227</td>\n",
       "      <td>November 18, 2013</td>\n",
       "      <td>Immunovative Therapies, Ltd.</td>\n",
       "      <td>An Individualized Anti-Cancer Vaccine Study in...</td>\n",
       "      <td>Hepatocellular Carcinoma</td>\n",
       "      <td>All accrued subjects will undergo tumor...</td>\n",
       "      <td>The purpose of this study is to determi...</td>\n",
       "    </tr>\n",
       "    <tr>\n",
       "      <th>1</th>\n",
       "      <td>NCT03186248</td>\n",
       "      <td>June 9, 2017</td>\n",
       "      <td>Asian Institute of Gastroenterology, India</td>\n",
       "      <td>Randomized Clinical Trial Comparing Short Vers...</td>\n",
       "      <td>Achalasia Cardia</td>\n",
       "      <td>The primary goal of treatment of achala...</td>\n",
       "      <td>Aim of this study is to compare the out...</td>\n",
       "    </tr>\n",
       "    <tr>\n",
       "      <th>2</th>\n",
       "      <td>NCT01612962</td>\n",
       "      <td>May 30, 2012</td>\n",
       "      <td>Georgetown University</td>\n",
       "      <td>Diagnostic Tests to Help Determine Osteomyelitis</td>\n",
       "      <td>Osteomyelitis</td>\n",
       "      <td>Osteomyelitis is present in approximate...</td>\n",
       "      <td>In this study, the investigators will p...</td>\n",
       "    </tr>\n",
       "    <tr>\n",
       "      <th>3</th>\n",
       "      <td>NCT01257763</td>\n",
       "      <td>December 8, 2010</td>\n",
       "      <td>Northwestern University</td>\n",
       "      <td>Tolerability Study of the Application of a 3M ...</td>\n",
       "      <td>Healthy</td>\n",
       "      <td>None</td>\n",
       "      <td>The purpose of this study is to evaluat...</td>\n",
       "    </tr>\n",
       "    <tr>\n",
       "      <th>4</th>\n",
       "      <td>NCT02599922</td>\n",
       "      <td>November 5, 2015</td>\n",
       "      <td>Applied Genetic Technologies Corp</td>\n",
       "      <td>Safety and Efficacy Trial of AAV Gene Therapy ...</td>\n",
       "      <td>Achromatopsia</td>\n",
       "      <td>This will be a non-randomized, open-lab...</td>\n",
       "      <td>This will be a non-randomized, open-lab...</td>\n",
       "    </tr>\n",
       "  </tbody>\n",
       "</table>\n",
       "</div>"
      ],
      "text/plain": [
       "        nct_id study_first_submitted  \\\n",
       "0  NCT01995227     November 18, 2013   \n",
       "1  NCT03186248          June 9, 2017   \n",
       "2  NCT01612962          May 30, 2012   \n",
       "3  NCT01257763      December 8, 2010   \n",
       "4  NCT02599922      November 5, 2015   \n",
       "\n",
       "                                       source  \\\n",
       "0                Immunovative Therapies, Ltd.   \n",
       "1  Asian Institute of Gastroenterology, India   \n",
       "2                       Georgetown University   \n",
       "3                     Northwestern University   \n",
       "4           Applied Genetic Technologies Corp   \n",
       "\n",
       "                                         brief_title  \\\n",
       "0  An Individualized Anti-Cancer Vaccine Study in...   \n",
       "1  Randomized Clinical Trial Comparing Short Vers...   \n",
       "2   Diagnostic Tests to Help Determine Osteomyelitis   \n",
       "3  Tolerability Study of the Application of a 3M ...   \n",
       "4  Safety and Efficacy Trial of AAV Gene Therapy ...   \n",
       "\n",
       "                  condition  \\\n",
       "0  Hepatocellular Carcinoma   \n",
       "1          Achalasia Cardia   \n",
       "2             Osteomyelitis   \n",
       "3                   Healthy   \n",
       "4             Achromatopsia   \n",
       "\n",
       "                      detailed_description/textblock  \\\n",
       "0         All accrued subjects will undergo tumor...   \n",
       "1         The primary goal of treatment of achala...   \n",
       "2         Osteomyelitis is present in approximate...   \n",
       "3                                               None   \n",
       "4         This will be a non-randomized, open-lab...   \n",
       "\n",
       "                             brief_summary/textblock  \n",
       "0         The purpose of this study is to determi...  \n",
       "1         Aim of this study is to compare the out...  \n",
       "2         In this study, the investigators will p...  \n",
       "3         The purpose of this study is to evaluat...  \n",
       "4         This will be a non-randomized, open-lab...  "
      ]
     },
     "execution_count": 10,
     "metadata": {},
     "output_type": "execute_result"
    }
   ],
   "source": [
    "df.head(5)"
   ]
  },
  {
   "cell_type": "code",
   "execution_count": 11,
   "metadata": {},
   "outputs": [],
   "source": [
    "# Rename columns\n",
    "df.columns = ['id', 'original_date','source', 'brief_title', 'condition', 'full_description', 'summary']"
   ]
  },
  {
   "cell_type": "code",
   "execution_count": 12,
   "metadata": {},
   "outputs": [
    {
     "data": {
      "text/html": [
       "<div>\n",
       "<style scoped>\n",
       "    .dataframe tbody tr th:only-of-type {\n",
       "        vertical-align: middle;\n",
       "    }\n",
       "\n",
       "    .dataframe tbody tr th {\n",
       "        vertical-align: top;\n",
       "    }\n",
       "\n",
       "    .dataframe thead th {\n",
       "        text-align: right;\n",
       "    }\n",
       "</style>\n",
       "<table border=\"1\" class=\"dataframe\">\n",
       "  <thead>\n",
       "    <tr style=\"text-align: right;\">\n",
       "      <th></th>\n",
       "      <th>id</th>\n",
       "      <th>original_date</th>\n",
       "      <th>source</th>\n",
       "      <th>brief_title</th>\n",
       "      <th>condition</th>\n",
       "      <th>full_description</th>\n",
       "      <th>summary</th>\n",
       "    </tr>\n",
       "  </thead>\n",
       "  <tbody>\n",
       "    <tr>\n",
       "      <th>0</th>\n",
       "      <td>NCT01995227</td>\n",
       "      <td>November 18, 2013</td>\n",
       "      <td>Immunovative Therapies, Ltd.</td>\n",
       "      <td>An Individualized Anti-Cancer Vaccine Study in...</td>\n",
       "      <td>Hepatocellular Carcinoma</td>\n",
       "      <td>All accrued subjects will undergo tumor...</td>\n",
       "      <td>The purpose of this study is to determi...</td>\n",
       "    </tr>\n",
       "    <tr>\n",
       "      <th>1</th>\n",
       "      <td>NCT03186248</td>\n",
       "      <td>June 9, 2017</td>\n",
       "      <td>Asian Institute of Gastroenterology, India</td>\n",
       "      <td>Randomized Clinical Trial Comparing Short Vers...</td>\n",
       "      <td>Achalasia Cardia</td>\n",
       "      <td>The primary goal of treatment of achala...</td>\n",
       "      <td>Aim of this study is to compare the out...</td>\n",
       "    </tr>\n",
       "    <tr>\n",
       "      <th>2</th>\n",
       "      <td>NCT01612962</td>\n",
       "      <td>May 30, 2012</td>\n",
       "      <td>Georgetown University</td>\n",
       "      <td>Diagnostic Tests to Help Determine Osteomyelitis</td>\n",
       "      <td>Osteomyelitis</td>\n",
       "      <td>Osteomyelitis is present in approximate...</td>\n",
       "      <td>In this study, the investigators will p...</td>\n",
       "    </tr>\n",
       "    <tr>\n",
       "      <th>3</th>\n",
       "      <td>NCT01257763</td>\n",
       "      <td>December 8, 2010</td>\n",
       "      <td>Northwestern University</td>\n",
       "      <td>Tolerability Study of the Application of a 3M ...</td>\n",
       "      <td>Healthy</td>\n",
       "      <td>None</td>\n",
       "      <td>The purpose of this study is to evaluat...</td>\n",
       "    </tr>\n",
       "    <tr>\n",
       "      <th>4</th>\n",
       "      <td>NCT02599922</td>\n",
       "      <td>November 5, 2015</td>\n",
       "      <td>Applied Genetic Technologies Corp</td>\n",
       "      <td>Safety and Efficacy Trial of AAV Gene Therapy ...</td>\n",
       "      <td>Achromatopsia</td>\n",
       "      <td>This will be a non-randomized, open-lab...</td>\n",
       "      <td>This will be a non-randomized, open-lab...</td>\n",
       "    </tr>\n",
       "  </tbody>\n",
       "</table>\n",
       "</div>"
      ],
      "text/plain": [
       "            id      original_date                                      source  \\\n",
       "0  NCT01995227  November 18, 2013                Immunovative Therapies, Ltd.   \n",
       "1  NCT03186248       June 9, 2017  Asian Institute of Gastroenterology, India   \n",
       "2  NCT01612962       May 30, 2012                       Georgetown University   \n",
       "3  NCT01257763   December 8, 2010                     Northwestern University   \n",
       "4  NCT02599922   November 5, 2015           Applied Genetic Technologies Corp   \n",
       "\n",
       "                                         brief_title  \\\n",
       "0  An Individualized Anti-Cancer Vaccine Study in...   \n",
       "1  Randomized Clinical Trial Comparing Short Vers...   \n",
       "2   Diagnostic Tests to Help Determine Osteomyelitis   \n",
       "3  Tolerability Study of the Application of a 3M ...   \n",
       "4  Safety and Efficacy Trial of AAV Gene Therapy ...   \n",
       "\n",
       "                  condition  \\\n",
       "0  Hepatocellular Carcinoma   \n",
       "1          Achalasia Cardia   \n",
       "2             Osteomyelitis   \n",
       "3                   Healthy   \n",
       "4             Achromatopsia   \n",
       "\n",
       "                                    full_description  \\\n",
       "0         All accrued subjects will undergo tumor...   \n",
       "1         The primary goal of treatment of achala...   \n",
       "2         Osteomyelitis is present in approximate...   \n",
       "3                                               None   \n",
       "4         This will be a non-randomized, open-lab...   \n",
       "\n",
       "                                             summary  \n",
       "0         The purpose of this study is to determi...  \n",
       "1         Aim of this study is to compare the out...  \n",
       "2         In this study, the investigators will p...  \n",
       "3         The purpose of this study is to evaluat...  \n",
       "4         This will be a non-randomized, open-lab...  "
      ]
     },
     "execution_count": 12,
     "metadata": {},
     "output_type": "execute_result"
    }
   ],
   "source": [
    "df.head()"
   ]
  },
  {
   "cell_type": "markdown",
   "metadata": {},
   "source": [
    "## Add new date columns"
   ]
  },
  {
   "cell_type": "code",
   "execution_count": 13,
   "metadata": {},
   "outputs": [
    {
     "name": "stdout",
     "output_type": "stream",
     "text": [
      "CPU times: user 111 ms, sys: 2.38 ms, total: 113 ms\n",
      "Wall time: 115 ms\n"
     ]
    }
   ],
   "source": [
    "# Create new column: study_first_submitted as dates\n",
    "%time df['full_date'] = pd.to_datetime(df['original_date'])"
   ]
  },
  {
   "cell_type": "code",
   "execution_count": 14,
   "metadata": {},
   "outputs": [],
   "source": [
    "# Create new column: dates as year\n",
    "df['year'] = df['full_date'].dt.year"
   ]
  },
  {
   "cell_type": "code",
   "execution_count": 15,
   "metadata": {},
   "outputs": [],
   "source": [
    "# Sort records by date\n",
    "df = df.sort_values(by ='full_date')"
   ]
  },
  {
   "cell_type": "code",
   "execution_count": 16,
   "metadata": {},
   "outputs": [
    {
     "data": {
      "text/html": [
       "<div>\n",
       "<style scoped>\n",
       "    .dataframe tbody tr th:only-of-type {\n",
       "        vertical-align: middle;\n",
       "    }\n",
       "\n",
       "    .dataframe tbody tr th {\n",
       "        vertical-align: top;\n",
       "    }\n",
       "\n",
       "    .dataframe thead th {\n",
       "        text-align: right;\n",
       "    }\n",
       "</style>\n",
       "<table border=\"1\" class=\"dataframe\">\n",
       "  <thead>\n",
       "    <tr style=\"text-align: right;\">\n",
       "      <th></th>\n",
       "      <th>id</th>\n",
       "      <th>original_date</th>\n",
       "      <th>source</th>\n",
       "      <th>brief_title</th>\n",
       "      <th>condition</th>\n",
       "      <th>full_description</th>\n",
       "      <th>summary</th>\n",
       "      <th>full_date</th>\n",
       "      <th>year</th>\n",
       "    </tr>\n",
       "  </thead>\n",
       "  <tbody>\n",
       "    <tr>\n",
       "      <th>461</th>\n",
       "      <td>NCT00004378</td>\n",
       "      <td>October 18, 1999</td>\n",
       "      <td>National Center for Research Resources (NCRR)</td>\n",
       "      <td>Stem Cell Transplantation (SCT) for Genetic Di...</td>\n",
       "      <td>Thrombocytopenia</td>\n",
       "      <td>PROTOCOL OUTLINE: Patients receive eith...</td>\n",
       "      <td>OBJECTIVES: I. Ascertain whether stem c...</td>\n",
       "      <td>1999-10-18</td>\n",
       "      <td>1999</td>\n",
       "    </tr>\n",
       "    <tr>\n",
       "      <th>828</th>\n",
       "      <td>NCT00003122</td>\n",
       "      <td>November 1, 1999</td>\n",
       "      <td>National Cancer Institute (NCI)</td>\n",
       "      <td>Surgery in Treating Patients With Neuroblastoma</td>\n",
       "      <td>Neuroblastoma</td>\n",
       "      <td>OBJECTIVES:          -  Evaluate the sa...</td>\n",
       "      <td>RATIONALE: Surgery may be an effective ...</td>\n",
       "      <td>1999-11-01</td>\n",
       "      <td>1999</td>\n",
       "    </tr>\n",
       "    <tr>\n",
       "      <th>557</th>\n",
       "      <td>NCT00003545</td>\n",
       "      <td>November 1, 1999</td>\n",
       "      <td>National Cancer Institute (NCI)</td>\n",
       "      <td>506U78 in Treating Patients With Refractory or...</td>\n",
       "      <td>Leukemia</td>\n",
       "      <td>OBJECTIVES:        I. Determine the com...</td>\n",
       "      <td>Phase II trial to study the effectivene...</td>\n",
       "      <td>1999-11-01</td>\n",
       "      <td>1999</td>\n",
       "    </tr>\n",
       "    <tr>\n",
       "      <th>117</th>\n",
       "      <td>NCT00003270</td>\n",
       "      <td>November 1, 1999</td>\n",
       "      <td>Roswell Park Cancer Institute</td>\n",
       "      <td>Chemotherapy, Radiation Therapy, and Umbilical...</td>\n",
       "      <td>Graft Versus Host Disease</td>\n",
       "      <td>OBJECTIVES: I. Determine the safety, ef...</td>\n",
       "      <td>RATIONALE: Drugs used in chemotherapy u...</td>\n",
       "      <td>1999-11-01</td>\n",
       "      <td>1999</td>\n",
       "    </tr>\n",
       "    <tr>\n",
       "      <th>72</th>\n",
       "      <td>NCT00002786</td>\n",
       "      <td>November 1, 1999</td>\n",
       "      <td>Fred Hutchinson Cancer Research Center</td>\n",
       "      <td>Biological Therapy in Treating Patients With M...</td>\n",
       "      <td>Melanoma (Skin)</td>\n",
       "      <td>OBJECTIVES:          -  Assess the safe...</td>\n",
       "      <td>RATIONALE: Biological therapies use dif...</td>\n",
       "      <td>1999-11-01</td>\n",
       "      <td>1999</td>\n",
       "    </tr>\n",
       "  </tbody>\n",
       "</table>\n",
       "</div>"
      ],
      "text/plain": [
       "              id     original_date  \\\n",
       "461  NCT00004378  October 18, 1999   \n",
       "828  NCT00003122  November 1, 1999   \n",
       "557  NCT00003545  November 1, 1999   \n",
       "117  NCT00003270  November 1, 1999   \n",
       "72   NCT00002786  November 1, 1999   \n",
       "\n",
       "                                            source  \\\n",
       "461  National Center for Research Resources (NCRR)   \n",
       "828                National Cancer Institute (NCI)   \n",
       "557                National Cancer Institute (NCI)   \n",
       "117                  Roswell Park Cancer Institute   \n",
       "72          Fred Hutchinson Cancer Research Center   \n",
       "\n",
       "                                           brief_title  \\\n",
       "461  Stem Cell Transplantation (SCT) for Genetic Di...   \n",
       "828    Surgery in Treating Patients With Neuroblastoma   \n",
       "557  506U78 in Treating Patients With Refractory or...   \n",
       "117  Chemotherapy, Radiation Therapy, and Umbilical...   \n",
       "72   Biological Therapy in Treating Patients With M...   \n",
       "\n",
       "                     condition  \\\n",
       "461           Thrombocytopenia   \n",
       "828              Neuroblastoma   \n",
       "557                   Leukemia   \n",
       "117  Graft Versus Host Disease   \n",
       "72             Melanoma (Skin)   \n",
       "\n",
       "                                      full_description  \\\n",
       "461         PROTOCOL OUTLINE: Patients receive eith...   \n",
       "828         OBJECTIVES:          -  Evaluate the sa...   \n",
       "557         OBJECTIVES:        I. Determine the com...   \n",
       "117         OBJECTIVES: I. Determine the safety, ef...   \n",
       "72          OBJECTIVES:          -  Assess the safe...   \n",
       "\n",
       "                                               summary  full_date  year  \n",
       "461         OBJECTIVES: I. Ascertain whether stem c... 1999-10-18  1999  \n",
       "828         RATIONALE: Surgery may be an effective ... 1999-11-01  1999  \n",
       "557         Phase II trial to study the effectivene... 1999-11-01  1999  \n",
       "117         RATIONALE: Drugs used in chemotherapy u... 1999-11-01  1999  \n",
       "72          RATIONALE: Biological therapies use dif... 1999-11-01  1999  "
      ]
     },
     "execution_count": 16,
     "metadata": {},
     "output_type": "execute_result"
    }
   ],
   "source": [
    "df.head()"
   ]
  },
  {
   "cell_type": "code",
   "execution_count": 17,
   "metadata": {},
   "outputs": [
    {
     "data": {
      "text/plain": [
       "Index               8000\n",
       "id                  8000\n",
       "original_date       8000\n",
       "source              8000\n",
       "brief_title         8000\n",
       "condition           8000\n",
       "full_description    8000\n",
       "summary             8000\n",
       "full_date           8000\n",
       "year                8000\n",
       "dtype: int64"
      ]
     },
     "execution_count": 17,
     "metadata": {},
     "output_type": "execute_result"
    }
   ],
   "source": [
    "df.memory_usage()"
   ]
  },
  {
   "cell_type": "markdown",
   "metadata": {},
   "source": [
    "## Export dataframe as csv"
   ]
  },
  {
   "cell_type": "code",
   "execution_count": 18,
   "metadata": {},
   "outputs": [
    {
     "ename": "NameError",
     "evalue": "name 'csv' is not defined",
     "output_type": "error",
     "traceback": [
      "\u001b[0;31m---------------------------------------------------------------------------\u001b[0m",
      "\u001b[0;31mNameError\u001b[0m                                 Traceback (most recent call last)",
      "\u001b[0;32m<ipython-input-18-14fa62589946>\u001b[0m in \u001b[0;36m<module>\u001b[0;34m()\u001b[0m\n\u001b[1;32m      4\u001b[0m \u001b[0;34m\u001b[0m\u001b[0m\n\u001b[1;32m      5\u001b[0m \u001b[0;32mtry\u001b[0m\u001b[0;34m:\u001b[0m\u001b[0;34m\u001b[0m\u001b[0m\n\u001b[0;32m----> 6\u001b[0;31m     \u001b[0mos\u001b[0m\u001b[0;34m.\u001b[0m\u001b[0mmkdir\u001b[0m\u001b[0;34m(\u001b[0m\u001b[0mcsv\u001b[0m\u001b[0;34m)\u001b[0m\u001b[0;34m\u001b[0m\u001b[0m\n\u001b[0m\u001b[1;32m      7\u001b[0m     \u001b[0mprint\u001b[0m\u001b[0;34m(\u001b[0m\u001b[0;34m'{} created'\u001b[0m\u001b[0;34m.\u001b[0m\u001b[0mformat\u001b[0m\u001b[0;34m(\u001b[0m\u001b[0mcsv\u001b[0m\u001b[0;34m)\u001b[0m\u001b[0;34m)\u001b[0m\u001b[0;34m\u001b[0m\u001b[0m\n\u001b[1;32m      8\u001b[0m \u001b[0;32mexcept\u001b[0m \u001b[0mIOError\u001b[0m \u001b[0;32mas\u001b[0m \u001b[0me\u001b[0m\u001b[0;34m:\u001b[0m\u001b[0;34m\u001b[0m\u001b[0m\n",
      "\u001b[0;31mNameError\u001b[0m: name 'csv' is not defined"
     ]
    }
   ],
   "source": [
    "# Export dataframe as csv file\n",
    "\n",
    "path_to_csv = os.path.abspath('../data/csv/')\n",
    "\n",
    "try:\n",
    "    os.mkdir(path_to_csv)\n",
    "    print('{} created'.format(csv))\n",
    "except IOError as e:\n",
    "    print(e)\n",
    "    pass\n",
    "\n",
    "\n"
   ]
  },
  {
   "cell_type": "code",
   "execution_count": 19,
   "metadata": {},
   "outputs": [],
   "source": [
    "csv_file = '/clean_data.csv'\n",
    "df.to_csv(path_to_csv + csv_file)"
   ]
  },
  {
   "cell_type": "code",
   "execution_count": null,
   "metadata": {},
   "outputs": [],
   "source": []
  }
 ],
 "metadata": {
  "kernelspec": {
   "display_name": "Python 3",
   "language": "python",
   "name": "python3"
  },
  "language_info": {
   "codemirror_mode": {
    "name": "ipython",
    "version": 3
   },
   "file_extension": ".py",
   "mimetype": "text/x-python",
   "name": "python",
   "nbconvert_exporter": "python",
   "pygments_lexer": "ipython3",
   "version": "3.7.0"
  }
 },
 "nbformat": 4,
 "nbformat_minor": 2
}
