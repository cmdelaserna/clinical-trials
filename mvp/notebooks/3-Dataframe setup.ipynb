{
 "cells": [
  {
   "cell_type": "markdown",
   "metadata": {},
   "source": [
    "# Clinical trials: Dataframe setup\n"
   ]
  },
  {
   "cell_type": "code",
   "execution_count": 1,
   "metadata": {},
   "outputs": [],
   "source": [
    "import time\n",
    "import json\n",
    "import os\n",
    "import pandas as pd\n",
    "import matplotlib.pyplot as plt"
   ]
  },
  {
   "cell_type": "code",
   "execution_count": 2,
   "metadata": {},
   "outputs": [],
   "source": [
    "base_color = \"#3298D0\"\n",
    "plot_size = (14, 10)"
   ]
  },
  {
   "cell_type": "code",
   "execution_count": 3,
   "metadata": {},
   "outputs": [],
   "source": [
    "# Path for json folder & file\n",
    "path_to_json_file = os.path.abspath('../data/json/')\n",
    "\n",
    "# json file\n",
    "json_file = '/all_trials_json' #name json file  "
   ]
  },
  {
   "cell_type": "markdown",
   "metadata": {},
   "source": [
    "## Import json file in a dataframe/sframe"
   ]
  },
  {
   "cell_type": "code",
   "execution_count": 4,
   "metadata": {},
   "outputs": [],
   "source": [
    "# Import json into a dataframe\n",
    "file = '{}{}.json'.format(path_to_json_file, json_file)"
   ]
  },
  {
   "cell_type": "code",
   "execution_count": 5,
   "metadata": {},
   "outputs": [],
   "source": [
    "# breaks with large json file\n",
    "df = pd.read_json(file)"
   ]
  },
  {
   "cell_type": "markdown",
   "metadata": {},
   "source": [
    "## Basic data cleaning"
   ]
  },
  {
   "cell_type": "code",
   "execution_count": 6,
   "metadata": {},
   "outputs": [
    {
     "name": "stdout",
     "output_type": "stream",
     "text": [
      "<class 'pandas.core.frame.DataFrame'>\n",
      "RangeIndex: 10000 entries, 0 to 9999\n",
      "Data columns (total 7 columns):\n",
      "nct_id                            10000 non-null object\n",
      "study_first_submitted             10000 non-null object\n",
      "source                            10000 non-null object\n",
      "brief_title                       10000 non-null object\n",
      "condition                         10000 non-null object\n",
      "detailed_description/textblock    10000 non-null object\n",
      "brief_summary/textblock           10000 non-null object\n",
      "dtypes: object(7)\n",
      "memory usage: 547.0+ KB\n"
     ]
    }
   ],
   "source": [
    "#Check data\n",
    "df.info()"
   ]
  },
  {
   "cell_type": "code",
   "execution_count": 7,
   "metadata": {},
   "outputs": [
    {
     "data": {
      "text/html": [
       "<div>\n",
       "<style scoped>\n",
       "    .dataframe tbody tr th:only-of-type {\n",
       "        vertical-align: middle;\n",
       "    }\n",
       "\n",
       "    .dataframe tbody tr th {\n",
       "        vertical-align: top;\n",
       "    }\n",
       "\n",
       "    .dataframe thead th {\n",
       "        text-align: right;\n",
       "    }\n",
       "</style>\n",
       "<table border=\"1\" class=\"dataframe\">\n",
       "  <thead>\n",
       "    <tr style=\"text-align: right;\">\n",
       "      <th></th>\n",
       "      <th>nct_id</th>\n",
       "      <th>study_first_submitted</th>\n",
       "      <th>source</th>\n",
       "      <th>brief_title</th>\n",
       "      <th>condition</th>\n",
       "      <th>detailed_description/textblock</th>\n",
       "      <th>brief_summary/textblock</th>\n",
       "    </tr>\n",
       "  </thead>\n",
       "  <tbody>\n",
       "    <tr>\n",
       "      <th>0</th>\n",
       "      <td>NCT00658203</td>\n",
       "      <td>March 28, 2008</td>\n",
       "      <td>LivaNova</td>\n",
       "      <td>Clinical Evaluation on Advanced Resynchronization</td>\n",
       "      <td>Heart Failure</td>\n",
       "      <td>\\n      The study is a prospective, multicentr...</td>\n",
       "      <td>\\n      The aim of the study is to compare cli...</td>\n",
       "    </tr>\n",
       "    <tr>\n",
       "      <th>1</th>\n",
       "      <td>NCT02842775</td>\n",
       "      <td>July 11, 2016</td>\n",
       "      <td>National Taiwan University Hospital</td>\n",
       "      <td>Clinical Evaluation and Rehabilitation System ...</td>\n",
       "      <td>Cervical Myelopathy</td>\n",
       "      <td>\\n      Taiwan is quickly becoming a nation of...</td>\n",
       "      <td>\\n      Cervical myelopathy is common among th...</td>\n",
       "    </tr>\n",
       "    <tr>\n",
       "      <th>2</th>\n",
       "      <td>NCT03126968</td>\n",
       "      <td>April 17, 2017</td>\n",
       "      <td>University of Maryland</td>\n",
       "      <td>Prophylactic Topical Epinephrine to Reduce Ble...</td>\n",
       "      <td>Lung Transplant; Complications, Mechanical</td>\n",
       "      <td>\\n      The role of prophylactic topical epine...</td>\n",
       "      <td>\\n      Bleeding poses potential for significa...</td>\n",
       "    </tr>\n",
       "    <tr>\n",
       "      <th>3</th>\n",
       "      <td>NCT02411968</td>\n",
       "      <td>April 3, 2015</td>\n",
       "      <td>Radboud University</td>\n",
       "      <td>Follow up After Cryoablation of Small Renal Ma...</td>\n",
       "      <td>Carcinoma, Renal Cell</td>\n",
       "      <td>\\n      With the growing number of small renal...</td>\n",
       "      <td>\\n      Currently there is no consensus on pos...</td>\n",
       "    </tr>\n",
       "    <tr>\n",
       "      <th>4</th>\n",
       "      <td>NCT00775385</td>\n",
       "      <td>October 17, 2008</td>\n",
       "      <td>Intergroupe Francophone de Cancerologie Thorac...</td>\n",
       "      <td>TAilored Post-Surgical Therapy in Early Stage ...</td>\n",
       "      <td>Carcinoma, Non-Small-Cell Lung</td>\n",
       "      <td>None</td>\n",
       "      <td>\\n      Our hypothesis is that patients receiv...</td>\n",
       "    </tr>\n",
       "  </tbody>\n",
       "</table>\n",
       "</div>"
      ],
      "text/plain": [
       "        nct_id study_first_submitted  \\\n",
       "0  NCT00658203        March 28, 2008   \n",
       "1  NCT02842775         July 11, 2016   \n",
       "2  NCT03126968        April 17, 2017   \n",
       "3  NCT02411968         April 3, 2015   \n",
       "4  NCT00775385      October 17, 2008   \n",
       "\n",
       "                                              source  \\\n",
       "0                                           LivaNova   \n",
       "1                National Taiwan University Hospital   \n",
       "2                             University of Maryland   \n",
       "3                                 Radboud University   \n",
       "4  Intergroupe Francophone de Cancerologie Thorac...   \n",
       "\n",
       "                                         brief_title  \\\n",
       "0  Clinical Evaluation on Advanced Resynchronization   \n",
       "1  Clinical Evaluation and Rehabilitation System ...   \n",
       "2  Prophylactic Topical Epinephrine to Reduce Ble...   \n",
       "3  Follow up After Cryoablation of Small Renal Ma...   \n",
       "4  TAilored Post-Surgical Therapy in Early Stage ...   \n",
       "\n",
       "                                    condition  \\\n",
       "0                               Heart Failure   \n",
       "1                         Cervical Myelopathy   \n",
       "2  Lung Transplant; Complications, Mechanical   \n",
       "3                       Carcinoma, Renal Cell   \n",
       "4              Carcinoma, Non-Small-Cell Lung   \n",
       "\n",
       "                      detailed_description/textblock  \\\n",
       "0  \\n      The study is a prospective, multicentr...   \n",
       "1  \\n      Taiwan is quickly becoming a nation of...   \n",
       "2  \\n      The role of prophylactic topical epine...   \n",
       "3  \\n      With the growing number of small renal...   \n",
       "4                                               None   \n",
       "\n",
       "                             brief_summary/textblock  \n",
       "0  \\n      The aim of the study is to compare cli...  \n",
       "1  \\n      Cervical myelopathy is common among th...  \n",
       "2  \\n      Bleeding poses potential for significa...  \n",
       "3  \\n      Currently there is no consensus on pos...  \n",
       "4  \\n      Our hypothesis is that patients receiv...  "
      ]
     },
     "execution_count": 7,
     "metadata": {},
     "output_type": "execute_result"
    }
   ],
   "source": [
    "df.head()"
   ]
  },
  {
   "cell_type": "code",
   "execution_count": 10,
   "metadata": {},
   "outputs": [],
   "source": [
    "# DELETE URL COLUMN\n",
    "\n",
    "# print(df.url.describe())\n",
    "# # df = df.drop(columns = ['url'])"
   ]
  },
  {
   "cell_type": "code",
   "execution_count": 11,
   "metadata": {},
   "outputs": [],
   "source": [
    "# remove \\n values\n",
    "df = df.replace(r'\\n',' ', regex=True) "
   ]
  },
  {
   "cell_type": "code",
   "execution_count": 12,
   "metadata": {},
   "outputs": [
    {
     "data": {
      "text/html": [
       "<div>\n",
       "<style scoped>\n",
       "    .dataframe tbody tr th:only-of-type {\n",
       "        vertical-align: middle;\n",
       "    }\n",
       "\n",
       "    .dataframe tbody tr th {\n",
       "        vertical-align: top;\n",
       "    }\n",
       "\n",
       "    .dataframe thead th {\n",
       "        text-align: right;\n",
       "    }\n",
       "</style>\n",
       "<table border=\"1\" class=\"dataframe\">\n",
       "  <thead>\n",
       "    <tr style=\"text-align: right;\">\n",
       "      <th></th>\n",
       "      <th>nct_id</th>\n",
       "      <th>study_first_submitted</th>\n",
       "      <th>source</th>\n",
       "      <th>brief_title</th>\n",
       "      <th>condition</th>\n",
       "      <th>detailed_description/textblock</th>\n",
       "      <th>brief_summary/textblock</th>\n",
       "    </tr>\n",
       "  </thead>\n",
       "  <tbody>\n",
       "    <tr>\n",
       "      <th>0</th>\n",
       "      <td>NCT00658203</td>\n",
       "      <td>March 28, 2008</td>\n",
       "      <td>LivaNova</td>\n",
       "      <td>Clinical Evaluation on Advanced Resynchronization</td>\n",
       "      <td>Heart Failure</td>\n",
       "      <td>The study is a prospective, multicentre...</td>\n",
       "      <td>The aim of the study is to compare clin...</td>\n",
       "    </tr>\n",
       "    <tr>\n",
       "      <th>1</th>\n",
       "      <td>NCT02842775</td>\n",
       "      <td>July 11, 2016</td>\n",
       "      <td>National Taiwan University Hospital</td>\n",
       "      <td>Clinical Evaluation and Rehabilitation System ...</td>\n",
       "      <td>Cervical Myelopathy</td>\n",
       "      <td>Taiwan is quickly becoming a nation of ...</td>\n",
       "      <td>Cervical myelopathy is common among the...</td>\n",
       "    </tr>\n",
       "    <tr>\n",
       "      <th>2</th>\n",
       "      <td>NCT03126968</td>\n",
       "      <td>April 17, 2017</td>\n",
       "      <td>University of Maryland</td>\n",
       "      <td>Prophylactic Topical Epinephrine to Reduce Ble...</td>\n",
       "      <td>Lung Transplant; Complications, Mechanical</td>\n",
       "      <td>The role of prophylactic topical epinep...</td>\n",
       "      <td>Bleeding poses potential for significan...</td>\n",
       "    </tr>\n",
       "    <tr>\n",
       "      <th>3</th>\n",
       "      <td>NCT02411968</td>\n",
       "      <td>April 3, 2015</td>\n",
       "      <td>Radboud University</td>\n",
       "      <td>Follow up After Cryoablation of Small Renal Ma...</td>\n",
       "      <td>Carcinoma, Renal Cell</td>\n",
       "      <td>With the growing number of small renal ...</td>\n",
       "      <td>Currently there is no consensus on post...</td>\n",
       "    </tr>\n",
       "    <tr>\n",
       "      <th>4</th>\n",
       "      <td>NCT00775385</td>\n",
       "      <td>October 17, 2008</td>\n",
       "      <td>Intergroupe Francophone de Cancerologie Thorac...</td>\n",
       "      <td>TAilored Post-Surgical Therapy in Early Stage ...</td>\n",
       "      <td>Carcinoma, Non-Small-Cell Lung</td>\n",
       "      <td>None</td>\n",
       "      <td>Our hypothesis is that patients receivi...</td>\n",
       "    </tr>\n",
       "  </tbody>\n",
       "</table>\n",
       "</div>"
      ],
      "text/plain": [
       "        nct_id study_first_submitted  \\\n",
       "0  NCT00658203        March 28, 2008   \n",
       "1  NCT02842775         July 11, 2016   \n",
       "2  NCT03126968        April 17, 2017   \n",
       "3  NCT02411968         April 3, 2015   \n",
       "4  NCT00775385      October 17, 2008   \n",
       "\n",
       "                                              source  \\\n",
       "0                                           LivaNova   \n",
       "1                National Taiwan University Hospital   \n",
       "2                             University of Maryland   \n",
       "3                                 Radboud University   \n",
       "4  Intergroupe Francophone de Cancerologie Thorac...   \n",
       "\n",
       "                                         brief_title  \\\n",
       "0  Clinical Evaluation on Advanced Resynchronization   \n",
       "1  Clinical Evaluation and Rehabilitation System ...   \n",
       "2  Prophylactic Topical Epinephrine to Reduce Ble...   \n",
       "3  Follow up After Cryoablation of Small Renal Ma...   \n",
       "4  TAilored Post-Surgical Therapy in Early Stage ...   \n",
       "\n",
       "                                    condition  \\\n",
       "0                               Heart Failure   \n",
       "1                         Cervical Myelopathy   \n",
       "2  Lung Transplant; Complications, Mechanical   \n",
       "3                       Carcinoma, Renal Cell   \n",
       "4              Carcinoma, Non-Small-Cell Lung   \n",
       "\n",
       "                      detailed_description/textblock  \\\n",
       "0         The study is a prospective, multicentre...   \n",
       "1         Taiwan is quickly becoming a nation of ...   \n",
       "2         The role of prophylactic topical epinep...   \n",
       "3         With the growing number of small renal ...   \n",
       "4                                               None   \n",
       "\n",
       "                             brief_summary/textblock  \n",
       "0         The aim of the study is to compare clin...  \n",
       "1         Cervical myelopathy is common among the...  \n",
       "2         Bleeding poses potential for significan...  \n",
       "3         Currently there is no consensus on post...  \n",
       "4         Our hypothesis is that patients receivi...  "
      ]
     },
     "execution_count": 12,
     "metadata": {},
     "output_type": "execute_result"
    }
   ],
   "source": [
    "df.head(5)"
   ]
  },
  {
   "cell_type": "code",
   "execution_count": 13,
   "metadata": {},
   "outputs": [],
   "source": [
    "# Rename columns\n",
    "df.columns = ['id', 'original_date','source', 'brief_title', 'condition', 'full_description', 'summary']"
   ]
  },
  {
   "cell_type": "code",
   "execution_count": 14,
   "metadata": {},
   "outputs": [
    {
     "data": {
      "text/html": [
       "<div>\n",
       "<style scoped>\n",
       "    .dataframe tbody tr th:only-of-type {\n",
       "        vertical-align: middle;\n",
       "    }\n",
       "\n",
       "    .dataframe tbody tr th {\n",
       "        vertical-align: top;\n",
       "    }\n",
       "\n",
       "    .dataframe thead th {\n",
       "        text-align: right;\n",
       "    }\n",
       "</style>\n",
       "<table border=\"1\" class=\"dataframe\">\n",
       "  <thead>\n",
       "    <tr style=\"text-align: right;\">\n",
       "      <th></th>\n",
       "      <th>id</th>\n",
       "      <th>original_date</th>\n",
       "      <th>source</th>\n",
       "      <th>brief_title</th>\n",
       "      <th>condition</th>\n",
       "      <th>full_description</th>\n",
       "      <th>summary</th>\n",
       "    </tr>\n",
       "  </thead>\n",
       "  <tbody>\n",
       "    <tr>\n",
       "      <th>0</th>\n",
       "      <td>NCT00658203</td>\n",
       "      <td>March 28, 2008</td>\n",
       "      <td>LivaNova</td>\n",
       "      <td>Clinical Evaluation on Advanced Resynchronization</td>\n",
       "      <td>Heart Failure</td>\n",
       "      <td>The study is a prospective, multicentre...</td>\n",
       "      <td>The aim of the study is to compare clin...</td>\n",
       "    </tr>\n",
       "    <tr>\n",
       "      <th>1</th>\n",
       "      <td>NCT02842775</td>\n",
       "      <td>July 11, 2016</td>\n",
       "      <td>National Taiwan University Hospital</td>\n",
       "      <td>Clinical Evaluation and Rehabilitation System ...</td>\n",
       "      <td>Cervical Myelopathy</td>\n",
       "      <td>Taiwan is quickly becoming a nation of ...</td>\n",
       "      <td>Cervical myelopathy is common among the...</td>\n",
       "    </tr>\n",
       "    <tr>\n",
       "      <th>2</th>\n",
       "      <td>NCT03126968</td>\n",
       "      <td>April 17, 2017</td>\n",
       "      <td>University of Maryland</td>\n",
       "      <td>Prophylactic Topical Epinephrine to Reduce Ble...</td>\n",
       "      <td>Lung Transplant; Complications, Mechanical</td>\n",
       "      <td>The role of prophylactic topical epinep...</td>\n",
       "      <td>Bleeding poses potential for significan...</td>\n",
       "    </tr>\n",
       "    <tr>\n",
       "      <th>3</th>\n",
       "      <td>NCT02411968</td>\n",
       "      <td>April 3, 2015</td>\n",
       "      <td>Radboud University</td>\n",
       "      <td>Follow up After Cryoablation of Small Renal Ma...</td>\n",
       "      <td>Carcinoma, Renal Cell</td>\n",
       "      <td>With the growing number of small renal ...</td>\n",
       "      <td>Currently there is no consensus on post...</td>\n",
       "    </tr>\n",
       "    <tr>\n",
       "      <th>4</th>\n",
       "      <td>NCT00775385</td>\n",
       "      <td>October 17, 2008</td>\n",
       "      <td>Intergroupe Francophone de Cancerologie Thorac...</td>\n",
       "      <td>TAilored Post-Surgical Therapy in Early Stage ...</td>\n",
       "      <td>Carcinoma, Non-Small-Cell Lung</td>\n",
       "      <td>None</td>\n",
       "      <td>Our hypothesis is that patients receivi...</td>\n",
       "    </tr>\n",
       "  </tbody>\n",
       "</table>\n",
       "</div>"
      ],
      "text/plain": [
       "            id     original_date  \\\n",
       "0  NCT00658203    March 28, 2008   \n",
       "1  NCT02842775     July 11, 2016   \n",
       "2  NCT03126968    April 17, 2017   \n",
       "3  NCT02411968     April 3, 2015   \n",
       "4  NCT00775385  October 17, 2008   \n",
       "\n",
       "                                              source  \\\n",
       "0                                           LivaNova   \n",
       "1                National Taiwan University Hospital   \n",
       "2                             University of Maryland   \n",
       "3                                 Radboud University   \n",
       "4  Intergroupe Francophone de Cancerologie Thorac...   \n",
       "\n",
       "                                         brief_title  \\\n",
       "0  Clinical Evaluation on Advanced Resynchronization   \n",
       "1  Clinical Evaluation and Rehabilitation System ...   \n",
       "2  Prophylactic Topical Epinephrine to Reduce Ble...   \n",
       "3  Follow up After Cryoablation of Small Renal Ma...   \n",
       "4  TAilored Post-Surgical Therapy in Early Stage ...   \n",
       "\n",
       "                                    condition  \\\n",
       "0                               Heart Failure   \n",
       "1                         Cervical Myelopathy   \n",
       "2  Lung Transplant; Complications, Mechanical   \n",
       "3                       Carcinoma, Renal Cell   \n",
       "4              Carcinoma, Non-Small-Cell Lung   \n",
       "\n",
       "                                    full_description  \\\n",
       "0         The study is a prospective, multicentre...   \n",
       "1         Taiwan is quickly becoming a nation of ...   \n",
       "2         The role of prophylactic topical epinep...   \n",
       "3         With the growing number of small renal ...   \n",
       "4                                               None   \n",
       "\n",
       "                                             summary  \n",
       "0         The aim of the study is to compare clin...  \n",
       "1         Cervical myelopathy is common among the...  \n",
       "2         Bleeding poses potential for significan...  \n",
       "3         Currently there is no consensus on post...  \n",
       "4         Our hypothesis is that patients receivi...  "
      ]
     },
     "execution_count": 14,
     "metadata": {},
     "output_type": "execute_result"
    }
   ],
   "source": [
    "df.head()"
   ]
  },
  {
   "cell_type": "markdown",
   "metadata": {},
   "source": [
    "## Add new date columns"
   ]
  },
  {
   "cell_type": "code",
   "execution_count": 15,
   "metadata": {},
   "outputs": [
    {
     "name": "stdout",
     "output_type": "stream",
     "text": [
      "CPU times: user 931 ms, sys: 3.97 ms, total: 935 ms\n",
      "Wall time: 935 ms\n"
     ]
    }
   ],
   "source": [
    "# Create new column: study_first_submitted as dates\n",
    "%time df['full_date'] = pd.to_datetime(df['original_date'])"
   ]
  },
  {
   "cell_type": "code",
   "execution_count": 16,
   "metadata": {},
   "outputs": [],
   "source": [
    "# Create new column: dates as year\n",
    "df['year'] = df['full_date'].dt.year"
   ]
  },
  {
   "cell_type": "code",
   "execution_count": 17,
   "metadata": {},
   "outputs": [],
   "source": [
    "# Sort records by date\n",
    "df = df.sort_values(by ='full_date')"
   ]
  },
  {
   "cell_type": "code",
   "execution_count": 18,
   "metadata": {},
   "outputs": [
    {
     "data": {
      "text/html": [
       "<div>\n",
       "<style scoped>\n",
       "    .dataframe tbody tr th:only-of-type {\n",
       "        vertical-align: middle;\n",
       "    }\n",
       "\n",
       "    .dataframe tbody tr th {\n",
       "        vertical-align: top;\n",
       "    }\n",
       "\n",
       "    .dataframe thead th {\n",
       "        text-align: right;\n",
       "    }\n",
       "</style>\n",
       "<table border=\"1\" class=\"dataframe\">\n",
       "  <thead>\n",
       "    <tr style=\"text-align: right;\">\n",
       "      <th></th>\n",
       "      <th>id</th>\n",
       "      <th>original_date</th>\n",
       "      <th>source</th>\n",
       "      <th>brief_title</th>\n",
       "      <th>condition</th>\n",
       "      <th>full_description</th>\n",
       "      <th>summary</th>\n",
       "      <th>full_date</th>\n",
       "      <th>year</th>\n",
       "    </tr>\n",
       "  </thead>\n",
       "  <tbody>\n",
       "    <tr>\n",
       "      <th>2529</th>\n",
       "      <td>NCT00000278</td>\n",
       "      <td>September 20, 1999</td>\n",
       "      <td>Yale University</td>\n",
       "      <td>Disulfiram for Cocaine-Alcohol Abuse - 3</td>\n",
       "      <td>Alcohol-Related Disorders</td>\n",
       "      <td>None</td>\n",
       "      <td>The purpose of this study is to evaluat...</td>\n",
       "      <td>1999-09-20</td>\n",
       "      <td>1999</td>\n",
       "    </tr>\n",
       "    <tr>\n",
       "      <th>1482</th>\n",
       "      <td>NCT00000194</td>\n",
       "      <td>September 20, 1999</td>\n",
       "      <td>Yale University</td>\n",
       "      <td>Neurobiology of Opioid Dependence: 3 - 3</td>\n",
       "      <td>Opioid-Related Disorders</td>\n",
       "      <td>None</td>\n",
       "      <td>The purpose of this study is to study t...</td>\n",
       "      <td>1999-09-20</td>\n",
       "      <td>1999</td>\n",
       "    </tr>\n",
       "    <tr>\n",
       "      <th>4120</th>\n",
       "      <td>NCT00000337</td>\n",
       "      <td>September 20, 1999</td>\n",
       "      <td>National Institute on Drug Abuse (NIDA)</td>\n",
       "      <td>Infusion Laboratory: Protocol 1 - Selegeline - 2</td>\n",
       "      <td>Cocaine-Related Disorders</td>\n",
       "      <td>To develop a medication for the treatme...</td>\n",
       "      <td>The purpose of this study is to determi...</td>\n",
       "      <td>1999-09-20</td>\n",
       "      <td>1999</td>\n",
       "    </tr>\n",
       "    <tr>\n",
       "      <th>3062</th>\n",
       "      <td>NCT00000292</td>\n",
       "      <td>September 20, 1999</td>\n",
       "      <td>National Institute on Drug Abuse (NIDA)</td>\n",
       "      <td>Acute Withdrawal From Smoked Cocaine - 9</td>\n",
       "      <td>Cocaine-Related Disorders</td>\n",
       "      <td>Although there are clearly identifiable...</td>\n",
       "      <td>The purpose of this study is to develop...</td>\n",
       "      <td>1999-09-20</td>\n",
       "      <td>1999</td>\n",
       "    </tr>\n",
       "    <tr>\n",
       "      <th>428</th>\n",
       "      <td>NCT00004444</td>\n",
       "      <td>October 18, 1999</td>\n",
       "      <td>FDA Office of Orphan Products Development</td>\n",
       "      <td>Pilot Randomized Study of Paromomycin (Aminosi...</td>\n",
       "      <td>Tuberculosis, Pulmonary</td>\n",
       "      <td>PROTOCOL OUTLINE: This is a randomized ...</td>\n",
       "      <td>OBJECTIVES: I. Compare the pharmacokine...</td>\n",
       "      <td>1999-10-18</td>\n",
       "      <td>1999</td>\n",
       "    </tr>\n",
       "  </tbody>\n",
       "</table>\n",
       "</div>"
      ],
      "text/plain": [
       "               id       original_date  \\\n",
       "2529  NCT00000278  September 20, 1999   \n",
       "1482  NCT00000194  September 20, 1999   \n",
       "4120  NCT00000337  September 20, 1999   \n",
       "3062  NCT00000292  September 20, 1999   \n",
       "428   NCT00004444    October 18, 1999   \n",
       "\n",
       "                                         source  \\\n",
       "2529                            Yale University   \n",
       "1482                            Yale University   \n",
       "4120    National Institute on Drug Abuse (NIDA)   \n",
       "3062    National Institute on Drug Abuse (NIDA)   \n",
       "428   FDA Office of Orphan Products Development   \n",
       "\n",
       "                                            brief_title  \\\n",
       "2529           Disulfiram for Cocaine-Alcohol Abuse - 3   \n",
       "1482           Neurobiology of Opioid Dependence: 3 - 3   \n",
       "4120   Infusion Laboratory: Protocol 1 - Selegeline - 2   \n",
       "3062           Acute Withdrawal From Smoked Cocaine - 9   \n",
       "428   Pilot Randomized Study of Paromomycin (Aminosi...   \n",
       "\n",
       "                      condition  \\\n",
       "2529  Alcohol-Related Disorders   \n",
       "1482   Opioid-Related Disorders   \n",
       "4120  Cocaine-Related Disorders   \n",
       "3062  Cocaine-Related Disorders   \n",
       "428     Tuberculosis, Pulmonary   \n",
       "\n",
       "                                       full_description  \\\n",
       "2529                                               None   \n",
       "1482                                               None   \n",
       "4120         To develop a medication for the treatme...   \n",
       "3062         Although there are clearly identifiable...   \n",
       "428          PROTOCOL OUTLINE: This is a randomized ...   \n",
       "\n",
       "                                                summary  full_date  year  \n",
       "2529         The purpose of this study is to evaluat... 1999-09-20  1999  \n",
       "1482         The purpose of this study is to study t... 1999-09-20  1999  \n",
       "4120         The purpose of this study is to determi... 1999-09-20  1999  \n",
       "3062         The purpose of this study is to develop... 1999-09-20  1999  \n",
       "428          OBJECTIVES: I. Compare the pharmacokine... 1999-10-18  1999  "
      ]
     },
     "execution_count": 18,
     "metadata": {},
     "output_type": "execute_result"
    }
   ],
   "source": [
    "df.head()"
   ]
  },
  {
   "cell_type": "code",
   "execution_count": 19,
   "metadata": {},
   "outputs": [
    {
     "data": {
      "text/plain": [
       "Index               80000\n",
       "id                  80000\n",
       "original_date       80000\n",
       "source              80000\n",
       "brief_title         80000\n",
       "condition           80000\n",
       "full_description    80000\n",
       "summary             80000\n",
       "full_date           80000\n",
       "year                80000\n",
       "dtype: int64"
      ]
     },
     "execution_count": 19,
     "metadata": {},
     "output_type": "execute_result"
    }
   ],
   "source": [
    "df.memory_usage()"
   ]
  },
  {
   "cell_type": "markdown",
   "metadata": {},
   "source": [
    "## Export dataframe as csv"
   ]
  },
  {
   "cell_type": "code",
   "execution_count": 20,
   "metadata": {},
   "outputs": [
    {
     "ename": "NameError",
     "evalue": "name 'csv' is not defined",
     "output_type": "error",
     "traceback": [
      "\u001b[0;31m---------------------------------------------------------------------------\u001b[0m",
      "\u001b[0;31mNameError\u001b[0m                                 Traceback (most recent call last)",
      "\u001b[0;32m<ipython-input-20-14fa62589946>\u001b[0m in \u001b[0;36m<module>\u001b[0;34m()\u001b[0m\n\u001b[1;32m      4\u001b[0m \u001b[0;34m\u001b[0m\u001b[0m\n\u001b[1;32m      5\u001b[0m \u001b[0;32mtry\u001b[0m\u001b[0;34m:\u001b[0m\u001b[0;34m\u001b[0m\u001b[0m\n\u001b[0;32m----> 6\u001b[0;31m     \u001b[0mos\u001b[0m\u001b[0;34m.\u001b[0m\u001b[0mmkdir\u001b[0m\u001b[0;34m(\u001b[0m\u001b[0mcsv\u001b[0m\u001b[0;34m)\u001b[0m\u001b[0;34m\u001b[0m\u001b[0m\n\u001b[0m\u001b[1;32m      7\u001b[0m     \u001b[0mprint\u001b[0m\u001b[0;34m(\u001b[0m\u001b[0;34m'{} created'\u001b[0m\u001b[0;34m.\u001b[0m\u001b[0mformat\u001b[0m\u001b[0;34m(\u001b[0m\u001b[0mcsv\u001b[0m\u001b[0;34m)\u001b[0m\u001b[0;34m)\u001b[0m\u001b[0;34m\u001b[0m\u001b[0m\n\u001b[1;32m      8\u001b[0m \u001b[0;32mexcept\u001b[0m \u001b[0mIOError\u001b[0m \u001b[0;32mas\u001b[0m \u001b[0me\u001b[0m\u001b[0;34m:\u001b[0m\u001b[0;34m\u001b[0m\u001b[0m\n",
      "\u001b[0;31mNameError\u001b[0m: name 'csv' is not defined"
     ]
    }
   ],
   "source": [
    "# Export dataframe as csv file\n",
    "\n",
    "path_to_csv = os.path.abspath('../data/csv/')\n",
    "\n",
    "try:\n",
    "    os.mkdir(csv)\n",
    "    print('{} created'.format(csv))\n",
    "except IOError as e:\n",
    "    print(e)\n",
    "    pass\n",
    "\n",
    "\n"
   ]
  },
  {
   "cell_type": "code",
   "execution_count": 21,
   "metadata": {},
   "outputs": [],
   "source": [
    "csv_file = '/clean_data.csv'\n",
    "df.to_csv(path_to_csv + csv_file)"
   ]
  },
  {
   "cell_type": "code",
   "execution_count": null,
   "metadata": {},
   "outputs": [],
   "source": []
  }
 ],
 "metadata": {
  "kernelspec": {
   "display_name": "Python 3",
   "language": "python",
   "name": "python3"
  },
  "language_info": {
   "codemirror_mode": {
    "name": "ipython",
    "version": 3
   },
   "file_extension": ".py",
   "mimetype": "text/x-python",
   "name": "python",
   "nbconvert_exporter": "python",
   "pygments_lexer": "ipython3",
   "version": "3.7.0"
  }
 },
 "nbformat": 4,
 "nbformat_minor": 2
}
