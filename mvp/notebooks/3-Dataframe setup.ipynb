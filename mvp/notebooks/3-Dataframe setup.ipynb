{
 "cells": [
  {
   "cell_type": "markdown",
   "metadata": {},
   "source": [
    "# Clinical trials: Dataframe setup\n"
   ]
  },
  {
   "cell_type": "code",
   "execution_count": 1,
   "metadata": {},
   "outputs": [],
   "source": [
    "import time\n",
    "import json\n",
    "import os\n",
    "import pandas as pd\n",
    "import matplotlib.pyplot as plt"
   ]
  },
  {
   "cell_type": "code",
   "execution_count": 2,
   "metadata": {},
   "outputs": [],
   "source": [
    "base_color = \"#3298D0\"\n",
    "plot_size = (14, 10)"
   ]
  },
  {
   "cell_type": "code",
   "execution_count": 3,
   "metadata": {},
   "outputs": [],
   "source": [
    "# Path for json folder & file\n",
    "path_to_json_file = os.path.abspath('../data/json/')\n",
    "\n",
    "# json file\n",
    "json_file = '/all_trials_json' #name json file  "
   ]
  },
  {
   "cell_type": "markdown",
   "metadata": {},
   "source": [
    "## Import json file in a dataframe/sframe"
   ]
  },
  {
   "cell_type": "code",
   "execution_count": 4,
   "metadata": {},
   "outputs": [],
   "source": [
    "# Import json into a dataframe\n",
    "file = '{}{}.json'.format(path_to_json_file, json_file)"
   ]
  },
  {
   "cell_type": "code",
   "execution_count": 5,
   "metadata": {},
   "outputs": [],
   "source": [
    "# breaks with large json file\n",
    "df = pd.read_json(file)"
   ]
  },
  {
   "cell_type": "markdown",
   "metadata": {},
   "source": [
    "## Basic data cleaning"
   ]
  },
  {
   "cell_type": "code",
   "execution_count": 6,
   "metadata": {},
   "outputs": [
    {
     "name": "stdout",
     "output_type": "stream",
     "text": [
      "<class 'pandas.core.frame.DataFrame'>\n",
      "RangeIndex: 50 entries, 0 to 49\n",
      "Data columns (total 7 columns):\n",
      "nct_id                            50 non-null object\n",
      "study_first_submitted             50 non-null object\n",
      "source                            50 non-null object\n",
      "brief_title                       50 non-null object\n",
      "condition                         50 non-null object\n",
      "detailed_description/textblock    50 non-null object\n",
      "brief_summary/textblock           50 non-null object\n",
      "dtypes: object(7)\n",
      "memory usage: 2.8+ KB\n"
     ]
    }
   ],
   "source": [
    "#Check data\n",
    "df.info()"
   ]
  },
  {
   "cell_type": "code",
   "execution_count": 7,
   "metadata": {},
   "outputs": [
    {
     "data": {
      "text/html": [
       "<div>\n",
       "<style scoped>\n",
       "    .dataframe tbody tr th:only-of-type {\n",
       "        vertical-align: middle;\n",
       "    }\n",
       "\n",
       "    .dataframe tbody tr th {\n",
       "        vertical-align: top;\n",
       "    }\n",
       "\n",
       "    .dataframe thead th {\n",
       "        text-align: right;\n",
       "    }\n",
       "</style>\n",
       "<table border=\"1\" class=\"dataframe\">\n",
       "  <thead>\n",
       "    <tr style=\"text-align: right;\">\n",
       "      <th></th>\n",
       "      <th>nct_id</th>\n",
       "      <th>study_first_submitted</th>\n",
       "      <th>source</th>\n",
       "      <th>brief_title</th>\n",
       "      <th>condition</th>\n",
       "      <th>detailed_description/textblock</th>\n",
       "      <th>brief_summary/textblock</th>\n",
       "    </tr>\n",
       "  </thead>\n",
       "  <tbody>\n",
       "    <tr>\n",
       "      <th>0</th>\n",
       "      <td>NCT02750033</td>\n",
       "      <td>April 20, 2016</td>\n",
       "      <td>Seton Healthcare Family</td>\n",
       "      <td>Intraoperative Margin Assessment During Mohs S...</td>\n",
       "      <td>Squamous Cell Carcinoma (SCC)</td>\n",
       "      <td>\\n      Acquire intraoperative MMS measurement...</td>\n",
       "      <td>\\n      The research team will develop an intr...</td>\n",
       "    </tr>\n",
       "    <tr>\n",
       "      <th>1</th>\n",
       "      <td>NCT01587092</td>\n",
       "      <td>April 25, 2012</td>\n",
       "      <td>Pennington Biomedical Research Center</td>\n",
       "      <td>Workstation Pilot Study</td>\n",
       "      <td>Obesity</td>\n",
       "      <td>\\n      Eligible participants will be randomiz...</td>\n",
       "      <td>\\n      This is a pilot study to assess the fe...</td>\n",
       "    </tr>\n",
       "    <tr>\n",
       "      <th>2</th>\n",
       "      <td>NCT01813695</td>\n",
       "      <td>March 11, 2013</td>\n",
       "      <td>Children's Hospital Medical Center, Cincinnati</td>\n",
       "      <td>Preemptive Genotyping and Pain Management</td>\n",
       "      <td>Pain</td>\n",
       "      <td>\\n      Purpose: To determine the feasibility ...</td>\n",
       "      <td>\\n      The purpose of this study is to see if...</td>\n",
       "    </tr>\n",
       "    <tr>\n",
       "      <th>3</th>\n",
       "      <td>NCT03647059</td>\n",
       "      <td>August 9, 2018</td>\n",
       "      <td>Shanghai General Hospital, Shanghai Jiao Tong ...</td>\n",
       "      <td>Rapid Assessment of Donor Liver Quality</td>\n",
       "      <td>Transplant; Failure, Liver</td>\n",
       "      <td>None</td>\n",
       "      <td>\\n      Aims：\\n\\n        1. Conduct multi-cent...</td>\n",
       "    </tr>\n",
       "    <tr>\n",
       "      <th>4</th>\n",
       "      <td>NCT00038025</td>\n",
       "      <td>May 24, 2002</td>\n",
       "      <td>M.D. Anderson Cancer Center</td>\n",
       "      <td>A Study Of Deoxycoformycin(DCF)/Pentostatin In...</td>\n",
       "      <td>Peripheral T-cell Lymphoma</td>\n",
       "      <td>\\n      Deoxycoformycin(DCF)/Pentostatin is a ...</td>\n",
       "      <td>\\n      The purpose of this study is to determ...</td>\n",
       "    </tr>\n",
       "  </tbody>\n",
       "</table>\n",
       "</div>"
      ],
      "text/plain": [
       "        nct_id study_first_submitted  \\\n",
       "0  NCT02750033        April 20, 2016   \n",
       "1  NCT01587092        April 25, 2012   \n",
       "2  NCT01813695        March 11, 2013   \n",
       "3  NCT03647059        August 9, 2018   \n",
       "4  NCT00038025          May 24, 2002   \n",
       "\n",
       "                                              source  \\\n",
       "0                            Seton Healthcare Family   \n",
       "1              Pennington Biomedical Research Center   \n",
       "2     Children's Hospital Medical Center, Cincinnati   \n",
       "3  Shanghai General Hospital, Shanghai Jiao Tong ...   \n",
       "4                        M.D. Anderson Cancer Center   \n",
       "\n",
       "                                         brief_title  \\\n",
       "0  Intraoperative Margin Assessment During Mohs S...   \n",
       "1                            Workstation Pilot Study   \n",
       "2          Preemptive Genotyping and Pain Management   \n",
       "3            Rapid Assessment of Donor Liver Quality   \n",
       "4  A Study Of Deoxycoformycin(DCF)/Pentostatin In...   \n",
       "\n",
       "                       condition  \\\n",
       "0  Squamous Cell Carcinoma (SCC)   \n",
       "1                        Obesity   \n",
       "2                           Pain   \n",
       "3     Transplant; Failure, Liver   \n",
       "4     Peripheral T-cell Lymphoma   \n",
       "\n",
       "                      detailed_description/textblock  \\\n",
       "0  \\n      Acquire intraoperative MMS measurement...   \n",
       "1  \\n      Eligible participants will be randomiz...   \n",
       "2  \\n      Purpose: To determine the feasibility ...   \n",
       "3                                               None   \n",
       "4  \\n      Deoxycoformycin(DCF)/Pentostatin is a ...   \n",
       "\n",
       "                             brief_summary/textblock  \n",
       "0  \\n      The research team will develop an intr...  \n",
       "1  \\n      This is a pilot study to assess the fe...  \n",
       "2  \\n      The purpose of this study is to see if...  \n",
       "3  \\n      Aims：\\n\\n        1. Conduct multi-cent...  \n",
       "4  \\n      The purpose of this study is to determ...  "
      ]
     },
     "execution_count": 7,
     "metadata": {},
     "output_type": "execute_result"
    }
   ],
   "source": [
    "df.head()"
   ]
  },
  {
   "cell_type": "code",
   "execution_count": 8,
   "metadata": {},
   "outputs": [],
   "source": [
    "# remove \\n values\n",
    "df = df.replace(r'\\n',' ', regex=True) "
   ]
  },
  {
   "cell_type": "code",
   "execution_count": 9,
   "metadata": {},
   "outputs": [
    {
     "data": {
      "text/html": [
       "<div>\n",
       "<style scoped>\n",
       "    .dataframe tbody tr th:only-of-type {\n",
       "        vertical-align: middle;\n",
       "    }\n",
       "\n",
       "    .dataframe tbody tr th {\n",
       "        vertical-align: top;\n",
       "    }\n",
       "\n",
       "    .dataframe thead th {\n",
       "        text-align: right;\n",
       "    }\n",
       "</style>\n",
       "<table border=\"1\" class=\"dataframe\">\n",
       "  <thead>\n",
       "    <tr style=\"text-align: right;\">\n",
       "      <th></th>\n",
       "      <th>nct_id</th>\n",
       "      <th>study_first_submitted</th>\n",
       "      <th>source</th>\n",
       "      <th>brief_title</th>\n",
       "      <th>condition</th>\n",
       "      <th>detailed_description/textblock</th>\n",
       "      <th>brief_summary/textblock</th>\n",
       "    </tr>\n",
       "  </thead>\n",
       "  <tbody>\n",
       "    <tr>\n",
       "      <th>0</th>\n",
       "      <td>NCT02750033</td>\n",
       "      <td>April 20, 2016</td>\n",
       "      <td>Seton Healthcare Family</td>\n",
       "      <td>Intraoperative Margin Assessment During Mohs S...</td>\n",
       "      <td>Squamous Cell Carcinoma (SCC)</td>\n",
       "      <td>Acquire intraoperative MMS measurements...</td>\n",
       "      <td>The research team will develop an intra...</td>\n",
       "    </tr>\n",
       "    <tr>\n",
       "      <th>1</th>\n",
       "      <td>NCT01587092</td>\n",
       "      <td>April 25, 2012</td>\n",
       "      <td>Pennington Biomedical Research Center</td>\n",
       "      <td>Workstation Pilot Study</td>\n",
       "      <td>Obesity</td>\n",
       "      <td>Eligible participants will be randomize...</td>\n",
       "      <td>This is a pilot study to assess the fea...</td>\n",
       "    </tr>\n",
       "    <tr>\n",
       "      <th>2</th>\n",
       "      <td>NCT01813695</td>\n",
       "      <td>March 11, 2013</td>\n",
       "      <td>Children's Hospital Medical Center, Cincinnati</td>\n",
       "      <td>Preemptive Genotyping and Pain Management</td>\n",
       "      <td>Pain</td>\n",
       "      <td>Purpose: To determine the feasibility o...</td>\n",
       "      <td>The purpose of this study is to see if ...</td>\n",
       "    </tr>\n",
       "    <tr>\n",
       "      <th>3</th>\n",
       "      <td>NCT03647059</td>\n",
       "      <td>August 9, 2018</td>\n",
       "      <td>Shanghai General Hospital, Shanghai Jiao Tong ...</td>\n",
       "      <td>Rapid Assessment of Donor Liver Quality</td>\n",
       "      <td>Transplant; Failure, Liver</td>\n",
       "      <td>None</td>\n",
       "      <td>Aims：          1. Conduct multi-center,...</td>\n",
       "    </tr>\n",
       "    <tr>\n",
       "      <th>4</th>\n",
       "      <td>NCT00038025</td>\n",
       "      <td>May 24, 2002</td>\n",
       "      <td>M.D. Anderson Cancer Center</td>\n",
       "      <td>A Study Of Deoxycoformycin(DCF)/Pentostatin In...</td>\n",
       "      <td>Peripheral T-cell Lymphoma</td>\n",
       "      <td>Deoxycoformycin(DCF)/Pentostatin is a T...</td>\n",
       "      <td>The purpose of this study is to determi...</td>\n",
       "    </tr>\n",
       "  </tbody>\n",
       "</table>\n",
       "</div>"
      ],
      "text/plain": [
       "        nct_id study_first_submitted  \\\n",
       "0  NCT02750033        April 20, 2016   \n",
       "1  NCT01587092        April 25, 2012   \n",
       "2  NCT01813695        March 11, 2013   \n",
       "3  NCT03647059        August 9, 2018   \n",
       "4  NCT00038025          May 24, 2002   \n",
       "\n",
       "                                              source  \\\n",
       "0                            Seton Healthcare Family   \n",
       "1              Pennington Biomedical Research Center   \n",
       "2     Children's Hospital Medical Center, Cincinnati   \n",
       "3  Shanghai General Hospital, Shanghai Jiao Tong ...   \n",
       "4                        M.D. Anderson Cancer Center   \n",
       "\n",
       "                                         brief_title  \\\n",
       "0  Intraoperative Margin Assessment During Mohs S...   \n",
       "1                            Workstation Pilot Study   \n",
       "2          Preemptive Genotyping and Pain Management   \n",
       "3            Rapid Assessment of Donor Liver Quality   \n",
       "4  A Study Of Deoxycoformycin(DCF)/Pentostatin In...   \n",
       "\n",
       "                       condition  \\\n",
       "0  Squamous Cell Carcinoma (SCC)   \n",
       "1                        Obesity   \n",
       "2                           Pain   \n",
       "3     Transplant; Failure, Liver   \n",
       "4     Peripheral T-cell Lymphoma   \n",
       "\n",
       "                      detailed_description/textblock  \\\n",
       "0         Acquire intraoperative MMS measurements...   \n",
       "1         Eligible participants will be randomize...   \n",
       "2         Purpose: To determine the feasibility o...   \n",
       "3                                               None   \n",
       "4         Deoxycoformycin(DCF)/Pentostatin is a T...   \n",
       "\n",
       "                             brief_summary/textblock  \n",
       "0         The research team will develop an intra...  \n",
       "1         This is a pilot study to assess the fea...  \n",
       "2         The purpose of this study is to see if ...  \n",
       "3         Aims：          1. Conduct multi-center,...  \n",
       "4         The purpose of this study is to determi...  "
      ]
     },
     "execution_count": 9,
     "metadata": {},
     "output_type": "execute_result"
    }
   ],
   "source": [
    "df.head(5)"
   ]
  },
  {
   "cell_type": "code",
   "execution_count": 11,
   "metadata": {},
   "outputs": [],
   "source": [
    "# Rename columns\n",
    "df.columns = ['id', 'submission_date','source', 'brief_title', 'condition', 'full_description', 'summary']"
   ]
  },
  {
   "cell_type": "code",
   "execution_count": 12,
   "metadata": {},
   "outputs": [
    {
     "data": {
      "text/html": [
       "<div>\n",
       "<style scoped>\n",
       "    .dataframe tbody tr th:only-of-type {\n",
       "        vertical-align: middle;\n",
       "    }\n",
       "\n",
       "    .dataframe tbody tr th {\n",
       "        vertical-align: top;\n",
       "    }\n",
       "\n",
       "    .dataframe thead th {\n",
       "        text-align: right;\n",
       "    }\n",
       "</style>\n",
       "<table border=\"1\" class=\"dataframe\">\n",
       "  <thead>\n",
       "    <tr style=\"text-align: right;\">\n",
       "      <th></th>\n",
       "      <th>id</th>\n",
       "      <th>submission_date</th>\n",
       "      <th>source</th>\n",
       "      <th>brief_title</th>\n",
       "      <th>condition</th>\n",
       "      <th>full_description</th>\n",
       "      <th>summary</th>\n",
       "    </tr>\n",
       "  </thead>\n",
       "  <tbody>\n",
       "    <tr>\n",
       "      <th>0</th>\n",
       "      <td>NCT02750033</td>\n",
       "      <td>April 20, 2016</td>\n",
       "      <td>Seton Healthcare Family</td>\n",
       "      <td>Intraoperative Margin Assessment During Mohs S...</td>\n",
       "      <td>Squamous Cell Carcinoma (SCC)</td>\n",
       "      <td>Acquire intraoperative MMS measurements...</td>\n",
       "      <td>The research team will develop an intra...</td>\n",
       "    </tr>\n",
       "    <tr>\n",
       "      <th>1</th>\n",
       "      <td>NCT01587092</td>\n",
       "      <td>April 25, 2012</td>\n",
       "      <td>Pennington Biomedical Research Center</td>\n",
       "      <td>Workstation Pilot Study</td>\n",
       "      <td>Obesity</td>\n",
       "      <td>Eligible participants will be randomize...</td>\n",
       "      <td>This is a pilot study to assess the fea...</td>\n",
       "    </tr>\n",
       "    <tr>\n",
       "      <th>2</th>\n",
       "      <td>NCT01813695</td>\n",
       "      <td>March 11, 2013</td>\n",
       "      <td>Children's Hospital Medical Center, Cincinnati</td>\n",
       "      <td>Preemptive Genotyping and Pain Management</td>\n",
       "      <td>Pain</td>\n",
       "      <td>Purpose: To determine the feasibility o...</td>\n",
       "      <td>The purpose of this study is to see if ...</td>\n",
       "    </tr>\n",
       "    <tr>\n",
       "      <th>3</th>\n",
       "      <td>NCT03647059</td>\n",
       "      <td>August 9, 2018</td>\n",
       "      <td>Shanghai General Hospital, Shanghai Jiao Tong ...</td>\n",
       "      <td>Rapid Assessment of Donor Liver Quality</td>\n",
       "      <td>Transplant; Failure, Liver</td>\n",
       "      <td>None</td>\n",
       "      <td>Aims：          1. Conduct multi-center,...</td>\n",
       "    </tr>\n",
       "    <tr>\n",
       "      <th>4</th>\n",
       "      <td>NCT00038025</td>\n",
       "      <td>May 24, 2002</td>\n",
       "      <td>M.D. Anderson Cancer Center</td>\n",
       "      <td>A Study Of Deoxycoformycin(DCF)/Pentostatin In...</td>\n",
       "      <td>Peripheral T-cell Lymphoma</td>\n",
       "      <td>Deoxycoformycin(DCF)/Pentostatin is a T...</td>\n",
       "      <td>The purpose of this study is to determi...</td>\n",
       "    </tr>\n",
       "  </tbody>\n",
       "</table>\n",
       "</div>"
      ],
      "text/plain": [
       "            id submission_date  \\\n",
       "0  NCT02750033  April 20, 2016   \n",
       "1  NCT01587092  April 25, 2012   \n",
       "2  NCT01813695  March 11, 2013   \n",
       "3  NCT03647059  August 9, 2018   \n",
       "4  NCT00038025    May 24, 2002   \n",
       "\n",
       "                                              source  \\\n",
       "0                            Seton Healthcare Family   \n",
       "1              Pennington Biomedical Research Center   \n",
       "2     Children's Hospital Medical Center, Cincinnati   \n",
       "3  Shanghai General Hospital, Shanghai Jiao Tong ...   \n",
       "4                        M.D. Anderson Cancer Center   \n",
       "\n",
       "                                         brief_title  \\\n",
       "0  Intraoperative Margin Assessment During Mohs S...   \n",
       "1                            Workstation Pilot Study   \n",
       "2          Preemptive Genotyping and Pain Management   \n",
       "3            Rapid Assessment of Donor Liver Quality   \n",
       "4  A Study Of Deoxycoformycin(DCF)/Pentostatin In...   \n",
       "\n",
       "                       condition  \\\n",
       "0  Squamous Cell Carcinoma (SCC)   \n",
       "1                        Obesity   \n",
       "2                           Pain   \n",
       "3     Transplant; Failure, Liver   \n",
       "4     Peripheral T-cell Lymphoma   \n",
       "\n",
       "                                    full_description  \\\n",
       "0         Acquire intraoperative MMS measurements...   \n",
       "1         Eligible participants will be randomize...   \n",
       "2         Purpose: To determine the feasibility o...   \n",
       "3                                               None   \n",
       "4         Deoxycoformycin(DCF)/Pentostatin is a T...   \n",
       "\n",
       "                                             summary  \n",
       "0         The research team will develop an intra...  \n",
       "1         This is a pilot study to assess the fea...  \n",
       "2         The purpose of this study is to see if ...  \n",
       "3         Aims：          1. Conduct multi-center,...  \n",
       "4         The purpose of this study is to determi...  "
      ]
     },
     "execution_count": 12,
     "metadata": {},
     "output_type": "execute_result"
    }
   ],
   "source": [
    "df.head()"
   ]
  },
  {
   "cell_type": "markdown",
   "metadata": {},
   "source": [
    "## Add new date columns"
   ]
  },
  {
   "cell_type": "code",
   "execution_count": 13,
   "metadata": {},
   "outputs": [
    {
     "name": "stdout",
     "output_type": "stream",
     "text": [
      "CPU times: user 9.58 ms, sys: 300 µs, total: 9.88 ms\n",
      "Wall time: 9.77 ms\n"
     ]
    }
   ],
   "source": [
    "# Create new column: study_first_submitted as dates\n",
    "%time df['full_date'] = pd.to_datetime(df['submission_date'])"
   ]
  },
  {
   "cell_type": "code",
   "execution_count": 14,
   "metadata": {},
   "outputs": [],
   "source": [
    "# Create new column: dates as year\n",
    "df['year'] = df['full_date'].dt.year"
   ]
  },
  {
   "cell_type": "code",
   "execution_count": 15,
   "metadata": {},
   "outputs": [],
   "source": [
    "# Sort records by date\n",
    "df = df.sort_values(by ='full_date')"
   ]
  },
  {
   "cell_type": "code",
   "execution_count": 16,
   "metadata": {},
   "outputs": [
    {
     "data": {
      "text/html": [
       "<div>\n",
       "<style scoped>\n",
       "    .dataframe tbody tr th:only-of-type {\n",
       "        vertical-align: middle;\n",
       "    }\n",
       "\n",
       "    .dataframe tbody tr th {\n",
       "        vertical-align: top;\n",
       "    }\n",
       "\n",
       "    .dataframe thead th {\n",
       "        text-align: right;\n",
       "    }\n",
       "</style>\n",
       "<table border=\"1\" class=\"dataframe\">\n",
       "  <thead>\n",
       "    <tr style=\"text-align: right;\">\n",
       "      <th></th>\n",
       "      <th>id</th>\n",
       "      <th>submission_date</th>\n",
       "      <th>source</th>\n",
       "      <th>brief_title</th>\n",
       "      <th>condition</th>\n",
       "      <th>full_description</th>\n",
       "      <th>summary</th>\n",
       "      <th>full_date</th>\n",
       "      <th>year</th>\n",
       "    </tr>\n",
       "  </thead>\n",
       "  <tbody>\n",
       "    <tr>\n",
       "      <th>20</th>\n",
       "      <td>NCT00002734</td>\n",
       "      <td>November 1, 1999</td>\n",
       "      <td>National Cancer Institute (NCI)</td>\n",
       "      <td>Radiolabeled Monoclonal Antibody, Paclitaxel, ...</td>\n",
       "      <td>Ovarian Cancer</td>\n",
       "      <td>OBJECTIVES:        I. Determine the max...</td>\n",
       "      <td>Phase I trial to study the effectivenes...</td>\n",
       "      <td>1999-11-01</td>\n",
       "      <td>1999</td>\n",
       "    </tr>\n",
       "    <tr>\n",
       "      <th>47</th>\n",
       "      <td>NCT00011284</td>\n",
       "      <td>February 15, 2001</td>\n",
       "      <td>National Institute of Environmental Health Sci...</td>\n",
       "      <td>Mechanisms of Inflammatory Liver Injury</td>\n",
       "      <td>Liver Diseases</td>\n",
       "      <td>Neutrophils will be isolated from norma...</td>\n",
       "      <td>White blood cells can cause liver damag...</td>\n",
       "      <td>2001-02-15</td>\n",
       "      <td>2001</td>\n",
       "    </tr>\n",
       "    <tr>\n",
       "      <th>16</th>\n",
       "      <td>NCT00023504</td>\n",
       "      <td>September 7, 2001</td>\n",
       "      <td>National Institutes of Health Clinical Center ...</td>\n",
       "      <td>Antibody Production in Immune Disorders</td>\n",
       "      <td>Immunologic Disease</td>\n",
       "      <td>The purpose of this study is to evaluat...</td>\n",
       "      <td>This study will evaluate immune functio...</td>\n",
       "      <td>2001-09-07</td>\n",
       "      <td>2001</td>\n",
       "    </tr>\n",
       "    <tr>\n",
       "      <th>4</th>\n",
       "      <td>NCT00038025</td>\n",
       "      <td>May 24, 2002</td>\n",
       "      <td>M.D. Anderson Cancer Center</td>\n",
       "      <td>A Study Of Deoxycoformycin(DCF)/Pentostatin In...</td>\n",
       "      <td>Peripheral T-cell Lymphoma</td>\n",
       "      <td>Deoxycoformycin(DCF)/Pentostatin is a T...</td>\n",
       "      <td>The purpose of this study is to determi...</td>\n",
       "      <td>2002-05-24</td>\n",
       "      <td>2002</td>\n",
       "    </tr>\n",
       "    <tr>\n",
       "      <th>28</th>\n",
       "      <td>NCT00253292</td>\n",
       "      <td>November 11, 2005</td>\n",
       "      <td>Massachusetts General Hospital</td>\n",
       "      <td>Psychometric Study of Outcomes Instruments</td>\n",
       "      <td>Burns</td>\n",
       "      <td>Identifying young adult burned patients...</td>\n",
       "      <td>The purpose of this study is to develop...</td>\n",
       "      <td>2005-11-11</td>\n",
       "      <td>2005</td>\n",
       "    </tr>\n",
       "  </tbody>\n",
       "</table>\n",
       "</div>"
      ],
      "text/plain": [
       "             id    submission_date  \\\n",
       "20  NCT00002734   November 1, 1999   \n",
       "47  NCT00011284  February 15, 2001   \n",
       "16  NCT00023504  September 7, 2001   \n",
       "4   NCT00038025       May 24, 2002   \n",
       "28  NCT00253292  November 11, 2005   \n",
       "\n",
       "                                               source  \\\n",
       "20                    National Cancer Institute (NCI)   \n",
       "47  National Institute of Environmental Health Sci...   \n",
       "16  National Institutes of Health Clinical Center ...   \n",
       "4                         M.D. Anderson Cancer Center   \n",
       "28                     Massachusetts General Hospital   \n",
       "\n",
       "                                          brief_title  \\\n",
       "20  Radiolabeled Monoclonal Antibody, Paclitaxel, ...   \n",
       "47            Mechanisms of Inflammatory Liver Injury   \n",
       "16            Antibody Production in Immune Disorders   \n",
       "4   A Study Of Deoxycoformycin(DCF)/Pentostatin In...   \n",
       "28         Psychometric Study of Outcomes Instruments   \n",
       "\n",
       "                     condition  \\\n",
       "20              Ovarian Cancer   \n",
       "47              Liver Diseases   \n",
       "16         Immunologic Disease   \n",
       "4   Peripheral T-cell Lymphoma   \n",
       "28                       Burns   \n",
       "\n",
       "                                     full_description  \\\n",
       "20         OBJECTIVES:        I. Determine the max...   \n",
       "47         Neutrophils will be isolated from norma...   \n",
       "16         The purpose of this study is to evaluat...   \n",
       "4          Deoxycoformycin(DCF)/Pentostatin is a T...   \n",
       "28         Identifying young adult burned patients...   \n",
       "\n",
       "                                              summary  full_date  year  \n",
       "20         Phase I trial to study the effectivenes... 1999-11-01  1999  \n",
       "47         White blood cells can cause liver damag... 2001-02-15  2001  \n",
       "16         This study will evaluate immune functio... 2001-09-07  2001  \n",
       "4          The purpose of this study is to determi... 2002-05-24  2002  \n",
       "28         The purpose of this study is to develop... 2005-11-11  2005  "
      ]
     },
     "execution_count": 16,
     "metadata": {},
     "output_type": "execute_result"
    }
   ],
   "source": [
    "df.head()"
   ]
  },
  {
   "cell_type": "code",
   "execution_count": 18,
   "metadata": {},
   "outputs": [
    {
     "name": "stdout",
     "output_type": "stream",
     "text": [
      "<class 'pandas.core.frame.DataFrame'>\n",
      "Int64Index: 50 entries, 20 to 17\n",
      "Data columns (total 9 columns):\n",
      "id                  50 non-null object\n",
      "submission_date     50 non-null object\n",
      "source              50 non-null object\n",
      "brief_title         50 non-null object\n",
      "condition           50 non-null object\n",
      "full_description    50 non-null object\n",
      "summary             50 non-null object\n",
      "full_date           50 non-null datetime64[ns]\n",
      "year                50 non-null int64\n",
      "dtypes: datetime64[ns](1), int64(1), object(7)\n",
      "memory usage: 3.9+ KB\n"
     ]
    }
   ],
   "source": [
    "df.info()"
   ]
  },
  {
   "cell_type": "code",
   "execution_count": 17,
   "metadata": {},
   "outputs": [
    {
     "data": {
      "text/plain": [
       "Index               400\n",
       "id                  400\n",
       "submission_date     400\n",
       "source              400\n",
       "brief_title         400\n",
       "condition           400\n",
       "full_description    400\n",
       "summary             400\n",
       "full_date           400\n",
       "year                400\n",
       "dtype: int64"
      ]
     },
     "execution_count": 17,
     "metadata": {},
     "output_type": "execute_result"
    }
   ],
   "source": [
    "df.memory_usage()"
   ]
  },
  {
   "cell_type": "markdown",
   "metadata": {},
   "source": [
    "## Optimize memory"
   ]
  },
  {
   "cell_type": "code",
   "execution_count": null,
   "metadata": {},
   "outputs": [],
   "source": [
    "# change data types"
   ]
  },
  {
   "cell_type": "markdown",
   "metadata": {},
   "source": [
    "## Add new columns based on MESH terms"
   ]
  },
  {
   "cell_type": "code",
   "execution_count": null,
   "metadata": {},
   "outputs": [],
   "source": []
  },
  {
   "cell_type": "markdown",
   "metadata": {},
   "source": [
    "## Export dataframe as csv"
   ]
  },
  {
   "cell_type": "code",
   "execution_count": null,
   "metadata": {},
   "outputs": [],
   "source": [
    "# Export dataframe as csv file\n",
    "\n",
    "path_to_csv = os.path.abspath('../data/csv/')\n",
    "\n",
    "try:\n",
    "    os.mkdir(path_to_csv)\n",
    "    print('{} created'.format(csv))\n",
    "except IOError as e:\n",
    "    print(e)\n",
    "    pass\n",
    "\n",
    "\n"
   ]
  },
  {
   "cell_type": "code",
   "execution_count": null,
   "metadata": {},
   "outputs": [],
   "source": [
    "csv_file = '/clean_data.csv'\n",
    "df.to_csv(path_to_csv + csv_file)"
   ]
  },
  {
   "cell_type": "code",
   "execution_count": null,
   "metadata": {},
   "outputs": [],
   "source": []
  }
 ],
 "metadata": {
  "kernelspec": {
   "display_name": "Python 3",
   "language": "python",
   "name": "python3"
  },
  "language_info": {
   "codemirror_mode": {
    "name": "ipython",
    "version": 3
   },
   "file_extension": ".py",
   "mimetype": "text/x-python",
   "name": "python",
   "nbconvert_exporter": "python",
   "pygments_lexer": "ipython3",
   "version": "3.7.0"
  }
 },
 "nbformat": 4,
 "nbformat_minor": 2
}
