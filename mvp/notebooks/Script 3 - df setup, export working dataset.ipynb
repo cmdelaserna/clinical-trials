{
 "cells": [
  {
   "cell_type": "markdown",
   "metadata": {},
   "source": [
    "# Prepare working db\n",
    "- Load data\n",
    "- df cleaning\n",
    "- Create label for recruting status\n",
    "- Export full dataset to sqlite"
   ]
  },
  {
   "cell_type": "code",
   "execution_count": 1,
   "metadata": {},
   "outputs": [],
   "source": [
    "import json, os\n",
    "import numpy as np\n",
    "import pandas as pd\n",
    "import sqlite3\n",
    "import shutil\n",
    "import matplotlib.pyplot as plt\n",
    "# import nltk"
   ]
  },
  {
   "cell_type": "markdown",
   "metadata": {},
   "source": [
    "## Load json file with parsed information"
   ]
  },
  {
   "cell_type": "code",
   "execution_count": 2,
   "metadata": {},
   "outputs": [],
   "source": [
    "# paths\n",
    "path_to_json_file = os.path.abspath('../data/json/')\n",
    "\n",
    "### json file\n",
    "# json_file = '/all_parsed_data_json' #name json file  \n",
    "json_file = '/sample_json' #sample json file for testing  \n",
    "\n",
    "file = '{}{}.json'.format(path_to_json_file, json_file)"
   ]
  },
  {
   "cell_type": "code",
   "execution_count": 3,
   "metadata": {},
   "outputs": [],
   "source": [
    "# load json file\n",
    "df = pd.read_json(file)"
   ]
  },
  {
   "cell_type": "code",
   "execution_count": 4,
   "metadata": {},
   "outputs": [],
   "source": [
    "# Display full dataframe\n",
    "# pd.set_option('display.max_rows', 50)\n",
    "# pd.set_option('display.max_columns', 50)\n",
    "# pd.set_option('display.width', 1000)"
   ]
  },
  {
   "cell_type": "code",
   "execution_count": 5,
   "metadata": {
    "scrolled": false
   },
   "outputs": [
    {
     "data": {
      "text/plain": [
       "(5984, 24)"
      ]
     },
     "execution_count": 5,
     "metadata": {},
     "output_type": "execute_result"
    }
   ],
   "source": [
    "# Check data\n",
    "df.shape"
   ]
  },
  {
   "cell_type": "code",
   "execution_count": null,
   "metadata": {},
   "outputs": [],
   "source": [
    "# Remove all_files folder\n",
    "path_to_all_files = os.path.abspath('../data/all_trials//')\n",
    "\n",
    "def remove_extra_folders(folder):\n",
    "    try:\n",
    "        shutil.rmtree(folder)\n",
    "        print(\"\\nunzip folder deleted\")\n",
    "    except IOError as e:\n",
    "        print(e)\n",
    "        pass"
   ]
  },
  {
   "cell_type": "code",
   "execution_count": null,
   "metadata": {},
   "outputs": [],
   "source": [
    "%time remove_extra_folders(path_to_all_files)"
   ]
  },
  {
   "cell_type": "markdown",
   "metadata": {},
   "source": [
    "## Format dataset"
   ]
  },
  {
   "cell_type": "code",
   "execution_count": 6,
   "metadata": {},
   "outputs": [],
   "source": [
    "# function to change column type\n",
    "\n",
    "def data_types(dataframe, cols = [], to_type = ''):\n",
    "    for col in cols:\n",
    "        dataframe[col] = df[col].astype(to_type)\n",
    "        "
   ]
  },
  {
   "cell_type": "code",
   "execution_count": 7,
   "metadata": {},
   "outputs": [],
   "source": [
    "columns_dates = ['study_first_submitted', 'last_update_submitted', 'verification_date']\n",
    "data_types(df, columns_dates, 'datetime64')"
   ]
  },
  {
   "cell_type": "code",
   "execution_count": 8,
   "metadata": {},
   "outputs": [],
   "source": [
    "# Extract year \n",
    "df['year_submitted'] = df['study_first_submitted'].dt.year\n",
    "df['year_last_updated'] = df['last_update_submitted'].dt.year\n",
    "df['verification_year'] = df['verification_date'].dt.year"
   ]
  },
  {
   "cell_type": "code",
   "execution_count": 9,
   "metadata": {},
   "outputs": [],
   "source": [
    "# Remove unnecesary columns\n",
    "# df.drop(columns_dates, axis = 1, inplace=True)"
   ]
  },
  {
   "cell_type": "code",
   "execution_count": 10,
   "metadata": {},
   "outputs": [],
   "source": [
    "# columns_to_drop = ['study_first_posted', 'last_update_posted', 'verification_date']\n",
    "# df.drop(columns_to_drop, axis = 1, inplace=True)"
   ]
  },
  {
   "cell_type": "code",
   "execution_count": 11,
   "metadata": {},
   "outputs": [],
   "source": [
    "# Remove /n in all df\n",
    "df = df.replace(r'\\n',' ', regex=True)"
   ]
  },
  {
   "cell_type": "code",
   "execution_count": 12,
   "metadata": {},
   "outputs": [],
   "source": [
    "# Create new column for all text\n",
    "df['all_text'] = df['source'] + ' ' + df['brief_title'] + ' ' + df['condition'] + ' ' + df['condition_browse/mesh_term'] + ' '+ df['intervention_browse/mesh_term'] + ' '+ df['detailed_description/textblock'] + ' ' + df['brief_summary/textblock']\n",
    "\n",
    "# All_text in lowercase\n",
    "df['all_text'] = df['all_text'].str.lower()\n",
    "\n",
    "# remove extra whitespace\n",
    "df.all_text = df.all_text.replace('\\s+', ' ', regex=True)\n"
   ]
  },
  {
   "cell_type": "code",
   "execution_count": 13,
   "metadata": {},
   "outputs": [
    {
     "data": {
      "text/plain": [
       "' Primary objective: To evaluate the safety and tolerability of single and multiple ascending doses of PB1023 administered as a subcutaneous (SC) injection in adult subjects with T2DM. Secondary objectives: 1. To characterize the pharmacokinetic profile of PB1023 after single and multiple ascending doses of PB1023. 2. To assess the pharmacodynamic response of various single and multiple doses of PB1023 (daily fasting plasma glucose, and serial glucose, c-peptide and insulin levels in response to a liquid Mixed Meal Tolerance Test (MMTT). '"
      ]
     },
     "execution_count": 13,
     "metadata": {},
     "output_type": "execute_result"
    }
   ],
   "source": [
    "# Remove extra white space in summary\n",
    "df['brief_summary/textblock'] = df['brief_summary/textblock'].replace('\\s+', ' ', regex=True)\n",
    "df['brief_summary/textblock'][0]"
   ]
  },
  {
   "cell_type": "code",
   "execution_count": 14,
   "metadata": {},
   "outputs": [],
   "source": [
    "# # add url columns\n",
    "url_string = 'https://clinicaltrials.gov/ct2/show/'\n",
    "df['url'] = url_string + df['nct_id'].astype(str)"
   ]
  },
  {
   "cell_type": "markdown",
   "metadata": {},
   "source": [
    "## Recruiting status\n",
    "- Create criteria for filtering recruiting status\n",
    "- Create new column with labels"
   ]
  },
  {
   "cell_type": "code",
   "execution_count": 15,
   "metadata": {},
   "outputs": [
    {
     "data": {
      "text/plain": [
       "array(['Completed', 'Recruiting', 'Terminated', 'Not yet recruiting',\n",
       "       'Active, not recruiting', 'Withdrawn', 'Unknown status',\n",
       "       'Enrolling by invitation', 'Withheld', 'Suspended', 'Available',\n",
       "       'No longer available', 'Approved for marketing',\n",
       "       'Temporarily not available'], dtype=object)"
      ]
     },
     "execution_count": 15,
     "metadata": {},
     "output_type": "execute_result"
    }
   ],
   "source": [
    "''' Recruiting status \n",
    "0 - Not recruting, including all records not updated \n",
    "1 - Possibily recruiting. Define time range for category \n",
    "2 - Recruiting\n",
    "\n",
    "'''\n",
    "\n",
    "df.overall_status.unique()"
   ]
  },
  {
   "cell_type": "code",
   "execution_count": 16,
   "metadata": {},
   "outputs": [
    {
     "name": "stdout",
     "output_type": "stream",
     "text": [
      "Total of trials classified as recruiting: 1257\n",
      "Trials not verified in the last two years 2017-2019: 638\n"
     ]
    }
   ],
   "source": [
    "# Selecting open trials\n",
    "# https://clinicaltrials.gov/ct2/help/glossary/recruitment-status\n",
    "\n",
    "recruiting = df[(df['overall_status'] == \"Recruiting\") | \\\n",
    "                (df['overall_status'] == \"Not yet recruiting\") | \\\n",
    "                (df['overall_status'] == \"Available for expanded access\")]\n",
    "\n",
    "# Check recruiting studies\n",
    "print('Total of trials classified as recruiting: {}'.format(len(recruiting)))\n",
    "\n",
    "print('Trials not verified in the last two years 2017-2019: {}'.\\\n",
    "      format(len(recruiting[recruiting['verification_year'] < 2017])))"
   ]
  },
  {
   "cell_type": "code",
   "execution_count": 17,
   "metadata": {},
   "outputs": [
    {
     "data": {
      "text/plain": [
       "array(['Recruiting', 'Not yet recruiting'], dtype=object)"
      ]
     },
     "execution_count": 17,
     "metadata": {},
     "output_type": "execute_result"
    }
   ],
   "source": [
    "recruiting.overall_status.unique()"
   ]
  },
  {
   "cell_type": "code",
   "execution_count": 18,
   "metadata": {},
   "outputs": [
    {
     "data": {
      "text/plain": [
       "<matplotlib.axes._subplots.AxesSubplot at 0x119f7a908>"
      ]
     },
     "execution_count": 18,
     "metadata": {},
     "output_type": "execute_result"
    },
    {
     "data": {
      "image/png": "[encoded data removed]",
      "text/plain": [
       "<Figure size 1008x648 with 1 Axes>"
      ]
     },
     "metadata": {
      "needs_background": "light"
     },
     "output_type": "display_data"
    }
   ],
   "source": [
    "# Trials by verification date\n",
    "\n",
    "'''Unknown: A study with a status of Recruiting, Not yet recruiting, \n",
    "or Active, not recruiting and whose status has not been verified within the past 2 years. \n",
    "\n",
    "** Studies with an Unknown recruitment status are considered open studies or closed studies, \n",
    "depending on their last known recruitment status**\n",
    "\n",
    "'''\n",
    "recruiting.boxplot(column='verification_year', by='overall_status', \\\n",
    "                   figsize=(14,9), showfliers=False, meanline=True,\\\n",
    "                   whiskerprops = dict(linestyle='-.', linewidth=2))\n",
    "\n",
    "# recruiting.boxplot(column='year_last_updated')\n",
    "# recruiting['verification_year'].plot(kind='box', figsize=(10,7))\n",
    "# recruiting['year_last_updated'].plot(kind='box', figsize=(10,7))"
   ]
  },
  {
   "cell_type": "code",
   "execution_count": 19,
   "metadata": {},
   "outputs": [],
   "source": [
    "# Create new column with recruiting status based on verification date\n"
   ]
  },
  {
   "cell_type": "code",
   "execution_count": 20,
   "metadata": {},
   "outputs": [
    {
     "data": {
      "text/plain": [
       "0    5525\n",
       "1     459\n",
       "Name: recruiting_labels, dtype: int64"
      ]
     },
     "execution_count": 20,
     "metadata": {},
     "output_type": "execute_result"
    }
   ],
   "source": [
    "# Function to assign recruiting labels\n",
    "options = [\n",
    "    (df['verification_year'] < 2017),\n",
    "    (df['verification_year'] > 2017) & (df['overall_status'] == \"Recruiting\") | \\\n",
    "                (df['overall_status'] == \"Not yet recruiting\") | \\\n",
    "                (df['overall_status'] == \"Available for expanded access\")]\n",
    "labels = [0, 1]\n",
    "df['recruiting_labels'] = np.select(options, labels, default=0)\n",
    "\n",
    "df['recruiting_labels'].value_counts()\n"
   ]
  },
  {
   "cell_type": "code",
   "execution_count": 21,
   "metadata": {},
   "outputs": [
    {
     "data": {
      "text/plain": [
       "<matplotlib.axes._subplots.AxesSubplot at 0x120f9a828>"
      ]
     },
     "execution_count": 21,
     "metadata": {},
     "output_type": "execute_result"
    },
    {
     "data": {
      "image/png": "[encoded data removed]",
      "text/plain": [
       "<Figure size 1008x648 with 1 Axes>"
      ]
     },
     "metadata": {
      "needs_background": "light"
     },
     "output_type": "display_data"
    }
   ],
   "source": [
    "df.groupby('recruiting_labels').size().plot(kind='bar', figsize=(14,9))"
   ]
  },
  {
   "cell_type": "markdown",
   "metadata": {},
   "source": [
    "# Create sqlite db"
   ]
  },
  {
   "cell_type": "code",
   "execution_count": 25,
   "metadata": {},
   "outputs": [
    {
     "name": "stdout",
     "output_type": "stream",
     "text": [
      "Error\n"
     ]
    }
   ],
   "source": [
    "# Create folder\n",
    "\n",
    "path_to_working_datasets = os.path.abspath('../data/working_data')\n",
    "\n",
    "try: \n",
    "    os.mkdir(path_to_working_datasets)\n",
    "except:\n",
    "    pass\n",
    "    print('Error')"
   ]
  },
  {
   "cell_type": "code",
   "execution_count": 26,
   "metadata": {},
   "outputs": [
    {
     "data": {
      "text/plain": [
       "<sqlite3.Connection at 0x11ca33730>"
      ]
     },
     "execution_count": 26,
     "metadata": {},
     "output_type": "execute_result"
    }
   ],
   "source": [
    "# Create and connect to db\n",
    "conn = sqlite3.connect('../data/working_data/working-database.db')\n",
    "conn\n"
   ]
  },
  {
   "cell_type": "code",
   "execution_count": 27,
   "metadata": {},
   "outputs": [
    {
     "name": "stdout",
     "output_type": "stream",
     "text": [
      "CPU times: user 143 ms, sys: 58 ms, total: 201 ms\n",
      "Wall time: 226 ms\n"
     ]
    }
   ],
   "source": [
    "# upload df to database: define schema\n",
    "%time df.to_sql('all_trials', con=conn)"
   ]
  },
  {
   "cell_type": "code",
   "execution_count": 28,
   "metadata": {},
   "outputs": [
    {
     "data": {
      "text/html": [
       "<div>\n",
       "<style scoped>\n",
       "    .dataframe tbody tr th:only-of-type {\n",
       "        vertical-align: middle;\n",
       "    }\n",
       "\n",
       "    .dataframe tbody tr th {\n",
       "        vertical-align: top;\n",
       "    }\n",
       "\n",
       "    .dataframe thead th {\n",
       "        text-align: right;\n",
       "    }\n",
       "</style>\n",
       "<table border=\"1\" class=\"dataframe\">\n",
       "  <thead>\n",
       "    <tr style=\"text-align: right;\">\n",
       "      <th></th>\n",
       "      <th>seq</th>\n",
       "      <th>name</th>\n",
       "      <th>unique</th>\n",
       "      <th>origin</th>\n",
       "      <th>partial</th>\n",
       "    </tr>\n",
       "  </thead>\n",
       "  <tbody>\n",
       "    <tr>\n",
       "      <th>0</th>\n",
       "      <td>0</td>\n",
       "      <td>ix_all_trials_index</td>\n",
       "      <td>0</td>\n",
       "      <td>c</td>\n",
       "      <td>0</td>\n",
       "    </tr>\n",
       "  </tbody>\n",
       "</table>\n",
       "</div>"
      ],
      "text/plain": [
       "   seq                 name  unique origin  partial\n",
       "0    0  ix_all_trials_index       0      c        0"
      ]
     },
     "execution_count": 28,
     "metadata": {},
     "output_type": "execute_result"
    }
   ],
   "source": [
    "# get list of indexes\n",
    "pd.read_sql_query(\"PRAGMA index_list(all_trials);\", conn)"
   ]
  },
  {
   "cell_type": "code",
   "execution_count": 29,
   "metadata": {},
   "outputs": [
    {
     "name": "stdout",
     "output_type": "stream",
     "text": [
      "CPU times: user 25 ms, sys: 11 ms, total: 35.9 ms\n",
      "Wall time: 35.2 ms\n"
     ]
    },
    {
     "data": {
      "text/html": [
       "<div>\n",
       "<style scoped>\n",
       "    .dataframe tbody tr th:only-of-type {\n",
       "        vertical-align: middle;\n",
       "    }\n",
       "\n",
       "    .dataframe tbody tr th {\n",
       "        vertical-align: top;\n",
       "    }\n",
       "\n",
       "    .dataframe thead th {\n",
       "        text-align: right;\n",
       "    }\n",
       "</style>\n",
       "<table border=\"1\" class=\"dataframe\">\n",
       "  <thead>\n",
       "    <tr style=\"text-align: right;\">\n",
       "      <th></th>\n",
       "      <th>index</th>\n",
       "      <th>nct_id</th>\n",
       "      <th>study_first_submitted</th>\n",
       "      <th>source</th>\n",
       "      <th>brief_title</th>\n",
       "      <th>overall_status</th>\n",
       "      <th>verification_date</th>\n",
       "      <th>study_type</th>\n",
       "      <th>study_first_posted</th>\n",
       "      <th>last_update_submitted</th>\n",
       "      <th>...</th>\n",
       "      <th>sponsors/lead_sponsor/agency_class</th>\n",
       "      <th>study_design_info/allocation</th>\n",
       "      <th>study_design_info/intervention_model</th>\n",
       "      <th>study_design_info/primary_purpose</th>\n",
       "      <th>year_submitted</th>\n",
       "      <th>year_last_updated</th>\n",
       "      <th>verification_year</th>\n",
       "      <th>all_text</th>\n",
       "      <th>url</th>\n",
       "      <th>recruiting_labels</th>\n",
       "    </tr>\n",
       "  </thead>\n",
       "  <tbody>\n",
       "    <tr>\n",
       "      <th>0</th>\n",
       "      <td>1014</td>\n",
       "      <td>NCT00933309</td>\n",
       "      <td>2009-07-03 00:00:00</td>\n",
       "      <td>M.D. Anderson Cancer Center</td>\n",
       "      <td>The Impact of Obesity and Obesity Treatments o...</td>\n",
       "      <td>Completed</td>\n",
       "      <td>2012-12-01 00:00:00</td>\n",
       "      <td>Interventional</td>\n",
       "      <td>July 7, 2009</td>\n",
       "      <td>2016-02-17 00:00:00</td>\n",
       "      <td>...</td>\n",
       "      <td>Other</td>\n",
       "      <td>Randomized</td>\n",
       "      <td>Single Group Assignment</td>\n",
       "      <td>Treatment</td>\n",
       "      <td>2009</td>\n",
       "      <td>2016</td>\n",
       "      <td>2012.0</td>\n",
       "      <td>m.d. anderson cancer center the impact of obes...</td>\n",
       "      <td>https://clinicaltrials.gov/ct2/show/NCT00933309</td>\n",
       "      <td>0</td>\n",
       "    </tr>\n",
       "    <tr>\n",
       "      <th>1</th>\n",
       "      <td>1016</td>\n",
       "      <td>NCT01003951</td>\n",
       "      <td>2009-10-28 00:00:00</td>\n",
       "      <td>Memorial Sloan Kettering Cancer Center</td>\n",
       "      <td>Acupuncture for the Treatment of Chronic Lymph...</td>\n",
       "      <td>Completed</td>\n",
       "      <td>2011-07-01 00:00:00</td>\n",
       "      <td>Interventional</td>\n",
       "      <td>October 29, 2009</td>\n",
       "      <td>2012-08-15 00:00:00</td>\n",
       "      <td>...</td>\n",
       "      <td>Other</td>\n",
       "      <td>None</td>\n",
       "      <td>Single Group Assignment</td>\n",
       "      <td>Treatment</td>\n",
       "      <td>2009</td>\n",
       "      <td>2012</td>\n",
       "      <td>2011.0</td>\n",
       "      <td>memorial sloan kettering cancer center acupunc...</td>\n",
       "      <td>https://clinicaltrials.gov/ct2/show/NCT01003951</td>\n",
       "      <td>0</td>\n",
       "    </tr>\n",
       "    <tr>\n",
       "      <th>2</th>\n",
       "      <td>1020</td>\n",
       "      <td>NCT01417286</td>\n",
       "      <td>2011-08-02 00:00:00</td>\n",
       "      <td>Rutgers, The State University of New Jersey</td>\n",
       "      <td>Accelerated Radiation Therapy After Surgery in...</td>\n",
       "      <td>Active, not recruiting</td>\n",
       "      <td>2012-01-01 00:00:00</td>\n",
       "      <td>Interventional</td>\n",
       "      <td>August 16, 2011</td>\n",
       "      <td>2018-08-08 00:00:00</td>\n",
       "      <td>...</td>\n",
       "      <td>Other</td>\n",
       "      <td>None</td>\n",
       "      <td>Single Group Assignment</td>\n",
       "      <td>Treatment</td>\n",
       "      <td>2011</td>\n",
       "      <td>2018</td>\n",
       "      <td>2012.0</td>\n",
       "      <td>rutgers, the state university of new jersey ac...</td>\n",
       "      <td>https://clinicaltrials.gov/ct2/show/NCT01417286</td>\n",
       "      <td>0</td>\n",
       "    </tr>\n",
       "    <tr>\n",
       "      <th>3</th>\n",
       "      <td>1022</td>\n",
       "      <td>NCT02370264</td>\n",
       "      <td>2015-02-17 00:00:00</td>\n",
       "      <td>University of Southern California</td>\n",
       "      <td>Questionnaires in Identifying Upper Extremity ...</td>\n",
       "      <td>Terminated</td>\n",
       "      <td>2008-05-01 00:00:00</td>\n",
       "      <td>Interventional</td>\n",
       "      <td>February 24, 2015</td>\n",
       "      <td>2017-04-11 00:00:00</td>\n",
       "      <td>...</td>\n",
       "      <td>Other</td>\n",
       "      <td>None</td>\n",
       "      <td>Single Group Assignment</td>\n",
       "      <td>Supportive Care</td>\n",
       "      <td>2015</td>\n",
       "      <td>2017</td>\n",
       "      <td>2008.0</td>\n",
       "      <td>university of southern california questionnair...</td>\n",
       "      <td>https://clinicaltrials.gov/ct2/show/NCT02370264</td>\n",
       "      <td>0</td>\n",
       "    </tr>\n",
       "    <tr>\n",
       "      <th>4</th>\n",
       "      <td>107</td>\n",
       "      <td>NCT00322348</td>\n",
       "      <td>2006-05-03 00:00:00</td>\n",
       "      <td>AstraZeneca</td>\n",
       "      <td>Study of Zoladex Given Every 12 Weeks Versus G...</td>\n",
       "      <td>Completed</td>\n",
       "      <td>2010-12-01 00:00:00</td>\n",
       "      <td>Interventional</td>\n",
       "      <td>May 5, 2006</td>\n",
       "      <td>2010-12-22 00:00:00</td>\n",
       "      <td>...</td>\n",
       "      <td>Industry</td>\n",
       "      <td>Randomized</td>\n",
       "      <td>Parallel Assignment</td>\n",
       "      <td>Treatment</td>\n",
       "      <td>2006</td>\n",
       "      <td>2010</td>\n",
       "      <td>2010.0</td>\n",
       "      <td>astrazeneca study of zoladex given every 12 we...</td>\n",
       "      <td>https://clinicaltrials.gov/ct2/show/NCT00322348</td>\n",
       "      <td>0</td>\n",
       "    </tr>\n",
       "  </tbody>\n",
       "</table>\n",
       "<p>5 rows × 31 columns</p>\n",
       "</div>"
      ],
      "text/plain": [
       "   index       nct_id study_first_submitted  \\\n",
       "0   1014  NCT00933309   2009-07-03 00:00:00   \n",
       "1   1016  NCT01003951   2009-10-28 00:00:00   \n",
       "2   1020  NCT01417286   2011-08-02 00:00:00   \n",
       "3   1022  NCT02370264   2015-02-17 00:00:00   \n",
       "4    107  NCT00322348   2006-05-03 00:00:00   \n",
       "\n",
       "                                        source  \\\n",
       "0                  M.D. Anderson Cancer Center   \n",
       "1       Memorial Sloan Kettering Cancer Center   \n",
       "2  Rutgers, The State University of New Jersey   \n",
       "3            University of Southern California   \n",
       "4                                  AstraZeneca   \n",
       "\n",
       "                                         brief_title          overall_status  \\\n",
       "0  The Impact of Obesity and Obesity Treatments o...               Completed   \n",
       "1  Acupuncture for the Treatment of Chronic Lymph...               Completed   \n",
       "2  Accelerated Radiation Therapy After Surgery in...  Active, not recruiting   \n",
       "3  Questionnaires in Identifying Upper Extremity ...              Terminated   \n",
       "4  Study of Zoladex Given Every 12 Weeks Versus G...               Completed   \n",
       "\n",
       "     verification_date      study_type study_first_posted  \\\n",
       "0  2012-12-01 00:00:00  Interventional       July 7, 2009   \n",
       "1  2011-07-01 00:00:00  Interventional   October 29, 2009   \n",
       "2  2012-01-01 00:00:00  Interventional    August 16, 2011   \n",
       "3  2008-05-01 00:00:00  Interventional  February 24, 2015   \n",
       "4  2010-12-01 00:00:00  Interventional        May 5, 2006   \n",
       "\n",
       "  last_update_submitted  ... sponsors/lead_sponsor/agency_class  \\\n",
       "0   2016-02-17 00:00:00  ...                              Other   \n",
       "1   2012-08-15 00:00:00  ...                              Other   \n",
       "2   2018-08-08 00:00:00  ...                              Other   \n",
       "3   2017-04-11 00:00:00  ...                              Other   \n",
       "4   2010-12-22 00:00:00  ...                           Industry   \n",
       "\n",
       "  study_design_info/allocation study_design_info/intervention_model  \\\n",
       "0                   Randomized              Single Group Assignment   \n",
       "1                         None              Single Group Assignment   \n",
       "2                         None              Single Group Assignment   \n",
       "3                         None              Single Group Assignment   \n",
       "4                   Randomized                  Parallel Assignment   \n",
       "\n",
       "  study_design_info/primary_purpose year_submitted year_last_updated  \\\n",
       "0                         Treatment           2009              2016   \n",
       "1                         Treatment           2009              2012   \n",
       "2                         Treatment           2011              2018   \n",
       "3                   Supportive Care           2015              2017   \n",
       "4                         Treatment           2006              2010   \n",
       "\n",
       "  verification_year                                           all_text  \\\n",
       "0            2012.0  m.d. anderson cancer center the impact of obes...   \n",
       "1            2011.0  memorial sloan kettering cancer center acupunc...   \n",
       "2            2012.0  rutgers, the state university of new jersey ac...   \n",
       "3            2008.0  university of southern california questionnair...   \n",
       "4            2010.0  astrazeneca study of zoladex given every 12 we...   \n",
       "\n",
       "                                               url recruiting_labels  \n",
       "0  https://clinicaltrials.gov/ct2/show/NCT00933309                 0  \n",
       "1  https://clinicaltrials.gov/ct2/show/NCT01003951                 0  \n",
       "2  https://clinicaltrials.gov/ct2/show/NCT01417286                 0  \n",
       "3  https://clinicaltrials.gov/ct2/show/NCT02370264                 0  \n",
       "4  https://clinicaltrials.gov/ct2/show/NCT00322348                 0  \n",
       "\n",
       "[5 rows x 31 columns]"
      ]
     },
     "execution_count": 29,
     "metadata": {},
     "output_type": "execute_result"
    }
   ],
   "source": [
    "# test 1. Filter by condition\n",
    "%time search_query = pd.read_sql_query(\"SELECT * from all_trials WHERE all_text LIKE '%breast cancer%';\", conn)\n",
    "search_query.head()"
   ]
  },
  {
   "cell_type": "code",
   "execution_count": null,
   "metadata": {},
   "outputs": [],
   "source": [
    "# test 2. Filter by recruiting status = 1\n",
    "%time search_query = pd.read_sql_query(\"SELECT * from all_trials WHERE recruiting_labels == 1;\", conn)\n",
    "len(search_query)"
   ]
  },
  {
   "cell_type": "code",
   "execution_count": null,
   "metadata": {},
   "outputs": [],
   "source": [
    "# Create index on all_text column\n",
    "c = conn.cursor()\n",
    "%time c.execute(\"CREATE INDEX idx1 ON all_trials(all_text)\")\n",
    "conn.commit()"
   ]
  },
  {
   "cell_type": "code",
   "execution_count": null,
   "metadata": {},
   "outputs": [],
   "source": [
    "# get list of indexes\n",
    "pd.read_sql_query(\"PRAGMA index_list(all_trials);\", conn)"
   ]
  },
  {
   "cell_type": "code",
   "execution_count": null,
   "metadata": {},
   "outputs": [],
   "source": [
    "# test new query\n",
    "%time search_query = pd.read_sql_query(\"SELECT * from all_trials WHERE all_text LIKE '%breast cancer%';\", conn)\n",
    "search_query.head()"
   ]
  },
  {
   "cell_type": "code",
   "execution_count": null,
   "metadata": {},
   "outputs": [],
   "source": [
    "%time new_query = pd.read_sql_query(\"SELECT nct_id from all_trials WHERE all_text LIKE '%breast cancer%';\", conn).head()\n",
    "new_query.head()"
   ]
  },
  {
   "cell_type": "code",
   "execution_count": null,
   "metadata": {},
   "outputs": [],
   "source": [
    "'''\n",
    "Optimize performance\n",
    "https://medium.com/@JasonWyatt/squeezing-performance-from-sqlite-indexes-indexes-c4e175f3c346\n",
    "'''"
   ]
  },
  {
   "cell_type": "markdown",
   "metadata": {},
   "source": [
    "_____"
   ]
  },
  {
   "cell_type": "markdown",
   "metadata": {},
   "source": [
    "## Test queries speed"
   ]
  },
  {
   "cell_type": "code",
   "execution_count": null,
   "metadata": {},
   "outputs": [],
   "source": [
    "# Check data types\n",
    "# pd.read_sql_query(\"PRAGMA table_info(all_trials);\", conn)"
   ]
  },
  {
   "cell_type": "code",
   "execution_count": null,
   "metadata": {},
   "outputs": [],
   "source": [
    "# Time query with WHERE condition\n",
    "%time search_query = pd.read_sql_query(\"SELECT * from all_trials WHERE all_text LIKE '%breast cancer%';\", conn)\n",
    "search_query.head()"
   ]
  },
  {
   "cell_type": "code",
   "execution_count": null,
   "metadata": {},
   "outputs": [],
   "source": [
    "# Time query with WHERE condition, return nct_id\n",
    "%time filtered_query = pd.read_sql_query(\"SELECT nct_id from all_trials WHERE all_text LIKE '%breast cancer%';\", conn)\n",
    "filtered_query.head()"
   ]
  },
  {
   "cell_type": "code",
   "execution_count": null,
   "metadata": {},
   "outputs": [],
   "source": [
    "# drop original index\n",
    "%time c.execute(\"DROP INDEX ix_all_trials_index\")\n",
    "conn.commit()\n"
   ]
  },
  {
   "cell_type": "markdown",
   "metadata": {},
   "source": [
    "## Test queries after creating index"
   ]
  },
  {
   "cell_type": "code",
   "execution_count": null,
   "metadata": {},
   "outputs": [],
   "source": [
    "# Time query with WHERE condition after creating index\n",
    "%time optimized_query = pd.read_sql_query(\"SELECT * from all_trials WHERE all_text LIKE '%breast cancer%';\", conn)\n",
    "optimized_query.head()"
   ]
  },
  {
   "cell_type": "code",
   "execution_count": null,
   "metadata": {},
   "outputs": [],
   "source": [
    "# Return only nct_id\n",
    "%time new_query = pd.read_sql_query(\"SELECT nct_id from all_trials WHERE all_text LIKE '%breast cancer%';\", conn).head()\n",
    "new_query.head()\n"
   ]
  },
  {
   "cell_type": "markdown",
   "metadata": {},
   "source": [
    "## Pending: Test search pattern to optimize queries, return results"
   ]
  },
  {
   "cell_type": "code",
   "execution_count": null,
   "metadata": {},
   "outputs": [],
   "source": []
  },
  {
   "cell_type": "code",
   "execution_count": null,
   "metadata": {},
   "outputs": [],
   "source": []
  },
  {
   "cell_type": "code",
   "execution_count": null,
   "metadata": {},
   "outputs": [],
   "source": []
  },
  {
   "cell_type": "markdown",
   "metadata": {},
   "source": [
    "## Preprocess dataset\n",
    "- Tokenize, Lemmatize / Stem\n",
    "- Remove stopwords"
   ]
  },
  {
   "cell_type": "code",
   "execution_count": null,
   "metadata": {},
   "outputs": [],
   "source": [
    "from nltk.stem import PorterStemmer\n",
    "from nltk import WordNetLemmatizer\n",
    "\n",
    "# porter_stemmer = PorterStemmer()\n",
    "lemmatizer = WordNetLemmatizer() "
   ]
  },
  {
   "cell_type": "code",
   "execution_count": null,
   "metadata": {},
   "outputs": [],
   "source": [
    "# Stemming\n",
    "# def stem_sentences(text):\n",
    "#     tokens = text.split()\n",
    "#     stemmed_tokens = [porter_stemmer.stem(token) for token in tokens]\n",
    "#     return ' '.join(stemmed_tokens)\n",
    "\n",
    "# df['stems'] = df['all_text'].apply(stem_sentences)"
   ]
  },
  {
   "cell_type": "code",
   "execution_count": null,
   "metadata": {},
   "outputs": [],
   "source": [
    "# Lemmatizing\n",
    "def lemm_sentences(text):\n",
    "    tokens = text.split()\n",
    "    lemm_tokens = [lemmatizer.lemmatize(token) for token in tokens]\n",
    "    return ' '.join(lemm_tokens)\n",
    "\n",
    "df['lemmas'] = df['all_text'].apply(lemm_sentences)"
   ]
  },
  {
   "cell_type": "code",
   "execution_count": null,
   "metadata": {},
   "outputs": [],
   "source": [
    "# Remove stop words [not needed with countvectorizer]\n",
    "# stop_words = stopwords.words('english')\n",
    "# df['tokens'] = df['lemmas'].apply(lambda x: [item for item in x.split() if item not in stop_words])"
   ]
  },
  {
   "cell_type": "code",
   "execution_count": null,
   "metadata": {},
   "outputs": [],
   "source": [
    "df.lemmas[0:5]"
   ]
  },
  {
   "cell_type": "markdown",
   "metadata": {},
   "source": [
    "## Bags of words"
   ]
  },
  {
   "cell_type": "code",
   "execution_count": null,
   "metadata": {},
   "outputs": [],
   "source": [
    "# Count Vectorizer\n",
    "from sklearn.feature_extraction.text import CountVectorizer\n",
    "import re"
   ]
  },
  {
   "cell_type": "code",
   "execution_count": null,
   "metadata": {},
   "outputs": [],
   "source": [
    "pat_numbers = lambda x: re.sub(r'(\\d)+', '', x.lower())\n",
    "\n",
    "cv = CountVectorizer(stop_words='english',\n",
    "                     preprocessor = pat_numbers,\n",
    "                     max_features = 1800,\n",
    "                     lowercase = True,\n",
    "                     max_df = 0.8,\n",
    "                     ngram_range = (1, 3))"
   ]
  },
  {
   "cell_type": "code",
   "execution_count": null,
   "metadata": {},
   "outputs": [],
   "source": [
    "docs = list(df['lemmas'])\n",
    "\n",
    "X = cv.fit_transform(docs)"
   ]
  },
  {
   "cell_type": "code",
   "execution_count": null,
   "metadata": {},
   "outputs": [],
   "source": [
    "len(cv.vocabulary_)"
   ]
  },
  {
   "cell_type": "code",
   "execution_count": null,
   "metadata": {},
   "outputs": [],
   "source": [
    "word_counts = pd.DataFrame(X.toarray(), columns=cv.get_feature_names())"
   ]
  },
  {
   "cell_type": "code",
   "execution_count": null,
   "metadata": {},
   "outputs": [],
   "source": [
    "# add nct_id to word_counts df\n",
    "nct_id = df['nct_id']\n",
    "\n",
    "df_word_counts = pd.merge(nct_id, word_counts, left_index=True, right_index=True)"
   ]
  },
  {
   "cell_type": "code",
   "execution_count": null,
   "metadata": {},
   "outputs": [],
   "source": [
    "df_word_counts.head()"
   ]
  },
  {
   "cell_type": "markdown",
   "metadata": {},
   "source": [
    "_______"
   ]
  },
  {
   "cell_type": "code",
   "execution_count": null,
   "metadata": {},
   "outputs": [],
   "source": [
    "# Check all dataframes in space\n",
    "%who DataFrame"
   ]
  },
  {
   "cell_type": "code",
   "execution_count": null,
   "metadata": {},
   "outputs": [],
   "source": [
    "# upload count_vectorizer to database\n",
    "# sqlite limit = 2000\n",
    "df_word_counts.to_sql('word_counts', con=conn)"
   ]
  },
  {
   "cell_type": "code",
   "execution_count": null,
   "metadata": {},
   "outputs": [],
   "source": [
    "df_counts = pd.read_sql_query(\"SELECT * from word_counts;\", conn)\n",
    "df_counts.head()"
   ]
  },
  {
   "cell_type": "code",
   "execution_count": null,
   "metadata": {},
   "outputs": [],
   "source": [
    "# List databases\n",
    "pd.read_sql_query(\"SELECT name FROM sqlite_master WHERE type='table';\", conn)"
   ]
  },
  {
   "cell_type": "code",
   "execution_count": null,
   "metadata": {},
   "outputs": [],
   "source": [
    "conn.close()"
   ]
  },
  {
   "cell_type": "markdown",
   "metadata": {},
   "source": [
    "--------"
   ]
  },
  {
   "cell_type": "markdown",
   "metadata": {},
   "source": [
    "## TF-IDF"
   ]
  },
  {
   "cell_type": "code",
   "execution_count": null,
   "metadata": {},
   "outputs": [],
   "source": [
    "from sklearn.feature_extraction.text import TfidfTransformer"
   ]
  },
  {
   "cell_type": "code",
   "execution_count": null,
   "metadata": {},
   "outputs": [],
   "source": [
    "transformer = TfidfTransformer()\n",
    "tweights = transformer.fit_transform(X)\n",
    "tweights"
   ]
  },
  {
   "cell_type": "code",
   "execution_count": null,
   "metadata": {},
   "outputs": [],
   "source": [
    "# turn weights data into a dataframe\n",
    "tf = pd.DataFrame(tweights.toarray(), columns=cv.get_feature_names())"
   ]
  },
  {
   "cell_type": "code",
   "execution_count": null,
   "metadata": {},
   "outputs": [],
   "source": [
    "# Top terms by average tf-idf weight\n",
    "weights = np.asarray(tweights.mean(axis=0)).ravel().tolist()\n",
    "weights_df = pd.DataFrame({'term': cv.get_feature_names(), 'weight': weights})\n",
    "weights_df.sort_values(by='weight', ascending=False).head(10)"
   ]
  },
  {
   "cell_type": "code",
   "execution_count": null,
   "metadata": {},
   "outputs": [],
   "source": [
    "# Create new dataframe with nct-id and merge wth tf by index\n",
    "pd.set_option('display.max_columns', None) \n",
    "\n",
    "df_tf = df['nct_id']\n",
    "df_tf.head()"
   ]
  },
  {
   "cell_type": "code",
   "execution_count": null,
   "metadata": {},
   "outputs": [],
   "source": [
    "df_tf = pd.merge(df_tf, tf, left_index=True, right_index=True)"
   ]
  },
  {
   "cell_type": "code",
   "execution_count": null,
   "metadata": {},
   "outputs": [],
   "source": [
    "df_tf.head()"
   ]
  },
  {
   "cell_type": "markdown",
   "metadata": {},
   "source": [
    "## Test merged dataframes with tf-idf results"
   ]
  },
  {
   "cell_type": "code",
   "execution_count": null,
   "metadata": {
    "scrolled": false
   },
   "outputs": [],
   "source": [
    "# import random\n",
    "\n",
    "# def compare_results():\n",
    "#     row = random.randint(0,3000)\n",
    "#     df_tf.drop('nct_id', axis = 1)\n",
    "#     print('Random row: {}'.format(row))\n",
    "#     return df_tf.loc[row], tf.loc[row]"
   ]
  },
  {
   "cell_type": "code",
   "execution_count": null,
   "metadata": {
    "scrolled": false
   },
   "outputs": [],
   "source": [
    "# compare_results()"
   ]
  },
  {
   "cell_type": "markdown",
   "metadata": {},
   "source": [
    "## Calculate correlation between docs"
   ]
  },
  {
   "cell_type": "code",
   "execution_count": null,
   "metadata": {},
   "outputs": [],
   "source": [
    "# calculate similary\n",
    "similarity = tweights * tweights.T"
   ]
  },
  {
   "cell_type": "code",
   "execution_count": null,
   "metadata": {},
   "outputs": [],
   "source": [
    "# Save all data in a dataframe\n",
    "df_docs_similarity = pd.DataFrame(similarity.toarray())"
   ]
  },
  {
   "cell_type": "markdown",
   "metadata": {},
   "source": [
    "<b>To-do: Give a NTC-ID record, find similar documents\n",
    "& return dataframe with results</b>"
   ]
  },
  {
   "cell_type": "code",
   "execution_count": null,
   "metadata": {},
   "outputs": [],
   "source": [
    "# Find more similar documents of a given record\n",
    "\n",
    "def find_similar_docs(record, rate):\n",
    "    trials_id = []\n",
    "    treshold = rate\n",
    "    similar_index = df_docs_similarity.iloc[record][df_docs_similarity.iloc[record] > treshold].index\n",
    "    \n",
    "    for i in similar_index.values:\n",
    "        trials_id.append(i)\n",
    "        \n",
    "    print('{} similar trials with treshold {}'.format(len(trials_id), treshold))\n",
    "    return df.iloc[trials_id]\n"
   ]
  },
  {
   "cell_type": "code",
   "execution_count": null,
   "metadata": {
    "scrolled": false
   },
   "outputs": [],
   "source": [
    "find_similar_docs(0, 0.50)"
   ]
  },
  {
   "cell_type": "code",
   "execution_count": null,
   "metadata": {},
   "outputs": [],
   "source": []
  }
 ],
 "metadata": {
  "kernelspec": {
   "display_name": "Python 3",
   "language": "python",
   "name": "python3"
  },
  "language_info": {
   "codemirror_mode": {
    "name": "ipython",
    "version": 3
   },
   "file_extension": ".py",
   "mimetype": "text/x-python",
   "name": "python",
   "nbconvert_exporter": "python",
   "pygments_lexer": "ipython3",
   "version": "3.7.0"
  }
 },
 "nbformat": 4,
 "nbformat_minor": 2
}
