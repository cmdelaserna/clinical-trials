{
 "cells": [
  {
   "cell_type": "markdown",
   "metadata": {},
   "source": [
    "# Prepare working db\n",
    "- Load data\n",
    "- Df cleaning\n",
    "- "
   ]
  },
  {
   "cell_type": "code",
   "execution_count": 51,
   "metadata": {},
   "outputs": [],
   "source": [
    "import json, os\n",
    "import numpy as np\n",
    "import pandas as pd\n",
    "import sqlite3\n",
    "import shutil\n",
    "import matplotlib.pyplot as plt\n",
    "# import nltk"
   ]
  },
  {
   "cell_type": "markdown",
   "metadata": {},
   "source": [
    "## Load json file with parsed information"
   ]
  },
  {
   "cell_type": "code",
   "execution_count": 2,
   "metadata": {},
   "outputs": [],
   "source": [
    "# paths\n",
    "path_to_json_file = os.path.abspath('../data/json/')\n",
    "\n",
    "### json file\n",
    "json_file = '/all_parsed_data_json' #name json file  \n",
    "# json_file = '/sample_json' #sample json file for testing  \n",
    "\n",
    "file = '{}{}.json'.format(path_to_json_file, json_file)"
   ]
  },
  {
   "cell_type": "code",
   "execution_count": 3,
   "metadata": {},
   "outputs": [],
   "source": [
    "# load json file\n",
    "df = pd.read_json(file)"
   ]
  },
  {
   "cell_type": "code",
   "execution_count": 4,
   "metadata": {},
   "outputs": [],
   "source": [
    "# Display full dataframe\n",
    "# pd.set_option('display.max_rows', 50)\n",
    "# pd.set_option('display.max_columns', 50)\n",
    "# pd.set_option('display.width', 1000)"
   ]
  },
  {
   "cell_type": "code",
   "execution_count": 5,
   "metadata": {
    "scrolled": false
   },
   "outputs": [
    {
     "data": {
      "text/plain": [
       "(321599, 24)"
      ]
     },
     "execution_count": 5,
     "metadata": {},
     "output_type": "execute_result"
    }
   ],
   "source": [
    "# Check data\n",
    "df.shape"
   ]
  },
  {
   "cell_type": "code",
   "execution_count": 6,
   "metadata": {},
   "outputs": [],
   "source": [
    "# Remove all_files folder\n",
    "path_to_all_files = os.path.abspath('../data/all_trials//')\n",
    "\n",
    "def remove_extra_folders(folder):\n",
    "    try:\n",
    "        shutil.rmtree(folder)\n",
    "        print(\"\\nunzip folder deleted\")\n",
    "    except IOError as e:\n",
    "        print(e)\n",
    "        pass"
   ]
  },
  {
   "cell_type": "code",
   "execution_count": 7,
   "metadata": {},
   "outputs": [
    {
     "name": "stdout",
     "output_type": "stream",
     "text": [
      "[Errno 2] No such file or directory: '/Users/cms/Sites/clinical-trials/mvp/data/all_trials'\n",
      "CPU times: user 874 µs, sys: 1.5 ms, total: 2.38 ms\n",
      "Wall time: 1.88 ms\n"
     ]
    }
   ],
   "source": [
    "%time remove_extra_folders(path_to_all_files)"
   ]
  },
  {
   "cell_type": "markdown",
   "metadata": {},
   "source": [
    "## Format dataset"
   ]
  },
  {
   "cell_type": "code",
   "execution_count": 25,
   "metadata": {},
   "outputs": [],
   "source": [
    "# function to change column type\n",
    "\n",
    "def data_types(dataframe, cols = [], to_type = ''):\n",
    "    for col in cols:\n",
    "        dataframe[col] = df[col].astype(to_type)\n",
    "        "
   ]
  },
  {
   "cell_type": "code",
   "execution_count": 26,
   "metadata": {},
   "outputs": [],
   "source": [
    "columns_dates = ['study_first_submitted', 'last_update_submitted']\n",
    "data_types(df, columns_dates, 'datetime64')"
   ]
  },
  {
   "cell_type": "code",
   "execution_count": 27,
   "metadata": {},
   "outputs": [],
   "source": [
    "# Extract year \n",
    "df['year_submitted'] = df['study_first_submitted'].dt.year\n",
    "df['year_last_updated'] = df['last_update_submitted'].dt.year"
   ]
  },
  {
   "cell_type": "code",
   "execution_count": null,
   "metadata": {},
   "outputs": [],
   "source": [
    "# Remove unnecesary columns\n",
    "# df.drop(columns_dates, axis = 1, inplace=True)"
   ]
  },
  {
   "cell_type": "code",
   "execution_count": null,
   "metadata": {},
   "outputs": [],
   "source": [
    "# columns_to_drop = ['study_first_posted', 'last_update_posted', 'verification_date']\n",
    "# df.drop(columns_to_drop, axis = 1, inplace=True)"
   ]
  },
  {
   "cell_type": "code",
   "execution_count": 28,
   "metadata": {},
   "outputs": [],
   "source": [
    "# Remove /n in all df\n",
    "df = df.replace(r'\\n',' ', regex=True)"
   ]
  },
  {
   "cell_type": "code",
   "execution_count": 29,
   "metadata": {},
   "outputs": [],
   "source": [
    "# Create new column for all text\n",
    "df['all_text'] = df['source'] + ' ' + df['brief_title'] + ' ' + df['condition'] + ' ' + df['condition_browse/mesh_term'] + ' '+ df['intervention_browse/mesh_term'] + ' '+ df['detailed_description/textblock'] + ' ' + df['brief_summary/textblock']\n",
    "\n",
    "# All_text in lowercase\n",
    "df['all_text'] = df['all_text'].str.lower()\n",
    "\n",
    "# remove extra whitespace\n",
    "df.all_text = df.all_text.replace('\\s+', ' ', regex=True)\n"
   ]
  },
  {
   "cell_type": "code",
   "execution_count": 30,
   "metadata": {},
   "outputs": [
    {
     "data": {
      "text/plain": [
       "' This study was conducted to compare the activities of erlotinib to that of intravenous, platinum-based therapy in the treatment of non-small cell lung cancer (NSCLC). The goal of this trial was to demonstrate clinical equivalence of erlotinib to platinum-based frontline therapy, compared to historical controls. '"
      ]
     },
     "execution_count": 30,
     "metadata": {},
     "output_type": "execute_result"
    }
   ],
   "source": [
    "# Remove extra white space in summary\n",
    "df['brief_summary/textblock'] = df['brief_summary/textblock'].replace('\\s+', ' ', regex=True)\n",
    "df['brief_summary/textblock'][0]"
   ]
  },
  {
   "cell_type": "code",
   "execution_count": 31,
   "metadata": {},
   "outputs": [],
   "source": [
    "# # add url columns\n",
    "url_string = 'https://clinicaltrials.gov/ct2/show/'\n",
    "df['url'] = url_string + df['nct_id'].astype(str)"
   ]
  },
  {
   "cell_type": "code",
   "execution_count": 32,
   "metadata": {
    "scrolled": false
   },
   "outputs": [
    {
     "data": {
      "text/plain": [
       "nct_id                                                                        NCT00391586\n",
       "study_first_submitted                                                 2006-10-23 00:00:00\n",
       "source                                                    New Mexico Cancer Care Alliance\n",
       "brief_title                             Erlotinib and Standard Platinum-Based Chemothe...\n",
       "overall_status                                                                 Terminated\n",
       "verification_date                                                             August 2015\n",
       "study_type                                                                 Interventional\n",
       "study_first_posted                                                       October 24, 2006\n",
       "last_update_submitted                                                 2015-08-14 00:00:00\n",
       "last_update_posted                                                        August 17, 2015\n",
       "phase                                                                             Phase 2\n",
       "condition                                                  Carcinoma, Non-Small-Cell Lung\n",
       "condition_browse/mesh_term                                                      Carcinoma\n",
       "intervention_browse/mesh_term                                                 Gemcitabine\n",
       "detailed_description/textblock                 To compare the activities (the progress...\n",
       "brief_summary/textblock                  This study was conducted to compare the activ...\n",
       "location/facility/address/city                                                Albuquerque\n",
       "location/facility/address/country                                           United States\n",
       "location/facility/address/zip                                                       87102\n",
       "sponsors/lead_sponsor/agency                              New Mexico Cancer Care Alliance\n",
       "sponsors/lead_sponsor/agency_class                                                  Other\n",
       "study_design_info/allocation                                                         None\n",
       "study_design_info/intervention_model                              Single Group Assignment\n",
       "study_design_info/primary_purpose                                               Treatment\n",
       "year_submitted                                                                       2006\n",
       "year_last_updated                                                                    2015\n",
       "all_text                                new mexico cancer care alliance erlotinib and ...\n",
       "url                                       https://clinicaltrials.gov/ct2/show/NCT00391586\n",
       "Name: 0, dtype: object"
      ]
     },
     "execution_count": 32,
     "metadata": {},
     "output_type": "execute_result"
    }
   ],
   "source": [
    "df.iloc[0]"
   ]
  },
  {
   "cell_type": "markdown",
   "metadata": {},
   "source": [
    "## Recruiting status"
   ]
  },
  {
   "cell_type": "code",
   "execution_count": 37,
   "metadata": {},
   "outputs": [
    {
     "name": "stdout",
     "output_type": "stream",
     "text": [
      "Clinical trials recruiting: 52076\n"
     ]
    }
   ],
   "source": [
    "'''\n",
    "Recruiting status\n",
    "'''\n",
    "\n",
    "recruiting = df[df['overall_status'] == 'Recruiting']\n",
    "print('Clinical trials recruiting: {}'.format(len(recruiting)))"
   ]
  },
  {
   "cell_type": "code",
   "execution_count": 42,
   "metadata": {},
   "outputs": [
    {
     "data": {
      "text/plain": [
       "array([2019, 2018, 2017, 2014, 2016, 2015, 2010, 2013, 2011, 2012, 2006,\n",
       "       2009])"
      ]
     },
     "execution_count": 42,
     "metadata": {},
     "output_type": "execute_result"
    }
   ],
   "source": [
    "recruiting.year_last_updated.unique()"
   ]
  },
  {
   "cell_type": "code",
   "execution_count": 57,
   "metadata": {},
   "outputs": [
    {
     "data": {
      "text/plain": [
       "<matplotlib.axes._subplots.AxesSubplot at 0x297f5ccf8>"
      ]
     },
     "execution_count": 57,
     "metadata": {},
     "output_type": "execute_result"
    },
    {
     "data": {
      "image/png": "[encoded data removed]",
      "text/plain": [
       "<Figure size 720x504 with 1 Axes>"
      ]
     },
     "metadata": {
      "needs_background": "light"
     },
     "output_type": "display_data"
    }
   ],
   "source": [
    "recruiting['year_last_updated'].plot(kind='box', figsize=(10,7))\n",
    "# recruiting['year_submitted'].plot(kind='box', figsize=(10,7))\n"
   ]
  },
  {
   "cell_type": "markdown",
   "metadata": {},
   "source": [
    "# Create sqlite db"
   ]
  },
  {
   "cell_type": "code",
   "execution_count": null,
   "metadata": {},
   "outputs": [],
   "source": [
    "# Create folder\n",
    "\n",
    "path_to_working_datasets = os.path.abspath('../data/working_data')\n",
    "\n",
    "try: \n",
    "    os.mkdir(path_to_working_datasets)\n",
    "except:\n",
    "    pass\n",
    "    print('Error')"
   ]
  },
  {
   "cell_type": "code",
   "execution_count": null,
   "metadata": {},
   "outputs": [],
   "source": [
    "# Create and connect to db\n",
    "conn = sqlite3.connect('../data/working_data/working-database.db')\n",
    "conn\n"
   ]
  },
  {
   "cell_type": "code",
   "execution_count": null,
   "metadata": {},
   "outputs": [],
   "source": [
    "# upload df to database: define schema\n",
    "%time df.to_sql('all_trials', con=conn)"
   ]
  },
  {
   "cell_type": "code",
   "execution_count": null,
   "metadata": {},
   "outputs": [],
   "source": [
    "# get list of indexes\n",
    "pd.read_sql_query(\"PRAGMA index_list(all_trials);\", conn)"
   ]
  },
  {
   "cell_type": "markdown",
   "metadata": {},
   "source": [
    "## Test queries speed"
   ]
  },
  {
   "cell_type": "code",
   "execution_count": null,
   "metadata": {},
   "outputs": [],
   "source": [
    "# Check data types\n",
    "# pd.read_sql_query(\"PRAGMA table_info(all_trials);\", conn)"
   ]
  },
  {
   "cell_type": "code",
   "execution_count": null,
   "metadata": {},
   "outputs": [],
   "source": [
    "# Time query with WHERE condition\n",
    "%time search_query = pd.read_sql_query(\"SELECT * from all_trials WHERE all_text LIKE '%breast cancer%';\", conn)\n",
    "search_query.head()"
   ]
  },
  {
   "cell_type": "code",
   "execution_count": null,
   "metadata": {},
   "outputs": [],
   "source": [
    "# Time query with WHERE condition, return nct_id\n",
    "%time filtered_query = pd.read_sql_query(\"SELECT nct_id from all_trials WHERE all_text LIKE '%breast cancer%';\", conn)\n",
    "filtered_query.head()"
   ]
  },
  {
   "cell_type": "markdown",
   "metadata": {},
   "source": [
    "### Optimize performance by creating an index on all_text"
   ]
  },
  {
   "cell_type": "code",
   "execution_count": null,
   "metadata": {},
   "outputs": [],
   "source": [
    "# Create index on all_text column\n",
    "c = conn.cursor()\n",
    "%time c.execute(\"CREATE INDEX idx1 ON all_trials(all_text)\")\n",
    "conn.commit()"
   ]
  },
  {
   "cell_type": "code",
   "execution_count": null,
   "metadata": {},
   "outputs": [],
   "source": [
    "# drop original index\n",
    "%time c.execute(\"DROP INDEX ix_all_trials_index\")\n",
    "conn.commit()\n"
   ]
  },
  {
   "cell_type": "code",
   "execution_count": null,
   "metadata": {},
   "outputs": [],
   "source": [
    "# get list of indexes\n",
    "pd.read_sql_query(\"PRAGMA index_list(all_trials);\", conn)"
   ]
  },
  {
   "cell_type": "markdown",
   "metadata": {},
   "source": [
    "## Test queries after creating index"
   ]
  },
  {
   "cell_type": "code",
   "execution_count": null,
   "metadata": {},
   "outputs": [],
   "source": [
    "# Time query with WHERE condition after creating index\n",
    "%time optimized_query = pd.read_sql_query(\"SELECT * from all_trials WHERE all_text LIKE '%breast cancer%';\", conn)\n",
    "optimized_query.head()"
   ]
  },
  {
   "cell_type": "code",
   "execution_count": null,
   "metadata": {},
   "outputs": [],
   "source": [
    "# Return only nct_id\n",
    "%time new_query = pd.read_sql_query(\"SELECT nct_id from all_trials WHERE all_text LIKE '%breast cancer%';\", conn).head()\n",
    "new_query.head()\n"
   ]
  },
  {
   "cell_type": "markdown",
   "metadata": {},
   "source": [
    "## Pending: Test search pattern to optimize queries, return results"
   ]
  },
  {
   "cell_type": "code",
   "execution_count": null,
   "metadata": {},
   "outputs": [],
   "source": []
  },
  {
   "cell_type": "code",
   "execution_count": null,
   "metadata": {},
   "outputs": [],
   "source": []
  },
  {
   "cell_type": "code",
   "execution_count": null,
   "metadata": {},
   "outputs": [],
   "source": []
  },
  {
   "cell_type": "markdown",
   "metadata": {},
   "source": [
    "## Preprocess dataset\n",
    "- Tokenize, Lemmatize / Stem\n",
    "- Remove stopwords"
   ]
  },
  {
   "cell_type": "code",
   "execution_count": null,
   "metadata": {},
   "outputs": [],
   "source": [
    "from nltk.stem import PorterStemmer\n",
    "from nltk import WordNetLemmatizer\n",
    "\n",
    "# porter_stemmer = PorterStemmer()\n",
    "lemmatizer = WordNetLemmatizer() "
   ]
  },
  {
   "cell_type": "code",
   "execution_count": null,
   "metadata": {},
   "outputs": [],
   "source": [
    "# Stemming\n",
    "# def stem_sentences(text):\n",
    "#     tokens = text.split()\n",
    "#     stemmed_tokens = [porter_stemmer.stem(token) for token in tokens]\n",
    "#     return ' '.join(stemmed_tokens)\n",
    "\n",
    "# df['stems'] = df['all_text'].apply(stem_sentences)"
   ]
  },
  {
   "cell_type": "code",
   "execution_count": null,
   "metadata": {},
   "outputs": [],
   "source": [
    "# Lemmatizing\n",
    "def lemm_sentences(text):\n",
    "    tokens = text.split()\n",
    "    lemm_tokens = [lemmatizer.lemmatize(token) for token in tokens]\n",
    "    return ' '.join(lemm_tokens)\n",
    "\n",
    "df['lemmas'] = df['all_text'].apply(lemm_sentences)"
   ]
  },
  {
   "cell_type": "code",
   "execution_count": null,
   "metadata": {},
   "outputs": [],
   "source": [
    "# Remove stop words [not needed with countvectorizer]\n",
    "# stop_words = stopwords.words('english')\n",
    "# df['tokens'] = df['lemmas'].apply(lambda x: [item for item in x.split() if item not in stop_words])"
   ]
  },
  {
   "cell_type": "code",
   "execution_count": null,
   "metadata": {},
   "outputs": [],
   "source": [
    "df.lemmas[0:5]"
   ]
  },
  {
   "cell_type": "markdown",
   "metadata": {},
   "source": [
    "## Bags of words"
   ]
  },
  {
   "cell_type": "code",
   "execution_count": null,
   "metadata": {},
   "outputs": [],
   "source": [
    "# Count Vectorizer\n",
    "from sklearn.feature_extraction.text import CountVectorizer\n",
    "import re"
   ]
  },
  {
   "cell_type": "code",
   "execution_count": null,
   "metadata": {},
   "outputs": [],
   "source": [
    "pat_numbers = lambda x: re.sub(r'(\\d)+', '', x.lower())\n",
    "\n",
    "cv = CountVectorizer(stop_words='english',\n",
    "                     preprocessor = pat_numbers,\n",
    "                     max_features = 1800,\n",
    "                     lowercase = True,\n",
    "                     max_df = 0.8,\n",
    "                     ngram_range = (1, 3))"
   ]
  },
  {
   "cell_type": "code",
   "execution_count": null,
   "metadata": {},
   "outputs": [],
   "source": [
    "docs = list(df['lemmas'])\n",
    "\n",
    "X = cv.fit_transform(docs)"
   ]
  },
  {
   "cell_type": "code",
   "execution_count": null,
   "metadata": {},
   "outputs": [],
   "source": [
    "len(cv.vocabulary_)"
   ]
  },
  {
   "cell_type": "code",
   "execution_count": null,
   "metadata": {},
   "outputs": [],
   "source": [
    "word_counts = pd.DataFrame(X.toarray(), columns=cv.get_feature_names())"
   ]
  },
  {
   "cell_type": "code",
   "execution_count": null,
   "metadata": {},
   "outputs": [],
   "source": [
    "# add nct_id to word_counts df\n",
    "nct_id = df['nct_id']\n",
    "\n",
    "df_word_counts = pd.merge(nct_id, word_counts, left_index=True, right_index=True)"
   ]
  },
  {
   "cell_type": "code",
   "execution_count": null,
   "metadata": {},
   "outputs": [],
   "source": [
    "df_word_counts.head()"
   ]
  },
  {
   "cell_type": "markdown",
   "metadata": {},
   "source": [
    "_______"
   ]
  },
  {
   "cell_type": "markdown",
   "metadata": {},
   "source": [
    "## Export working dataset"
   ]
  },
  {
   "cell_type": "code",
   "execution_count": null,
   "metadata": {},
   "outputs": [],
   "source": [
    "# Check all dataframes in space\n",
    "%who DataFrame"
   ]
  },
  {
   "cell_type": "code",
   "execution_count": null,
   "metadata": {},
   "outputs": [],
   "source": [
    "# upload count_vectorizer to database\n",
    "# sqlite limit = 2000\n",
    "df_word_counts.to_sql('word_counts', con=conn)"
   ]
  },
  {
   "cell_type": "code",
   "execution_count": null,
   "metadata": {},
   "outputs": [],
   "source": [
    "df_counts = pd.read_sql_query(\"SELECT * from word_counts;\", conn)\n",
    "df_counts.head()"
   ]
  },
  {
   "cell_type": "code",
   "execution_count": null,
   "metadata": {},
   "outputs": [],
   "source": [
    "# List databases\n",
    "pd.read_sql_query(\"SELECT name FROM sqlite_master WHERE type='table';\", conn)"
   ]
  },
  {
   "cell_type": "code",
   "execution_count": null,
   "metadata": {},
   "outputs": [],
   "source": [
    "conn.close()"
   ]
  },
  {
   "cell_type": "markdown",
   "metadata": {},
   "source": [
    "--------"
   ]
  },
  {
   "cell_type": "markdown",
   "metadata": {},
   "source": [
    "## TF-IDF"
   ]
  },
  {
   "cell_type": "code",
   "execution_count": null,
   "metadata": {},
   "outputs": [],
   "source": [
    "from sklearn.feature_extraction.text import TfidfTransformer"
   ]
  },
  {
   "cell_type": "code",
   "execution_count": null,
   "metadata": {},
   "outputs": [],
   "source": [
    "transformer = TfidfTransformer()\n",
    "tweights = transformer.fit_transform(X)\n",
    "tweights"
   ]
  },
  {
   "cell_type": "code",
   "execution_count": null,
   "metadata": {},
   "outputs": [],
   "source": [
    "# turn weights data into a dataframe\n",
    "tf = pd.DataFrame(tweights.toarray(), columns=cv.get_feature_names())"
   ]
  },
  {
   "cell_type": "code",
   "execution_count": null,
   "metadata": {},
   "outputs": [],
   "source": [
    "# Top terms by average tf-idf weight\n",
    "weights = np.asarray(tweights.mean(axis=0)).ravel().tolist()\n",
    "weights_df = pd.DataFrame({'term': cv.get_feature_names(), 'weight': weights})\n",
    "weights_df.sort_values(by='weight', ascending=False).head(10)"
   ]
  },
  {
   "cell_type": "code",
   "execution_count": null,
   "metadata": {},
   "outputs": [],
   "source": [
    "# Create new dataframe with nct-id and merge wth tf by index\n",
    "pd.set_option('display.max_columns', None) \n",
    "\n",
    "df_tf = df['nct_id']\n",
    "df_tf.head()"
   ]
  },
  {
   "cell_type": "code",
   "execution_count": null,
   "metadata": {},
   "outputs": [],
   "source": [
    "df_tf = pd.merge(df_tf, tf, left_index=True, right_index=True)"
   ]
  },
  {
   "cell_type": "code",
   "execution_count": null,
   "metadata": {},
   "outputs": [],
   "source": [
    "df_tf.head()"
   ]
  },
  {
   "cell_type": "markdown",
   "metadata": {},
   "source": [
    "## Test merged dataframes with tf-idf results"
   ]
  },
  {
   "cell_type": "code",
   "execution_count": null,
   "metadata": {
    "scrolled": false
   },
   "outputs": [],
   "source": [
    "# import random\n",
    "\n",
    "# def compare_results():\n",
    "#     row = random.randint(0,3000)\n",
    "#     df_tf.drop('nct_id', axis = 1)\n",
    "#     print('Random row: {}'.format(row))\n",
    "#     return df_tf.loc[row], tf.loc[row]"
   ]
  },
  {
   "cell_type": "code",
   "execution_count": null,
   "metadata": {
    "scrolled": false
   },
   "outputs": [],
   "source": [
    "# compare_results()"
   ]
  },
  {
   "cell_type": "markdown",
   "metadata": {},
   "source": [
    "## Calculate correlation between docs"
   ]
  },
  {
   "cell_type": "code",
   "execution_count": null,
   "metadata": {},
   "outputs": [],
   "source": [
    "# calculate similary\n",
    "similarity = tweights * tweights.T"
   ]
  },
  {
   "cell_type": "code",
   "execution_count": null,
   "metadata": {},
   "outputs": [],
   "source": [
    "# Save all data in a dataframe\n",
    "df_docs_similarity = pd.DataFrame(similarity.toarray())"
   ]
  },
  {
   "cell_type": "markdown",
   "metadata": {},
   "source": [
    "<b>To-do: Give a NTC-ID record, find similar documents\n",
    "& return dataframe with results</b>"
   ]
  },
  {
   "cell_type": "code",
   "execution_count": null,
   "metadata": {},
   "outputs": [],
   "source": [
    "# Find more similar documents of a given record\n",
    "\n",
    "def find_similar_docs(record, rate):\n",
    "    trials_id = []\n",
    "    treshold = rate\n",
    "    similar_index = df_docs_similarity.iloc[record][df_docs_similarity.iloc[record] > treshold].index\n",
    "    \n",
    "    for i in similar_index.values:\n",
    "        trials_id.append(i)\n",
    "        \n",
    "    print('{} similar trials with treshold {}'.format(len(trials_id), treshold))\n",
    "    return df.iloc[trials_id]\n"
   ]
  },
  {
   "cell_type": "code",
   "execution_count": null,
   "metadata": {
    "scrolled": false
   },
   "outputs": [],
   "source": [
    "find_similar_docs(0, 0.50)"
   ]
  },
  {
   "cell_type": "code",
   "execution_count": null,
   "metadata": {},
   "outputs": [],
   "source": []
  }
 ],
 "metadata": {
  "kernelspec": {
   "display_name": "Python 3",
   "language": "python",
   "name": "python3"
  },
  "language_info": {
   "codemirror_mode": {
    "name": "ipython",
    "version": 3
   },
   "file_extension": ".py",
   "mimetype": "text/x-python",
   "name": "python",
   "nbconvert_exporter": "python",
   "pygments_lexer": "ipython3",
   "version": "3.7.3"
  }
 },
 "nbformat": 4,
 "nbformat_minor": 2
}
