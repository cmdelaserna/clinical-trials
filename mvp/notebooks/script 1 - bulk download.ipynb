{
 "cells": [
  {
   "cell_type": "markdown",
   "metadata": {},
   "source": [
    "# Clinical trials: bulk download\n"
   ]
  },
  {
   "cell_type": "code",
   "execution_count": 1,
   "metadata": {},
   "outputs": [],
   "source": [
    "import logging\n",
    "import wget\n",
    "import sys\n",
    "import zipfile\n",
    "import time\n",
    "import datetime\n",
    "import os\n",
    "import shutil"
   ]
  },
  {
   "cell_type": "code",
   "execution_count": 2,
   "metadata": {},
   "outputs": [
    {
     "data": {
      "application/javascript": [
       "IPython.notebook.set_autosave_interval(0)"
      ]
     },
     "metadata": {},
     "output_type": "display_data"
    },
    {
     "name": "stdout",
     "output_type": "stream",
     "text": [
      "Autosave disabled\n"
     ]
    }
   ],
   "source": [
    "# Turn off autosave\n",
    "%autosave 0"
   ]
  },
  {
   "cell_type": "code",
   "execution_count": 4,
   "metadata": {},
   "outputs": [],
   "source": [
    "# Save logs, print messages in terminal\n",
    "sys.stdout = open('/dev/stdout', 'w')\n",
    "print('Printing messages to terminal')"
   ]
  },
  {
   "cell_type": "markdown",
   "metadata": {},
   "source": [
    "## Setup folders and paths"
   ]
  },
  {
   "cell_type": "code",
   "execution_count": 5,
   "metadata": {},
   "outputs": [],
   "source": [
    "'''\n",
    "Paths to data and folders\n",
    "'''\n",
    "\n",
    "# Original data\n",
    "file_to_download = 'https://clinicaltrials.gov/AllPublicXML.zip'\n",
    "\n",
    "# Paths for folders to store data\n",
    "path_zip_file = '../data/zip'\n",
    "\n",
    "path_for_download = \"../data/zip/AllPublicXML.zip\"\n",
    "\n",
    "path_dest_unzip = '../data/unzip/'\n",
    "\n",
    "path_all_trials = '../data/all_trials/'\n"
   ]
  },
  {
   "cell_type": "code",
   "execution_count": 6,
   "metadata": {},
   "outputs": [],
   "source": [
    "# Create folders for data\n",
    "\n",
    "def create_folders(paths = []):\n",
    "    for p in paths:\n",
    "        try:\n",
    "            os.mkdir(p)\n",
    "            if p:\n",
    "                print('{} created'.format(p))\n",
    "        except IOError as e:\n",
    "            print(e)\n",
    "            pass\n",
    "        \n",
    "    print('\\nSetup folders created\\n')\n",
    "\n",
    "\n",
    "all_folders = [path_zip_file, path_for_download, path_dest_unzip, path_all_trials]\n",
    "\n",
    "create_folders(all_folders)"
   ]
  },
  {
   "cell_type": "markdown",
   "metadata": {},
   "source": [
    "## Download zip data"
   ]
  },
  {
   "cell_type": "code",
   "execution_count": 7,
   "metadata": {},
   "outputs": [],
   "source": [
    "# Save zip file from clinicaltrials.gov into zip folder\n",
    "\n",
    "print('Beginning file download with wget module')\n",
    "\n",
    "url = 'https://clinicaltrials.gov/AllPublicXML.zip'  \n",
    "wget.download(url, path_for_download) \n",
    "\n",
    "now = datetime.datetime.now()\n",
    "current_download = ('\\nData downloaded from clinicaltrials.gov on {}\\n'.format(now.strftime(\"%Y-%m-%d %H:%M\")))\n",
    "\n",
    "print(current_download) ##use later as a reference\n"
   ]
  },
  {
   "cell_type": "code",
   "execution_count": null,
   "metadata": {},
   "outputs": [],
   "source": [
    "with open('../logs/setup-logs.txt', 'a') as the_file:\n",
    "    the_file.write(current_download)"
   ]
  },
  {
   "cell_type": "markdown",
   "metadata": {},
   "source": [
    "## Unzip bulk download"
   ]
  },
  {
   "cell_type": "code",
   "execution_count": 11,
   "metadata": {},
   "outputs": [],
   "source": [
    "# Unzip bulk download from clinicaltrials.gov\n",
    "\n",
    "bulk_file = '/AllPublicXML.zip'\n",
    "\n",
    "def unzip_file(f, dest):\n",
    "    print(\"Unzipping file...\")\n",
    "    data_zip = zipfile.ZipFile(f)\n",
    "    data_zip.extractall(dest)\n",
    "    print('----{} unzipped in {}----'.format(f, dest))\n",
    " \n",
    "unzip_file(path_for_download + bulk_file, path_dest_unzip)"
   ]
  },
  {
   "cell_type": "markdown",
   "metadata": {},
   "source": [
    "### Basic checks & info on files"
   ]
  },
  {
   "cell_type": "code",
   "execution_count": 12,
   "metadata": {
    "scrolled": true
   },
   "outputs": [],
   "source": [
    "# Number of folders\n",
    "\n",
    "folders = []\n",
    "\n",
    "for i in os.listdir(path_dest_unzip):\n",
    "    folders.append(i)\n",
    "\n",
    "print(\"Number of folders: \" + str(len(folders)))\n",
    "print(\"First 5 folders: \" + str(folders[0:5]))"
   ]
  },
  {
   "cell_type": "code",
   "execution_count": 14,
   "metadata": {},
   "outputs": [],
   "source": [
    "# Calculate number of trials in unzipped file\n",
    "\n",
    "def list_files(dir):\n",
    "    r = []\n",
    "    for root, dirs, files in os.walk(dir):\n",
    "        for name in files:\n",
    "            r.append(os.path.join(root, name))\n",
    "    return r\n",
    "\n",
    "\n",
    "data = list_files(path_dest_unzip)\n",
    "print(\"Number of trials: \" + str(len(data)-1))"
   ]
  },
  {
   "cell_type": "markdown",
   "metadata": {},
   "source": [
    "## Move all xml files into a folder"
   ]
  },
  {
   "cell_type": "code",
   "execution_count": 16,
   "metadata": {},
   "outputs": [],
   "source": [
    "# Move all xml files into all_trials folder\n",
    "\n",
    "for d in data: \n",
    "    try:\n",
    "        if d.endswith('.xml'):\n",
    "            shutil.move(d, path_all_trials)\n",
    "    except IOError as e:\n",
    "        with open(logs+filename, 'w+') as file:\n",
    "            file.write(str(e) + '/n')\n",
    "        pass\n",
    "\n",
    "print(str(\"Files moved to {}\".format(path_all_trials)))"
   ]
  },
  {
   "cell_type": "code",
   "execution_count": 18,
   "metadata": {},
   "outputs": [],
   "source": [
    "# Get all_trials numbers & size\n",
    "\n",
    "records = [] \n",
    "\n",
    "def get_size(start_path):\n",
    "    total_size = 0\n",
    "    for dirpath, dirnames, filenames in os.walk(start_path):\n",
    "        for f in filenames:\n",
    "            records.append(f)\n",
    "            fp = os.path.join(dirpath, f)\n",
    "            total_size += os.path.getsize(fp)\n",
    "    return total_size / 1000000000\n",
    "\n",
    "\n",
    "print(\"All_Trials folder: \" + str(round(get_size(path_all_trials), 2)) + \" Gb\")\n",
    "print(records[0:5])"
   ]
  },
  {
   "cell_type": "code",
   "execution_count": 19,
   "metadata": {},
   "outputs": [],
   "source": [
    "# Remove unzip files after completing setup\n",
    "\n",
    "try:\n",
    "    shutil.rmtree(path_dest_unzip)\n",
    "    print(\"unzip folder deleted\")\n",
    "except IOError as e:\n",
    "    print(e)\n",
    "    pass"
   ]
  },
  {
   "cell_type": "code",
   "execution_count": null,
   "metadata": {},
   "outputs": [],
   "source": []
  }
 ],
 "metadata": {
  "kernelspec": {
   "display_name": "Python 3",
   "language": "python",
   "name": "python3"
  },
  "language_info": {
   "codemirror_mode": {
    "name": "ipython",
    "version": 3
   },
   "file_extension": ".py",
   "mimetype": "text/x-python",
   "name": "python",
   "nbconvert_exporter": "python",
   "pygments_lexer": "ipython3",
   "version": "3.7.3"
  }
 },
 "nbformat": 4,
 "nbformat_minor": 2
}
