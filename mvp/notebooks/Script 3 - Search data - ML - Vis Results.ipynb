{
 "cells": [
  {
   "cell_type": "markdown",
   "metadata": {},
   "source": [
    "# MVP workflow\n",
    "- Data from clinicaltrials.gov"
   ]
  },
  {
   "cell_type": "code",
   "execution_count": 14,
   "metadata": {},
   "outputs": [
    {
     "ename": "ModuleNotFoundError",
     "evalue": "No module named 'spacy'",
     "output_type": "error",
     "traceback": [
      "\u001b[0;31m---------------------------------------------------------------------------\u001b[0m",
      "\u001b[0;31mModuleNotFoundError\u001b[0m                       Traceback (most recent call last)",
      "\u001b[0;32m<ipython-input-14-c96c822cf7ff>\u001b[0m in \u001b[0;36m<module>\u001b[0;34m\u001b[0m\n\u001b[1;32m      4\u001b[0m \u001b[0;32mimport\u001b[0m \u001b[0mnumpy\u001b[0m \u001b[0;32mas\u001b[0m \u001b[0mnp\u001b[0m\u001b[0;34m\u001b[0m\u001b[0m\n\u001b[1;32m      5\u001b[0m \u001b[0;32mimport\u001b[0m \u001b[0mpandas\u001b[0m \u001b[0;32mas\u001b[0m \u001b[0mpd\u001b[0m\u001b[0;34m\u001b[0m\u001b[0m\n\u001b[0;32m----> 6\u001b[0;31m \u001b[0;32mimport\u001b[0m \u001b[0mspacy\u001b[0m\u001b[0;34m\u001b[0m\u001b[0m\n\u001b[0m\u001b[1;32m      7\u001b[0m \u001b[0;32mimport\u001b[0m \u001b[0mscispacy\u001b[0m\u001b[0;34m\u001b[0m\u001b[0m\n",
      "\u001b[0;31mModuleNotFoundError\u001b[0m: No module named 'spacy'"
     ]
    }
   ],
   "source": [
    "import json, os\n",
    "import seaborn as sns\n",
    "import matplotlib.pyplot as plt\n",
    "import numpy as np\n",
    "import pandas as pd\n",
    "import spacy\n",
    "import scispacy"
   ]
  },
  {
   "cell_type": "markdown",
   "metadata": {},
   "source": [
    "## Load json file with parsed information"
   ]
  },
  {
   "cell_type": "code",
   "execution_count": 2,
   "metadata": {},
   "outputs": [],
   "source": [
    "# paths\n",
    "path_to_json_file = os.path.abspath('../data/json/')\n",
    "\n",
    "# json file\n",
    "json_file = '/all_parsed_data_json' #name json file  \n",
    "file = '{}{}.json'.format(path_to_json_file, json_file)\n",
    "\n",
    "# load json file\n",
    "df = pd.read_json(file)"
   ]
  },
  {
   "cell_type": "code",
   "execution_count": 3,
   "metadata": {},
   "outputs": [
    {
     "data": {
      "text/html": [
       "<div>\n",
       "<style scoped>\n",
       "    .dataframe tbody tr th:only-of-type {\n",
       "        vertical-align: middle;\n",
       "    }\n",
       "\n",
       "    .dataframe tbody tr th {\n",
       "        vertical-align: top;\n",
       "    }\n",
       "\n",
       "    .dataframe thead th {\n",
       "        text-align: right;\n",
       "    }\n",
       "</style>\n",
       "<table border=\"1\" class=\"dataframe\">\n",
       "  <thead>\n",
       "    <tr style=\"text-align: right;\">\n",
       "      <th></th>\n",
       "      <th>nct_id</th>\n",
       "      <th>study_first_submitted</th>\n",
       "      <th>source</th>\n",
       "      <th>brief_title</th>\n",
       "      <th>overall_status</th>\n",
       "      <th>verification_date</th>\n",
       "      <th>study_type</th>\n",
       "      <th>study_first_posted</th>\n",
       "      <th>last_update_submitted</th>\n",
       "      <th>last_update_posted</th>\n",
       "      <th>...</th>\n",
       "      <th>detailed_description/textblock</th>\n",
       "      <th>brief_summary/textblock</th>\n",
       "      <th>location/facility/address/city</th>\n",
       "      <th>location/facility/address/country</th>\n",
       "      <th>location/facility/address/zip</th>\n",
       "      <th>sponsors/lead_sponsor/agency</th>\n",
       "      <th>sponsors/lead_sponsor/agency_class</th>\n",
       "      <th>study_design_info/allocation</th>\n",
       "      <th>study_design_info/intervention_model</th>\n",
       "      <th>study_design_info/primary_purpose</th>\n",
       "    </tr>\n",
       "  </thead>\n",
       "  <tbody>\n",
       "    <tr>\n",
       "      <th>0</th>\n",
       "      <td>NCT01236404</td>\n",
       "      <td>November 5, 2010</td>\n",
       "      <td>PhaseBio Pharmaceuticals Inc.</td>\n",
       "      <td>Phase 1/2a, Randomized, Double-Blind, Placebo-...</td>\n",
       "      <td>Completed</td>\n",
       "      <td>May 2013</td>\n",
       "      <td>Interventional</td>\n",
       "      <td>November 8, 2010</td>\n",
       "      <td>May 13, 2013</td>\n",
       "      <td>May 21, 2013</td>\n",
       "      <td>...</td>\n",
       "      <td>None</td>\n",
       "      <td>\\n      Primary objective:\\n\\n      To evaluat...</td>\n",
       "      <td>Walnut Creek</td>\n",
       "      <td>United States</td>\n",
       "      <td>94598</td>\n",
       "      <td>PhaseBio Pharmaceuticals Inc.</td>\n",
       "      <td>Industry</td>\n",
       "      <td>Randomized</td>\n",
       "      <td>Parallel Assignment</td>\n",
       "      <td>Treatment</td>\n",
       "    </tr>\n",
       "    <tr>\n",
       "      <th>1</th>\n",
       "      <td>NCT00275600</td>\n",
       "      <td>January 10, 2006</td>\n",
       "      <td>Mayo Clinic</td>\n",
       "      <td>Randomized Clinical Trial of Vitamin E and Eve...</td>\n",
       "      <td>Completed</td>\n",
       "      <td>November 2009</td>\n",
       "      <td>Interventional</td>\n",
       "      <td>January 12, 2006</td>\n",
       "      <td>November 25, 2009</td>\n",
       "      <td>November 26, 2009</td>\n",
       "      <td>...</td>\n",
       "      <td>\\n      Cyclical mastalgia is a common complai...</td>\n",
       "      <td>\\n      This study is being done to find out w...</td>\n",
       "      <td>Rochester</td>\n",
       "      <td>United States</td>\n",
       "      <td>55905</td>\n",
       "      <td>Mayo Clinic</td>\n",
       "      <td>Other</td>\n",
       "      <td>Randomized</td>\n",
       "      <td>Parallel Assignment</td>\n",
       "      <td>Treatment</td>\n",
       "    </tr>\n",
       "    <tr>\n",
       "      <th>10</th>\n",
       "      <td>NCT01810211</td>\n",
       "      <td>March 8, 2013</td>\n",
       "      <td>Nova Southeastern University</td>\n",
       "      <td>The Most Effective Intervention for Reducing P...</td>\n",
       "      <td>Completed</td>\n",
       "      <td>March 2014</td>\n",
       "      <td>Interventional</td>\n",
       "      <td>March 13, 2013</td>\n",
       "      <td>September 24, 2014</td>\n",
       "      <td>September 26, 2014</td>\n",
       "      <td>...</td>\n",
       "      <td>None</td>\n",
       "      <td>\\n      This study will look at which, if any,...</td>\n",
       "      <td>Raleigh</td>\n",
       "      <td>United States</td>\n",
       "      <td>27609</td>\n",
       "      <td>Nova Southeastern University</td>\n",
       "      <td>Other</td>\n",
       "      <td>Randomized</td>\n",
       "      <td>Parallel Assignment</td>\n",
       "      <td>Treatment</td>\n",
       "    </tr>\n",
       "    <tr>\n",
       "      <th>100</th>\n",
       "      <td>NCT00826111</td>\n",
       "      <td>January 19, 2009</td>\n",
       "      <td>Steward St. Elizabeth's Medical Center of Bost...</td>\n",
       "      <td>The Effects of Eszopiclone and Lexapro on Pref...</td>\n",
       "      <td>Completed</td>\n",
       "      <td>June 2012</td>\n",
       "      <td>Interventional</td>\n",
       "      <td>January 21, 2009</td>\n",
       "      <td>June 28, 2012</td>\n",
       "      <td>June 29, 2012</td>\n",
       "      <td>...</td>\n",
       "      <td>None</td>\n",
       "      <td>\\n      The study examined the effects of addi...</td>\n",
       "      <td>Boston</td>\n",
       "      <td>United States</td>\n",
       "      <td>02135</td>\n",
       "      <td>Steward St. Elizabeth's Medical Center of Bost...</td>\n",
       "      <td>Other</td>\n",
       "      <td>Randomized</td>\n",
       "      <td>Parallel Assignment</td>\n",
       "      <td>Treatment</td>\n",
       "    </tr>\n",
       "    <tr>\n",
       "      <th>1000</th>\n",
       "      <td>NCT02813850</td>\n",
       "      <td>June 23, 2016</td>\n",
       "      <td>Assistance Publique - Hôpitaux de Paris</td>\n",
       "      <td>Oxygen Therapy and Pregnancy in Sickle Cell Di...</td>\n",
       "      <td>Recruiting</td>\n",
       "      <td>March 2017</td>\n",
       "      <td>Interventional</td>\n",
       "      <td>June 27, 2016</td>\n",
       "      <td>December 20, 2017</td>\n",
       "      <td>December 21, 2017</td>\n",
       "      <td>...</td>\n",
       "      <td>\\n      Sickle cell disease (SCD) corresponds ...</td>\n",
       "      <td>\\n      The purpose of this study is to assess...</td>\n",
       "      <td>Paris</td>\n",
       "      <td>France</td>\n",
       "      <td>75015</td>\n",
       "      <td>Assistance Publique - Hôpitaux de Paris</td>\n",
       "      <td>Other</td>\n",
       "      <td>Randomized</td>\n",
       "      <td>Parallel Assignment</td>\n",
       "      <td>Prevention</td>\n",
       "    </tr>\n",
       "  </tbody>\n",
       "</table>\n",
       "<p>5 rows × 24 columns</p>\n",
       "</div>"
      ],
      "text/plain": [
       "           nct_id study_first_submitted  \\\n",
       "0     NCT01236404      November 5, 2010   \n",
       "1     NCT00275600      January 10, 2006   \n",
       "10    NCT01810211         March 8, 2013   \n",
       "100   NCT00826111      January 19, 2009   \n",
       "1000  NCT02813850         June 23, 2016   \n",
       "\n",
       "                                                 source  \\\n",
       "0                         PhaseBio Pharmaceuticals Inc.   \n",
       "1                                           Mayo Clinic   \n",
       "10                         Nova Southeastern University   \n",
       "100   Steward St. Elizabeth's Medical Center of Bost...   \n",
       "1000            Assistance Publique - Hôpitaux de Paris   \n",
       "\n",
       "                                            brief_title overall_status  \\\n",
       "0     Phase 1/2a, Randomized, Double-Blind, Placebo-...      Completed   \n",
       "1     Randomized Clinical Trial of Vitamin E and Eve...      Completed   \n",
       "10    The Most Effective Intervention for Reducing P...      Completed   \n",
       "100   The Effects of Eszopiclone and Lexapro on Pref...      Completed   \n",
       "1000  Oxygen Therapy and Pregnancy in Sickle Cell Di...     Recruiting   \n",
       "\n",
       "     verification_date      study_type study_first_posted  \\\n",
       "0             May 2013  Interventional   November 8, 2010   \n",
       "1        November 2009  Interventional   January 12, 2006   \n",
       "10          March 2014  Interventional     March 13, 2013   \n",
       "100          June 2012  Interventional   January 21, 2009   \n",
       "1000        March 2017  Interventional      June 27, 2016   \n",
       "\n",
       "     last_update_submitted  last_update_posted  ...  \\\n",
       "0             May 13, 2013        May 21, 2013  ...   \n",
       "1        November 25, 2009   November 26, 2009  ...   \n",
       "10      September 24, 2014  September 26, 2014  ...   \n",
       "100          June 28, 2012       June 29, 2012  ...   \n",
       "1000     December 20, 2017   December 21, 2017  ...   \n",
       "\n",
       "                         detailed_description/textblock  \\\n",
       "0                                                  None   \n",
       "1     \\n      Cyclical mastalgia is a common complai...   \n",
       "10                                                 None   \n",
       "100                                                None   \n",
       "1000  \\n      Sickle cell disease (SCD) corresponds ...   \n",
       "\n",
       "                                brief_summary/textblock  \\\n",
       "0     \\n      Primary objective:\\n\\n      To evaluat...   \n",
       "1     \\n      This study is being done to find out w...   \n",
       "10    \\n      This study will look at which, if any,...   \n",
       "100   \\n      The study examined the effects of addi...   \n",
       "1000  \\n      The purpose of this study is to assess...   \n",
       "\n",
       "     location/facility/address/city location/facility/address/country  \\\n",
       "0                      Walnut Creek                     United States   \n",
       "1                         Rochester                     United States   \n",
       "10                          Raleigh                     United States   \n",
       "100                          Boston                     United States   \n",
       "1000                          Paris                            France   \n",
       "\n",
       "     location/facility/address/zip  \\\n",
       "0                            94598   \n",
       "1                            55905   \n",
       "10                           27609   \n",
       "100                          02135   \n",
       "1000                         75015   \n",
       "\n",
       "                           sponsors/lead_sponsor/agency  \\\n",
       "0                         PhaseBio Pharmaceuticals Inc.   \n",
       "1                                           Mayo Clinic   \n",
       "10                         Nova Southeastern University   \n",
       "100   Steward St. Elizabeth's Medical Center of Bost...   \n",
       "1000            Assistance Publique - Hôpitaux de Paris   \n",
       "\n",
       "     sponsors/lead_sponsor/agency_class study_design_info/allocation  \\\n",
       "0                              Industry                   Randomized   \n",
       "1                                 Other                   Randomized   \n",
       "10                                Other                   Randomized   \n",
       "100                               Other                   Randomized   \n",
       "1000                              Other                   Randomized   \n",
       "\n",
       "     study_design_info/intervention_model study_design_info/primary_purpose  \n",
       "0                     Parallel Assignment                         Treatment  \n",
       "1                     Parallel Assignment                         Treatment  \n",
       "10                    Parallel Assignment                         Treatment  \n",
       "100                   Parallel Assignment                         Treatment  \n",
       "1000                  Parallel Assignment                        Prevention  \n",
       "\n",
       "[5 rows x 24 columns]"
      ]
     },
     "execution_count": 3,
     "metadata": {},
     "output_type": "execute_result"
    }
   ],
   "source": [
    "df.head()"
   ]
  },
  {
   "cell_type": "code",
   "execution_count": 5,
   "metadata": {},
   "outputs": [
    {
     "data": {
      "text/plain": [
       "(5984, 24)"
      ]
     },
     "execution_count": 5,
     "metadata": {},
     "output_type": "execute_result"
    }
   ],
   "source": [
    "df.shape"
   ]
  },
  {
   "cell_type": "markdown",
   "metadata": {},
   "source": [
    "## Preprocess and clean data"
   ]
  },
  {
   "cell_type": "code",
   "execution_count": 6,
   "metadata": {},
   "outputs": [],
   "source": [
    "# change column type\n",
    "def data_types(dataframe, cols = [], to_type = ''):\n",
    "    for col in cols:\n",
    "        dataframe[col] = df[col].astype(to_type)"
   ]
  },
  {
   "cell_type": "code",
   "execution_count": 7,
   "metadata": {},
   "outputs": [],
   "source": [
    "columns_dates = ['study_first_submitted', 'study_first_posted', 'last_update_submitted', 'last_update_posted', 'verification_date']\n",
    "data_types(df, columns_dates, 'datetime64')"
   ]
  },
  {
   "cell_type": "code",
   "execution_count": 8,
   "metadata": {},
   "outputs": [],
   "source": [
    "# Extract year \n",
    "df['year_submitted'] = df['study_first_submitted'].dt.year\n",
    "df['year_last_updated'] = df['last_update_submitted'].dt.year"
   ]
  },
  {
   "cell_type": "code",
   "execution_count": 9,
   "metadata": {},
   "outputs": [],
   "source": [
    "# Remove /n in all df\n",
    "df = df.replace(r'\\n',' ', regex=True)"
   ]
  },
  {
   "cell_type": "code",
   "execution_count": 10,
   "metadata": {},
   "outputs": [],
   "source": [
    "# Create new column for all text\n",
    "df['all_text'] = df['source'] + ' ' + df['brief_title'] + ' ' + df['condition'] + ' ' + df['condition_browse/mesh_term'] + ' '+ df['intervention_browse/mesh_term'] + ' '+ df['detailed_description/textblock'] + ' ' + df['brief_summary/textblock']\n",
    "\n",
    "# All_text in lowercase\n",
    "df['all_text'] = df['all_text'].str.lower()\n",
    "\n",
    "# remove extra whitespace\n",
    "df.all_text = df.all_text.replace('\\s+', ' ', regex=True)\n"
   ]
  },
  {
   "cell_type": "code",
   "execution_count": 11,
   "metadata": {},
   "outputs": [
    {
     "data": {
      "text/plain": [
       "'phasebio pharmaceuticals inc. phase 1/2a, randomized, double-blind, placebo-controlled, study to assess safety, tolerability, pk and pd response of pb1023 injection following single and multiple sq doses in adults with type 2 diabetes mellitus diabetes mellitus, type 2 diabetes mellitus none none primary objective: to evaluate the safety and tolerability of single and multiple ascending doses of pb1023 administered as a subcutaneous (sc) injection in adult subjects with t2dm. secondary objectives: 1. to characterize the pharmacokinetic profile of pb1023 after single and multiple ascending doses of pb1023. 2. to assess the pharmacodynamic response of various single and multiple doses of pb1023 (daily fasting plasma glucose, and serial glucose, c-peptide and insulin levels in response to a liquid mixed meal tolerance test (mmtt). '"
      ]
     },
     "execution_count": 11,
     "metadata": {},
     "output_type": "execute_result"
    }
   ],
   "source": [
    "df['all_text'][0]"
   ]
  },
  {
   "cell_type": "code",
   "execution_count": 12,
   "metadata": {},
   "outputs": [
    {
     "data": {
      "text/plain": [
       "' Primary objective: To evaluate the safety and tolerability of single and multiple ascending doses of PB1023 administered as a subcutaneous (SC) injection in adult subjects with T2DM. Secondary objectives: 1. To characterize the pharmacokinetic profile of PB1023 after single and multiple ascending doses of PB1023. 2. To assess the pharmacodynamic response of various single and multiple doses of PB1023 (daily fasting plasma glucose, and serial glucose, c-peptide and insulin levels in response to a liquid Mixed Meal Tolerance Test (MMTT). '"
      ]
     },
     "execution_count": 12,
     "metadata": {},
     "output_type": "execute_result"
    }
   ],
   "source": [
    "# Remove extra white space in summary\n",
    "df['brief_summary/textblock'] = df['brief_summary/textblock'].replace('\\s+', ' ', regex=True)\n",
    "df['brief_summary/textblock'][0]\n"
   ]
  },
  {
   "cell_type": "markdown",
   "metadata": {},
   "source": [
    "## ML preprocessing"
   ]
  },
  {
   "cell_type": "code",
   "execution_count": 13,
   "metadata": {},
   "outputs": [
    {
     "ename": "NameError",
     "evalue": "name 'spacy' is not defined",
     "output_type": "error",
     "traceback": [
      "\u001b[0;31m---------------------------------------------------------------------------\u001b[0m",
      "\u001b[0;31mNameError\u001b[0m                                 Traceback (most recent call last)",
      "\u001b[0;32m<ipython-input-13-6cc20af026c9>\u001b[0m in \u001b[0;36m<module>\u001b[0;34m\u001b[0m\n\u001b[1;32m      1\u001b[0m \u001b[0;31m# Test: Extract entities with Scipacy\u001b[0m\u001b[0;34m\u001b[0m\u001b[0;34m\u001b[0m\u001b[0m\n\u001b[0;32m----> 2\u001b[0;31m \u001b[0mnlp\u001b[0m \u001b[0;34m=\u001b[0m \u001b[0mspacy\u001b[0m\u001b[0;34m.\u001b[0m\u001b[0mload\u001b[0m\u001b[0;34m(\u001b[0m\u001b[0;34m'../data/en_core_sci_sm/en_core_sci_sm/'\u001b[0m\u001b[0;34m)\u001b[0m\u001b[0;34m\u001b[0m\u001b[0m\n\u001b[0m\u001b[1;32m      3\u001b[0m \u001b[0;34m\u001b[0m\u001b[0m\n\u001b[1;32m      4\u001b[0m \u001b[0mdoc\u001b[0m \u001b[0;34m=\u001b[0m \u001b[0mnlp\u001b[0m\u001b[0;34m(\u001b[0m\u001b[0mdf\u001b[0m\u001b[0;34m.\u001b[0m\u001b[0mall_text\u001b[0m\u001b[0;34m[\u001b[0m\u001b[0;36m0\u001b[0m\u001b[0;34m]\u001b[0m\u001b[0;34m)\u001b[0m\u001b[0;34m\u001b[0m\u001b[0m\n",
      "\u001b[0;31mNameError\u001b[0m: name 'spacy' is not defined"
     ]
    }
   ],
   "source": [
    "# Test: Extract entities with Scipacy\n",
    "nlp = spacy.load('../data/en_core_sci_sm/en_core_sci_sm/')\n",
    "\n",
    "doc = nlp(df.all_text[0])"
   ]
  },
  {
   "cell_type": "code",
   "execution_count": null,
   "metadata": {},
   "outputs": [],
   "source": []
  }
 ],
 "metadata": {
  "kernelspec": {
   "display_name": "Python 3",
   "language": "python",
   "name": "python3"
  },
  "language_info": {
   "codemirror_mode": {
    "name": "ipython",
    "version": 3
   },
   "file_extension": ".py",
   "mimetype": "text/x-python",
   "name": "python",
   "nbconvert_exporter": "python",
   "pygments_lexer": "ipython3",
   "version": "3.7.0"
  }
 },
 "nbformat": 4,
 "nbformat_minor": 2
}
