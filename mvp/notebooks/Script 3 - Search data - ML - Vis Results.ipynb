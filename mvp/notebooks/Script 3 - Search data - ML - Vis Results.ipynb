{
 "cells": [
  {
   "cell_type": "markdown",
   "metadata": {},
   "source": [
    "# MVP workflow\n",
    "- Data from clinicaltrials.gov"
   ]
  },
  {
   "cell_type": "code",
   "execution_count": 1,
   "metadata": {},
   "outputs": [],
   "source": [
    "import json, os\n",
    "import seaborn as sns\n",
    "import matplotlib.pyplot as plt\n",
    "import numpy as np\n",
    "import pandas as pd"
   ]
  },
  {
   "cell_type": "markdown",
   "metadata": {},
   "source": [
    "## Load json file with parsed information"
   ]
  },
  {
   "cell_type": "code",
   "execution_count": 2,
   "metadata": {},
   "outputs": [],
   "source": [
    "# paths\n",
    "path_to_json_file = os.path.abspath('../data/json/')\n",
    "\n",
    "# json file\n",
    "json_file = '/all_parsed_data_json' #name json file  \n",
    "file = '{}{}.json'.format(path_to_json_file, json_file)\n",
    "\n",
    "# load json file\n",
    "df = pd.read_json(file)"
   ]
  },
  {
   "cell_type": "code",
   "execution_count": 3,
   "metadata": {},
   "outputs": [
    {
     "data": {
      "text/html": [
       "<div>\n",
       "<style scoped>\n",
       "    .dataframe tbody tr th:only-of-type {\n",
       "        vertical-align: middle;\n",
       "    }\n",
       "\n",
       "    .dataframe tbody tr th {\n",
       "        vertical-align: top;\n",
       "    }\n",
       "\n",
       "    .dataframe thead th {\n",
       "        text-align: right;\n",
       "    }\n",
       "</style>\n",
       "<table border=\"1\" class=\"dataframe\">\n",
       "  <thead>\n",
       "    <tr style=\"text-align: right;\">\n",
       "      <th></th>\n",
       "      <th>nct_id</th>\n",
       "      <th>study_first_submitted</th>\n",
       "      <th>source</th>\n",
       "      <th>brief_title</th>\n",
       "      <th>overall_status</th>\n",
       "      <th>verification_date</th>\n",
       "      <th>study_type</th>\n",
       "      <th>study_first_posted</th>\n",
       "      <th>last_update_submitted</th>\n",
       "      <th>last_update_posted</th>\n",
       "      <th>...</th>\n",
       "      <th>detailed_description/textblock</th>\n",
       "      <th>brief_summary/textblock</th>\n",
       "      <th>location/facility/address/city</th>\n",
       "      <th>location/facility/address/country</th>\n",
       "      <th>location/facility/address/zip</th>\n",
       "      <th>sponsors/lead_sponsor/agency</th>\n",
       "      <th>sponsors/lead_sponsor/agency_class</th>\n",
       "      <th>study_design_info/allocation</th>\n",
       "      <th>study_design_info/intervention_model</th>\n",
       "      <th>study_design_info/primary_purpose</th>\n",
       "    </tr>\n",
       "  </thead>\n",
       "  <tbody>\n",
       "    <tr>\n",
       "      <th>0</th>\n",
       "      <td>NCT00391586</td>\n",
       "      <td>October 23, 2006</td>\n",
       "      <td>New Mexico Cancer Care Alliance</td>\n",
       "      <td>Erlotinib and Standard Platinum-Based Chemothe...</td>\n",
       "      <td>Terminated</td>\n",
       "      <td>August 2015</td>\n",
       "      <td>Interventional</td>\n",
       "      <td>October 24, 2006</td>\n",
       "      <td>August 14, 2015</td>\n",
       "      <td>August 17, 2015</td>\n",
       "      <td>...</td>\n",
       "      <td>\\n      To compare the activities (the progres...</td>\n",
       "      <td>\\n      This study was conducted to compare th...</td>\n",
       "      <td>Albuquerque</td>\n",
       "      <td>United States</td>\n",
       "      <td>87102</td>\n",
       "      <td>New Mexico Cancer Care Alliance</td>\n",
       "      <td>Other</td>\n",
       "      <td>None</td>\n",
       "      <td>Single Group Assignment</td>\n",
       "      <td>Treatment</td>\n",
       "    </tr>\n",
       "    <tr>\n",
       "      <th>1</th>\n",
       "      <td>NCT03472664</td>\n",
       "      <td>March 12, 2018</td>\n",
       "      <td>Wake Forest University Health Sciences</td>\n",
       "      <td>Brain Energy for Amyloid Transformation in Alz...</td>\n",
       "      <td>Recruiting</td>\n",
       "      <td>July 2018</td>\n",
       "      <td>Interventional</td>\n",
       "      <td>March 21, 2018</td>\n",
       "      <td>July 30, 2018</td>\n",
       "      <td>August 1, 2018</td>\n",
       "      <td>...</td>\n",
       "      <td>\\n      This study will examine the effects of...</td>\n",
       "      <td>\\n      The Brain Energy for Amyloid Transform...</td>\n",
       "      <td>Winston-Salem</td>\n",
       "      <td>United States</td>\n",
       "      <td>27157</td>\n",
       "      <td>Wake Forest University Health Sciences</td>\n",
       "      <td>Other</td>\n",
       "      <td>Randomized</td>\n",
       "      <td>Parallel Assignment</td>\n",
       "      <td>Treatment</td>\n",
       "    </tr>\n",
       "    <tr>\n",
       "      <th>10</th>\n",
       "      <td>NCT01009658</td>\n",
       "      <td>November 6, 2009</td>\n",
       "      <td>Gunma University</td>\n",
       "      <td>MSG and Gastrointestinal Motility</td>\n",
       "      <td>Completed</td>\n",
       "      <td>March 2015</td>\n",
       "      <td>Interventional</td>\n",
       "      <td>November 9, 2009</td>\n",
       "      <td>March 25, 2015</td>\n",
       "      <td>March 26, 2015</td>\n",
       "      <td>...</td>\n",
       "      <td>\\n      Amino acids such as monosodium glutama...</td>\n",
       "      <td>\\n      The purpose of this study is to clarif...</td>\n",
       "      <td>Maebashi</td>\n",
       "      <td>Japan</td>\n",
       "      <td>3718511</td>\n",
       "      <td>Gunma University</td>\n",
       "      <td>Other</td>\n",
       "      <td>Randomized</td>\n",
       "      <td>Crossover Assignment</td>\n",
       "      <td>Basic Science</td>\n",
       "    </tr>\n",
       "    <tr>\n",
       "      <th>100</th>\n",
       "      <td>NCT03184311</td>\n",
       "      <td>June 2, 2017</td>\n",
       "      <td>Cantonal Hosptal, Baselland</td>\n",
       "      <td>High-intensity Interval Training in Heart Fail...</td>\n",
       "      <td>Not yet recruiting</td>\n",
       "      <td>June 2017</td>\n",
       "      <td>Interventional</td>\n",
       "      <td>June 12, 2017</td>\n",
       "      <td>June 9, 2017</td>\n",
       "      <td>June 12, 2017</td>\n",
       "      <td>...</td>\n",
       "      <td>\\n      Heart failure (HF) with preserved ejec...</td>\n",
       "      <td>\\n      This study investigates the effects of...</td>\n",
       "      <td>None</td>\n",
       "      <td>None</td>\n",
       "      <td>None</td>\n",
       "      <td>Cantonal Hosptal, Baselland</td>\n",
       "      <td>Other</td>\n",
       "      <td>Randomized</td>\n",
       "      <td>Parallel Assignment</td>\n",
       "      <td>Treatment</td>\n",
       "    </tr>\n",
       "    <tr>\n",
       "      <th>1000</th>\n",
       "      <td>NCT00093301</td>\n",
       "      <td>October 5, 2004</td>\n",
       "      <td>Wentworth Area Health Services</td>\n",
       "      <td>Levosimendan Versus Dobutamine in Shock Patients</td>\n",
       "      <td>Unknown status</td>\n",
       "      <td>December 2011</td>\n",
       "      <td>Interventional</td>\n",
       "      <td>October 7, 2004</td>\n",
       "      <td>June 23, 2005</td>\n",
       "      <td>June 24, 2005</td>\n",
       "      <td>...</td>\n",
       "      <td>None</td>\n",
       "      <td>\\n      The purpose of the study is to compare...</td>\n",
       "      <td>Penrith</td>\n",
       "      <td>Australia</td>\n",
       "      <td>2750</td>\n",
       "      <td>Wentworth Area Health Services</td>\n",
       "      <td>Other</td>\n",
       "      <td>Randomized</td>\n",
       "      <td>Parallel Assignment</td>\n",
       "      <td>Treatment</td>\n",
       "    </tr>\n",
       "  </tbody>\n",
       "</table>\n",
       "<p>5 rows × 24 columns</p>\n",
       "</div>"
      ],
      "text/plain": [
       "           nct_id study_first_submitted  \\\n",
       "0     NCT00391586      October 23, 2006   \n",
       "1     NCT03472664        March 12, 2018   \n",
       "10    NCT01009658      November 6, 2009   \n",
       "100   NCT03184311          June 2, 2017   \n",
       "1000  NCT00093301       October 5, 2004   \n",
       "\n",
       "                                      source  \\\n",
       "0            New Mexico Cancer Care Alliance   \n",
       "1     Wake Forest University Health Sciences   \n",
       "10                          Gunma University   \n",
       "100              Cantonal Hosptal, Baselland   \n",
       "1000          Wentworth Area Health Services   \n",
       "\n",
       "                                            brief_title      overall_status  \\\n",
       "0     Erlotinib and Standard Platinum-Based Chemothe...          Terminated   \n",
       "1     Brain Energy for Amyloid Transformation in Alz...          Recruiting   \n",
       "10                    MSG and Gastrointestinal Motility           Completed   \n",
       "100   High-intensity Interval Training in Heart Fail...  Not yet recruiting   \n",
       "1000   Levosimendan Versus Dobutamine in Shock Patients      Unknown status   \n",
       "\n",
       "     verification_date      study_type study_first_posted  \\\n",
       "0          August 2015  Interventional   October 24, 2006   \n",
       "1            July 2018  Interventional     March 21, 2018   \n",
       "10          March 2015  Interventional   November 9, 2009   \n",
       "100          June 2017  Interventional      June 12, 2017   \n",
       "1000     December 2011  Interventional    October 7, 2004   \n",
       "\n",
       "     last_update_submitted last_update_posted  ...  \\\n",
       "0          August 14, 2015    August 17, 2015  ...   \n",
       "1            July 30, 2018     August 1, 2018  ...   \n",
       "10          March 25, 2015     March 26, 2015  ...   \n",
       "100           June 9, 2017      June 12, 2017  ...   \n",
       "1000         June 23, 2005      June 24, 2005  ...   \n",
       "\n",
       "                         detailed_description/textblock  \\\n",
       "0     \\n      To compare the activities (the progres...   \n",
       "1     \\n      This study will examine the effects of...   \n",
       "10    \\n      Amino acids such as monosodium glutama...   \n",
       "100   \\n      Heart failure (HF) with preserved ejec...   \n",
       "1000                                               None   \n",
       "\n",
       "                                brief_summary/textblock  \\\n",
       "0     \\n      This study was conducted to compare th...   \n",
       "1     \\n      The Brain Energy for Amyloid Transform...   \n",
       "10    \\n      The purpose of this study is to clarif...   \n",
       "100   \\n      This study investigates the effects of...   \n",
       "1000  \\n      The purpose of the study is to compare...   \n",
       "\n",
       "     location/facility/address/city location/facility/address/country  \\\n",
       "0                       Albuquerque                     United States   \n",
       "1                     Winston-Salem                     United States   \n",
       "10                         Maebashi                             Japan   \n",
       "100                            None                              None   \n",
       "1000                        Penrith                         Australia   \n",
       "\n",
       "     location/facility/address/zip            sponsors/lead_sponsor/agency  \\\n",
       "0                            87102         New Mexico Cancer Care Alliance   \n",
       "1                            27157  Wake Forest University Health Sciences   \n",
       "10                         3718511                        Gunma University   \n",
       "100                           None             Cantonal Hosptal, Baselland   \n",
       "1000                          2750          Wentworth Area Health Services   \n",
       "\n",
       "     sponsors/lead_sponsor/agency_class study_design_info/allocation  \\\n",
       "0                                 Other                         None   \n",
       "1                                 Other                   Randomized   \n",
       "10                                Other                   Randomized   \n",
       "100                               Other                   Randomized   \n",
       "1000                              Other                   Randomized   \n",
       "\n",
       "     study_design_info/intervention_model study_design_info/primary_purpose  \n",
       "0                 Single Group Assignment                         Treatment  \n",
       "1                     Parallel Assignment                         Treatment  \n",
       "10                   Crossover Assignment                     Basic Science  \n",
       "100                   Parallel Assignment                         Treatment  \n",
       "1000                  Parallel Assignment                         Treatment  \n",
       "\n",
       "[5 rows x 24 columns]"
      ]
     },
     "execution_count": 3,
     "metadata": {},
     "output_type": "execute_result"
    }
   ],
   "source": [
    "df.head()"
   ]
  },
  {
   "cell_type": "markdown",
   "metadata": {},
   "source": [
    "## Preprocess and clean data"
   ]
  },
  {
   "cell_type": "code",
   "execution_count": 6,
   "metadata": {},
   "outputs": [],
   "source": [
    "# change column type\n",
    "def data_types(dataframe, cols = [], to_type = ''):\n",
    "    for col in cols:\n",
    "        dataframe[col] = df[col].astype(to_type)"
   ]
  },
  {
   "cell_type": "code",
   "execution_count": 7,
   "metadata": {},
   "outputs": [],
   "source": [
    "columns_dates = ['study_first_submitted', 'study_first_posted', 'last_update_submitted', 'last_update_posted', 'verification_date']\n",
    "data_types(df, columns_dates, 'datetime64')"
   ]
  },
  {
   "cell_type": "code",
   "execution_count": 9,
   "metadata": {},
   "outputs": [],
   "source": [
    "# Extract year \n",
    "df['year_submitted'] = df['study_first_submitted'].dt.year\n",
    "df['year_last_updated'] = df['last_update_submitted'].dt.year"
   ]
  },
  {
   "cell_type": "code",
   "execution_count": 10,
   "metadata": {},
   "outputs": [],
   "source": [
    "# Remove /n in all df\n",
    "df = df.replace(r'\\n',' ', regex=True)"
   ]
  },
  {
   "cell_type": "code",
   "execution_count": 38,
   "metadata": {},
   "outputs": [],
   "source": [
    "# Create new column for all text\n",
    "df['all_text'] = df['source'] + ' ' + df['brief_title'] + ' ' + df['condition'] + ' ' + df['condition_browse/mesh_term'] + ' '+ df['intervention_browse/mesh_term'] + ' '+ df['detailed_description/textblock'] + ' ' + df['brief_summary/textblock']\n",
    "\n",
    "# All_text in lowercase\n",
    "df['all_text'] = df['all_text'].str.lower()\n",
    "\n",
    "# remove extra whitespace\n",
    "df.all_text = df.all_text.replace('\\s+', ' ', regex=True)\n"
   ]
  },
  {
   "cell_type": "code",
   "execution_count": 39,
   "metadata": {},
   "outputs": [
    {
     "data": {
      "text/plain": [
       "'new mexico cancer care alliance erlotinib and standard platinum-based chemotherapy for newly diagnosed, advanced non-small cell carcinoma of the lung carcinoma, non-small-cell lung carcinoma paclitaxel to compare the activities (the progression-free survival, the incidence and severity of toxicities, and reversibility of toxicities) of erlotinib to that of platinum-based therapy in nsclc. a sequential therapy design has been chosen such that all patients will receive any potential benefits of both platinum-based and erlotinib therapy, without compromising survival by denying anyone potential therapy. with this design, progression-free survival will be tracked by treatment received. however, data will be generated which will show the safety and efficacy of erlotinib in the frontline setting (alone and with historical comparison to platinum-based therapy), as well as the potential safety and activity of platinum-based therapy in the \"second-line\" (post-erlotinib) setting. this should allow for the demonstration of the relative median time to progression, objective response and clinical benefit rates, overall survival, and safety and tolerability of erlotinib and platinum-based therapy in both the frontline and second-line settings in nsclc. also, in this fashion, the treatments serve as controls for each other, as well as being compared to historical controls; in the first line treatment portion, the platinum-based regimens serve as the historical control, while in the second-line setting, erlotinib serves as the historical control arm. this study was conducted to compare the activities of erlotinib to that of intravenous, platinum-based therapy in the treatment of non-small cell lung cancer (nsclc). the goal of this trial was to demonstrate clinical equivalence of erlotinib to platinum-based frontline therapy, compared to historical controls. '"
      ]
     },
     "execution_count": 39,
     "metadata": {},
     "output_type": "execute_result"
    }
   ],
   "source": [
    "df['all_text'][0]"
   ]
  },
  {
   "cell_type": "code",
   "execution_count": 51,
   "metadata": {},
   "outputs": [
    {
     "data": {
      "text/plain": [
       "' This study was conducted to compare the activities of erlotinib to that of intravenous, platinum-based therapy in the treatment of non-small cell lung cancer (NSCLC). The goal of this trial was to demonstrate clinical equivalence of erlotinib to platinum-based frontline therapy, compared to historical controls. '"
      ]
     },
     "execution_count": 51,
     "metadata": {},
     "output_type": "execute_result"
    }
   ],
   "source": [
    "# Remove extra white space in summary\n",
    "df['brief_summary/textblock'] = df['brief_summary/textblock'].replace('\\s+', ' ', regex=True)\n",
    "df['brief_summary/textblock'][0]\n"
   ]
  },
  {
   "cell_type": "code",
   "execution_count": null,
   "metadata": {},
   "outputs": [],
   "source": []
  }
 ],
 "metadata": {
  "kernelspec": {
   "display_name": "Python 3",
   "language": "python",
   "name": "python3"
  },
  "language_info": {
   "codemirror_mode": {
    "name": "ipython",
    "version": 3
   },
   "file_extension": ".py",
   "mimetype": "text/x-python",
   "name": "python",
   "nbconvert_exporter": "python",
   "pygments_lexer": "ipython3",
   "version": "3.7.3"
  }
 },
 "nbformat": 4,
 "nbformat_minor": 2
}
