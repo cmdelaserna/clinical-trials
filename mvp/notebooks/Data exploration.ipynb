{
 "cells": [
  {
   "cell_type": "markdown",
   "metadata": {},
   "source": [
    "# Clinical trials: Data exploration\n"
   ]
  },
  {
   "cell_type": "code",
   "execution_count": 69,
   "metadata": {},
   "outputs": [
    {
     "ename": "ImportError",
     "evalue": "No module named 'matplotlib'",
     "output_type": "error",
     "traceback": [
      "\u001b[0;31m---------------------------------------------------------------------------\u001b[0m",
      "\u001b[0;31mImportError\u001b[0m                               Traceback (most recent call last)",
      "\u001b[0;32m<ipython-input-69-38bb1d5cc93d>\u001b[0m in \u001b[0;36m<module>\u001b[0;34m\u001b[0m\n\u001b[1;32m      3\u001b[0m \u001b[0;32mimport\u001b[0m \u001b[0mos\u001b[0m\u001b[0;34m\u001b[0m\u001b[0m\n\u001b[1;32m      4\u001b[0m \u001b[0;32mimport\u001b[0m \u001b[0mpandas\u001b[0m \u001b[0;32mas\u001b[0m \u001b[0mpd\u001b[0m\u001b[0;34m\u001b[0m\u001b[0m\n\u001b[0;32m----> 5\u001b[0;31m \u001b[0;32mimport\u001b[0m \u001b[0mmatplotlib\u001b[0m\u001b[0;34m.\u001b[0m\u001b[0mpyplot\u001b[0m \u001b[0;32mas\u001b[0m \u001b[0mplt\u001b[0m\u001b[0;34m\u001b[0m\u001b[0m\n\u001b[0m",
      "\u001b[0;31mImportError\u001b[0m: No module named 'matplotlib'"
     ]
    }
   ],
   "source": [
    "import time\n",
    "import json\n",
    "import os\n",
    "import pandas as pd\n",
    "import matplotlib.pyplot as plt"
   ]
  },
  {
   "cell_type": "code",
   "execution_count": 8,
   "metadata": {},
   "outputs": [],
   "source": [
    "base_color = \"#3298D0\"\n",
    "plot_size = (14, 10)"
   ]
  },
  {
   "cell_type": "code",
   "execution_count": 14,
   "metadata": {},
   "outputs": [],
   "source": [
    "# Path for json folder & file\n",
    "path_to_json_file = os.path.abspath('../data/json/')\n",
    "\n",
    "# json file\n",
    "json_file = '/all_trials_json' #name json file  "
   ]
  },
  {
   "cell_type": "markdown",
   "metadata": {},
   "source": [
    "## Import json file in a dataframe/sframe"
   ]
  },
  {
   "cell_type": "code",
   "execution_count": 16,
   "metadata": {},
   "outputs": [
    {
     "name": "stdout",
     "output_type": "stream",
     "text": [
      "CPU times: user 5 µs, sys: 0 ns, total: 5 µs\n",
      "Wall time: 9.06 µs\n"
     ]
    },
    {
     "data": {
      "text/plain": [
       "'/Users/cmserna/Sites/clinical trials/mvp/data/json/all_trials_json.json'"
      ]
     },
     "execution_count": 16,
     "metadata": {},
     "output_type": "execute_result"
    }
   ],
   "source": [
    "# Import json into a dataframe\n",
    "file = '{}{}.json'.format(path_to_json_file, json_file)"
   ]
  },
  {
   "cell_type": "code",
   "execution_count": 17,
   "metadata": {},
   "outputs": [],
   "source": [
    "# breaks with large json file\n",
    "df = pd.read_json(file)"
   ]
  },
  {
   "cell_type": "markdown",
   "metadata": {},
   "source": [
    "## Basic data cleaning"
   ]
  },
  {
   "cell_type": "code",
   "execution_count": 18,
   "metadata": {},
   "outputs": [
    {
     "name": "stdout",
     "output_type": "stream",
     "text": [
      "<class 'pandas.core.frame.DataFrame'>\n",
      "RangeIndex: 286328 entries, 0 to 286327\n",
      "Data columns (total 8 columns):\n",
      "brief_summary/textblock           286328 non-null object\n",
      "brief_title                       286328 non-null object\n",
      "condition                         286328 non-null object\n",
      "detailed_description/textblock    286328 non-null object\n",
      "nct_id                            286328 non-null object\n",
      "source                            286328 non-null object\n",
      "study_first_submitted             286328 non-null object\n",
      "url                               286328 non-null object\n",
      "dtypes: object(8)\n",
      "memory usage: 17.5+ MB\n"
     ]
    }
   ],
   "source": [
    "#Check data\n",
    "df.info()"
   ]
  },
  {
   "cell_type": "code",
   "execution_count": 19,
   "metadata": {},
   "outputs": [
    {
     "data": {
      "text/html": [
       "<div>\n",
       "<style scoped>\n",
       "    .dataframe tbody tr th:only-of-type {\n",
       "        vertical-align: middle;\n",
       "    }\n",
       "\n",
       "    .dataframe tbody tr th {\n",
       "        vertical-align: top;\n",
       "    }\n",
       "\n",
       "    .dataframe thead th {\n",
       "        text-align: right;\n",
       "    }\n",
       "</style>\n",
       "<table border=\"1\" class=\"dataframe\">\n",
       "  <thead>\n",
       "    <tr style=\"text-align: right;\">\n",
       "      <th></th>\n",
       "      <th>brief_summary/textblock</th>\n",
       "      <th>brief_title</th>\n",
       "      <th>condition</th>\n",
       "      <th>detailed_description/textblock</th>\n",
       "      <th>nct_id</th>\n",
       "      <th>source</th>\n",
       "      <th>study_first_submitted</th>\n",
       "      <th>url</th>\n",
       "    </tr>\n",
       "  </thead>\n",
       "  <tbody>\n",
       "    <tr>\n",
       "      <th>0</th>\n",
       "      <td>\\n      This study was conducted to compare th...</td>\n",
       "      <td>Erlotinib and Standard Platinum-Based Chemothe...</td>\n",
       "      <td>Carcinoma, Non-Small-Cell Lung</td>\n",
       "      <td>\\n      To compare the activities (the progres...</td>\n",
       "      <td>NCT00391586</td>\n",
       "      <td>New Mexico Cancer Care Alliance</td>\n",
       "      <td>October 23, 2006</td>\n",
       "      <td>None</td>\n",
       "    </tr>\n",
       "    <tr>\n",
       "      <th>1</th>\n",
       "      <td>\\n      The Brain Energy for Amyloid Transform...</td>\n",
       "      <td>Brain Energy for Amyloid Transformation in Alz...</td>\n",
       "      <td>Alzheimer Disease</td>\n",
       "      <td>\\n      This study will examine the effects of...</td>\n",
       "      <td>NCT03472664</td>\n",
       "      <td>Wake Forest University Health Sciences</td>\n",
       "      <td>March 12, 2018</td>\n",
       "      <td>None</td>\n",
       "    </tr>\n",
       "    <tr>\n",
       "      <th>2</th>\n",
       "      <td>\\n      This observational study is proposed t...</td>\n",
       "      <td>Circulating Cell-free Tumor DNA in the Plasma ...</td>\n",
       "      <td>Gastrointestinal Stromal Tumor (GIST)</td>\n",
       "      <td>\\n      Demetri and colleagues presented, at t...</td>\n",
       "      <td>NCT02443948</td>\n",
       "      <td>Fondazione del Piemonte per l'Oncologia</td>\n",
       "      <td>March 19, 2015</td>\n",
       "      <td>None</td>\n",
       "    </tr>\n",
       "    <tr>\n",
       "      <th>3</th>\n",
       "      <td>\\n      Lesogaberan may be used in Chinese GER...</td>\n",
       "      <td>Lesogaberan in Chinese Patients With Refractor...</td>\n",
       "      <td>Gastroesophageal Reflux Disease</td>\n",
       "      <td>\\n      To test the efficacy and safety of les...</td>\n",
       "      <td>NCT02818309</td>\n",
       "      <td>National Taiwan University Hospital</td>\n",
       "      <td>June 21, 2016</td>\n",
       "      <td>None</td>\n",
       "    </tr>\n",
       "    <tr>\n",
       "      <th>4</th>\n",
       "      <td>\\n      The purpose of this study is to evalua...</td>\n",
       "      <td>Investigation of Intravenous (IV) Administrati...</td>\n",
       "      <td>Asthma</td>\n",
       "      <td>None</td>\n",
       "      <td>NCT00092989</td>\n",
       "      <td>Merck Sharp &amp; Dohme Corp.</td>\n",
       "      <td>September 28, 2004</td>\n",
       "      <td>None</td>\n",
       "    </tr>\n",
       "  </tbody>\n",
       "</table>\n",
       "</div>"
      ],
      "text/plain": [
       "                             brief_summary/textblock  \\\n",
       "0  \\n      This study was conducted to compare th...   \n",
       "1  \\n      The Brain Energy for Amyloid Transform...   \n",
       "2  \\n      This observational study is proposed t...   \n",
       "3  \\n      Lesogaberan may be used in Chinese GER...   \n",
       "4  \\n      The purpose of this study is to evalua...   \n",
       "\n",
       "                                         brief_title  \\\n",
       "0  Erlotinib and Standard Platinum-Based Chemothe...   \n",
       "1  Brain Energy for Amyloid Transformation in Alz...   \n",
       "2  Circulating Cell-free Tumor DNA in the Plasma ...   \n",
       "3  Lesogaberan in Chinese Patients With Refractor...   \n",
       "4  Investigation of Intravenous (IV) Administrati...   \n",
       "\n",
       "                               condition  \\\n",
       "0         Carcinoma, Non-Small-Cell Lung   \n",
       "1                      Alzheimer Disease   \n",
       "2  Gastrointestinal Stromal Tumor (GIST)   \n",
       "3        Gastroesophageal Reflux Disease   \n",
       "4                                 Asthma   \n",
       "\n",
       "                      detailed_description/textblock       nct_id  \\\n",
       "0  \\n      To compare the activities (the progres...  NCT00391586   \n",
       "1  \\n      This study will examine the effects of...  NCT03472664   \n",
       "2  \\n      Demetri and colleagues presented, at t...  NCT02443948   \n",
       "3  \\n      To test the efficacy and safety of les...  NCT02818309   \n",
       "4                                               None  NCT00092989   \n",
       "\n",
       "                                    source study_first_submitted   url  \n",
       "0          New Mexico Cancer Care Alliance      October 23, 2006  None  \n",
       "1   Wake Forest University Health Sciences        March 12, 2018  None  \n",
       "2  Fondazione del Piemonte per l'Oncologia        March 19, 2015  None  \n",
       "3      National Taiwan University Hospital         June 21, 2016  None  \n",
       "4                Merck Sharp & Dohme Corp.    September 28, 2004  None  "
      ]
     },
     "execution_count": 19,
     "metadata": {},
     "output_type": "execute_result"
    }
   ],
   "source": [
    "df.head()"
   ]
  },
  {
   "cell_type": "code",
   "execution_count": 32,
   "metadata": {},
   "outputs": [
    {
     "name": "stdout",
     "output_type": "stream",
     "text": [
      "count     286328\n",
      "unique         1\n",
      "top         None\n",
      "freq      286328\n",
      "Name: url, dtype: object\n"
     ]
    }
   ],
   "source": [
    "# DELETE URL COLUMN\n",
    "\n",
    "print(df.url.describe())\n",
    "df = df.drop(columns = ['url'])"
   ]
  },
  {
   "cell_type": "code",
   "execution_count": 36,
   "metadata": {},
   "outputs": [],
   "source": [
    "# remove \\n values\n",
    "df = df.replace(r'\\n',' ', regex=True) "
   ]
  },
  {
   "cell_type": "code",
   "execution_count": 38,
   "metadata": {},
   "outputs": [
    {
     "data": {
      "text/html": [
       "<div>\n",
       "<style scoped>\n",
       "    .dataframe tbody tr th:only-of-type {\n",
       "        vertical-align: middle;\n",
       "    }\n",
       "\n",
       "    .dataframe tbody tr th {\n",
       "        vertical-align: top;\n",
       "    }\n",
       "\n",
       "    .dataframe thead th {\n",
       "        text-align: right;\n",
       "    }\n",
       "</style>\n",
       "<table border=\"1\" class=\"dataframe\">\n",
       "  <thead>\n",
       "    <tr style=\"text-align: right;\">\n",
       "      <th></th>\n",
       "      <th>brief_summary/textblock</th>\n",
       "      <th>brief_title</th>\n",
       "      <th>condition</th>\n",
       "      <th>detailed_description/textblock</th>\n",
       "      <th>nct_id</th>\n",
       "      <th>source</th>\n",
       "      <th>study_first_submitted</th>\n",
       "    </tr>\n",
       "  </thead>\n",
       "  <tbody>\n",
       "    <tr>\n",
       "      <th>0</th>\n",
       "      <td>This study was conducted to compare the...</td>\n",
       "      <td>Erlotinib and Standard Platinum-Based Chemothe...</td>\n",
       "      <td>Carcinoma, Non-Small-Cell Lung</td>\n",
       "      <td>To compare the activities (the progress...</td>\n",
       "      <td>NCT00391586</td>\n",
       "      <td>New Mexico Cancer Care Alliance</td>\n",
       "      <td>October 23, 2006</td>\n",
       "    </tr>\n",
       "    <tr>\n",
       "      <th>1</th>\n",
       "      <td>The Brain Energy for Amyloid Transforma...</td>\n",
       "      <td>Brain Energy for Amyloid Transformation in Alz...</td>\n",
       "      <td>Alzheimer Disease</td>\n",
       "      <td>This study will examine the effects of ...</td>\n",
       "      <td>NCT03472664</td>\n",
       "      <td>Wake Forest University Health Sciences</td>\n",
       "      <td>March 12, 2018</td>\n",
       "    </tr>\n",
       "    <tr>\n",
       "      <th>2</th>\n",
       "      <td>This observational study is proposed to...</td>\n",
       "      <td>Circulating Cell-free Tumor DNA in the Plasma ...</td>\n",
       "      <td>Gastrointestinal Stromal Tumor (GIST)</td>\n",
       "      <td>Demetri and colleagues presented, at th...</td>\n",
       "      <td>NCT02443948</td>\n",
       "      <td>Fondazione del Piemonte per l'Oncologia</td>\n",
       "      <td>March 19, 2015</td>\n",
       "    </tr>\n",
       "    <tr>\n",
       "      <th>3</th>\n",
       "      <td>Lesogaberan may be used in Chinese GERD...</td>\n",
       "      <td>Lesogaberan in Chinese Patients With Refractor...</td>\n",
       "      <td>Gastroesophageal Reflux Disease</td>\n",
       "      <td>To test the efficacy and safety of leso...</td>\n",
       "      <td>NCT02818309</td>\n",
       "      <td>National Taiwan University Hospital</td>\n",
       "      <td>June 21, 2016</td>\n",
       "    </tr>\n",
       "    <tr>\n",
       "      <th>4</th>\n",
       "      <td>The purpose of this study is to evaluat...</td>\n",
       "      <td>Investigation of Intravenous (IV) Administrati...</td>\n",
       "      <td>Asthma</td>\n",
       "      <td>None</td>\n",
       "      <td>NCT00092989</td>\n",
       "      <td>Merck Sharp &amp; Dohme Corp.</td>\n",
       "      <td>September 28, 2004</td>\n",
       "    </tr>\n",
       "  </tbody>\n",
       "</table>\n",
       "</div>"
      ],
      "text/plain": [
       "                             brief_summary/textblock  \\\n",
       "0         This study was conducted to compare the...   \n",
       "1         The Brain Energy for Amyloid Transforma...   \n",
       "2         This observational study is proposed to...   \n",
       "3         Lesogaberan may be used in Chinese GERD...   \n",
       "4         The purpose of this study is to evaluat...   \n",
       "\n",
       "                                         brief_title  \\\n",
       "0  Erlotinib and Standard Platinum-Based Chemothe...   \n",
       "1  Brain Energy for Amyloid Transformation in Alz...   \n",
       "2  Circulating Cell-free Tumor DNA in the Plasma ...   \n",
       "3  Lesogaberan in Chinese Patients With Refractor...   \n",
       "4  Investigation of Intravenous (IV) Administrati...   \n",
       "\n",
       "                               condition  \\\n",
       "0         Carcinoma, Non-Small-Cell Lung   \n",
       "1                      Alzheimer Disease   \n",
       "2  Gastrointestinal Stromal Tumor (GIST)   \n",
       "3        Gastroesophageal Reflux Disease   \n",
       "4                                 Asthma   \n",
       "\n",
       "                      detailed_description/textblock       nct_id  \\\n",
       "0         To compare the activities (the progress...  NCT00391586   \n",
       "1         This study will examine the effects of ...  NCT03472664   \n",
       "2         Demetri and colleagues presented, at th...  NCT02443948   \n",
       "3         To test the efficacy and safety of leso...  NCT02818309   \n",
       "4                                               None  NCT00092989   \n",
       "\n",
       "                                    source study_first_submitted  \n",
       "0          New Mexico Cancer Care Alliance      October 23, 2006  \n",
       "1   Wake Forest University Health Sciences        March 12, 2018  \n",
       "2  Fondazione del Piemonte per l'Oncologia        March 19, 2015  \n",
       "3      National Taiwan University Hospital         June 21, 2016  \n",
       "4                Merck Sharp & Dohme Corp.    September 28, 2004  "
      ]
     },
     "execution_count": 38,
     "metadata": {},
     "output_type": "execute_result"
    }
   ],
   "source": [
    "df.head(5)"
   ]
  },
  {
   "cell_type": "code",
   "execution_count": 40,
   "metadata": {},
   "outputs": [],
   "source": [
    "# Rename columns\n",
    "df.columns = ['summary', 'title', 'condition', 'full_description', 'id', 'source', 'date']"
   ]
  },
  {
   "cell_type": "code",
   "execution_count": 41,
   "metadata": {},
   "outputs": [
    {
     "data": {
      "text/html": [
       "<div>\n",
       "<style scoped>\n",
       "    .dataframe tbody tr th:only-of-type {\n",
       "        vertical-align: middle;\n",
       "    }\n",
       "\n",
       "    .dataframe tbody tr th {\n",
       "        vertical-align: top;\n",
       "    }\n",
       "\n",
       "    .dataframe thead th {\n",
       "        text-align: right;\n",
       "    }\n",
       "</style>\n",
       "<table border=\"1\" class=\"dataframe\">\n",
       "  <thead>\n",
       "    <tr style=\"text-align: right;\">\n",
       "      <th></th>\n",
       "      <th>summary</th>\n",
       "      <th>title</th>\n",
       "      <th>condition</th>\n",
       "      <th>full_description</th>\n",
       "      <th>id</th>\n",
       "      <th>source</th>\n",
       "      <th>date</th>\n",
       "    </tr>\n",
       "  </thead>\n",
       "  <tbody>\n",
       "    <tr>\n",
       "      <th>0</th>\n",
       "      <td>This study was conducted to compare the...</td>\n",
       "      <td>Erlotinib and Standard Platinum-Based Chemothe...</td>\n",
       "      <td>Carcinoma, Non-Small-Cell Lung</td>\n",
       "      <td>To compare the activities (the progress...</td>\n",
       "      <td>NCT00391586</td>\n",
       "      <td>New Mexico Cancer Care Alliance</td>\n",
       "      <td>October 23, 2006</td>\n",
       "    </tr>\n",
       "    <tr>\n",
       "      <th>1</th>\n",
       "      <td>The Brain Energy for Amyloid Transforma...</td>\n",
       "      <td>Brain Energy for Amyloid Transformation in Alz...</td>\n",
       "      <td>Alzheimer Disease</td>\n",
       "      <td>This study will examine the effects of ...</td>\n",
       "      <td>NCT03472664</td>\n",
       "      <td>Wake Forest University Health Sciences</td>\n",
       "      <td>March 12, 2018</td>\n",
       "    </tr>\n",
       "    <tr>\n",
       "      <th>2</th>\n",
       "      <td>This observational study is proposed to...</td>\n",
       "      <td>Circulating Cell-free Tumor DNA in the Plasma ...</td>\n",
       "      <td>Gastrointestinal Stromal Tumor (GIST)</td>\n",
       "      <td>Demetri and colleagues presented, at th...</td>\n",
       "      <td>NCT02443948</td>\n",
       "      <td>Fondazione del Piemonte per l'Oncologia</td>\n",
       "      <td>March 19, 2015</td>\n",
       "    </tr>\n",
       "    <tr>\n",
       "      <th>3</th>\n",
       "      <td>Lesogaberan may be used in Chinese GERD...</td>\n",
       "      <td>Lesogaberan in Chinese Patients With Refractor...</td>\n",
       "      <td>Gastroesophageal Reflux Disease</td>\n",
       "      <td>To test the efficacy and safety of leso...</td>\n",
       "      <td>NCT02818309</td>\n",
       "      <td>National Taiwan University Hospital</td>\n",
       "      <td>June 21, 2016</td>\n",
       "    </tr>\n",
       "    <tr>\n",
       "      <th>4</th>\n",
       "      <td>The purpose of this study is to evaluat...</td>\n",
       "      <td>Investigation of Intravenous (IV) Administrati...</td>\n",
       "      <td>Asthma</td>\n",
       "      <td>None</td>\n",
       "      <td>NCT00092989</td>\n",
       "      <td>Merck Sharp &amp; Dohme Corp.</td>\n",
       "      <td>September 28, 2004</td>\n",
       "    </tr>\n",
       "  </tbody>\n",
       "</table>\n",
       "</div>"
      ],
      "text/plain": [
       "                                             summary  \\\n",
       "0         This study was conducted to compare the...   \n",
       "1         The Brain Energy for Amyloid Transforma...   \n",
       "2         This observational study is proposed to...   \n",
       "3         Lesogaberan may be used in Chinese GERD...   \n",
       "4         The purpose of this study is to evaluat...   \n",
       "\n",
       "                                               title  \\\n",
       "0  Erlotinib and Standard Platinum-Based Chemothe...   \n",
       "1  Brain Energy for Amyloid Transformation in Alz...   \n",
       "2  Circulating Cell-free Tumor DNA in the Plasma ...   \n",
       "3  Lesogaberan in Chinese Patients With Refractor...   \n",
       "4  Investigation of Intravenous (IV) Administrati...   \n",
       "\n",
       "                               condition  \\\n",
       "0         Carcinoma, Non-Small-Cell Lung   \n",
       "1                      Alzheimer Disease   \n",
       "2  Gastrointestinal Stromal Tumor (GIST)   \n",
       "3        Gastroesophageal Reflux Disease   \n",
       "4                                 Asthma   \n",
       "\n",
       "                                    full_description           id  \\\n",
       "0         To compare the activities (the progress...  NCT00391586   \n",
       "1         This study will examine the effects of ...  NCT03472664   \n",
       "2         Demetri and colleagues presented, at th...  NCT02443948   \n",
       "3         To test the efficacy and safety of leso...  NCT02818309   \n",
       "4                                               None  NCT00092989   \n",
       "\n",
       "                                    source                date  \n",
       "0          New Mexico Cancer Care Alliance    October 23, 2006  \n",
       "1   Wake Forest University Health Sciences      March 12, 2018  \n",
       "2  Fondazione del Piemonte per l'Oncologia      March 19, 2015  \n",
       "3      National Taiwan University Hospital       June 21, 2016  \n",
       "4                Merck Sharp & Dohme Corp.  September 28, 2004  "
      ]
     },
     "execution_count": 41,
     "metadata": {},
     "output_type": "execute_result"
    }
   ],
   "source": [
    "df.head()"
   ]
  },
  {
   "cell_type": "markdown",
   "metadata": {},
   "source": [
    "## Add new date columns"
   ]
  },
  {
   "cell_type": "code",
   "execution_count": 42,
   "metadata": {},
   "outputs": [
    {
     "name": "stdout",
     "output_type": "stream",
     "text": [
      "CPU times: user 41 s, sys: 116 ms, total: 41.1 s\n",
      "Wall time: 41.5 s\n"
     ]
    }
   ],
   "source": [
    "# Create new column: study_first_submitted as dates\n",
    "%time df['full_date'] = pd.to_datetime(df['date'])"
   ]
  },
  {
   "cell_type": "code",
   "execution_count": 43,
   "metadata": {},
   "outputs": [],
   "source": [
    "# Create new column: dates as year\n",
    "df['year'] = df['full_date'].dt.year"
   ]
  },
  {
   "cell_type": "code",
   "execution_count": 45,
   "metadata": {},
   "outputs": [],
   "source": [
    "# Sort records by date\n",
    "df = df.sort_values(by ='full_date')"
   ]
  },
  {
   "cell_type": "code",
   "execution_count": 46,
   "metadata": {},
   "outputs": [
    {
     "data": {
      "text/html": [
       "<div>\n",
       "<style scoped>\n",
       "    .dataframe tbody tr th:only-of-type {\n",
       "        vertical-align: middle;\n",
       "    }\n",
       "\n",
       "    .dataframe tbody tr th {\n",
       "        vertical-align: top;\n",
       "    }\n",
       "\n",
       "    .dataframe thead th {\n",
       "        text-align: right;\n",
       "    }\n",
       "</style>\n",
       "<table border=\"1\" class=\"dataframe\">\n",
       "  <thead>\n",
       "    <tr style=\"text-align: right;\">\n",
       "      <th></th>\n",
       "      <th>summary</th>\n",
       "      <th>title</th>\n",
       "      <th>condition</th>\n",
       "      <th>full_description</th>\n",
       "      <th>id</th>\n",
       "      <th>source</th>\n",
       "      <th>date</th>\n",
       "      <th>full_date</th>\n",
       "      <th>year</th>\n",
       "    </tr>\n",
       "  </thead>\n",
       "  <tbody>\n",
       "    <tr>\n",
       "      <th>46038</th>\n",
       "      <td>The purpose of this study is to determi...</td>\n",
       "      <td>\"Clinical Trials to Enhance Elders' Oral Healt...</td>\n",
       "      <td>Tooth Loss</td>\n",
       "      <td>\"TEETH\" is a double-blinded, randomized...</td>\n",
       "      <td>NCT00004640</td>\n",
       "      <td>University of Washington</td>\n",
       "      <td>September 17, 1999</td>\n",
       "      <td>1999-09-17</td>\n",
       "      <td>1999</td>\n",
       "    </tr>\n",
       "    <tr>\n",
       "      <th>150757</th>\n",
       "      <td>Compare the outcome of two primary surg...</td>\n",
       "      <td>Cleft Palate Surgery and Speech Development</td>\n",
       "      <td>Cleft Lip</td>\n",
       "      <td>This study is conducted with patients w...</td>\n",
       "      <td>NCT00004639</td>\n",
       "      <td>University of Florida</td>\n",
       "      <td>September 17, 1999</td>\n",
       "      <td>1999-09-17</td>\n",
       "      <td>1999</td>\n",
       "    </tr>\n",
       "    <tr>\n",
       "      <th>43264</th>\n",
       "      <td>The purpose of this study is to evaluat...</td>\n",
       "      <td>Evaluation of Liquid vs. Tablet Buprenorphine - 6</td>\n",
       "      <td>Opioid-Related Disorders</td>\n",
       "      <td>None</td>\n",
       "      <td>NCT00000341</td>\n",
       "      <td>National Institute on Drug Abuse (NIDA)</td>\n",
       "      <td>September 20, 1999</td>\n",
       "      <td>1999-09-20</td>\n",
       "      <td>1999</td>\n",
       "    </tr>\n",
       "    <tr>\n",
       "      <th>195656</th>\n",
       "      <td>The purpose of this study is to determi...</td>\n",
       "      <td>Role of Metabolites in Nicotine Dependence (3)...</td>\n",
       "      <td>Tobacco Use Disorder</td>\n",
       "      <td>Previous studies have shown that cotini...</td>\n",
       "      <td>NCT00000289</td>\n",
       "      <td>National Institute on Drug Abuse (NIDA)</td>\n",
       "      <td>September 20, 1999</td>\n",
       "      <td>1999-09-20</td>\n",
       "      <td>1999</td>\n",
       "    </tr>\n",
       "    <tr>\n",
       "      <th>528</th>\n",
       "      <td>The purpose of this study is to evaluat...</td>\n",
       "      <td>Alternate-Day Buprenorphine Administration. Ph...</td>\n",
       "      <td>Opioid-Related Disorders</td>\n",
       "      <td>None</td>\n",
       "      <td>NCT00000227</td>\n",
       "      <td>University of Vermont</td>\n",
       "      <td>September 20, 1999</td>\n",
       "      <td>1999-09-20</td>\n",
       "      <td>1999</td>\n",
       "    </tr>\n",
       "  </tbody>\n",
       "</table>\n",
       "</div>"
      ],
      "text/plain": [
       "                                                  summary  \\\n",
       "46038          The purpose of this study is to determi...   \n",
       "150757         Compare the outcome of two primary surg...   \n",
       "43264          The purpose of this study is to evaluat...   \n",
       "195656         The purpose of this study is to determi...   \n",
       "528            The purpose of this study is to evaluat...   \n",
       "\n",
       "                                                    title  \\\n",
       "46038   \"Clinical Trials to Enhance Elders' Oral Healt...   \n",
       "150757        Cleft Palate Surgery and Speech Development   \n",
       "43264   Evaluation of Liquid vs. Tablet Buprenorphine - 6   \n",
       "195656  Role of Metabolites in Nicotine Dependence (3)...   \n",
       "528     Alternate-Day Buprenorphine Administration. Ph...   \n",
       "\n",
       "                       condition  \\\n",
       "46038                 Tooth Loss   \n",
       "150757                 Cleft Lip   \n",
       "43264   Opioid-Related Disorders   \n",
       "195656      Tobacco Use Disorder   \n",
       "528     Opioid-Related Disorders   \n",
       "\n",
       "                                         full_description           id  \\\n",
       "46038          \"TEETH\" is a double-blinded, randomized...  NCT00004640   \n",
       "150757         This study is conducted with patients w...  NCT00004639   \n",
       "43264                                                None  NCT00000341   \n",
       "195656         Previous studies have shown that cotini...  NCT00000289   \n",
       "528                                                  None  NCT00000227   \n",
       "\n",
       "                                         source                date  \\\n",
       "46038                  University of Washington  September 17, 1999   \n",
       "150757                    University of Florida  September 17, 1999   \n",
       "43264   National Institute on Drug Abuse (NIDA)  September 20, 1999   \n",
       "195656  National Institute on Drug Abuse (NIDA)  September 20, 1999   \n",
       "528                       University of Vermont  September 20, 1999   \n",
       "\n",
       "        full_date  year  \n",
       "46038  1999-09-17  1999  \n",
       "150757 1999-09-17  1999  \n",
       "43264  1999-09-20  1999  \n",
       "195656 1999-09-20  1999  \n",
       "528    1999-09-20  1999  "
      ]
     },
     "execution_count": 46,
     "metadata": {},
     "output_type": "execute_result"
    }
   ],
   "source": [
    "df.head()"
   ]
  },
  {
   "cell_type": "markdown",
   "metadata": {},
   "source": [
    "## Visualize full record"
   ]
  },
  {
   "cell_type": "code",
   "execution_count": 63,
   "metadata": {},
   "outputs": [
    {
     "data": {
      "text/html": [
       "<div>\n",
       "<style scoped>\n",
       "    .dataframe tbody tr th:only-of-type {\n",
       "        vertical-align: middle;\n",
       "    }\n",
       "\n",
       "    .dataframe tbody tr th {\n",
       "        vertical-align: top;\n",
       "    }\n",
       "\n",
       "    .dataframe thead th {\n",
       "        text-align: right;\n",
       "    }\n",
       "</style>\n",
       "<table border=\"1\" class=\"dataframe\">\n",
       "  <thead>\n",
       "    <tr style=\"text-align: right;\">\n",
       "      <th></th>\n",
       "      <th>summary</th>\n",
       "      <th>title</th>\n",
       "      <th>condition</th>\n",
       "      <th>full_description</th>\n",
       "      <th>id</th>\n",
       "      <th>source</th>\n",
       "      <th>date</th>\n",
       "      <th>full_date</th>\n",
       "      <th>year</th>\n",
       "    </tr>\n",
       "  </thead>\n",
       "  <tbody>\n",
       "    <tr>\n",
       "      <th>46038</th>\n",
       "      <td>The purpose of this study is to determine if regular rinsing with chlorhexidine is effective       as a long-term preventive method for reducing the incidence of tooth loss in low income older       adults. The true end-point of the study is tooth loss after five years of regular rinsing       with chlorhexidine or a placebo; surrogate endpoints are periodontal disease, root and       coronal decay.</td>\n",
       "      <td>\"Clinical Trials to Enhance Elders' Oral Health\" (\"TEETH\")</td>\n",
       "      <td>Tooth Loss</td>\n",
       "      <td>\"TEETH\" is a double-blinded, randomized clinical trial, supervised by a Data &amp; Safety       Monitoring Board, designed to provide unequivocal evidence regarding the impact of regular       rinsing 0.12% chlorhexidine solution on tooth loss in low income, community-dwelling older       adults who are irregular users of dental services. Of the 1101 subjects enrolled in the study       in Seattle, WA and Vancouver, B.C., one/half have been assigned to the active rinse       condition; the other half to the placebo rinse which looks and tastes like the chlorhexidine       rinse but does not have the active ingredient. Subjects receive two bottles of rinse every       six months; the first to be used daily for one month, the second weekly for five months.       Reminder calls are designed to help subjects maintain this rinse regimen. Subjects return       yearly to research clinics at each participating university, where they are examined by a       dentist who is trained in clinical research methodology and calibrated annually. The purpose       of these visits is to examine subjects for tooth loss (followed by contacts with extracting       dentists to determine the dentist's reasons for extracting the tooth), pocket depth,       recession, caries and restorations on root and coronal surfaces. Interviews are also       conducted annually with participants to assess health status, health behaviors, and oral       health quality of life. A panoramic radiograph was taken at baseline of each subject and is       to be done again at the five-year (final) yearly exam. These radiographs are used to confirm       tooth loss and possible reasons for extractions</td>\n",
       "      <td>NCT00004640</td>\n",
       "      <td>University of Washington</td>\n",
       "      <td>September 17, 1999</td>\n",
       "      <td>1999-09-17</td>\n",
       "      <td>1999</td>\n",
       "    </tr>\n",
       "  </tbody>\n",
       "</table>\n",
       "</div>"
      ],
      "text/plain": [
       "                                                                                                                                                                                                                                                                                                                                                                                                                              summary  \\\n",
       "46038         The purpose of this study is to determine if regular rinsing with chlorhexidine is effective       as a long-term preventive method for reducing the incidence of tooth loss in low income older       adults. The true end-point of the study is tooth loss after five years of regular rinsing       with chlorhexidine or a placebo; surrogate endpoints are periodontal disease, root and       coronal decay.        \n",
       "\n",
       "                                                            title   condition  \\\n",
       "46038  \"Clinical Trials to Enhance Elders' Oral Health\" (\"TEETH\")  Tooth Loss   \n",
       "\n",
       "                                                                                                                                                                                                                                                                                                                                                                                                                                                                                                                                                                                                                                                                                                                                                                                                                                                                                                                                                                                                                                                                                                                                                                                                                                                                                                                                                                                                                                                                                                                                                                                                                                                                                                                                                full_description  \\\n",
       "46038         \"TEETH\" is a double-blinded, randomized clinical trial, supervised by a Data & Safety       Monitoring Board, designed to provide unequivocal evidence regarding the impact of regular       rinsing 0.12% chlorhexidine solution on tooth loss in low income, community-dwelling older       adults who are irregular users of dental services. Of the 1101 subjects enrolled in the study       in Seattle, WA and Vancouver, B.C., one/half have been assigned to the active rinse       condition; the other half to the placebo rinse which looks and tastes like the chlorhexidine       rinse but does not have the active ingredient. Subjects receive two bottles of rinse every       six months; the first to be used daily for one month, the second weekly for five months.       Reminder calls are designed to help subjects maintain this rinse regimen. Subjects return       yearly to research clinics at each participating university, where they are examined by a       dentist who is trained in clinical research methodology and calibrated annually. The purpose       of these visits is to examine subjects for tooth loss (followed by contacts with extracting       dentists to determine the dentist's reasons for extracting the tooth), pocket depth,       recession, caries and restorations on root and coronal surfaces. Interviews are also       conducted annually with participants to assess health status, health behaviors, and oral       health quality of life. A panoramic radiograph was taken at baseline of each subject and is       to be done again at the five-year (final) yearly exam. These radiographs are used to confirm       tooth loss and possible reasons for extractions        \n",
       "\n",
       "                id                    source                date  full_date  \\\n",
       "46038  NCT00004640  University of Washington  September 17, 1999 1999-09-17   \n",
       "\n",
       "       year  \n",
       "46038  1999  "
      ]
     },
     "execution_count": 63,
     "metadata": {},
     "output_type": "execute_result"
    }
   ],
   "source": [
    "pd.options.display.max_colwidth = 5000\n",
    "df[0:1]"
   ]
  },
  {
   "cell_type": "markdown",
   "metadata": {},
   "source": [
    "## Check unique values"
   ]
  },
  {
   "cell_type": "code",
   "execution_count": 64,
   "metadata": {},
   "outputs": [
    {
     "name": "stdout",
     "output_type": "stream",
     "text": [
      "Number of conditions in data: 47596\n"
     ]
    }
   ],
   "source": [
    "# Unique conditions\n",
    "print('Number of conditions in data: {}'.format(df['condition'].nunique()))"
   ]
  },
  {
   "cell_type": "code",
   "execution_count": 66,
   "metadata": {},
   "outputs": [
    {
     "name": "stdout",
     "output_type": "stream",
     "text": [
      "Number of sources: 18304\n"
     ]
    }
   ],
   "source": [
    "# Unique source\n",
    "print('Number of sources: {}'.format(df['source'].nunique()))"
   ]
  },
  {
   "cell_type": "markdown",
   "metadata": {},
   "source": [
    "## Number of trials per year"
   ]
  },
  {
   "cell_type": "code",
   "execution_count": 67,
   "metadata": {},
   "outputs": [],
   "source": [
    "# Number of trials by year\n",
    "trials_by_year = df.groupby('year')['id'].count()"
   ]
  },
  {
   "cell_type": "code",
   "execution_count": 68,
   "metadata": {},
   "outputs": [
    {
     "ename": "ImportError",
     "evalue": "No module named 'matplotlib'",
     "output_type": "error",
     "traceback": [
      "\u001b[0;31m---------------------------------------------------------------------------\u001b[0m",
      "\u001b[0;31mImportError\u001b[0m                               Traceback (most recent call last)",
      "\u001b[0;32m<ipython-input-68-247ef29423e8>\u001b[0m in \u001b[0;36m<module>\u001b[0;34m\u001b[0m\n\u001b[0;32m----> 1\u001b[0;31m \u001b[0mtrials_by_year\u001b[0m\u001b[0;34m.\u001b[0m\u001b[0mplot\u001b[0m\u001b[0;34m.\u001b[0m\u001b[0mbar\u001b[0m\u001b[0;34m(\u001b[0m\u001b[0mcolor\u001b[0m \u001b[0;34m=\u001b[0m \u001b[0mbase_color\u001b[0m\u001b[0;34m,\u001b[0m \u001b[0mfigsize\u001b[0m\u001b[0;34m=\u001b[0m\u001b[0mplot_size\u001b[0m\u001b[0;34m)\u001b[0m\u001b[0;34m\u001b[0m\u001b[0m\n\u001b[0m\u001b[1;32m      2\u001b[0m \u001b[0mplt\u001b[0m\u001b[0;34m.\u001b[0m\u001b[0mshow\u001b[0m\u001b[0;34m(\u001b[0m\u001b[0;34m)\u001b[0m\u001b[0;34m\u001b[0m\u001b[0m\n",
      "\u001b[0;32m~/miniconda3/envs/turicreate/lib/python3.5/site-packages/pandas/plotting/_core.py\u001b[0m in \u001b[0;36mbar\u001b[0;34m(self, **kwds)\u001b[0m\n\u001b[1;32m   2781\u001b[0m         \u001b[0maxes\u001b[0m \u001b[0;34m:\u001b[0m \u001b[0;34m:\u001b[0m\u001b[0;32mclass\u001b[0m\u001b[0;34m:\u001b[0m\u001b[0;31m`\u001b[0m\u001b[0mmatplotlib\u001b[0m\u001b[0;34m.\u001b[0m\u001b[0maxes\u001b[0m\u001b[0;34m.\u001b[0m\u001b[0mAxes\u001b[0m\u001b[0;31m`\u001b[0m \u001b[0;32mor\u001b[0m \u001b[0mnumpy\u001b[0m\u001b[0;34m.\u001b[0m\u001b[0mndarray\u001b[0m \u001b[0mof\u001b[0m \u001b[0mthem\u001b[0m\u001b[0;34m\u001b[0m\u001b[0m\n\u001b[1;32m   2782\u001b[0m         \"\"\"\n\u001b[0;32m-> 2783\u001b[0;31m         \u001b[0;32mreturn\u001b[0m \u001b[0mself\u001b[0m\u001b[0;34m(\u001b[0m\u001b[0mkind\u001b[0m\u001b[0;34m=\u001b[0m\u001b[0;34m'bar'\u001b[0m\u001b[0;34m,\u001b[0m \u001b[0;34m**\u001b[0m\u001b[0mkwds\u001b[0m\u001b[0;34m)\u001b[0m\u001b[0;34m\u001b[0m\u001b[0m\n\u001b[0m\u001b[1;32m   2784\u001b[0m \u001b[0;34m\u001b[0m\u001b[0m\n\u001b[1;32m   2785\u001b[0m     \u001b[0;32mdef\u001b[0m \u001b[0mbarh\u001b[0m\u001b[0;34m(\u001b[0m\u001b[0mself\u001b[0m\u001b[0;34m,\u001b[0m \u001b[0;34m**\u001b[0m\u001b[0mkwds\u001b[0m\u001b[0;34m)\u001b[0m\u001b[0;34m:\u001b[0m\u001b[0;34m\u001b[0m\u001b[0m\n",
      "\u001b[0;32m~/miniconda3/envs/turicreate/lib/python3.5/site-packages/pandas/plotting/_core.py\u001b[0m in \u001b[0;36m__call__\u001b[0;34m(self, kind, ax, figsize, use_index, title, grid, legend, style, logx, logy, loglog, xticks, yticks, xlim, ylim, rot, fontsize, colormap, table, yerr, xerr, label, secondary_y, **kwds)\u001b[0m\n\u001b[1;32m   2739\u001b[0m                            \u001b[0mcolormap\u001b[0m\u001b[0;34m=\u001b[0m\u001b[0mcolormap\u001b[0m\u001b[0;34m,\u001b[0m \u001b[0mtable\u001b[0m\u001b[0;34m=\u001b[0m\u001b[0mtable\u001b[0m\u001b[0;34m,\u001b[0m \u001b[0myerr\u001b[0m\u001b[0;34m=\u001b[0m\u001b[0myerr\u001b[0m\u001b[0;34m,\u001b[0m\u001b[0;34m\u001b[0m\u001b[0m\n\u001b[1;32m   2740\u001b[0m                            \u001b[0mxerr\u001b[0m\u001b[0;34m=\u001b[0m\u001b[0mxerr\u001b[0m\u001b[0;34m,\u001b[0m \u001b[0mlabel\u001b[0m\u001b[0;34m=\u001b[0m\u001b[0mlabel\u001b[0m\u001b[0;34m,\u001b[0m \u001b[0msecondary_y\u001b[0m\u001b[0;34m=\u001b[0m\u001b[0msecondary_y\u001b[0m\u001b[0;34m,\u001b[0m\u001b[0;34m\u001b[0m\u001b[0m\n\u001b[0;32m-> 2741\u001b[0;31m                            **kwds)\n\u001b[0m\u001b[1;32m   2742\u001b[0m     \u001b[0m__call__\u001b[0m\u001b[0;34m.\u001b[0m\u001b[0m__doc__\u001b[0m \u001b[0;34m=\u001b[0m \u001b[0mplot_series\u001b[0m\u001b[0;34m.\u001b[0m\u001b[0m__doc__\u001b[0m\u001b[0;34m\u001b[0m\u001b[0m\n\u001b[1;32m   2743\u001b[0m \u001b[0;34m\u001b[0m\u001b[0m\n",
      "\u001b[0;32m~/miniconda3/envs/turicreate/lib/python3.5/site-packages/pandas/plotting/_core.py\u001b[0m in \u001b[0;36mplot_series\u001b[0;34m(data, kind, ax, figsize, use_index, title, grid, legend, style, logx, logy, loglog, xticks, yticks, xlim, ylim, rot, fontsize, colormap, table, yerr, xerr, label, secondary_y, **kwds)\u001b[0m\n\u001b[1;32m   1988\u001b[0m                 **kwds):\n\u001b[1;32m   1989\u001b[0m \u001b[0;34m\u001b[0m\u001b[0m\n\u001b[0;32m-> 1990\u001b[0;31m     \u001b[0;32mimport\u001b[0m \u001b[0mmatplotlib\u001b[0m\u001b[0;34m.\u001b[0m\u001b[0mpyplot\u001b[0m \u001b[0;32mas\u001b[0m \u001b[0mplt\u001b[0m\u001b[0;34m\u001b[0m\u001b[0m\n\u001b[0m\u001b[1;32m   1991\u001b[0m     \u001b[0;32mif\u001b[0m \u001b[0max\u001b[0m \u001b[0;32mis\u001b[0m \u001b[0;32mNone\u001b[0m \u001b[0;32mand\u001b[0m \u001b[0mlen\u001b[0m\u001b[0;34m(\u001b[0m\u001b[0mplt\u001b[0m\u001b[0;34m.\u001b[0m\u001b[0mget_fignums\u001b[0m\u001b[0;34m(\u001b[0m\u001b[0;34m)\u001b[0m\u001b[0;34m)\u001b[0m \u001b[0;34m>\u001b[0m \u001b[0;36m0\u001b[0m\u001b[0;34m:\u001b[0m\u001b[0;34m\u001b[0m\u001b[0m\n\u001b[1;32m   1992\u001b[0m         \u001b[0max\u001b[0m \u001b[0;34m=\u001b[0m \u001b[0m_gca\u001b[0m\u001b[0;34m(\u001b[0m\u001b[0;34m)\u001b[0m\u001b[0;34m\u001b[0m\u001b[0m\n",
      "\u001b[0;31mImportError\u001b[0m: No module named 'matplotlib'"
     ]
    }
   ],
   "source": [
    "trials_by_year.plot.bar(color = base_color, figsize=plot_size)\n",
    "plt.show()"
   ]
  },
  {
   "cell_type": "code",
   "execution_count": 28,
   "metadata": {},
   "outputs": [],
   "source": [
    "df_1999 = df[df['year'] == 1999]"
   ]
  },
  {
   "cell_type": "code",
   "execution_count": 29,
   "metadata": {},
   "outputs": [
    {
     "data": {
      "text/html": [
       "<div>\n",
       "<style scoped>\n",
       "    .dataframe tbody tr th:only-of-type {\n",
       "        vertical-align: middle;\n",
       "    }\n",
       "\n",
       "    .dataframe tbody tr th {\n",
       "        vertical-align: top;\n",
       "    }\n",
       "\n",
       "    .dataframe thead th {\n",
       "        text-align: right;\n",
       "    }\n",
       "</style>\n",
       "<table border=\"1\" class=\"dataframe\">\n",
       "  <thead>\n",
       "    <tr style=\"text-align: right;\">\n",
       "      <th></th>\n",
       "      <th>nct_id</th>\n",
       "      <th>study_first_submitted</th>\n",
       "      <th>source</th>\n",
       "      <th>brief_title</th>\n",
       "      <th>condition</th>\n",
       "      <th>dates</th>\n",
       "      <th>year</th>\n",
       "    </tr>\n",
       "  </thead>\n",
       "  <tbody>\n",
       "    <tr>\n",
       "      <th>46038</th>\n",
       "      <td>NCT00004640</td>\n",
       "      <td>September 17, 1999</td>\n",
       "      <td>University of Washington</td>\n",
       "      <td>\"Clinical Trials to Enhance Elders' Oral Healt...</td>\n",
       "      <td>Tooth Loss</td>\n",
       "      <td>1999-09-17</td>\n",
       "      <td>1999</td>\n",
       "    </tr>\n",
       "    <tr>\n",
       "      <th>150757</th>\n",
       "      <td>NCT00004639</td>\n",
       "      <td>September 17, 1999</td>\n",
       "      <td>University of Florida</td>\n",
       "      <td>Cleft Palate Surgery and Speech Development</td>\n",
       "      <td>Cleft Lip</td>\n",
       "      <td>1999-09-17</td>\n",
       "      <td>1999</td>\n",
       "    </tr>\n",
       "    <tr>\n",
       "      <th>43264</th>\n",
       "      <td>NCT00000341</td>\n",
       "      <td>September 20, 1999</td>\n",
       "      <td>National Institute on Drug Abuse (NIDA)</td>\n",
       "      <td>Evaluation of Liquid vs. Tablet Buprenorphine - 6</td>\n",
       "      <td>Opioid-Related Disorders</td>\n",
       "      <td>1999-09-20</td>\n",
       "      <td>1999</td>\n",
       "    </tr>\n",
       "    <tr>\n",
       "      <th>195656</th>\n",
       "      <td>NCT00000289</td>\n",
       "      <td>September 20, 1999</td>\n",
       "      <td>National Institute on Drug Abuse (NIDA)</td>\n",
       "      <td>Role of Metabolites in Nicotine Dependence (3)...</td>\n",
       "      <td>Tobacco Use Disorder</td>\n",
       "      <td>1999-09-20</td>\n",
       "      <td>1999</td>\n",
       "    </tr>\n",
       "    <tr>\n",
       "      <th>528</th>\n",
       "      <td>NCT00000227</td>\n",
       "      <td>September 20, 1999</td>\n",
       "      <td>University of Vermont</td>\n",
       "      <td>Alternate-Day Buprenorphine Administration. Ph...</td>\n",
       "      <td>Opioid-Related Disorders</td>\n",
       "      <td>1999-09-20</td>\n",
       "      <td>1999</td>\n",
       "    </tr>\n",
       "  </tbody>\n",
       "</table>\n",
       "</div>"
      ],
      "text/plain": [
       "             nct_id study_first_submitted  \\\n",
       "46038   NCT00004640    September 17, 1999   \n",
       "150757  NCT00004639    September 17, 1999   \n",
       "43264   NCT00000341    September 20, 1999   \n",
       "195656  NCT00000289    September 20, 1999   \n",
       "528     NCT00000227    September 20, 1999   \n",
       "\n",
       "                                         source  \\\n",
       "46038                  University of Washington   \n",
       "150757                    University of Florida   \n",
       "43264   National Institute on Drug Abuse (NIDA)   \n",
       "195656  National Institute on Drug Abuse (NIDA)   \n",
       "528                       University of Vermont   \n",
       "\n",
       "                                              brief_title  \\\n",
       "46038   \"Clinical Trials to Enhance Elders' Oral Healt...   \n",
       "150757        Cleft Palate Surgery and Speech Development   \n",
       "43264   Evaluation of Liquid vs. Tablet Buprenorphine - 6   \n",
       "195656  Role of Metabolites in Nicotine Dependence (3)...   \n",
       "528     Alternate-Day Buprenorphine Administration. Ph...   \n",
       "\n",
       "                       condition      dates  year  \n",
       "46038                 Tooth Loss 1999-09-17  1999  \n",
       "150757                 Cleft Lip 1999-09-17  1999  \n",
       "43264   Opioid-Related Disorders 1999-09-20  1999  \n",
       "195656      Tobacco Use Disorder 1999-09-20  1999  \n",
       "528     Opioid-Related Disorders 1999-09-20  1999  "
      ]
     },
     "execution_count": 29,
     "metadata": {},
     "output_type": "execute_result"
    }
   ],
   "source": [
    "df_1999.head()"
   ]
  },
  {
   "cell_type": "markdown",
   "metadata": {},
   "source": [
    "## Find clusters in data"
   ]
  },
  {
   "cell_type": "code",
   "execution_count": null,
   "metadata": {},
   "outputs": [],
   "source": []
  }
 ],
 "metadata": {
  "kernelspec": {
   "display_name": "Python 3",
   "language": "python",
   "name": "python3"
  },
  "language_info": {
   "codemirror_mode": {
    "name": "ipython",
    "version": 3
   },
   "file_extension": ".py",
   "mimetype": "text/x-python",
   "name": "python",
   "nbconvert_exporter": "python",
   "pygments_lexer": "ipython3",
   "version": "3.5.6"
  }
 },
 "nbformat": 4,
 "nbformat_minor": 2
}
