{
 "cells": [
  {
   "cell_type": "markdown",
   "metadata": {},
   "source": [
    "# Clinical trials: Dataframe setup\n"
   ]
  },
  {
   "cell_type": "code",
   "execution_count": 2,
   "metadata": {},
   "outputs": [],
   "source": [
    "import time\n",
    "import json\n",
    "import os\n",
    "import pandas as pd\n",
    "import matplotlib.pyplot as plt"
   ]
  },
  {
   "cell_type": "code",
   "execution_count": 3,
   "metadata": {},
   "outputs": [],
   "source": [
    "base_color = \"#3298D0\"\n",
    "plot_size = (14, 10)"
   ]
  },
  {
   "cell_type": "code",
   "execution_count": 7,
   "metadata": {},
   "outputs": [],
   "source": [
    "# Path for csv folder & file\n",
    "path_to_csv_file = os.path.abspath('../data/csv/')\n",
    "\n",
    "# json file\n",
    "csv_file = '/clean_data'"
   ]
  },
  {
   "cell_type": "markdown",
   "metadata": {},
   "source": [
    "## Import csv file"
   ]
  },
  {
   "cell_type": "code",
   "execution_count": 8,
   "metadata": {},
   "outputs": [],
   "source": [
    "# Import json into a dataframe\n",
    "clean_csv_file = '{}{}.csv'.format(path_to_csv_file, csv_file)"
   ]
  },
  {
   "cell_type": "code",
   "execution_count": 9,
   "metadata": {},
   "outputs": [],
   "source": [
    "# breaks with large json file\n",
    "df = pd.read_csv(clean_csv_file)"
   ]
  },
  {
   "cell_type": "code",
   "execution_count": 11,
   "metadata": {},
   "outputs": [
    {
     "data": {
      "text/html": [
       "<div>\n",
       "<style scoped>\n",
       "    .dataframe tbody tr th:only-of-type {\n",
       "        vertical-align: middle;\n",
       "    }\n",
       "\n",
       "    .dataframe tbody tr th {\n",
       "        vertical-align: top;\n",
       "    }\n",
       "\n",
       "    .dataframe thead th {\n",
       "        text-align: right;\n",
       "    }\n",
       "</style>\n",
       "<table border=\"1\" class=\"dataframe\">\n",
       "  <thead>\n",
       "    <tr style=\"text-align: right;\">\n",
       "      <th></th>\n",
       "      <th>Unnamed: 0</th>\n",
       "      <th>id</th>\n",
       "      <th>original_date</th>\n",
       "      <th>source</th>\n",
       "      <th>brief_title</th>\n",
       "      <th>condition</th>\n",
       "      <th>full_description</th>\n",
       "      <th>summary</th>\n",
       "      <th>full_date</th>\n",
       "      <th>year</th>\n",
       "    </tr>\n",
       "  </thead>\n",
       "  <tbody>\n",
       "    <tr>\n",
       "      <th>0</th>\n",
       "      <td>46038</td>\n",
       "      <td>NCT00004640</td>\n",
       "      <td>September 17, 1999</td>\n",
       "      <td>University of Washington</td>\n",
       "      <td>\"Clinical Trials to Enhance Elders' Oral Healt...</td>\n",
       "      <td>Tooth Loss</td>\n",
       "      <td>\"TEETH\" is a double-blinded, randomized...</td>\n",
       "      <td>The purpose of this study is to determi...</td>\n",
       "      <td>1999-09-17</td>\n",
       "      <td>1999</td>\n",
       "    </tr>\n",
       "    <tr>\n",
       "      <th>1</th>\n",
       "      <td>150757</td>\n",
       "      <td>NCT00004639</td>\n",
       "      <td>September 17, 1999</td>\n",
       "      <td>University of Florida</td>\n",
       "      <td>Cleft Palate Surgery and Speech Development</td>\n",
       "      <td>Cleft Lip</td>\n",
       "      <td>This study is conducted with patients w...</td>\n",
       "      <td>Compare the outcome of two primary surg...</td>\n",
       "      <td>1999-09-17</td>\n",
       "      <td>1999</td>\n",
       "    </tr>\n",
       "    <tr>\n",
       "      <th>2</th>\n",
       "      <td>43264</td>\n",
       "      <td>NCT00000341</td>\n",
       "      <td>September 20, 1999</td>\n",
       "      <td>National Institute on Drug Abuse (NIDA)</td>\n",
       "      <td>Evaluation of Liquid vs. Tablet Buprenorphine - 6</td>\n",
       "      <td>Opioid-Related Disorders</td>\n",
       "      <td>None</td>\n",
       "      <td>The purpose of this study is to evaluat...</td>\n",
       "      <td>1999-09-20</td>\n",
       "      <td>1999</td>\n",
       "    </tr>\n",
       "    <tr>\n",
       "      <th>3</th>\n",
       "      <td>195656</td>\n",
       "      <td>NCT00000289</td>\n",
       "      <td>September 20, 1999</td>\n",
       "      <td>National Institute on Drug Abuse (NIDA)</td>\n",
       "      <td>Role of Metabolites in Nicotine Dependence (3)...</td>\n",
       "      <td>Tobacco Use Disorder</td>\n",
       "      <td>Previous studies have shown that cotini...</td>\n",
       "      <td>The purpose of this study is to determi...</td>\n",
       "      <td>1999-09-20</td>\n",
       "      <td>1999</td>\n",
       "    </tr>\n",
       "    <tr>\n",
       "      <th>4</th>\n",
       "      <td>528</td>\n",
       "      <td>NCT00000227</td>\n",
       "      <td>September 20, 1999</td>\n",
       "      <td>University of Vermont</td>\n",
       "      <td>Alternate-Day Buprenorphine Administration. Ph...</td>\n",
       "      <td>Opioid-Related Disorders</td>\n",
       "      <td>None</td>\n",
       "      <td>The purpose of this study is to evaluat...</td>\n",
       "      <td>1999-09-20</td>\n",
       "      <td>1999</td>\n",
       "    </tr>\n",
       "  </tbody>\n",
       "</table>\n",
       "</div>"
      ],
      "text/plain": [
       "   Unnamed: 0           id       original_date  \\\n",
       "0       46038  NCT00004640  September 17, 1999   \n",
       "1      150757  NCT00004639  September 17, 1999   \n",
       "2       43264  NCT00000341  September 20, 1999   \n",
       "3      195656  NCT00000289  September 20, 1999   \n",
       "4         528  NCT00000227  September 20, 1999   \n",
       "\n",
       "                                    source  \\\n",
       "0                 University of Washington   \n",
       "1                    University of Florida   \n",
       "2  National Institute on Drug Abuse (NIDA)   \n",
       "3  National Institute on Drug Abuse (NIDA)   \n",
       "4                    University of Vermont   \n",
       "\n",
       "                                         brief_title  \\\n",
       "0  \"Clinical Trials to Enhance Elders' Oral Healt...   \n",
       "1        Cleft Palate Surgery and Speech Development   \n",
       "2  Evaluation of Liquid vs. Tablet Buprenorphine - 6   \n",
       "3  Role of Metabolites in Nicotine Dependence (3)...   \n",
       "4  Alternate-Day Buprenorphine Administration. Ph...   \n",
       "\n",
       "                  condition  \\\n",
       "0                Tooth Loss   \n",
       "1                 Cleft Lip   \n",
       "2  Opioid-Related Disorders   \n",
       "3      Tobacco Use Disorder   \n",
       "4  Opioid-Related Disorders   \n",
       "\n",
       "                                    full_description  \\\n",
       "0         \"TEETH\" is a double-blinded, randomized...   \n",
       "1         This study is conducted with patients w...   \n",
       "2                                               None   \n",
       "3         Previous studies have shown that cotini...   \n",
       "4                                               None   \n",
       "\n",
       "                                             summary   full_date  year  \n",
       "0         The purpose of this study is to determi...  1999-09-17  1999  \n",
       "1         Compare the outcome of two primary surg...  1999-09-17  1999  \n",
       "2         The purpose of this study is to evaluat...  1999-09-20  1999  \n",
       "3         The purpose of this study is to determi...  1999-09-20  1999  \n",
       "4         The purpose of this study is to evaluat...  1999-09-20  1999  "
      ]
     },
     "execution_count": 11,
     "metadata": {},
     "output_type": "execute_result"
    }
   ],
   "source": [
    "df.head()"
   ]
  },
  {
   "cell_type": "markdown",
   "metadata": {},
   "source": [
    "## Explore dataset"
   ]
  },
  {
   "cell_type": "code",
   "execution_count": 63,
   "metadata": {},
   "outputs": [
    {
     "data": {
      "text/html": [
       "<div>\n",
       "<style scoped>\n",
       "    .dataframe tbody tr th:only-of-type {\n",
       "        vertical-align: middle;\n",
       "    }\n",
       "\n",
       "    .dataframe tbody tr th {\n",
       "        vertical-align: top;\n",
       "    }\n",
       "\n",
       "    .dataframe thead th {\n",
       "        text-align: right;\n",
       "    }\n",
       "</style>\n",
       "<table border=\"1\" class=\"dataframe\">\n",
       "  <thead>\n",
       "    <tr style=\"text-align: right;\">\n",
       "      <th></th>\n",
       "      <th>summary</th>\n",
       "      <th>title</th>\n",
       "      <th>condition</th>\n",
       "      <th>full_description</th>\n",
       "      <th>id</th>\n",
       "      <th>source</th>\n",
       "      <th>date</th>\n",
       "      <th>full_date</th>\n",
       "      <th>year</th>\n",
       "    </tr>\n",
       "  </thead>\n",
       "  <tbody>\n",
       "    <tr>\n",
       "      <th>46038</th>\n",
       "      <td>The purpose of this study is to determine if regular rinsing with chlorhexidine is effective       as a long-term preventive method for reducing the incidence of tooth loss in low income older       adults. The true end-point of the study is tooth loss after five years of regular rinsing       with chlorhexidine or a placebo; surrogate endpoints are periodontal disease, root and       coronal decay.</td>\n",
       "      <td>\"Clinical Trials to Enhance Elders' Oral Health\" (\"TEETH\")</td>\n",
       "      <td>Tooth Loss</td>\n",
       "      <td>\"TEETH\" is a double-blinded, randomized clinical trial, supervised by a Data &amp; Safety       Monitoring Board, designed to provide unequivocal evidence regarding the impact of regular       rinsing 0.12% chlorhexidine solution on tooth loss in low income, community-dwelling older       adults who are irregular users of dental services. Of the 1101 subjects enrolled in the study       in Seattle, WA and Vancouver, B.C., one/half have been assigned to the active rinse       condition; the other half to the placebo rinse which looks and tastes like the chlorhexidine       rinse but does not have the active ingredient. Subjects receive two bottles of rinse every       six months; the first to be used daily for one month, the second weekly for five months.       Reminder calls are designed to help subjects maintain this rinse regimen. Subjects return       yearly to research clinics at each participating university, where they are examined by a       dentist who is trained in clinical research methodology and calibrated annually. The purpose       of these visits is to examine subjects for tooth loss (followed by contacts with extracting       dentists to determine the dentist's reasons for extracting the tooth), pocket depth,       recession, caries and restorations on root and coronal surfaces. Interviews are also       conducted annually with participants to assess health status, health behaviors, and oral       health quality of life. A panoramic radiograph was taken at baseline of each subject and is       to be done again at the five-year (final) yearly exam. These radiographs are used to confirm       tooth loss and possible reasons for extractions</td>\n",
       "      <td>NCT00004640</td>\n",
       "      <td>University of Washington</td>\n",
       "      <td>September 17, 1999</td>\n",
       "      <td>1999-09-17</td>\n",
       "      <td>1999</td>\n",
       "    </tr>\n",
       "  </tbody>\n",
       "</table>\n",
       "</div>"
      ],
      "text/plain": [
       "                                                                                                                                                                                                                                                                                                                                                                                                                              summary  \\\n",
       "46038         The purpose of this study is to determine if regular rinsing with chlorhexidine is effective       as a long-term preventive method for reducing the incidence of tooth loss in low income older       adults. The true end-point of the study is tooth loss after five years of regular rinsing       with chlorhexidine or a placebo; surrogate endpoints are periodontal disease, root and       coronal decay.        \n",
       "\n",
       "                                                            title   condition  \\\n",
       "46038  \"Clinical Trials to Enhance Elders' Oral Health\" (\"TEETH\")  Tooth Loss   \n",
       "\n",
       "                                                                                                                                                                                                                                                                                                                                                                                                                                                                                                                                                                                                                                                                                                                                                                                                                                                                                                                                                                                                                                                                                                                                                                                                                                                                                                                                                                                                                                                                                                                                                                                                                                                                                                                                                full_description  \\\n",
       "46038         \"TEETH\" is a double-blinded, randomized clinical trial, supervised by a Data & Safety       Monitoring Board, designed to provide unequivocal evidence regarding the impact of regular       rinsing 0.12% chlorhexidine solution on tooth loss in low income, community-dwelling older       adults who are irregular users of dental services. Of the 1101 subjects enrolled in the study       in Seattle, WA and Vancouver, B.C., one/half have been assigned to the active rinse       condition; the other half to the placebo rinse which looks and tastes like the chlorhexidine       rinse but does not have the active ingredient. Subjects receive two bottles of rinse every       six months; the first to be used daily for one month, the second weekly for five months.       Reminder calls are designed to help subjects maintain this rinse regimen. Subjects return       yearly to research clinics at each participating university, where they are examined by a       dentist who is trained in clinical research methodology and calibrated annually. The purpose       of these visits is to examine subjects for tooth loss (followed by contacts with extracting       dentists to determine the dentist's reasons for extracting the tooth), pocket depth,       recession, caries and restorations on root and coronal surfaces. Interviews are also       conducted annually with participants to assess health status, health behaviors, and oral       health quality of life. A panoramic radiograph was taken at baseline of each subject and is       to be done again at the five-year (final) yearly exam. These radiographs are used to confirm       tooth loss and possible reasons for extractions        \n",
       "\n",
       "                id                    source                date  full_date  \\\n",
       "46038  NCT00004640  University of Washington  September 17, 1999 1999-09-17   \n",
       "\n",
       "       year  \n",
       "46038  1999  "
      ]
     },
     "execution_count": 63,
     "metadata": {},
     "output_type": "execute_result"
    }
   ],
   "source": [
    "pd.options.display.max_colwidth = 5000\n",
    "df[0:1]"
   ]
  },
  {
   "cell_type": "markdown",
   "metadata": {},
   "source": [
    "## Check unique values"
   ]
  },
  {
   "cell_type": "code",
   "execution_count": 64,
   "metadata": {},
   "outputs": [
    {
     "name": "stdout",
     "output_type": "stream",
     "text": [
      "Number of conditions in data: 47596\n"
     ]
    }
   ],
   "source": [
    "# Unique conditions\n",
    "print('Number of conditions in data: {}'.format(df['condition'].nunique()))"
   ]
  },
  {
   "cell_type": "code",
   "execution_count": 66,
   "metadata": {},
   "outputs": [
    {
     "name": "stdout",
     "output_type": "stream",
     "text": [
      "Number of sources: 18304\n"
     ]
    }
   ],
   "source": [
    "# Unique source\n",
    "print('Number of sources: {}'.format(df['source'].nunique()))"
   ]
  },
  {
   "cell_type": "markdown",
   "metadata": {},
   "source": [
    "## Number of trials per year"
   ]
  },
  {
   "cell_type": "code",
   "execution_count": 25,
   "metadata": {},
   "outputs": [],
   "source": [
    "# Number of trials by year\n",
    "trials_by_year = df.groupby('year')['id'].count()"
   ]
  },
  {
   "cell_type": "code",
   "execution_count": 26,
   "metadata": {},
   "outputs": [
    {
     "data": {
      "image/png": "[encoded data removed]",
      "text/plain": [
       "<Figure size 1008x720 with 1 Axes>"
      ]
     },
     "metadata": {
      "needs_background": "light"
     },
     "output_type": "display_data"
    }
   ],
   "source": [
    "trials_by_year.plot.bar(color = base_color, figsize=plot_size)\n",
    "plt.show()"
   ]
  },
  {
   "cell_type": "code",
   "execution_count": 27,
   "metadata": {},
   "outputs": [],
   "source": [
    "df_1999 = df[df['year'] == 1999]"
   ]
  },
  {
   "cell_type": "code",
   "execution_count": 28,
   "metadata": {},
   "outputs": [
    {
     "data": {
      "text/html": [
       "<div>\n",
       "<style scoped>\n",
       "    .dataframe tbody tr th:only-of-type {\n",
       "        vertical-align: middle;\n",
       "    }\n",
       "\n",
       "    .dataframe tbody tr th {\n",
       "        vertical-align: top;\n",
       "    }\n",
       "\n",
       "    .dataframe thead th {\n",
       "        text-align: right;\n",
       "    }\n",
       "</style>\n",
       "<table border=\"1\" class=\"dataframe\">\n",
       "  <thead>\n",
       "    <tr style=\"text-align: right;\">\n",
       "      <th></th>\n",
       "      <th>id</th>\n",
       "      <th>original_date</th>\n",
       "      <th>source</th>\n",
       "      <th>brief_title</th>\n",
       "      <th>condition</th>\n",
       "      <th>full_description</th>\n",
       "      <th>summary</th>\n",
       "      <th>full_date</th>\n",
       "      <th>year</th>\n",
       "    </tr>\n",
       "  </thead>\n",
       "  <tbody>\n",
       "    <tr>\n",
       "      <th>46038</th>\n",
       "      <td>NCT00004640</td>\n",
       "      <td>September 17, 1999</td>\n",
       "      <td>University of Washington</td>\n",
       "      <td>\"Clinical Trials to Enhance Elders' Oral Healt...</td>\n",
       "      <td>Tooth Loss</td>\n",
       "      <td>\"TEETH\" is a double-blinded, randomized...</td>\n",
       "      <td>The purpose of this study is to determi...</td>\n",
       "      <td>1999-09-17</td>\n",
       "      <td>1999</td>\n",
       "    </tr>\n",
       "    <tr>\n",
       "      <th>150757</th>\n",
       "      <td>NCT00004639</td>\n",
       "      <td>September 17, 1999</td>\n",
       "      <td>University of Florida</td>\n",
       "      <td>Cleft Palate Surgery and Speech Development</td>\n",
       "      <td>Cleft Lip</td>\n",
       "      <td>This study is conducted with patients w...</td>\n",
       "      <td>Compare the outcome of two primary surg...</td>\n",
       "      <td>1999-09-17</td>\n",
       "      <td>1999</td>\n",
       "    </tr>\n",
       "    <tr>\n",
       "      <th>43264</th>\n",
       "      <td>NCT00000341</td>\n",
       "      <td>September 20, 1999</td>\n",
       "      <td>National Institute on Drug Abuse (NIDA)</td>\n",
       "      <td>Evaluation of Liquid vs. Tablet Buprenorphine - 6</td>\n",
       "      <td>Opioid-Related Disorders</td>\n",
       "      <td>None</td>\n",
       "      <td>The purpose of this study is to evaluat...</td>\n",
       "      <td>1999-09-20</td>\n",
       "      <td>1999</td>\n",
       "    </tr>\n",
       "    <tr>\n",
       "      <th>195656</th>\n",
       "      <td>NCT00000289</td>\n",
       "      <td>September 20, 1999</td>\n",
       "      <td>National Institute on Drug Abuse (NIDA)</td>\n",
       "      <td>Role of Metabolites in Nicotine Dependence (3)...</td>\n",
       "      <td>Tobacco Use Disorder</td>\n",
       "      <td>Previous studies have shown that cotini...</td>\n",
       "      <td>The purpose of this study is to determi...</td>\n",
       "      <td>1999-09-20</td>\n",
       "      <td>1999</td>\n",
       "    </tr>\n",
       "    <tr>\n",
       "      <th>528</th>\n",
       "      <td>NCT00000227</td>\n",
       "      <td>September 20, 1999</td>\n",
       "      <td>University of Vermont</td>\n",
       "      <td>Alternate-Day Buprenorphine Administration. Ph...</td>\n",
       "      <td>Opioid-Related Disorders</td>\n",
       "      <td>None</td>\n",
       "      <td>The purpose of this study is to evaluat...</td>\n",
       "      <td>1999-09-20</td>\n",
       "      <td>1999</td>\n",
       "    </tr>\n",
       "  </tbody>\n",
       "</table>\n",
       "</div>"
      ],
      "text/plain": [
       "                 id       original_date  \\\n",
       "46038   NCT00004640  September 17, 1999   \n",
       "150757  NCT00004639  September 17, 1999   \n",
       "43264   NCT00000341  September 20, 1999   \n",
       "195656  NCT00000289  September 20, 1999   \n",
       "528     NCT00000227  September 20, 1999   \n",
       "\n",
       "                                         source  \\\n",
       "46038                  University of Washington   \n",
       "150757                    University of Florida   \n",
       "43264   National Institute on Drug Abuse (NIDA)   \n",
       "195656  National Institute on Drug Abuse (NIDA)   \n",
       "528                       University of Vermont   \n",
       "\n",
       "                                              brief_title  \\\n",
       "46038   \"Clinical Trials to Enhance Elders' Oral Healt...   \n",
       "150757        Cleft Palate Surgery and Speech Development   \n",
       "43264   Evaluation of Liquid vs. Tablet Buprenorphine - 6   \n",
       "195656  Role of Metabolites in Nicotine Dependence (3)...   \n",
       "528     Alternate-Day Buprenorphine Administration. Ph...   \n",
       "\n",
       "                       condition  \\\n",
       "46038                 Tooth Loss   \n",
       "150757                 Cleft Lip   \n",
       "43264   Opioid-Related Disorders   \n",
       "195656      Tobacco Use Disorder   \n",
       "528     Opioid-Related Disorders   \n",
       "\n",
       "                                         full_description  \\\n",
       "46038          \"TEETH\" is a double-blinded, randomized...   \n",
       "150757         This study is conducted with patients w...   \n",
       "43264                                                None   \n",
       "195656         Previous studies have shown that cotini...   \n",
       "528                                                  None   \n",
       "\n",
       "                                                  summary  full_date  year  \n",
       "46038          The purpose of this study is to determi... 1999-09-17  1999  \n",
       "150757         Compare the outcome of two primary surg... 1999-09-17  1999  \n",
       "43264          The purpose of this study is to evaluat... 1999-09-20  1999  \n",
       "195656         The purpose of this study is to determi... 1999-09-20  1999  \n",
       "528            The purpose of this study is to evaluat... 1999-09-20  1999  "
      ]
     },
     "execution_count": 28,
     "metadata": {},
     "output_type": "execute_result"
    }
   ],
   "source": [
    "df_1999.head()"
   ]
  },
  {
   "cell_type": "markdown",
   "metadata": {},
   "source": [
    "## Find clusters in data"
   ]
  },
  {
   "cell_type": "code",
   "execution_count": null,
   "metadata": {},
   "outputs": [],
   "source": [
    "\n",
    "\n"
   ]
  }
 ],
 "metadata": {
  "kernelspec": {
   "display_name": "Python 3",
   "language": "python",
   "name": "python3"
  },
  "language_info": {
   "codemirror_mode": {
    "name": "ipython",
    "version": 3
   },
   "file_extension": ".py",
   "mimetype": "text/x-python",
   "name": "python",
   "nbconvert_exporter": "python",
   "pygments_lexer": "ipython3",
   "version": "3.7.0"
  }
 },
 "nbformat": 4,
 "nbformat_minor": 2
}
