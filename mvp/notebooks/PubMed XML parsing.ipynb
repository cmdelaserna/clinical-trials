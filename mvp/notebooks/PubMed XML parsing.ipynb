{
 "cells": [
  {
   "cell_type": "code",
   "execution_count": 1,
   "metadata": {},
   "outputs": [],
   "source": [
    "import json\n",
    "import os\n",
    "import xml.etree.ElementTree as ET\n",
    "import sys\n",
    "import pandas as pd"
   ]
  },
  {
   "cell_type": "code",
   "execution_count": 2,
   "metadata": {},
   "outputs": [
    {
     "name": "stdout",
     "output_type": "stream",
     "text": [
      "\n",
      "-------------------------\n",
      "\n",
      "\n",
      "Paths and folders created\n",
      "\n"
     ]
    }
   ],
   "source": [
    "'''\n",
    "Create paths and folders\n",
    "'''\n",
    "\n",
    "# Folders with xml files\n",
    "path_to_pubmed_files = os.path.abspath('../data/pubmed/')\n",
    "\n",
    "# Path for json folder [json_test for debugging]\n",
    "path_to_json_file = os.path.abspath('../data/json/')\n",
    "\n",
    "# Variable for all parsed files\n",
    "all_parsed_files = []\n",
    "\n",
    "#substitute first file with main xml folder\n",
    "all_folders = [path_to_pubmed_files, path_to_json_file]\n",
    "\n",
    "print('\\n-------------------------\\n')\n",
    "print('\\nPaths and folders created\\n')"
   ]
  },
  {
   "cell_type": "code",
   "execution_count": 3,
   "metadata": {},
   "outputs": [],
   "source": [
    "#Function for creating folders\n",
    "\n",
    "create_folders_errors = []\n",
    "\n",
    "def create_folders(paths=[]):\n",
    "    for p in paths:\n",
    "        try:\n",
    "            os.mkdir(p)\n",
    "            if p:\n",
    "                print('{} created'.format(p))\n",
    "        except IOError as e:\n",
    "            create_folders_errors.append(e)\n",
    "            pass\n",
    "\n",
    "        print('\\n-------------------------\\n')\n",
    "        print('\\nFolders created. Except: {}\\n'.format(create_folders_errors))"
   ]
  },
  {
   "cell_type": "code",
   "execution_count": 4,
   "metadata": {},
   "outputs": [
    {
     "name": "stdout",
     "output_type": "stream",
     "text": [
      "\n",
      "-------------------------\n",
      "\n",
      "\n",
      "Folders created. Except: [FileExistsError(17, 'File exists')]\n",
      "\n",
      "\n",
      "-------------------------\n",
      "\n",
      "\n",
      "Folders created. Except: [FileExistsError(17, 'File exists'), FileExistsError(17, 'File exists')]\n",
      "\n"
     ]
    }
   ],
   "source": [
    "create_folders(all_folders)"
   ]
  },
  {
   "cell_type": "code",
   "execution_count": 5,
   "metadata": {},
   "outputs": [],
   "source": [
    "'''\n",
    "Parse all xml files and save them in all_parsed_files.\n",
    "Slow. Checks for xml files\n",
    "'''\n",
    "\n",
    "def parse_xml_files(path_to_folder):\n",
    "    for filename in os.listdir(path_to_folder):\n",
    "        # if not filename.endswith('.xml'): continue\n",
    "        fullname = os.path.join(path_to_folder, filename)\n",
    "        all_parsed_files.append(ET.parse(fullname).getroot())\n",
    "\n",
    "        # Checking message to the terminal\n",
    "        print(\"{} file parsed\\n\".format(fullname))\n",
    "\n",
    "    print('Number of files parsed: {}\\n'.format(len(all_parsed_files)))\n",
    "\n",
    "    return all_parsed_files"
   ]
  },
  {
   "cell_type": "code",
   "execution_count": 6,
   "metadata": {},
   "outputs": [
    {
     "ename": "ParseError",
     "evalue": "not well-formed (invalid token): line 1, column 0 (<string>)",
     "output_type": "error",
     "traceback": [
      "Traceback \u001b[0;36m(most recent call last)\u001b[0m:\n",
      "  File \u001b[1;32m\"/Users/cmserna/Sites/virtualenvs/clinical-trials/lib/python3.7/site-packages/IPython/core/interactiveshell.py\"\u001b[0m, line \u001b[1;32m3296\u001b[0m, in \u001b[1;35mrun_code\u001b[0m\n    exec(code_obj, self.user_global_ns, self.user_ns)\n",
      "  File \u001b[1;32m\"<ipython-input-6-83b81711c6d7>\"\u001b[0m, line \u001b[1;32m1\u001b[0m, in \u001b[1;35m<module>\u001b[0m\n    parse_xml_files(path_to_pubmed_files)\n",
      "  File \u001b[1;32m\"<ipython-input-5-3f299a7c69f8>\"\u001b[0m, line \u001b[1;32m10\u001b[0m, in \u001b[1;35mparse_xml_files\u001b[0m\n    all_parsed_files.append(ET.parse(fullname).getroot())\n",
      "  File \u001b[1;32m\"/usr/local/Cellar/python/3.7.0/Frameworks/Python.framework/Versions/3.7/lib/python3.7/xml/etree/ElementTree.py\"\u001b[0m, line \u001b[1;32m1197\u001b[0m, in \u001b[1;35mparse\u001b[0m\n    tree.parse(source, parser)\n",
      "\u001b[0;36m  File \u001b[0;32m\"/usr/local/Cellar/python/3.7.0/Frameworks/Python.framework/Versions/3.7/lib/python3.7/xml/etree/ElementTree.py\"\u001b[0;36m, line \u001b[0;32m598\u001b[0;36m, in \u001b[0;35mparse\u001b[0;36m\u001b[0m\n\u001b[0;31m    self._root = parser._parse_whole(source)\u001b[0m\n",
      "\u001b[0;36m  File \u001b[0;32m\"<string>\"\u001b[0;36m, line \u001b[0;32munknown\u001b[0m\n\u001b[0;31mParseError\u001b[0m\u001b[0;31m:\u001b[0m not well-formed (invalid token): line 1, column 0\n"
     ]
    }
   ],
   "source": [
    "parse_xml_files(path_to_pubmed_files)"
   ]
  },
  {
   "cell_type": "code",
   "execution_count": null,
   "metadata": {},
   "outputs": [],
   "source": [
    "'''\n",
    "Find values by unique tags in XML files\n",
    "Save them in a dictionary\n",
    "Export them to a json file\n",
    "'''\n",
    "\n",
    "all_data_dictionary = {}\n",
    "print('\\n-------------------------\\n')\n",
    "print('\\nCreated all_data_dictionary\\n')"
   ]
  },
  {
   "cell_type": "code",
   "execution_count": null,
   "metadata": {},
   "outputs": [],
   "source": [
    "#function to create dictionary from tags\n",
    "def create_dictionary_from_tag(tag, parsed_files = all_parsed_files, name_dictionary = all_data_dictionary):\n",
    "\n",
    "    # Variable to store values\n",
    "    # keys = []\n",
    "    values = []\n",
    "\n",
    "    # Iterate through all xml parsed files and tags, and append data to values\n",
    "    for n in parsed_files:\n",
    "        for i in n.iter(tag):\n",
    "            if i.text != 0:\n",
    "                values.append(i.text)\n",
    "            else:\n",
    "                values.append('nan')\n",
    "            print(\"{} file parsed\\n\".format(i.text))\n",
    "\n",
    "    # Create dictionary and set tags as keys\n",
    "    name_dictionary.setdefault(tag, [])\n",
    "\n",
    "    # Append values to dictionary\n",
    "    for i in values:\n",
    "        name_dictionary[tag].append(i)\n",
    "        print(\"{} file added to the dictionary\\n\".format(i))"
   ]
  },
  {
   "cell_type": "code",
   "execution_count": null,
   "metadata": {},
   "outputs": [],
   "source": [
    "create_dictionary_from_tag('Title')\n",
    "create_dictionary_from_tag('ISOAbbreviation')\n",
    "create_dictionary_from_tag('ArticleTitle')\n",
    "create_dictionary_from_tag('AbstractText')\n",
    "create_dictionary_from_tag('AuthorList/Author/Affiliation')\n",
    "create_dictionary_from_tag('Language')\n",
    "create_dictionary_from_tag('PublicationStatus')\n",
    "create_dictionary_from_tag('ArticleIDLists/ArticleId')\n",
    "create_dictionary_from_tag('Reference/Citation')"
   ]
  },
  {
   "cell_type": "code",
   "execution_count": null,
   "metadata": {},
   "outputs": [],
   "source": [
    "# Function for adding nested tags\n",
    "\n",
    "def add_new_tags(new_key):\n",
    "    all_data_dictionary.setdefault(new_key, [])\n",
    "\n",
    "    for n in all_parsed_files:\n",
    "            value_conditions = n.find(new_key)\n",
    "            if n.find(new_key) is not None:\n",
    "                all_data_dictionary[new_key].append(value_conditions.text)\n",
    "            else:\n",
    "                all_data_dictionary[new_key].append('None')\n",
    "\n",
    "    print('{} tag added'.format(new_key))"
   ]
  },
  {
   "cell_type": "code",
   "execution_count": null,
   "metadata": {},
   "outputs": [],
   "source": [
    "add_new_tags('PubDate/Year')"
   ]
  },
  {
   "cell_type": "code",
   "execution_count": null,
   "metadata": {},
   "outputs": [],
   "source": [
    "def check_values_key():\n",
    "    print('\\nChecking values by key\\n')\n",
    "\n",
    "    # Check number of values by key\n",
    "    for key, value in all_data_dictionary.items():\n",
    "        print(key, len(list(filter(bool, value))))"
   ]
  },
  {
   "cell_type": "code",
   "execution_count": null,
   "metadata": {},
   "outputs": [],
   "source": [
    "check_values_key()"
   ]
  },
  {
   "cell_type": "markdown",
   "metadata": {},
   "source": [
    "## Put all data from dictionary in a df"
   ]
  },
  {
   "cell_type": "code",
   "execution_count": null,
   "metadata": {},
   "outputs": [],
   "source": [
    "df = pd.DataFrame(dict([(k,pd.Series(v)) for k,v in all_data_dictionary.items()]))"
   ]
  },
  {
   "cell_type": "code",
   "execution_count": null,
   "metadata": {},
   "outputs": [],
   "source": [
    "pd.set_option('display.max_columns', 500)\n",
    "df"
   ]
  },
  {
   "cell_type": "code",
   "execution_count": null,
   "metadata": {},
   "outputs": [],
   "source": [
    "df.to_json('../data/json/sample_json.json')"
   ]
  }
 ],
 "metadata": {
  "kernelspec": {
   "display_name": "Python 3",
   "language": "python",
   "name": "python3"
  },
  "language_info": {
   "codemirror_mode": {
    "name": "ipython",
    "version": 3
   },
   "file_extension": ".py",
   "mimetype": "text/x-python",
   "name": "python",
   "nbconvert_exporter": "python",
   "pygments_lexer": "ipython3",
   "version": "3.7.0"
  }
 },
 "nbformat": 4,
 "nbformat_minor": 2
}
