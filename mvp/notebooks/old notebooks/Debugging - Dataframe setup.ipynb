{
 "cells": [
  {
   "cell_type": "markdown",
   "metadata": {},
   "source": [
    "# Clinical trials: Dataframe setup\n"
   ]
  },
  {
   "cell_type": "code",
   "execution_count": 2,
   "metadata": {},
   "outputs": [],
   "source": [
    "import time\n",
    "import json\n",
    "import os\n",
    "import pandas as pd"
   ]
  },
  {
   "cell_type": "code",
   "execution_count": 3,
   "metadata": {},
   "outputs": [],
   "source": [
    "# Path for json folder & file\n",
    "path_to_json_file = os.path.abspath('../data/json/')\n",
    "\n",
    "# json file\n",
    "json_file = '/sample_json' #name json file  "
   ]
  },
  {
   "cell_type": "markdown",
   "metadata": {},
   "source": [
    "## Import json file in a dataframe/sframe"
   ]
  },
  {
   "cell_type": "code",
   "execution_count": 4,
   "metadata": {},
   "outputs": [],
   "source": [
    "# Import json into a dataframe\n",
    "file = '{}{}.json'.format(path_to_json_file, json_file)"
   ]
  },
  {
   "cell_type": "code",
   "execution_count": 5,
   "metadata": {},
   "outputs": [],
   "source": [
    "# breaks with large json file\n",
    "df = pd.read_json(file)"
   ]
  },
  {
   "cell_type": "markdown",
   "metadata": {},
   "source": [
    "## Basic data cleaning"
   ]
  },
  {
   "cell_type": "code",
   "execution_count": 6,
   "metadata": {},
   "outputs": [
    {
     "name": "stdout",
     "output_type": "stream",
     "text": [
      "<class 'pandas.core.frame.DataFrame'>\n",
      "Int64Index: 3000 entries, 0 to 999\n",
      "Data columns (total 24 columns):\n",
      "nct_id                                  3000 non-null object\n",
      "study_first_submitted                   3000 non-null object\n",
      "source                                  3000 non-null object\n",
      "brief_title                             3000 non-null object\n",
      "overall_status                          3000 non-null object\n",
      "verification_date                       2991 non-null object\n",
      "study_type                              3000 non-null object\n",
      "study_first_posted                      3000 non-null object\n",
      "last_update_submitted                   3000 non-null object\n",
      "last_update_posted                      3000 non-null object\n",
      "phase                                   2432 non-null object\n",
      "condition                               3000 non-null object\n",
      "condition_browse/mesh_term              3000 non-null object\n",
      "intervention_browse/mesh_term           3000 non-null object\n",
      "detailed_description/textblock          3000 non-null object\n",
      "brief_summary/textblock                 3000 non-null object\n",
      "location/facility/address/city          3000 non-null object\n",
      "location/facility/address/country       3000 non-null object\n",
      "location/facility/address/zip           3000 non-null object\n",
      "sponsors/lead_sponsor/agency            3000 non-null object\n",
      "sponsors/lead_sponsor/agency_class      3000 non-null object\n",
      "study_design_info/allocation            3000 non-null object\n",
      "study_design_info/intervention_model    3000 non-null object\n",
      "study_design_info/primary_purpose       3000 non-null object\n",
      "dtypes: object(24)\n",
      "memory usage: 585.9+ KB\n"
     ]
    }
   ],
   "source": [
    "#Check data\n",
    "df.info()"
   ]
  },
  {
   "cell_type": "code",
   "execution_count": 30,
   "metadata": {
    "scrolled": false
   },
   "outputs": [
    {
     "data": {
      "text/plain": [
       "24"
      ]
     },
     "execution_count": 30,
     "metadata": {},
     "output_type": "execute_result"
    }
   ],
   "source": [
    "# print(df.head())\n",
    "# print(list(df.columns))\n",
    "len(df.columns)"
   ]
  },
  {
   "cell_type": "code",
   "execution_count": 31,
   "metadata": {},
   "outputs": [],
   "source": [
    "df = df.replace(r'\\n',' ', regex=True)\n",
    "\n",
    "#rename columns\n",
    "df.columns = ['ntc_id', \n",
    "          'study_first_submitted',\n",
    "          'source', \n",
    "          'brief_title',\n",
    "          'overall_status'\n",
    "          'verification_date',\n",
    "          'study_type',\n",
    "          'study_first_posted',\n",
    "          'last_update_submitted',\n",
    "          'last_update_posted',\n",
    "          'phase',\n",
    "          'condition',\n",
    "          'condition_mesh_term',\n",
    "          'intervention_mesh_term',\n",
    "          'detailed_description',\n",
    "          'brief_summary',\n",
    "          'city',\n",
    "          'country',\n",
    "          'zip',\n",
    "          'lead_sponsor_agency',\n",
    "          'lead_sponsor_agency_class',\n",
    "          'study_design_info_allocation',\n",
    "          'study_design_info_intervention_model',\n",
    "          'study_design_info_primary_purpose', \n",
    "          'extra_column']"
   ]
  },
  {
   "cell_type": "code",
   "execution_count": 32,
   "metadata": {},
   "outputs": [
    {
     "name": "stdout",
     "output_type": "stream",
     "text": [
      "<class 'pandas.core.frame.DataFrame'>\n",
      "Int64Index: 3000 entries, 0 to 999\n",
      "Data columns (total 24 columns):\n",
      "ntc_id                                  3000 non-null object\n",
      "study_first_submitted                   3000 non-null object\n",
      "source                                  3000 non-null object\n",
      "brief_title                             3000 non-null object\n",
      "overall_statusverification_date         3000 non-null object\n",
      "study_type                              2991 non-null object\n",
      "study_first_posted                      3000 non-null object\n",
      "last_update_submitted                   3000 non-null object\n",
      "last_update_posted                      3000 non-null object\n",
      "phase                                   3000 non-null object\n",
      "condition                               2432 non-null object\n",
      "condition_mesh_term                     3000 non-null object\n",
      "intervention_mesh_term                  3000 non-null object\n",
      "detailed_description                    3000 non-null object\n",
      "brief_summary                           3000 non-null object\n",
      "city                                    3000 non-null object\n",
      "country                                 3000 non-null object\n",
      "zip                                     3000 non-null object\n",
      "lead_sponsor_agency                     3000 non-null object\n",
      "lead_sponsor_agency_class               3000 non-null object\n",
      "study_design_info_allocation            3000 non-null object\n",
      "study_design_info_intervention_model    3000 non-null object\n",
      "study_design_info_primary_purpose       3000 non-null object\n",
      "extra_column                            3000 non-null object\n",
      "dtypes: object(24)\n",
      "memory usage: 585.9+ KB\n"
     ]
    }
   ],
   "source": [
    "# df.set_index('nct_id', inplace=True)\n",
    "df.info()"
   ]
  },
  {
   "cell_type": "code",
   "execution_count": 33,
   "metadata": {},
   "outputs": [
    {
     "data": {
      "text/html": [
       "<div>\n",
       "<style scoped>\n",
       "    .dataframe tbody tr th:only-of-type {\n",
       "        vertical-align: middle;\n",
       "    }\n",
       "\n",
       "    .dataframe tbody tr th {\n",
       "        vertical-align: top;\n",
       "    }\n",
       "\n",
       "    .dataframe thead th {\n",
       "        text-align: right;\n",
       "    }\n",
       "</style>\n",
       "<table border=\"1\" class=\"dataframe\">\n",
       "  <thead>\n",
       "    <tr style=\"text-align: right;\">\n",
       "      <th></th>\n",
       "      <th>ntc_id</th>\n",
       "      <th>study_first_submitted</th>\n",
       "      <th>source</th>\n",
       "      <th>brief_title</th>\n",
       "      <th>overall_statusverification_date</th>\n",
       "      <th>study_type</th>\n",
       "      <th>study_first_posted</th>\n",
       "      <th>last_update_submitted</th>\n",
       "      <th>last_update_posted</th>\n",
       "      <th>phase</th>\n",
       "      <th>...</th>\n",
       "      <th>brief_summary</th>\n",
       "      <th>city</th>\n",
       "      <th>country</th>\n",
       "      <th>zip</th>\n",
       "      <th>lead_sponsor_agency</th>\n",
       "      <th>lead_sponsor_agency_class</th>\n",
       "      <th>study_design_info_allocation</th>\n",
       "      <th>study_design_info_intervention_model</th>\n",
       "      <th>study_design_info_primary_purpose</th>\n",
       "      <th>extra_column</th>\n",
       "    </tr>\n",
       "  </thead>\n",
       "  <tbody>\n",
       "    <tr>\n",
       "      <th>0</th>\n",
       "      <td>NCT01980602</td>\n",
       "      <td>September 24, 2013</td>\n",
       "      <td>University of Hull</td>\n",
       "      <td>Effect of Exercise on Patients With Claudicati...</td>\n",
       "      <td>Unknown status</td>\n",
       "      <td>November 2013</td>\n",
       "      <td>Interventional</td>\n",
       "      <td>November 11, 2013</td>\n",
       "      <td>November 4, 2013</td>\n",
       "      <td>November 11, 2013</td>\n",
       "      <td>...</td>\n",
       "      <td>None</td>\n",
       "      <td>Title: How does exercise improve the ca...</td>\n",
       "      <td>Hull</td>\n",
       "      <td>United Kingdom</td>\n",
       "      <td>HU3 2JZ</td>\n",
       "      <td>University of Hull</td>\n",
       "      <td>Other</td>\n",
       "      <td>Randomized</td>\n",
       "      <td>Single Group Assignment</td>\n",
       "      <td>Treatment</td>\n",
       "    </tr>\n",
       "    <tr>\n",
       "      <th>1</th>\n",
       "      <td>NCT02181140</td>\n",
       "      <td>July 8, 2013</td>\n",
       "      <td>Universitätsklinikum Hamburg-Eppendorf</td>\n",
       "      <td>Core Biopsy Endo Sonography Study Evaluation o...</td>\n",
       "      <td>Completed</td>\n",
       "      <td>August 2015</td>\n",
       "      <td>Interventional</td>\n",
       "      <td>July 3, 2014</td>\n",
       "      <td>August 15, 2015</td>\n",
       "      <td>September 16, 2015</td>\n",
       "      <td>...</td>\n",
       "      <td>Endoscopic ultrasound is an established...</td>\n",
       "      <td>The study is designed to evaluate the d...</td>\n",
       "      <td>Hamburg</td>\n",
       "      <td>Germany</td>\n",
       "      <td>20246</td>\n",
       "      <td>Universitätsklinikum Hamburg-Eppendorf</td>\n",
       "      <td>Other</td>\n",
       "      <td>None</td>\n",
       "      <td>Single Group Assignment</td>\n",
       "      <td>Diagnostic</td>\n",
       "    </tr>\n",
       "    <tr>\n",
       "      <th>10</th>\n",
       "      <td>NCT00548080</td>\n",
       "      <td>October 19, 2007</td>\n",
       "      <td>Merck Sharp &amp; Dohme Corp.</td>\n",
       "      <td>Evaluate the Safety and Efficacy of Caspofungi...</td>\n",
       "      <td>Completed</td>\n",
       "      <td>December 2015</td>\n",
       "      <td>Interventional</td>\n",
       "      <td>October 23, 2007</td>\n",
       "      <td>December 16, 2015</td>\n",
       "      <td>December 17, 2015</td>\n",
       "      <td>...</td>\n",
       "      <td>None</td>\n",
       "      <td>Registration study</td>\n",
       "      <td>None</td>\n",
       "      <td>None</td>\n",
       "      <td>None</td>\n",
       "      <td>Merck Sharp &amp; Dohme Corp.</td>\n",
       "      <td>Industry</td>\n",
       "      <td>Non-Randomized</td>\n",
       "      <td>Single Group Assignment</td>\n",
       "      <td>Treatment</td>\n",
       "    </tr>\n",
       "    <tr>\n",
       "      <th>100</th>\n",
       "      <td>NCT01920516</td>\n",
       "      <td>August 6, 2013</td>\n",
       "      <td>International Group of Endovascular Oncology</td>\n",
       "      <td>Isolated Limb Perfusion of Melphalan for Melan...</td>\n",
       "      <td>Recruiting</td>\n",
       "      <td>February 2019</td>\n",
       "      <td>Observational</td>\n",
       "      <td>August 12, 2013</td>\n",
       "      <td>February 26, 2019</td>\n",
       "      <td>February 27, 2019</td>\n",
       "      <td>...</td>\n",
       "      <td>This is an observational study and the ...</td>\n",
       "      <td>In-transit metastases occur in approxim...</td>\n",
       "      <td>Pesaro</td>\n",
       "      <td>Italy</td>\n",
       "      <td>61122</td>\n",
       "      <td>International Group of Endovascular Oncology</td>\n",
       "      <td>Other</td>\n",
       "      <td>None</td>\n",
       "      <td>None</td>\n",
       "      <td>None</td>\n",
       "    </tr>\n",
       "    <tr>\n",
       "      <th>1000</th>\n",
       "      <td>NCT01147393</td>\n",
       "      <td>June 16, 2010</td>\n",
       "      <td>Weill Medical College of Cornell University</td>\n",
       "      <td>Combination Veltuzumab and Fractionated 90Y- E...</td>\n",
       "      <td>Terminated</td>\n",
       "      <td>September 2008</td>\n",
       "      <td>Interventional</td>\n",
       "      <td>June 22, 2010</td>\n",
       "      <td>January 26, 2018</td>\n",
       "      <td>February 21, 2018</td>\n",
       "      <td>...</td>\n",
       "      <td>The treatment regimen consists of 2 ele...</td>\n",
       "      <td>A Phase I/II clinical trial using a fra...</td>\n",
       "      <td>New York</td>\n",
       "      <td>United States</td>\n",
       "      <td>10065</td>\n",
       "      <td>Weill Medical College of Cornell University</td>\n",
       "      <td>Other</td>\n",
       "      <td>None</td>\n",
       "      <td>Single Group Assignment</td>\n",
       "      <td>Treatment</td>\n",
       "    </tr>\n",
       "  </tbody>\n",
       "</table>\n",
       "<p>5 rows × 24 columns</p>\n",
       "</div>"
      ],
      "text/plain": [
       "           ntc_id study_first_submitted  \\\n",
       "0     NCT01980602    September 24, 2013   \n",
       "1     NCT02181140          July 8, 2013   \n",
       "10    NCT00548080      October 19, 2007   \n",
       "100   NCT01920516        August 6, 2013   \n",
       "1000  NCT01147393         June 16, 2010   \n",
       "\n",
       "                                            source  \\\n",
       "0                               University of Hull   \n",
       "1           Universitätsklinikum Hamburg-Eppendorf   \n",
       "10                       Merck Sharp & Dohme Corp.   \n",
       "100   International Group of Endovascular Oncology   \n",
       "1000   Weill Medical College of Cornell University   \n",
       "\n",
       "                                            brief_title  \\\n",
       "0     Effect of Exercise on Patients With Claudicati...   \n",
       "1     Core Biopsy Endo Sonography Study Evaluation o...   \n",
       "10    Evaluate the Safety and Efficacy of Caspofungi...   \n",
       "100   Isolated Limb Perfusion of Melphalan for Melan...   \n",
       "1000  Combination Veltuzumab and Fractionated 90Y- E...   \n",
       "\n",
       "     overall_statusverification_date      study_type study_first_posted  \\\n",
       "0                     Unknown status   November 2013     Interventional   \n",
       "1                          Completed     August 2015     Interventional   \n",
       "10                         Completed   December 2015     Interventional   \n",
       "100                       Recruiting   February 2019      Observational   \n",
       "1000                      Terminated  September 2008     Interventional   \n",
       "\n",
       "     last_update_submitted last_update_posted               phase  ...  \\\n",
       "0        November 11, 2013   November 4, 2013   November 11, 2013  ...   \n",
       "1             July 3, 2014    August 15, 2015  September 16, 2015  ...   \n",
       "10        October 23, 2007  December 16, 2015   December 17, 2015  ...   \n",
       "100        August 12, 2013  February 26, 2019   February 27, 2019  ...   \n",
       "1000         June 22, 2010   January 26, 2018   February 21, 2018  ...   \n",
       "\n",
       "                                          brief_summary  \\\n",
       "0                                                  None   \n",
       "1            Endoscopic ultrasound is an established...   \n",
       "10                                                 None   \n",
       "100          This is an observational study and the ...   \n",
       "1000         The treatment regimen consists of 2 ele...   \n",
       "\n",
       "                                                   city   country  \\\n",
       "0            Title: How does exercise improve the ca...      Hull   \n",
       "1            The study is designed to evaluate the d...   Hamburg   \n",
       "10                              Registration study           None   \n",
       "100          In-transit metastases occur in approxim...    Pesaro   \n",
       "1000         A Phase I/II clinical trial using a fra...  New York   \n",
       "\n",
       "                 zip lead_sponsor_agency  \\\n",
       "0     United Kingdom             HU3 2JZ   \n",
       "1            Germany               20246   \n",
       "10              None                None   \n",
       "100            Italy               61122   \n",
       "1000   United States               10065   \n",
       "\n",
       "                         lead_sponsor_agency_class  \\\n",
       "0                               University of Hull   \n",
       "1           Universitätsklinikum Hamburg-Eppendorf   \n",
       "10                       Merck Sharp & Dohme Corp.   \n",
       "100   International Group of Endovascular Oncology   \n",
       "1000   Weill Medical College of Cornell University   \n",
       "\n",
       "     study_design_info_allocation study_design_info_intervention_model  \\\n",
       "0                           Other                           Randomized   \n",
       "1                           Other                                 None   \n",
       "10                       Industry                       Non-Randomized   \n",
       "100                         Other                                 None   \n",
       "1000                        Other                                 None   \n",
       "\n",
       "     study_design_info_primary_purpose extra_column  \n",
       "0              Single Group Assignment    Treatment  \n",
       "1              Single Group Assignment   Diagnostic  \n",
       "10             Single Group Assignment    Treatment  \n",
       "100                               None         None  \n",
       "1000           Single Group Assignment    Treatment  \n",
       "\n",
       "[5 rows x 24 columns]"
      ]
     },
     "execution_count": 33,
     "metadata": {},
     "output_type": "execute_result"
    }
   ],
   "source": [
    "df.head()"
   ]
  },
  {
   "cell_type": "markdown",
   "metadata": {},
   "source": [
    "## This part goes in the next notebook/script\n",
    "- Preparing data for ML analysis"
   ]
  },
  {
   "cell_type": "markdown",
   "metadata": {},
   "source": [
    "## Add new date columns"
   ]
  },
  {
   "cell_type": "code",
   "execution_count": null,
   "metadata": {},
   "outputs": [],
   "source": [
    "# Create new column: study_first_submitted as dates\n",
    "%time df['full_date'] = pd.to_datetime(df['submission_date'])"
   ]
  },
  {
   "cell_type": "code",
   "execution_count": null,
   "metadata": {},
   "outputs": [],
   "source": [
    "# Create new column: dates as year\n",
    "df['year'] = df['full_date'].dt.year"
   ]
  },
  {
   "cell_type": "code",
   "execution_count": null,
   "metadata": {},
   "outputs": [],
   "source": [
    "# Delete submission date column\n",
    "df.drop('submission_date', axis=1, inplace=True)"
   ]
  },
  {
   "cell_type": "code",
   "execution_count": null,
   "metadata": {},
   "outputs": [],
   "source": [
    "# Sort records by date\n",
    "df = df.sort_values(by ='full_date')"
   ]
  },
  {
   "cell_type": "code",
   "execution_count": null,
   "metadata": {},
   "outputs": [],
   "source": [
    "df.head()"
   ]
  },
  {
   "cell_type": "code",
   "execution_count": null,
   "metadata": {},
   "outputs": [],
   "source": [
    "df.info()"
   ]
  },
  {
   "cell_type": "markdown",
   "metadata": {},
   "source": [
    "## Subset of data"
   ]
  },
  {
   "cell_type": "code",
   "execution_count": null,
   "metadata": {},
   "outputs": [],
   "source": [
    "def filter_data(year, df):\n",
    "    # Select data since 2008\n",
    "    df = [df['year'] > year]"
   ]
  },
  {
   "cell_type": "code",
   "execution_count": null,
   "metadata": {},
   "outputs": [],
   "source": [
    "# Select data since 2008\n",
    "# df = df[df['year'] > 2007]\n",
    "# df.info()\n",
    "\n",
    "filter_data(2008, df)"
   ]
  },
  {
   "cell_type": "code",
   "execution_count": null,
   "metadata": {},
   "outputs": [],
   "source": [
    "df.mesh_term_condition.nunique()"
   ]
  },
  {
   "cell_type": "code",
   "execution_count": null,
   "metadata": {},
   "outputs": [],
   "source": [
    "df.condition.nunique()"
   ]
  },
  {
   "cell_type": "code",
   "execution_count": null,
   "metadata": {},
   "outputs": [],
   "source": [
    "df.mesh_term_intervention.nunique()"
   ]
  },
  {
   "cell_type": "markdown",
   "metadata": {},
   "source": [
    "## Export dataframe as csv"
   ]
  },
  {
   "cell_type": "code",
   "execution_count": null,
   "metadata": {},
   "outputs": [],
   "source": [
    "def export_data_csv(df, path_to_csv = os.path.abspath('../data/csv/'), csv_file = '/clean_data.csv'):\n",
    "    try:\n",
    "        os.mkdir(path_to_csv)\n",
    "        print('{} created'.format(csv))\n",
    "    except IOError as e:\n",
    "        print(e)\n",
    "        pass\n",
    "    \n",
    "    df.to_csv(path_to_csv + csv_file)"
   ]
  },
  {
   "cell_type": "code",
   "execution_count": null,
   "metadata": {},
   "outputs": [],
   "source": [
    "# Export dataframe as csv file\n",
    "\n",
    "# path_to_csv = os.path.abspath('../data/csv/')\n",
    "\n",
    "# try:\n",
    "#     os.mkdir(path_to_csv)\n",
    "#     print('{} created'.format(csv))\n",
    "# except IOError as e:\n",
    "#     print(e)\n",
    "#     pass\n",
    "\n",
    "export_data_csv(df)"
   ]
  },
  {
   "cell_type": "code",
   "execution_count": null,
   "metadata": {},
   "outputs": [],
   "source": [
    "csv_file = '/clean_data.csv'\n",
    "df.to_csv(path_to_csv + csv_file)"
   ]
  },
  {
   "cell_type": "code",
   "execution_count": null,
   "metadata": {},
   "outputs": [],
   "source": []
  }
 ],
 "metadata": {
  "kernelspec": {
   "display_name": "Python 3",
   "language": "python",
   "name": "python3"
  },
  "language_info": {
   "codemirror_mode": {
    "name": "ipython",
    "version": 3
   },
   "file_extension": ".py",
   "mimetype": "text/x-python",
   "name": "python",
   "nbconvert_exporter": "python",
   "pygments_lexer": "ipython3",
   "version": "3.7.3"
  }
 },
 "nbformat": 4,
 "nbformat_minor": 2
}
