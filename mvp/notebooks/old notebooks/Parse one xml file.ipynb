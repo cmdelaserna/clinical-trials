{
 "cells": [
  {
   "cell_type": "markdown",
   "metadata": {},
   "source": [
    "# Clinical trials: setup & data importing\n"
   ]
  },
  {
   "cell_type": "code",
   "execution_count": 1,
   "metadata": {},
   "outputs": [],
   "source": [
    "#Data: clinicaltrials.gov\n",
    "#Source: wget https://clinicaltrials.gov/AllPublicXML.zip\n",
    "#Date: September 14, 2018 [9pm]"
   ]
  },
  {
   "cell_type": "code",
   "execution_count": 2,
   "metadata": {},
   "outputs": [],
   "source": [
    "# reset variables if needed\n",
    "# %reset"
   ]
  },
  {
   "cell_type": "code",
   "execution_count": 3,
   "metadata": {},
   "outputs": [],
   "source": [
    "import zipfile\n",
    "import sys\n",
    "import time\n",
    "import json\n",
    "import re\n",
    "import os\n",
    "import xml.etree.ElementTree as ET\n",
    "import shutil\n",
    "import pandas as pd\n",
    "from collections import Counter "
   ]
  },
  {
   "cell_type": "code",
   "execution_count": 4,
   "metadata": {},
   "outputs": [],
   "source": [
    "# Print messages to the terminal\n",
    "\n",
    "sys.stdout = open('/dev/stdout', 'w')\n"
   ]
  },
  {
   "cell_type": "markdown",
   "metadata": {},
   "source": [
    "## Parse one random trial"
   ]
  },
  {
   "cell_type": "code",
   "execution_count": 5,
   "metadata": {},
   "outputs": [],
   "source": [
    "# Save all paths to xml files in a new variable\n",
    "# Not dependent of unzip script\n",
    "\n",
    "xml_trials = '../data/all_trials/'\n",
    "\n",
    "data_xml = []\n",
    "\n",
    "for xml in os.listdir(xml_trials):\n",
    "    data_xml.append(xml)\n",
    "\n",
    "print('Number of files in data_trials_xml: {}'.format(len(data_xml)))\n",
    "print('First files: {}'.format(data_xml[0:5]))"
   ]
  },
  {
   "cell_type": "code",
   "execution_count": 6,
   "metadata": {},
   "outputs": [
    {
     "data": {
      "text/plain": [
       "'\\nSTART HERE FOR PARSING A NEW RANDOME FILE\\n'"
      ]
     },
     "execution_count": 6,
     "metadata": {},
     "output_type": "execute_result"
    }
   ],
   "source": [
    "'''\n",
    "START HERE FOR PARSING A NEW RANDOME FILE\n",
    "'''"
   ]
  },
  {
   "cell_type": "code",
   "execution_count": 7,
   "metadata": {},
   "outputs": [],
   "source": [
    "#parse random xml file\n",
    "import random\n",
    "n = random.randint(0, 1000)\n",
    "\n",
    "trial = xml_trials + data_xml[n] #full path\n",
    "tree = ET.parse(trial).getroot()\n",
    "print(\"Random: {}\\n\".format(n))\n",
    "print('File: {}\\n'.format(data_xml[n]))"
   ]
  },
  {
   "cell_type": "code",
   "execution_count": 8,
   "metadata": {},
   "outputs": [],
   "source": [
    "print('\\n----------- FILE ----------\\n')\n",
    "print(ET.tostring(tree).decode())"
   ]
  },
  {
   "cell_type": "code",
   "execution_count": null,
   "metadata": {},
   "outputs": [],
   "source": [
    "\n",
    "'''GO TO METHOD 4 FOR PARSING THE FILE'''\n"
   ]
  },
  {
   "cell_type": "markdown",
   "metadata": {},
   "source": [
    "## Method 1: Store keys & values from xml file in list"
   ]
  },
  {
   "cell_type": "code",
   "execution_count": 11,
   "metadata": {},
   "outputs": [],
   "source": [
    "#Create Keys & Values with all info from the parsed trial\n",
    "keys_trial = []\n",
    "value_trial = []\n",
    "\n",
    "for nct in tree.iter('nct_id'):\n",
    "    id_trial = nct.text\n",
    "    \n",
    "for tag in tree:\n",
    "    for i in tag:\n",
    "        keys_trial.append(tag.tag)\n",
    "        keys_trial.append(i.tag)\n",
    "        value_trial.append(tag.text)\n",
    "        value_trial.append(i.text)\n",
    "        \n",
    "print(\"Random: {}\".format(n))\n",
    "print(\"Trial id: {}\".format(id_trial))\n",
    "print(\"Number of keys: {}\".format(len(keys_trial)))"
   ]
  },
  {
   "cell_type": "code",
   "execution_count": 12,
   "metadata": {},
   "outputs": [],
   "source": [
    "# Check id, keys, values\n",
    "print(\"Trial id: {}\\n\".format(id_trial))\n",
    "for i, n in zip(keys_trial, value_trial):\n",
    "    print('Key: {}, Value: {}'.format(i, n))"
   ]
  },
  {
   "cell_type": "markdown",
   "metadata": {},
   "source": [
    "### Zip lists into a dictionary and save it as a json file\n",
    "- Use only for files with no duplicated keys"
   ]
  },
  {
   "cell_type": "code",
   "execution_count": 13,
   "metadata": {},
   "outputs": [
    {
     "ename": "NameError",
     "evalue": "name 'json_folder' is not defined",
     "output_type": "error",
     "traceback": [
      "\u001b[0;31m---------------------------------------------------------------------------\u001b[0m",
      "\u001b[0;31mNameError\u001b[0m                                 Traceback (most recent call last)",
      "\u001b[0;32m<ipython-input-13-31ef71530d3b>\u001b[0m in \u001b[0;36m<module>\u001b[0;34m\u001b[0m\n\u001b[1;32m      6\u001b[0m \u001b[0;31m# Dump dictionary into a json file\u001b[0m\u001b[0;34m\u001b[0m\u001b[0;34m\u001b[0m\u001b[0;34m\u001b[0m\u001b[0m\n\u001b[1;32m      7\u001b[0m \u001b[0;34m\u001b[0m\u001b[0m\n\u001b[0;32m----> 8\u001b[0;31m \u001b[0;32mwith\u001b[0m \u001b[0mopen\u001b[0m\u001b[0;34m(\u001b[0m\u001b[0;34m'{}{}.json'\u001b[0m\u001b[0;34m.\u001b[0m\u001b[0mformat\u001b[0m\u001b[0;34m(\u001b[0m\u001b[0mjson_folder\u001b[0m\u001b[0;34m,\u001b[0m \u001b[0mid_trial\u001b[0m\u001b[0;34m)\u001b[0m\u001b[0;34m,\u001b[0m \u001b[0;34m'w'\u001b[0m\u001b[0;34m)\u001b[0m \u001b[0;32mas\u001b[0m \u001b[0mfp\u001b[0m\u001b[0;34m:\u001b[0m\u001b[0;34m\u001b[0m\u001b[0;34m\u001b[0m\u001b[0m\n\u001b[0m\u001b[1;32m      9\u001b[0m     \u001b[0mjson\u001b[0m\u001b[0;34m.\u001b[0m\u001b[0mdump\u001b[0m\u001b[0;34m(\u001b[0m\u001b[0mtrial_dict\u001b[0m\u001b[0;34m,\u001b[0m \u001b[0mfp\u001b[0m\u001b[0;34m)\u001b[0m\u001b[0;34m\u001b[0m\u001b[0;34m\u001b[0m\u001b[0m\n\u001b[1;32m     10\u001b[0m     \u001b[0mprint\u001b[0m\u001b[0;34m(\u001b[0m\u001b[0;34m'JSON file created\\n'\u001b[0m\u001b[0;34m)\u001b[0m\u001b[0;34m\u001b[0m\u001b[0;34m\u001b[0m\u001b[0m\n",
      "\u001b[0;31mNameError\u001b[0m: name 'json_folder' is not defined"
     ]
    }
   ],
   "source": [
    "# Save data in a dictionary\n",
    "\n",
    "trial_dict = dict(zip(keys_trial, value_trial))\n",
    "\n",
    "\n",
    "# Dump dictionary into a json file\n",
    "\n",
    "with open('{}{}.json'.format(json_folder, id_trial), 'w') as fp:\n",
    "    json.dump(trial_dict, fp)\n",
    "    print('JSON file created\\n')\n",
    "\n",
    " \n",
    "print(\"Keys in list: {}\".format(len(keys_trial)))\n",
    "print('Keys in dictionary: {}\\n'.format(len(trial_dict.keys())))\n",
    "# print('Dictionary:\\n{}'.format(trial_dict))"
   ]
  },
  {
   "cell_type": "markdown",
   "metadata": {},
   "source": [
    "## Method 2: keep all duplicated keys"
   ]
  },
  {
   "cell_type": "code",
   "execution_count": null,
   "metadata": {},
   "outputs": [],
   "source": [
    "counts = Counter(keys_trial)\n",
    "for value, count in counts.most_common():\n",
    "    if count > 1:\n",
    "        print('{},{}'.format(value, count))"
   ]
  },
  {
   "cell_type": "code",
   "execution_count": null,
   "metadata": {},
   "outputs": [],
   "source": [
    "for s,num in counts.items():\n",
    "    if num > 1: \n",
    "        for suffix in range(1, num + 1): # suffix starts at 1 and increases by 1 each time\n",
    "            keys_trial[keys_trial.index(s)] = s + str(suffix) # replace each appearance of s"
   ]
  },
  {
   "cell_type": "code",
   "execution_count": null,
   "metadata": {},
   "outputs": [],
   "source": [
    "# Check all keys are preserved\n",
    "print(\"Number of keys in xml file: {}\".format(len(keys_trial)))\n",
    "print('Number of keys after changing names: {}'.format(len(keys_trial)))"
   ]
  },
  {
   "cell_type": "code",
   "execution_count": null,
   "metadata": {},
   "outputs": [],
   "source": [
    "# Create dictionary\n",
    "full_trial_dict = dict(zip(keys_trial, value_trial))\n",
    "\n",
    "print(\"Keys in list: {}\".format(len(keys_trial)))\n",
    "print('Keys in dictionary: {}\\n'.format(len(full_trial_dict.keys())))\n",
    "print('ID: {}\\n'.format(full_trial_dict['nct_id']))\n",
    "# print('Dictionary:\\n{}'.format(full_trial_dict))"
   ]
  },
  {
   "cell_type": "code",
   "execution_count": null,
   "metadata": {},
   "outputs": [],
   "source": [
    "# create dataframe from dictionary\n",
    "df_dict = pd.DataFrame.from_dict(full_trial_dict, orient='index', columns=[id_trial])\n",
    "\n",
    "pd.set_option('display.max_columns', 100)\n",
    "# display(df_dict)"
   ]
  },
  {
   "cell_type": "code",
   "execution_count": null,
   "metadata": {},
   "outputs": [],
   "source": [
    "# Dump dataframe into a json file\n",
    "\n",
    "json_folder = 'data/json/'\n",
    "df_dict.to_json('{}{}.json'.format(json_folder, id_trial))\n",
    "print('JSON file created\\n')"
   ]
  },
  {
   "cell_type": "code",
   "execution_count": null,
   "metadata": {},
   "outputs": [],
   "source": [
    "# Check: Import json file into a dataframe\n",
    "file_location = json_folder+id_trial\n",
    "df_trial = pd.read_json(file_location+'.json')\n",
    "\n",
    "print('File location: {}'.format(file_location))\n",
    "print('Trial id: {}'.format(id_trial))\n",
    "print('Dataframe shape: {}'.format(df_trial.shape))\n",
    "print(\"Keys in list: {}\".format(len(keys_trial)))"
   ]
  },
  {
   "cell_type": "code",
   "execution_count": null,
   "metadata": {},
   "outputs": [],
   "source": [
    "pd.set_option('display.max_rows', 200)\n",
    "display(df_trial)"
   ]
  },
  {
   "cell_type": "code",
   "execution_count": null,
   "metadata": {},
   "outputs": [],
   "source": [
    "# check basic data\n",
    "# Slice it\n",
    "print(df_trial[id_trial]['affiliation'])\n",
    "print(df_trial[id_trial]['country'])"
   ]
  },
  {
   "cell_type": "markdown",
   "metadata": {},
   "source": [
    "## Method 3: Parse only selected fields and save them in a dictionary"
   ]
  },
  {
   "cell_type": "code",
   "execution_count": null,
   "metadata": {
    "scrolled": true
   },
   "outputs": [],
   "source": [
    "# Check XML fields are available\n",
    "tree[0:]"
   ]
  },
  {
   "cell_type": "code",
   "execution_count": null,
   "metadata": {},
   "outputs": [],
   "source": [
    "final_dictionary = {}\n",
    "\n",
    "def parsing_specific_tags(dictionary, tag):\n",
    "    k = []\n",
    "    v = []\n",
    "    \n",
    "    for i in tree.iter(tag):\n",
    "        k.append(i.tag)\n",
    "        v.append(i.text)\n",
    "    print('Key: {}, Value: {}'.format(k, v))\n",
    "    \n",
    "    for n, h in zip(k, v):\n",
    "        dictionary[n] = h\n",
    "    \n",
    "    return dictionary\n",
    "\n",
    "parsing_specific_tags(final_dictionary, 'nct_id')\n",
    "parsing_specific_tags(final_dictionary, 'country')"
   ]
  },
  {
   "cell_type": "markdown",
   "metadata": {},
   "source": [
    "## Method 4: iterate over several tags and save info in a dictionary"
   ]
  },
  {
   "cell_type": "code",
   "execution_count": 9,
   "metadata": {},
   "outputs": [
    {
     "data": {
      "text/plain": [
       "{'condition': 'HIV Infections',\n",
       " 'nct_id': 'NCT00575315',\n",
       " 'download_date': 'ClinicalTrials.gov processed this data on May 17, 2019',\n",
       " 'url': 'https://clinicaltrials.gov/show/NCT00575315',\n",
       " 'brief_title': 'HIV-HCV Coinfection: Impact of Immune Dysfunction',\n",
       " 'official_title': 'HIV-HCV Coinfection: Impact of Immune Dysfunction',\n",
       " 'agency': 'Virginia Commonwealth University',\n",
       " 'source': 'Virginia Commonwealth University',\n",
       " 'overall_status': 'Completed',\n",
       " 'start_date': 'July 2004',\n",
       " 'study_type': 'Observational',\n",
       " 'study_first_submitted': 'December 14, 2007',\n",
       " 'verification_date': 'August 2014',\n",
       " 'mesh_term': 'Immune System Diseases',\n",
       " 'brief_summary': '\\n      Effective therapy for human immunodeficiency virus (HIV) infection has markedly prolonged\\n      survival in infected individuals. As a result, other diseases are now becoming clinically\\n      significant. Approximately 30% of HIV infected patients are co-infected with hepatitis C\\n      virus (HCV) which is now the leading co-morbid disease in co-infected individuals. The\\n      histologic severity and natural history of HCV has been reported to be accelerated in those\\n      co-infected with HIV. It is hypothesized that 1) the severity and progression of HCV disease\\n      is related to the immune competence of the individual, 2) immune restoration associated with\\n      HIV therapy may further accelerate the progression of HCV disease which may explain the\\n      marked increase in HCV related morbidity and mortality observed in recent years, and 3) the\\n      virologic response to anti-HCV treatment is directly related to the degree of immunologic\\n      competence. The specific aims of the proposal are: 1) To obtain, through multi-disciplinary\\n      didactic teaching, the necessary skills of clinical research design, data collection, data\\n      analysis, and biostatistical methods and 2) To study the impact of HIV disease on HCV, the\\n      effect of the immune function and immune restoration during HIV therapy on the natural\\n      history of HCV, and the efficacy of HCV treatment in HIV co-infection.\\n    ',\n",
       " 'detailed_description': '\\n      Approximately 30% of HIV infected patients are co-infected with hepatitis C virus (HCV) which\\n      is now the leading co-morbid disease in co-infected individuals. The histologic severity and\\n      natural history of HCV has been reported to be accelerated in those co-infected with HIV. It\\n      is hypothesized that 1) the severity and progression of HCV disease is related to the immune\\n      competence of the individual, 2) immune restoration associated with HIV therapy may further\\n      accelerate the progression of HCV disease which may explain the marked increase in HCV\\n      related morbidity and mortality observed in recent years, and 3) the virologic response to\\n      anti-HCV treatment is directly related to the degree of immunologic competence. The specific\\n      aims of the proposal are: 1) To obtain, through multi-disciplinary didactic teaching, the\\n      necessary skills of clinical research design, data collection, data analysis, and\\n      biostatistical methods and 2) To study the impact of HIV disease on HCV, the effect of the\\n      immune function and immune restoration during HIV therapy on the natural history of HCV, and\\n      the efficacy of HCV treatment in HIV co-infection.\\n    '}"
      ]
     },
     "execution_count": 9,
     "metadata": {},
     "output_type": "execute_result"
    }
   ],
   "source": [
    "def parsing_several_tags(dictionary, tag, nested, condition):\n",
    "    k = []\n",
    "    v = []\n",
    "    \n",
    "    # append first condition\n",
    "    k.append(condition)\n",
    "    value_condition = tree.find(condition)\n",
    "    v.append(value_condition.text)\n",
    "    \n",
    "    # append all condition tags\n",
    "#     for c in tree.findall(condition):\n",
    "#         print('Conditions: {} : {}'.format(condition, c.text))\n",
    "    \n",
    "    # append list of tags\n",
    "    for t in tag:\n",
    "        for i in tree.iter(t):\n",
    "            k.append(i.tag)\n",
    "            v.append(i.text)\n",
    "     \n",
    "    # append list of nested tags\n",
    "    for n in nested:\n",
    "        for child in tree.findall(n + '/textblock'):\n",
    "            k.append(n)\n",
    "            v.append(child.text)\n",
    "            \n",
    "    # zip data into a dictionary\n",
    "    dictionary = dict(zip(k, v))\n",
    "    \n",
    "    return dictionary\n",
    "\n",
    "\n",
    "# Variables for the function\n",
    "tags_dictionary = {}\n",
    "\n",
    "condition = 'condition'\n",
    "\n",
    "list_of_tags = ['nct_id', \n",
    "                'download_date',\n",
    "                'url', \n",
    "                'brief_title',\n",
    "                'acronym',\n",
    "                'official_title',\n",
    "                'agency',\n",
    "                'source',\n",
    "               'overall_status',\n",
    "                'start_date',\n",
    "                'phase',\n",
    "                'study_type',\n",
    "                'allocation',\n",
    "                'study_first_submitted',\n",
    "                'verification_date',\n",
    "                'mesh_term'\n",
    "               ]\n",
    "\n",
    "nested_tags = ['brief_summary',\n",
    "              'detailed_description']\n",
    "\n",
    "\n",
    "parsing_several_tags(tags_dictionary, list_of_tags, nested_tags, condition)"
   ]
  },
  {
   "cell_type": "markdown",
   "metadata": {},
   "source": []
  }
 ],
 "metadata": {
  "kernelspec": {
   "display_name": "Python 3",
   "language": "python",
   "name": "python3"
  },
  "language_info": {
   "codemirror_mode": {
    "name": "ipython",
    "version": 3
   },
   "file_extension": ".py",
   "mimetype": "text/x-python",
   "name": "python",
   "nbconvert_exporter": "python",
   "pygments_lexer": "ipython3",
   "version": "3.7.3"
  }
 },
 "nbformat": 4,
 "nbformat_minor": 2
}
