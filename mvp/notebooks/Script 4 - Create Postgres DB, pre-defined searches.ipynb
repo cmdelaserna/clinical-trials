{
 "cells": [
  {
   "cell_type": "markdown",
   "metadata": {},
   "source": [
    "# Pre-defined searches"
   ]
  },
  {
   "cell_type": "code",
   "execution_count": 1,
   "metadata": {},
   "outputs": [],
   "source": [
    "from sqlalchemy import create_engine\n",
    "import numpy as np\n",
    "import pandas as pd\n",
    "import psycopg2"
   ]
  },
  {
   "cell_type": "code",
   "execution_count": 2,
   "metadata": {},
   "outputs": [],
   "source": [
    "# Change data types\n",
    "\n",
    "# ALTER TABLE trials_12_1_19\n",
    "# ALTER COLUMN nct_id TYPE varchar(11),\n",
    "# ALTER COLUMN study_first_submitted TYPE date USING study_first_submitted::date,\n",
    "# ALTER COLUMN verification_date TYPE date USING verification_date::date,\n",
    "# ALTER COLUMN study_first_posted TYPE date USING study_first_posted::date,\n",
    "# ALTER COLUMN last_update_submitted TYPE date USING last_update_submitted::date,\n",
    "# ALTER COLUMN last_update_posted TYPE date USING last_update_posted::date,\n",
    "# ALTER COLUMN recruiting_labels TYPE smallint;\n",
    "\n",
    "# Drop columns\n",
    "# ALTER TABLE table_name \n",
    "# DROP COLUMN column_name;\n",
    "\n",
    "# Get size of table, number of rows\n",
    "# SELECT pg_size_pretty( pg_total_relation_size('trials_12_1_19') ),\n",
    "# count(*) from trials_12_1_19; \n"
   ]
  },
  {
   "cell_type": "markdown",
   "metadata": {},
   "source": [
    "## Connect to postgres"
   ]
  },
  {
   "cell_type": "code",
   "execution_count": 3,
   "metadata": {},
   "outputs": [],
   "source": [
    "host = 'postgresql://cms@localhost:5432/'\n",
    "db = 'ClinicalTrials'\n",
    "connection = host + db\n",
    "\n",
    "engine = create_engine(connection)"
   ]
  },
  {
   "cell_type": "code",
   "execution_count": null,
   "metadata": {},
   "outputs": [],
   "source": [
    "# Create a df with all data\n",
    "\n",
    "# %time df = pd.read_sql_query('select * from \"trials_12_1_19\"',con=engine)"
   ]
  },
  {
   "cell_type": "markdown",
   "metadata": {},
   "source": [
    "## Create df with pre-defined search"
   ]
  },
  {
   "cell_type": "markdown",
   "metadata": {},
   "source": [
    "### Celiac"
   ]
  },
  {
   "cell_type": "code",
   "execution_count": null,
   "metadata": {},
   "outputs": [],
   "source": [
    "### Run in pgAdmin4\n",
    "# CREATE TABLE celiac AS\n",
    "# SELECT *\n",
    "# FROM trials_12_1_19\n",
    "# WHERE all_text LIKE '%celiac%'"
   ]
  },
  {
   "cell_type": "code",
   "execution_count": 4,
   "metadata": {},
   "outputs": [
    {
     "name": "stdout",
     "output_type": "stream",
     "text": [
      "CPU times: user 20.1 ms, sys: 10.1 ms, total: 30.2 ms\n",
      "Wall time: 73.1 ms\n"
     ]
    },
    {
     "data": {
      "text/plain": [
       "(384, 31)"
      ]
     },
     "execution_count": 4,
     "metadata": {},
     "output_type": "execute_result"
    }
   ],
   "source": [
    "%time celiac = pd.read_sql_query('select * from \"celiac\"',con=engine)\n",
    "celiac.shape"
   ]
  },
  {
   "cell_type": "code",
   "execution_count": 5,
   "metadata": {},
   "outputs": [
    {
     "data": {
      "text/html": [
       "<div>\n",
       "<style scoped>\n",
       "    .dataframe tbody tr th:only-of-type {\n",
       "        vertical-align: middle;\n",
       "    }\n",
       "\n",
       "    .dataframe tbody tr th {\n",
       "        vertical-align: top;\n",
       "    }\n",
       "\n",
       "    .dataframe thead th {\n",
       "        text-align: right;\n",
       "    }\n",
       "</style>\n",
       "<table border=\"1\" class=\"dataframe\">\n",
       "  <thead>\n",
       "    <tr style=\"text-align: right;\">\n",
       "      <th></th>\n",
       "      <th>index</th>\n",
       "      <th>nct_id</th>\n",
       "      <th>study_first_submitted</th>\n",
       "      <th>source</th>\n",
       "      <th>brief_title</th>\n",
       "      <th>overall_status</th>\n",
       "      <th>verification_date</th>\n",
       "      <th>study_type</th>\n",
       "      <th>study_first_posted</th>\n",
       "      <th>last_update_submitted</th>\n",
       "      <th>...</th>\n",
       "      <th>sponsors/lead_sponsor/agency_class</th>\n",
       "      <th>study_design_info/allocation</th>\n",
       "      <th>study_design_info/intervention_model</th>\n",
       "      <th>study_design_info/primary_purpose</th>\n",
       "      <th>year_submitted</th>\n",
       "      <th>year_last_updated</th>\n",
       "      <th>all_text</th>\n",
       "      <th>url</th>\n",
       "      <th>verification_year</th>\n",
       "      <th>recruiting_labels</th>\n",
       "    </tr>\n",
       "  </thead>\n",
       "  <tbody>\n",
       "    <tr>\n",
       "      <th>0</th>\n",
       "      <td>104166</td>\n",
       "      <td>NCT03041207</td>\n",
       "      <td>2017-01-31</td>\n",
       "      <td>Virginia Commonwealth University</td>\n",
       "      <td>Decreasing Antibiotic Use in Infants With Susp...</td>\n",
       "      <td>Completed</td>\n",
       "      <td>2010-12-01</td>\n",
       "      <td>Observational</td>\n",
       "      <td>2017-02-02</td>\n",
       "      <td>2019-07-15</td>\n",
       "      <td>...</td>\n",
       "      <td>Other</td>\n",
       "      <td>None</td>\n",
       "      <td>None</td>\n",
       "      <td>None</td>\n",
       "      <td>2017</td>\n",
       "      <td>2019</td>\n",
       "      <td>virginia commonwealth university decreasing an...</td>\n",
       "      <td>https://clinicaltrials.gov/ct2/show/NCT03041207</td>\n",
       "      <td>2010.0</td>\n",
       "      <td>0</td>\n",
       "    </tr>\n",
       "    <tr>\n",
       "      <th>1</th>\n",
       "      <td>103025</td>\n",
       "      <td>NCT01041456</td>\n",
       "      <td>2009-12-26</td>\n",
       "      <td>University of California, San Francisco</td>\n",
       "      <td>Laparoscopic Revision From Biliopancreatic Div...</td>\n",
       "      <td>Completed</td>\n",
       "      <td>2019-03-01</td>\n",
       "      <td>Observational</td>\n",
       "      <td>2009-12-31</td>\n",
       "      <td>2009-12-31</td>\n",
       "      <td>...</td>\n",
       "      <td>Other</td>\n",
       "      <td>None</td>\n",
       "      <td>None</td>\n",
       "      <td>None</td>\n",
       "      <td>2009</td>\n",
       "      <td>2009</td>\n",
       "      <td>university of california, san francisco laparo...</td>\n",
       "      <td>https://clinicaltrials.gov/ct2/show/NCT01041456</td>\n",
       "      <td>2019.0</td>\n",
       "      <td>0</td>\n",
       "    </tr>\n",
       "    <tr>\n",
       "      <th>2</th>\n",
       "      <td>107265</td>\n",
       "      <td>NCT03011593</td>\n",
       "      <td>2016-12-14</td>\n",
       "      <td>Metagenics, Inc.</td>\n",
       "      <td>Effect of UGIR in Adults With Compromised Gut ...</td>\n",
       "      <td>Completed</td>\n",
       "      <td>2013-09-01</td>\n",
       "      <td>Interventional</td>\n",
       "      <td>2017-01-05</td>\n",
       "      <td>2017-01-03</td>\n",
       "      <td>...</td>\n",
       "      <td>Industry</td>\n",
       "      <td>None</td>\n",
       "      <td>Single Group Assignment</td>\n",
       "      <td>Supportive Care</td>\n",
       "      <td>2016</td>\n",
       "      <td>2017</td>\n",
       "      <td>metagenics, inc. effect of ugir in adults with...</td>\n",
       "      <td>https://clinicaltrials.gov/ct2/show/NCT03011593</td>\n",
       "      <td>2013.0</td>\n",
       "      <td>0</td>\n",
       "    </tr>\n",
       "    <tr>\n",
       "      <th>3</th>\n",
       "      <td>105661</td>\n",
       "      <td>NCT02202681</td>\n",
       "      <td>2014-06-12</td>\n",
       "      <td>Massachusetts General Hospital</td>\n",
       "      <td>Imaging the Duodenum Using an Optical Frequenc...</td>\n",
       "      <td>Recruiting</td>\n",
       "      <td>2018-05-01</td>\n",
       "      <td>Interventional</td>\n",
       "      <td>2014-07-29</td>\n",
       "      <td>2019-11-05</td>\n",
       "      <td>...</td>\n",
       "      <td>Other</td>\n",
       "      <td>None</td>\n",
       "      <td>Single Group Assignment</td>\n",
       "      <td>Other</td>\n",
       "      <td>2014</td>\n",
       "      <td>2019</td>\n",
       "      <td>massachusetts general hospital imaging the duo...</td>\n",
       "      <td>https://clinicaltrials.gov/ct2/show/NCT02202681</td>\n",
       "      <td>2018.0</td>\n",
       "      <td>1</td>\n",
       "    </tr>\n",
       "    <tr>\n",
       "      <th>4</th>\n",
       "      <td>106150</td>\n",
       "      <td>NCT02976922</td>\n",
       "      <td>2016-02-07</td>\n",
       "      <td>University of Copenhagen</td>\n",
       "      <td>The Salivary and Faecal Microbiome of Recurren...</td>\n",
       "      <td>Unknown status</td>\n",
       "      <td>2018-09-01</td>\n",
       "      <td>Interventional</td>\n",
       "      <td>2016-11-30</td>\n",
       "      <td>2017-03-11</td>\n",
       "      <td>...</td>\n",
       "      <td>Other</td>\n",
       "      <td>Randomized</td>\n",
       "      <td>Parallel Assignment</td>\n",
       "      <td>Treatment</td>\n",
       "      <td>2016</td>\n",
       "      <td>2017</td>\n",
       "      <td>university of copenhagen the salivary and faec...</td>\n",
       "      <td>https://clinicaltrials.gov/ct2/show/NCT02976922</td>\n",
       "      <td>2018.0</td>\n",
       "      <td>0</td>\n",
       "    </tr>\n",
       "  </tbody>\n",
       "</table>\n",
       "<p>5 rows × 31 columns</p>\n",
       "</div>"
      ],
      "text/plain": [
       "    index       nct_id study_first_submitted  \\\n",
       "0  104166  NCT03041207            2017-01-31   \n",
       "1  103025  NCT01041456            2009-12-26   \n",
       "2  107265  NCT03011593            2016-12-14   \n",
       "3  105661  NCT02202681            2014-06-12   \n",
       "4  106150  NCT02976922            2016-02-07   \n",
       "\n",
       "                                    source  \\\n",
       "0         Virginia Commonwealth University   \n",
       "1  University of California, San Francisco   \n",
       "2                         Metagenics, Inc.   \n",
       "3           Massachusetts General Hospital   \n",
       "4                 University of Copenhagen   \n",
       "\n",
       "                                         brief_title  overall_status  \\\n",
       "0  Decreasing Antibiotic Use in Infants With Susp...       Completed   \n",
       "1  Laparoscopic Revision From Biliopancreatic Div...       Completed   \n",
       "2  Effect of UGIR in Adults With Compromised Gut ...       Completed   \n",
       "3  Imaging the Duodenum Using an Optical Frequenc...      Recruiting   \n",
       "4  The Salivary and Faecal Microbiome of Recurren...  Unknown status   \n",
       "\n",
       "  verification_date      study_type study_first_posted last_update_submitted  \\\n",
       "0        2010-12-01   Observational         2017-02-02            2019-07-15   \n",
       "1        2019-03-01   Observational         2009-12-31            2009-12-31   \n",
       "2        2013-09-01  Interventional         2017-01-05            2017-01-03   \n",
       "3        2018-05-01  Interventional         2014-07-29            2019-11-05   \n",
       "4        2018-09-01  Interventional         2016-11-30            2017-03-11   \n",
       "\n",
       "   ... sponsors/lead_sponsor/agency_class study_design_info/allocation  \\\n",
       "0  ...                              Other                         None   \n",
       "1  ...                              Other                         None   \n",
       "2  ...                           Industry                         None   \n",
       "3  ...                              Other                         None   \n",
       "4  ...                              Other                   Randomized   \n",
       "\n",
       "  study_design_info/intervention_model study_design_info/primary_purpose  \\\n",
       "0                                 None                              None   \n",
       "1                                 None                              None   \n",
       "2              Single Group Assignment                   Supportive Care   \n",
       "3              Single Group Assignment                             Other   \n",
       "4                  Parallel Assignment                         Treatment   \n",
       "\n",
       "  year_submitted year_last_updated  \\\n",
       "0           2017              2019   \n",
       "1           2009              2009   \n",
       "2           2016              2017   \n",
       "3           2014              2019   \n",
       "4           2016              2017   \n",
       "\n",
       "                                            all_text  \\\n",
       "0  virginia commonwealth university decreasing an...   \n",
       "1  university of california, san francisco laparo...   \n",
       "2  metagenics, inc. effect of ugir in adults with...   \n",
       "3  massachusetts general hospital imaging the duo...   \n",
       "4  university of copenhagen the salivary and faec...   \n",
       "\n",
       "                                               url verification_year  \\\n",
       "0  https://clinicaltrials.gov/ct2/show/NCT03041207            2010.0   \n",
       "1  https://clinicaltrials.gov/ct2/show/NCT01041456            2019.0   \n",
       "2  https://clinicaltrials.gov/ct2/show/NCT03011593            2013.0   \n",
       "3  https://clinicaltrials.gov/ct2/show/NCT02202681            2018.0   \n",
       "4  https://clinicaltrials.gov/ct2/show/NCT02976922            2018.0   \n",
       "\n",
       "  recruiting_labels  \n",
       "0                 0  \n",
       "1                 0  \n",
       "2                 0  \n",
       "3                 1  \n",
       "4                 0  \n",
       "\n",
       "[5 rows x 31 columns]"
      ]
     },
     "execution_count": 5,
     "metadata": {},
     "output_type": "execute_result"
    }
   ],
   "source": [
    "celiac.head()"
   ]
  },
  {
   "cell_type": "markdown",
   "metadata": {},
   "source": [
    "### Breast Cancer"
   ]
  },
  {
   "cell_type": "code",
   "execution_count": null,
   "metadata": {},
   "outputs": [],
   "source": [
    "## Run in pgAdmin4\n",
    "# select * from trials_12_1_19 \n",
    "# WHERE all_text LIKE '%breast%' \n",
    "# and\n",
    "# all_text LIKE '%cancer%';"
   ]
  },
  {
   "cell_type": "code",
   "execution_count": null,
   "metadata": {},
   "outputs": [],
   "source": [
    "%time breast_cancer = pd.read_sql_query('select * from \"breastcancer\"',con=engine)\n",
    "breast_cancer.shape"
   ]
  },
  {
   "cell_type": "code",
   "execution_count": null,
   "metadata": {},
   "outputs": [],
   "source": [
    "breast_cancer.head()"
   ]
  },
  {
   "cell_type": "code",
   "execution_count": null,
   "metadata": {},
   "outputs": [],
   "source": [
    "# Compare dataframes with main one (main search term) and remove duplicates\n",
    "# https://stackoverflow.com/questions/20225110/comparing-two-dataframes-and-getting-the-differences"
   ]
  },
  {
   "cell_type": "markdown",
   "metadata": {},
   "source": [
    "## Data annotation\n",
    "- Extract entities and cross-references\n",
    "- Determine which external results to add: pubmed, fda..."
   ]
  },
  {
   "cell_type": "code",
   "execution_count": null,
   "metadata": {},
   "outputs": [],
   "source": [
    "# Check for nct_id duplicates\n",
    "uniques = df.nct_id.nunique()\n",
    "totals = df.shape[0]\n",
    "\n",
    "if uniques == totals:\n",
    "    print('No duplicates')\n",
    "else:\n",
    "    print('duplicates')"
   ]
  },
  {
   "cell_type": "code",
   "execution_count": null,
   "metadata": {},
   "outputs": [],
   "source": [
    "# Check for trials with published results\n",
    "# https://www.ncbi.nlm.nih.gov/pmc/articles/PMC5961767/"
   ]
  },
  {
   "cell_type": "markdown",
   "metadata": {},
   "source": [
    "## Baseline model: fastext, PubMed 200k RCT"
   ]
  },
  {
   "cell_type": "code",
   "execution_count": null,
   "metadata": {},
   "outputs": [],
   "source": [
    "# https://github.com/jakelever/kindred"
   ]
  }
 ],
 "metadata": {
  "kernelspec": {
   "display_name": "Python 3",
   "language": "python",
   "name": "python3"
  },
  "language_info": {
   "codemirror_mode": {
    "name": "ipython",
    "version": 3
   },
   "file_extension": ".py",
   "mimetype": "text/x-python",
   "name": "python",
   "nbconvert_exporter": "python",
   "pygments_lexer": "ipython3",
   "version": "3.7.5"
  }
 },
 "nbformat": 4,
 "nbformat_minor": 2
}
