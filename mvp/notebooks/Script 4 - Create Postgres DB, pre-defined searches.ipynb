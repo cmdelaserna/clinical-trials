{
 "cells": [
  {
   "cell_type": "markdown",
   "metadata": {},
   "source": [
    "# Pre-defined searches"
   ]
  },
  {
   "cell_type": "code",
   "execution_count": 2,
   "metadata": {},
   "outputs": [],
   "source": [
    "from sqlalchemy import create_engine\n",
    "import numpy as np\n",
    "import pandas as pd\n",
    "import psycopg2"
   ]
  },
  {
   "cell_type": "code",
   "execution_count": 3,
   "metadata": {},
   "outputs": [],
   "source": [
    "# Change data types\n",
    "\n",
    "# ALTER TABLE trials_12_1_19\n",
    "# ALTER COLUMN nct_id TYPE varchar(11),\n",
    "# ALTER COLUMN study_first_submitted TYPE date USING study_first_submitted::date,\n",
    "# ALTER COLUMN verification_date TYPE date USING verification_date::date,\n",
    "# ALTER COLUMN study_first_posted TYPE date USING study_first_posted::date,\n",
    "# ALTER COLUMN last_update_submitted TYPE date USING last_update_submitted::date,\n",
    "# ALTER COLUMN last_update_posted TYPE date USING last_update_posted::date,\n",
    "# ALTER COLUMN recruiting_labels TYPE smallint;\n",
    "\n",
    "# Drop columns\n",
    "# ALTER TABLE table_name \n",
    "# DROP COLUMN column_name;\n",
    "\n",
    "# Get size of table, number of rows\n",
    "# SELECT pg_size_pretty( pg_total_relation_size('trials_12_1_19') ),\n",
    "# count(*) from trials_12_1_19; \n"
   ]
  },
  {
   "cell_type": "markdown",
   "metadata": {},
   "source": [
    "## Connect to postgres"
   ]
  },
  {
   "cell_type": "code",
   "execution_count": 4,
   "metadata": {},
   "outputs": [],
   "source": [
    "host = 'postgresql://cms@localhost:5432/'\n",
    "db = 'ClinicalTrials'\n",
    "connection = host + db\n",
    "\n",
    "engine = create_engine(connection)"
   ]
  },
  {
   "cell_type": "code",
   "execution_count": 5,
   "metadata": {},
   "outputs": [],
   "source": [
    "# Create a df with all data\n",
    "\n",
    "# %time df = pd.read_sql_query('select * from \"trials_12_1_19\"',con=engine)"
   ]
  },
  {
   "cell_type": "markdown",
   "metadata": {},
   "source": [
    "## Create df with pre-defined search"
   ]
  },
  {
   "cell_type": "markdown",
   "metadata": {},
   "source": [
    "### Celiac"
   ]
  },
  {
   "cell_type": "code",
   "execution_count": null,
   "metadata": {},
   "outputs": [],
   "source": [
    "### Run in pgAdmin4\n",
    "# CREATE TABLE celiac AS\n",
    "# SELECT *\n",
    "# FROM trials_12_1_19\n",
    "# WHERE all_text LIKE '%celiac%'"
   ]
  },
  {
   "cell_type": "code",
   "execution_count": null,
   "metadata": {},
   "outputs": [],
   "source": [
    "%time celiac = pd.read_sql_query('select * from \"celiac\"',con=engine)\n",
    "celiac.shape"
   ]
  },
  {
   "cell_type": "code",
   "execution_count": null,
   "metadata": {},
   "outputs": [],
   "source": [
    "celiac.head()"
   ]
  },
  {
   "cell_type": "markdown",
   "metadata": {},
   "source": [
    "### Breast Cancer"
   ]
  },
  {
   "cell_type": "code",
   "execution_count": null,
   "metadata": {},
   "outputs": [],
   "source": [
    "## Run in pgAdmin4\n",
    "# select * from trials_12_1_19 \n",
    "# WHERE all_text LIKE '%breast%' \n",
    "# and\n",
    "# all_text LIKE '%cancer%';"
   ]
  },
  {
   "cell_type": "code",
   "execution_count": null,
   "metadata": {},
   "outputs": [],
   "source": [
    "%time breast_cancer = pd.read_sql_query('select * from \"breastcancer\"',con=engine)\n",
    "breast_cancer.shape"
   ]
  },
  {
   "cell_type": "code",
   "execution_count": null,
   "metadata": {},
   "outputs": [],
   "source": [
    "breast_cancer.head()"
   ]
  },
  {
   "cell_type": "code",
   "execution_count": null,
   "metadata": {},
   "outputs": [],
   "source": [
    "# Compare dataframes with main one (main search term) and remove duplicates\n",
    "# https://stackoverflow.com/questions/20225110/comparing-two-dataframes-and-getting-the-differences"
   ]
  },
  {
   "cell_type": "markdown",
   "metadata": {},
   "source": [
    "## Function to search in a list of terms"
   ]
  },
  {
   "cell_type": "code",
   "execution_count": 42,
   "metadata": {},
   "outputs": [],
   "source": [
    "# Postgres table to store pre-defined searches\n",
    "# CREATE TABLE search_terms(\n",
    "#    search_term TEXT UNIQUE NOT NULL,\n",
    "#    return_table VARCHAR (50) NOT NULL\n",
    "# );\n",
    "\n",
    "## INSERT DATA MANUALLY\n",
    "# INSERT INTO search_terms (search_term, return_table)\n",
    "# VALUES ( 'breast cancer', 'breastcancer');\n",
    "\n",
    "# ALTER TABLE <table_name> ADD PRIMARY KEY (id);"
   ]
  },
  {
   "cell_type": "code",
   "execution_count": 43,
   "metadata": {},
   "outputs": [],
   "source": [
    "# Basic search logic\n",
    "search_table = \"SELECT * FROM search_terms\"\n",
    "partial_query = pd.read_sql_query(search_table, con = engine)"
   ]
  },
  {
   "cell_type": "code",
   "execution_count": 44,
   "metadata": {},
   "outputs": [
    {
     "data": {
      "text/html": [
       "<div>\n",
       "<style scoped>\n",
       "    .dataframe tbody tr th:only-of-type {\n",
       "        vertical-align: middle;\n",
       "    }\n",
       "\n",
       "    .dataframe tbody tr th {\n",
       "        vertical-align: top;\n",
       "    }\n",
       "\n",
       "    .dataframe thead th {\n",
       "        text-align: right;\n",
       "    }\n",
       "</style>\n",
       "<table border=\"1\" class=\"dataframe\">\n",
       "  <thead>\n",
       "    <tr style=\"text-align: right;\">\n",
       "      <th></th>\n",
       "      <th>search_term</th>\n",
       "      <th>return_table</th>\n",
       "    </tr>\n",
       "  </thead>\n",
       "  <tbody>\n",
       "    <tr>\n",
       "      <th>0</th>\n",
       "      <td>breast cancer</td>\n",
       "      <td>breastcancer</td>\n",
       "    </tr>\n",
       "  </tbody>\n",
       "</table>\n",
       "</div>"
      ],
      "text/plain": [
       "     search_term  return_table\n",
       "0  breast cancer  breastcancer"
      ]
     },
     "execution_count": 44,
     "metadata": {},
     "output_type": "execute_result"
    }
   ],
   "source": [
    "partial_query"
   ]
  },
  {
   "cell_type": "code",
   "execution_count": 56,
   "metadata": {},
   "outputs": [
    {
     "name": "stdout",
     "output_type": "stream",
     "text": [
      "banana\n"
     ]
    }
   ],
   "source": [
    "# Find match in table\n",
    "# https://davidhamann.de/2017/06/26/pandas-select-elements-by-string/\n",
    "\n",
    "search_value = 'breast cancer'\n",
    "# Function for string formatting\n",
    "result_value = search_value.lower()\n",
    "print(result_value)\n"
   ]
  },
  {
   "cell_type": "code",
   "execution_count": null,
   "metadata": {},
   "outputs": [],
   "source": [
    "table_value = partial_query[partial_query['search_term'].str.match(result_value)]\n",
    "table_value = table_value.return_table.values[0]\n",
    "print(table_value)"
   ]
  },
  {
   "cell_type": "code",
   "execution_count": 39,
   "metadata": {},
   "outputs": [],
   "source": [
    "full_query = \"SELECT * FROM \" + str(table_value)\n",
    "\n",
    "df = pd.read_sql_query(full_query, con = engine)"
   ]
  },
  {
   "cell_type": "code",
   "execution_count": 41,
   "metadata": {},
   "outputs": [
    {
     "data": {
      "text/plain": [
       "(10503, 31)"
      ]
     },
     "execution_count": 41,
     "metadata": {},
     "output_type": "execute_result"
    }
   ],
   "source": [
    "df.shape"
   ]
  },
  {
   "cell_type": "code",
   "execution_count": 65,
   "metadata": {},
   "outputs": [
    {
     "data": {
      "text/html": [
       "<div>\n",
       "<style scoped>\n",
       "    .dataframe tbody tr th:only-of-type {\n",
       "        vertical-align: middle;\n",
       "    }\n",
       "\n",
       "    .dataframe tbody tr th {\n",
       "        vertical-align: top;\n",
       "    }\n",
       "\n",
       "    .dataframe thead th {\n",
       "        text-align: right;\n",
       "    }\n",
       "</style>\n",
       "<table border=\"1\" class=\"dataframe\">\n",
       "  <thead>\n",
       "    <tr style=\"text-align: right;\">\n",
       "      <th></th>\n",
       "      <th>index</th>\n",
       "      <th>nct_id</th>\n",
       "      <th>study_first_submitted</th>\n",
       "      <th>source</th>\n",
       "      <th>brief_title</th>\n",
       "      <th>overall_status</th>\n",
       "      <th>verification_date</th>\n",
       "      <th>study_type</th>\n",
       "      <th>study_first_posted</th>\n",
       "      <th>last_update_submitted</th>\n",
       "      <th>...</th>\n",
       "      <th>sponsors/lead_sponsor/agency_class</th>\n",
       "      <th>study_design_info/allocation</th>\n",
       "      <th>study_design_info/intervention_model</th>\n",
       "      <th>study_design_info/primary_purpose</th>\n",
       "      <th>year_submitted</th>\n",
       "      <th>year_last_updated</th>\n",
       "      <th>all_text</th>\n",
       "      <th>url</th>\n",
       "      <th>verification_year</th>\n",
       "      <th>recruiting_labels</th>\n",
       "    </tr>\n",
       "  </thead>\n",
       "  <tbody>\n",
       "  </tbody>\n",
       "</table>\n",
       "<p>0 rows × 31 columns</p>\n",
       "</div>"
      ],
      "text/plain": [
       "Empty DataFrame\n",
       "Columns: [index, nct_id, study_first_submitted, source, brief_title, overall_status, verification_date, study_type, study_first_posted, last_update_submitted, last_update_posted, phase, condition, condition_browse/mesh_term, intervention_browse/mesh_term, detailed_description/textblock, brief_summary/textblock, location/facility/address/city, location/facility/address/country, location/facility/address/zip, sponsors/lead_sponsor/agency, sponsors/lead_sponsor/agency_class, study_design_info/allocation, study_design_info/intervention_model, study_design_info/primary_purpose, year_submitted, year_last_updated, all_text, url, verification_year, recruiting_labels]\n",
       "Index: []\n",
       "\n",
       "[0 rows x 31 columns]"
      ]
     },
     "execution_count": 65,
     "metadata": {},
     "output_type": "execute_result"
    }
   ],
   "source": [
    "# Python function to search in search_terms table\n",
    "# return name of table for full query\n",
    "\n",
    "search_value = 'bananas'\n",
    "empty_query = \"SELECT * FROM celiac limit 0\"\n",
    "\n",
    "try:\n",
    "    table_value = partial_query[partial_query['search_term'].str.match(result_value)]\n",
    "    table_value = partial_query[partial_query['search_term'].str.match(result_value)]\n",
    "    table_value = table_value.return_table.values[0]\n",
    "    full_query = \"SELECT * FROM \" + str(table_value)\n",
    "    df = pd.read_sql_query(full_query, con = engine)\n",
    "except:\n",
    "    df = pd.read_sql_query(empty_query, con = engine)\n",
    "    \n",
    "df.head()"
   ]
  },
  {
   "cell_type": "code",
   "execution_count": null,
   "metadata": {},
   "outputs": [],
   "source": []
  },
  {
   "cell_type": "markdown",
   "metadata": {},
   "source": [
    "## Data annotation\n",
    "- Extract entities and cross-references\n",
    "- Determine which external results to add: pubmed, fda..."
   ]
  },
  {
   "cell_type": "code",
   "execution_count": null,
   "metadata": {},
   "outputs": [],
   "source": [
    "# Check for nct_id duplicates\n",
    "uniques = df.nct_id.nunique()\n",
    "totals = df.shape[0]\n",
    "\n",
    "if uniques == totals:\n",
    "    print('No duplicates')\n",
    "else:\n",
    "    print('duplicates')"
   ]
  },
  {
   "cell_type": "code",
   "execution_count": null,
   "metadata": {},
   "outputs": [],
   "source": [
    "# Check for trials with published results\n",
    "# https://www.ncbi.nlm.nih.gov/pmc/articles/PMC5961767/"
   ]
  },
  {
   "cell_type": "markdown",
   "metadata": {},
   "source": [
    "## Baseline model: fastext, PubMed 200k RCT"
   ]
  },
  {
   "cell_type": "code",
   "execution_count": null,
   "metadata": {},
   "outputs": [],
   "source": [
    "# https://github.com/jakelever/kindred"
   ]
  }
 ],
 "metadata": {
  "kernelspec": {
   "display_name": "Python 3",
   "language": "python",
   "name": "python3"
  },
  "language_info": {
   "codemirror_mode": {
    "name": "ipython",
    "version": 3
   },
   "file_extension": ".py",
   "mimetype": "text/x-python",
   "name": "python",
   "nbconvert_exporter": "python",
   "pygments_lexer": "ipython3",
   "version": "3.7.5"
  }
 },
 "nbformat": 4,
 "nbformat_minor": 2
}
