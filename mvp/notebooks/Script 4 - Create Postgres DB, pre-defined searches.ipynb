{
 "cells": [
  {
   "cell_type": "markdown",
   "metadata": {},
   "source": [
    "# Pre-defined searches"
   ]
  },
  {
   "cell_type": "code",
   "execution_count": 4,
   "metadata": {},
   "outputs": [],
   "source": [
    "from sqlalchemy import create_engine\n",
    "import numpy as np\n",
    "import pandas as pd\n",
    "import psycopg2\n",
    "import os"
   ]
  },
  {
   "cell_type": "code",
   "execution_count": 12,
   "metadata": {},
   "outputs": [],
   "source": [
    "# Change data types\n",
    "#\n",
    "# ALTER TABLE trials_12_1_19\n",
    "# ALTER COLUMN nct_id TYPE varchar(11),\n",
    "# ALTER COLUMN study_first_submitted TYPE date USING study_first_submitted::date,\n",
    "# ALTER COLUMN verification_date TYPE date USING verification_date::date,\n",
    "# ALTER COLUMN study_first_posted TYPE date USING study_first_posted::date,\n",
    "# ALTER COLUMN last_update_submitted TYPE date USING last_update_submitted::date,\n",
    "# ALTER COLUMN last_update_posted TYPE date USING last_update_posted::date,\n",
    "# ALTER COLUMN recruiting_labels TYPE smallint;\n",
    "\n",
    "\n",
    "# Drop columns\n",
    "#\n",
    "# ALTER TABLE table_name \n",
    "# DROP COLUMN column_name;\n",
    "\n",
    "# Get size of table, number of rows\n",
    "#\n",
    "# SELECT pg_size_pretty( pg_total_relation_size('trials_12_1_19') ),\n",
    "# count(*) from trials_12_1_19; \n",
    "\n",
    "# Create table from select statement\n",
    "# CREATE TABLE new_table\n",
    "# as \n",
    "# SELECT *\n",
    "# from trials_12_1_19\n",
    "# WHERE all_text like '%term%'"
   ]
  },
  {
   "cell_type": "markdown",
   "metadata": {},
   "source": [
    "### Sqlite connection"
   ]
  },
  {
   "cell_type": "code",
   "execution_count": 10,
   "metadata": {},
   "outputs": [
    {
     "data": {
      "text/plain": [
       "<sqlite3.Connection at 0x10e4cb1f0>"
      ]
     },
     "execution_count": 10,
     "metadata": {},
     "output_type": "execute_result"
    }
   ],
   "source": [
    "# Connect to sqlite\n",
    "import sqlite3\n",
    "connsql = sqlite3.connect('../data/working_data/working-database.db')\n",
    "connsql"
   ]
  },
  {
   "cell_type": "code",
   "execution_count": 11,
   "metadata": {},
   "outputs": [
    {
     "data": {
      "text/html": [
       "<div>\n",
       "<style scoped>\n",
       "    .dataframe tbody tr th:only-of-type {\n",
       "        vertical-align: middle;\n",
       "    }\n",
       "\n",
       "    .dataframe tbody tr th {\n",
       "        vertical-align: top;\n",
       "    }\n",
       "\n",
       "    .dataframe thead th {\n",
       "        text-align: right;\n",
       "    }\n",
       "</style>\n",
       "<table border=\"1\" class=\"dataframe\">\n",
       "  <thead>\n",
       "    <tr style=\"text-align: right;\">\n",
       "      <th></th>\n",
       "      <th>seq</th>\n",
       "      <th>name</th>\n",
       "      <th>unique</th>\n",
       "      <th>origin</th>\n",
       "      <th>partial</th>\n",
       "    </tr>\n",
       "  </thead>\n",
       "  <tbody>\n",
       "    <tr>\n",
       "      <th>0</th>\n",
       "      <td>0</td>\n",
       "      <td>idx1</td>\n",
       "      <td>0</td>\n",
       "      <td>c</td>\n",
       "      <td>0</td>\n",
       "    </tr>\n",
       "    <tr>\n",
       "      <th>1</th>\n",
       "      <td>1</td>\n",
       "      <td>ix_all_trials_index</td>\n",
       "      <td>0</td>\n",
       "      <td>c</td>\n",
       "      <td>0</td>\n",
       "    </tr>\n",
       "  </tbody>\n",
       "</table>\n",
       "</div>"
      ],
      "text/plain": [
       "   seq                 name  unique origin  partial\n",
       "0    0                 idx1       0      c        0\n",
       "1    1  ix_all_trials_index       0      c        0"
      ]
     },
     "execution_count": 11,
     "metadata": {},
     "output_type": "execute_result"
    }
   ],
   "source": [
    "# get list of indexes\n",
    "pd.read_sql_query(\"PRAGMA index_list(all_trials);\", connsql)"
   ]
  },
  {
   "cell_type": "code",
   "execution_count": 13,
   "metadata": {},
   "outputs": [
    {
     "name": "stdout",
     "output_type": "stream",
     "text": [
      "CPU times: user 144 ms, sys: 115 ms, total: 259 ms\n",
      "Wall time: 1.97 s\n"
     ]
    }
   ],
   "source": [
    "# put all sqlite data into a df\n",
    "%time sq = pd.read_sql_query(\"SELECT * from all_trials\", connsql)"
   ]
  },
  {
   "cell_type": "markdown",
   "metadata": {},
   "source": [
    "## Connect to postgres"
   ]
  },
  {
   "cell_type": "code",
   "execution_count": 21,
   "metadata": {},
   "outputs": [],
   "source": [
    "# Local postgres\n",
    "\n",
    "#macbook air, main postgres\n",
    "host = 'postgresql://cms@localhost:5432/' \n",
    "\n",
    "#cpj laptop\n",
    "host_cpj = 'postgresql://cmserna@localhost:5432/' \n",
    "\n",
    "db = 'clinicaltrials'\n",
    "connection = host_cpj + db\n",
    "\n",
    "engine = create_engine(connection)"
   ]
  },
  {
   "cell_type": "code",
   "execution_count": 22,
   "metadata": {},
   "outputs": [],
   "source": [
    "# sqlite df to postgres table\n",
    "sq.to_sql('trials_12_1_19', engine)"
   ]
  },
  {
   "cell_type": "code",
   "execution_count": 24,
   "metadata": {},
   "outputs": [
    {
     "name": "stdout",
     "output_type": "stream",
     "text": [
      "CPU times: user 116 ms, sys: 35.8 ms, total: 152 ms\n",
      "Wall time: 283 ms\n"
     ]
    },
    {
     "data": {
      "text/plain": [
       "(5984, 32)"
      ]
     },
     "execution_count": 24,
     "metadata": {},
     "output_type": "execute_result"
    }
   ],
   "source": [
    "# Create a df with all data\n",
    "%time df = pd.read_sql_query('select * from \"trials_12_1_19\"',con=engine)\n",
    "df.shape"
   ]
  },
  {
   "cell_type": "markdown",
   "metadata": {},
   "source": [
    "## Query db over ssh tunnel"
   ]
  },
  {
   "cell_type": "code",
   "execution_count": null,
   "metadata": {},
   "outputs": [],
   "source": [
    "# https://gist.github.com/amirziai/9cc792e41d3241a17a18"
   ]
  },
  {
   "cell_type": "markdown",
   "metadata": {},
   "source": [
    "## Create df with pre-defined search"
   ]
  },
  {
   "cell_type": "markdown",
   "metadata": {},
   "source": [
    "### Celiac"
   ]
  },
  {
   "cell_type": "code",
   "execution_count": null,
   "metadata": {},
   "outputs": [],
   "source": [
    "### Run in pgAdmin4\n",
    "# CREATE TABLE celiac AS\n",
    "# SELECT *\n",
    "# FROM trials_12_1_19\n",
    "# WHERE all_text LIKE '%celiac%'"
   ]
  },
  {
   "cell_type": "code",
   "execution_count": null,
   "metadata": {},
   "outputs": [],
   "source": [
    "%time celiac = pd.read_sql_query('select * from \"celiac\"',con=engine)\n",
    "celiac.shape"
   ]
  },
  {
   "cell_type": "code",
   "execution_count": null,
   "metadata": {},
   "outputs": [],
   "source": [
    "celiac.head()"
   ]
  },
  {
   "cell_type": "markdown",
   "metadata": {},
   "source": [
    "### Breast Cancer"
   ]
  },
  {
   "cell_type": "code",
   "execution_count": null,
   "metadata": {},
   "outputs": [],
   "source": [
    "## Run in pgAdmin4\n",
    "# select * from trials_12_1_19 \n",
    "# WHERE all_text LIKE '%breast%' \n",
    "# and\n",
    "# all_text LIKE '%cancer%';"
   ]
  },
  {
   "cell_type": "code",
   "execution_count": null,
   "metadata": {},
   "outputs": [],
   "source": [
    "%time breast_cancer = pd.read_sql_query('select * from \"breastcancer\"',con=engine)\n",
    "breast_cancer.shape"
   ]
  },
  {
   "cell_type": "code",
   "execution_count": null,
   "metadata": {},
   "outputs": [],
   "source": [
    "breast_cancer.head()"
   ]
  },
  {
   "cell_type": "code",
   "execution_count": null,
   "metadata": {},
   "outputs": [],
   "source": [
    "# Compare dataframes with main one (main search term) and remove duplicates\n",
    "# https://stackoverflow.com/questions/20225110/comparing-two-dataframes-and-getting-the-differences"
   ]
  },
  {
   "cell_type": "markdown",
   "metadata": {},
   "source": [
    "## Function to search in a list of terms"
   ]
  },
  {
   "cell_type": "code",
   "execution_count": null,
   "metadata": {},
   "outputs": [],
   "source": [
    "# Postgres table to store pre-defined searches\n",
    "# CREATE TABLE search_terms(\n",
    "#    search_term TEXT UNIQUE NOT NULL,\n",
    "#    return_table VARCHAR (50) NOT NULL\n",
    "# );\n",
    "\n",
    "## INSERT DATA MANUALLY\n",
    "# INSERT INTO search_terms (search_term, return_table)\n",
    "# VALUES ( 'breast cancer', 'breastcancer');\n",
    "\n",
    "# ALTER TABLE <table_name> ADD PRIMARY KEY (id);"
   ]
  },
  {
   "cell_type": "code",
   "execution_count": null,
   "metadata": {},
   "outputs": [],
   "source": [
    "# Basic search logic\n",
    "search_table = \"SELECT * FROM search_terms\"\n",
    "partial_query = pd.read_sql_query(search_table, con = engine)"
   ]
  },
  {
   "cell_type": "code",
   "execution_count": null,
   "metadata": {},
   "outputs": [],
   "source": [
    "partial_query"
   ]
  },
  {
   "cell_type": "code",
   "execution_count": null,
   "metadata": {},
   "outputs": [],
   "source": [
    "# Find match in table\n",
    "# https://davidhamann.de/2017/06/26/pandas-select-elements-by-string/\n",
    "\n",
    "search_value = 'breast cancer'\n",
    "# Function for string formatting\n",
    "result_value = search_value.lower()\n",
    "print(result_value)\n"
   ]
  },
  {
   "cell_type": "code",
   "execution_count": null,
   "metadata": {},
   "outputs": [],
   "source": [
    "table_value = partial_query[partial_query['search_term'].str.match(result_value)]\n",
    "table_value = table_value.return_table.values[0]\n",
    "print(table_value)"
   ]
  },
  {
   "cell_type": "code",
   "execution_count": null,
   "metadata": {},
   "outputs": [],
   "source": [
    "full_query = \"SELECT * FROM \" + str(table_value)\n",
    "\n",
    "df = pd.read_sql_query(full_query, con = engine)"
   ]
  },
  {
   "cell_type": "code",
   "execution_count": null,
   "metadata": {},
   "outputs": [],
   "source": [
    "df.shape"
   ]
  },
  {
   "cell_type": "code",
   "execution_count": null,
   "metadata": {},
   "outputs": [],
   "source": [
    "# Python function to search in search_terms table\n",
    "# return name of table for full query\n",
    "\n",
    "search_value = 'bananas'\n",
    "empty_query = \"SELECT * FROM celiac limit 0\"\n",
    "\n",
    "try:\n",
    "    table_value = partial_query[partial_query['search_term'].str.match(result_value)]\n",
    "    table_value = partial_query[partial_query['search_term'].str.match(result_value)]\n",
    "    table_value = table_value.return_table.values[0]\n",
    "    full_query = \"SELECT * FROM \" + str(table_value)\n",
    "    df = pd.read_sql_query(full_query, con = engine)\n",
    "except:\n",
    "    df = pd.read_sql_query(empty_query, con = engine)\n",
    "    \n",
    "df.head()"
   ]
  },
  {
   "cell_type": "code",
   "execution_count": null,
   "metadata": {},
   "outputs": [],
   "source": [
    "# Pending: Refine logic for string matching\n",
    "# https://stackabuse.com/python-check-if-string-contains-substring/"
   ]
  },
  {
   "cell_type": "markdown",
   "metadata": {},
   "source": [
    "## Data annotation\n",
    "- Extract entities and cross-references\n",
    "- Determine which external results to add: pubmed, fda..."
   ]
  },
  {
   "cell_type": "code",
   "execution_count": null,
   "metadata": {},
   "outputs": [],
   "source": [
    "# Check for nct_id duplicates\n",
    "uniques = df.nct_id.nunique()\n",
    "totals = df.shape[0]\n",
    "\n",
    "if uniques == totals:\n",
    "    print('No duplicates')\n",
    "else:\n",
    "    print('duplicates')"
   ]
  },
  {
   "cell_type": "code",
   "execution_count": null,
   "metadata": {},
   "outputs": [],
   "source": [
    "# Check for trials with published results\n",
    "# https://www.ncbi.nlm.nih.gov/pmc/articles/PMC5961767/"
   ]
  },
  {
   "cell_type": "markdown",
   "metadata": {},
   "source": [
    "## Baseline model: fastext, PubMed 200k RCT"
   ]
  },
  {
   "cell_type": "code",
   "execution_count": null,
   "metadata": {},
   "outputs": [],
   "source": [
    "# https://github.com/jakelever/kindred"
   ]
  }
 ],
 "metadata": {
  "kernelspec": {
   "display_name": "Python 3",
   "language": "python",
   "name": "python3"
  },
  "language_info": {
   "codemirror_mode": {
    "name": "ipython",
    "version": 3
   },
   "file_extension": ".py",
   "mimetype": "text/x-python",
   "name": "python",
   "nbconvert_exporter": "python",
   "pygments_lexer": "ipython3",
   "version": "3.7.5"
  }
 },
 "nbformat": 4,
 "nbformat_minor": 2
}
