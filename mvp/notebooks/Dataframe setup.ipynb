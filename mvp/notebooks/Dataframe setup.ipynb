{
 "cells": [
  {
   "cell_type": "markdown",
   "metadata": {},
   "source": [
    "# Clinical trials: Dataframe setup\n"
   ]
  },
  {
   "cell_type": "code",
   "execution_count": 1,
   "metadata": {},
   "outputs": [],
   "source": [
    "import time\n",
    "import json\n",
    "import os\n",
    "import pandas as pd"
   ]
  },
  {
   "cell_type": "code",
   "execution_count": 2,
   "metadata": {},
   "outputs": [],
   "source": [
    "# Path for json folder & file\n",
    "path_to_json_file = os.path.abspath('../data/json/')\n",
    "\n",
    "# json file\n",
    "json_file = '/all_trials_json' #name json file  "
   ]
  },
  {
   "cell_type": "markdown",
   "metadata": {},
   "source": [
    "## Import json file in a dataframe/sframe"
   ]
  },
  {
   "cell_type": "code",
   "execution_count": 5,
   "metadata": {},
   "outputs": [],
   "source": [
    "# Import json into a dataframe\n",
    "file = '{}{}.json'.format(path_to_json_file, json_file)"
   ]
  },
  {
   "cell_type": "code",
   "execution_count": 4,
   "metadata": {},
   "outputs": [
    {
     "ename": "ValueError",
     "evalue": "arrays must all be same length",
     "output_type": "error",
     "traceback": [
      "\u001b[0;31m---------------------------------------------------------------------------\u001b[0m",
      "\u001b[0;31mValueError\u001b[0m                                Traceback (most recent call last)",
      "\u001b[0;32m<ipython-input-4-f9496086f640>\u001b[0m in \u001b[0;36m<module>\u001b[0;34m\u001b[0m\n\u001b[1;32m      1\u001b[0m \u001b[0;31m# breaks with large json file\u001b[0m\u001b[0;34m\u001b[0m\u001b[0;34m\u001b[0m\u001b[0;34m\u001b[0m\u001b[0m\n\u001b[0;32m----> 2\u001b[0;31m \u001b[0mdf\u001b[0m \u001b[0;34m=\u001b[0m \u001b[0mpd\u001b[0m\u001b[0;34m.\u001b[0m\u001b[0mread_json\u001b[0m\u001b[0;34m(\u001b[0m\u001b[0mfile\u001b[0m\u001b[0;34m)\u001b[0m\u001b[0;34m\u001b[0m\u001b[0;34m\u001b[0m\u001b[0m\n\u001b[0m",
      "\u001b[0;32m~/Sites/env/haden/lib/python3.7/site-packages/pandas/io/json/json.py\u001b[0m in \u001b[0;36mread_json\u001b[0;34m(path_or_buf, orient, typ, dtype, convert_axes, convert_dates, keep_default_dates, numpy, precise_float, date_unit, encoding, lines, chunksize, compression)\u001b[0m\n\u001b[1;32m    425\u001b[0m         \u001b[0;32mreturn\u001b[0m \u001b[0mjson_reader\u001b[0m\u001b[0;34m\u001b[0m\u001b[0;34m\u001b[0m\u001b[0m\n\u001b[1;32m    426\u001b[0m \u001b[0;34m\u001b[0m\u001b[0m\n\u001b[0;32m--> 427\u001b[0;31m     \u001b[0mresult\u001b[0m \u001b[0;34m=\u001b[0m \u001b[0mjson_reader\u001b[0m\u001b[0;34m.\u001b[0m\u001b[0mread\u001b[0m\u001b[0;34m(\u001b[0m\u001b[0;34m)\u001b[0m\u001b[0;34m\u001b[0m\u001b[0;34m\u001b[0m\u001b[0m\n\u001b[0m\u001b[1;32m    428\u001b[0m     \u001b[0;32mif\u001b[0m \u001b[0mshould_close\u001b[0m\u001b[0;34m:\u001b[0m\u001b[0;34m\u001b[0m\u001b[0;34m\u001b[0m\u001b[0m\n\u001b[1;32m    429\u001b[0m         \u001b[0;32mtry\u001b[0m\u001b[0;34m:\u001b[0m\u001b[0;34m\u001b[0m\u001b[0;34m\u001b[0m\u001b[0m\n",
      "\u001b[0;32m~/Sites/env/haden/lib/python3.7/site-packages/pandas/io/json/json.py\u001b[0m in \u001b[0;36mread\u001b[0;34m(self)\u001b[0m\n\u001b[1;32m    535\u001b[0m             )\n\u001b[1;32m    536\u001b[0m         \u001b[0;32melse\u001b[0m\u001b[0;34m:\u001b[0m\u001b[0;34m\u001b[0m\u001b[0;34m\u001b[0m\u001b[0m\n\u001b[0;32m--> 537\u001b[0;31m             \u001b[0mobj\u001b[0m \u001b[0;34m=\u001b[0m \u001b[0mself\u001b[0m\u001b[0;34m.\u001b[0m\u001b[0m_get_object_parser\u001b[0m\u001b[0;34m(\u001b[0m\u001b[0mself\u001b[0m\u001b[0;34m.\u001b[0m\u001b[0mdata\u001b[0m\u001b[0;34m)\u001b[0m\u001b[0;34m\u001b[0m\u001b[0;34m\u001b[0m\u001b[0m\n\u001b[0m\u001b[1;32m    538\u001b[0m         \u001b[0mself\u001b[0m\u001b[0;34m.\u001b[0m\u001b[0mclose\u001b[0m\u001b[0;34m(\u001b[0m\u001b[0;34m)\u001b[0m\u001b[0;34m\u001b[0m\u001b[0;34m\u001b[0m\u001b[0m\n\u001b[1;32m    539\u001b[0m         \u001b[0;32mreturn\u001b[0m \u001b[0mobj\u001b[0m\u001b[0;34m\u001b[0m\u001b[0;34m\u001b[0m\u001b[0m\n",
      "\u001b[0;32m~/Sites/env/haden/lib/python3.7/site-packages/pandas/io/json/json.py\u001b[0m in \u001b[0;36m_get_object_parser\u001b[0;34m(self, json)\u001b[0m\n\u001b[1;32m    554\u001b[0m         \u001b[0mobj\u001b[0m \u001b[0;34m=\u001b[0m \u001b[0;32mNone\u001b[0m\u001b[0;34m\u001b[0m\u001b[0;34m\u001b[0m\u001b[0m\n\u001b[1;32m    555\u001b[0m         \u001b[0;32mif\u001b[0m \u001b[0mtyp\u001b[0m \u001b[0;34m==\u001b[0m \u001b[0;34m'frame'\u001b[0m\u001b[0;34m:\u001b[0m\u001b[0;34m\u001b[0m\u001b[0;34m\u001b[0m\u001b[0m\n\u001b[0;32m--> 556\u001b[0;31m             \u001b[0mobj\u001b[0m \u001b[0;34m=\u001b[0m \u001b[0mFrameParser\u001b[0m\u001b[0;34m(\u001b[0m\u001b[0mjson\u001b[0m\u001b[0;34m,\u001b[0m \u001b[0;34m**\u001b[0m\u001b[0mkwargs\u001b[0m\u001b[0;34m)\u001b[0m\u001b[0;34m.\u001b[0m\u001b[0mparse\u001b[0m\u001b[0;34m(\u001b[0m\u001b[0;34m)\u001b[0m\u001b[0;34m\u001b[0m\u001b[0;34m\u001b[0m\u001b[0m\n\u001b[0m\u001b[1;32m    557\u001b[0m \u001b[0;34m\u001b[0m\u001b[0m\n\u001b[1;32m    558\u001b[0m         \u001b[0;32mif\u001b[0m \u001b[0mtyp\u001b[0m \u001b[0;34m==\u001b[0m \u001b[0;34m'series'\u001b[0m \u001b[0;32mor\u001b[0m \u001b[0mobj\u001b[0m \u001b[0;32mis\u001b[0m \u001b[0;32mNone\u001b[0m\u001b[0;34m:\u001b[0m\u001b[0;34m\u001b[0m\u001b[0;34m\u001b[0m\u001b[0m\n",
      "\u001b[0;32m~/Sites/env/haden/lib/python3.7/site-packages/pandas/io/json/json.py\u001b[0m in \u001b[0;36mparse\u001b[0;34m(self)\u001b[0m\n\u001b[1;32m    650\u001b[0m \u001b[0;34m\u001b[0m\u001b[0m\n\u001b[1;32m    651\u001b[0m         \u001b[0;32melse\u001b[0m\u001b[0;34m:\u001b[0m\u001b[0;34m\u001b[0m\u001b[0;34m\u001b[0m\u001b[0m\n\u001b[0;32m--> 652\u001b[0;31m             \u001b[0mself\u001b[0m\u001b[0;34m.\u001b[0m\u001b[0m_parse_no_numpy\u001b[0m\u001b[0;34m(\u001b[0m\u001b[0;34m)\u001b[0m\u001b[0;34m\u001b[0m\u001b[0;34m\u001b[0m\u001b[0m\n\u001b[0m\u001b[1;32m    653\u001b[0m \u001b[0;34m\u001b[0m\u001b[0m\n\u001b[1;32m    654\u001b[0m         \u001b[0;32mif\u001b[0m \u001b[0mself\u001b[0m\u001b[0;34m.\u001b[0m\u001b[0mobj\u001b[0m \u001b[0;32mis\u001b[0m \u001b[0;32mNone\u001b[0m\u001b[0;34m:\u001b[0m\u001b[0;34m\u001b[0m\u001b[0;34m\u001b[0m\u001b[0m\n",
      "\u001b[0;32m~/Sites/env/haden/lib/python3.7/site-packages/pandas/io/json/json.py\u001b[0m in \u001b[0;36m_parse_no_numpy\u001b[0;34m(self)\u001b[0m\n\u001b[1;32m    869\u001b[0m         \u001b[0;32mif\u001b[0m \u001b[0morient\u001b[0m \u001b[0;34m==\u001b[0m \u001b[0;34m\"columns\"\u001b[0m\u001b[0;34m:\u001b[0m\u001b[0;34m\u001b[0m\u001b[0;34m\u001b[0m\u001b[0m\n\u001b[1;32m    870\u001b[0m             self.obj = DataFrame(\n\u001b[0;32m--> 871\u001b[0;31m                 loads(json, precise_float=self.precise_float), dtype=None)\n\u001b[0m\u001b[1;32m    872\u001b[0m         \u001b[0;32melif\u001b[0m \u001b[0morient\u001b[0m \u001b[0;34m==\u001b[0m \u001b[0;34m\"split\"\u001b[0m\u001b[0;34m:\u001b[0m\u001b[0;34m\u001b[0m\u001b[0;34m\u001b[0m\u001b[0m\n\u001b[1;32m    873\u001b[0m             decoded = {str(k): v for k, v in compat.iteritems(\n",
      "\u001b[0;32m~/Sites/env/haden/lib/python3.7/site-packages/pandas/core/frame.py\u001b[0m in \u001b[0;36m__init__\u001b[0;34m(self, data, index, columns, dtype, copy)\u001b[0m\n\u001b[1;32m    390\u001b[0m                                  dtype=dtype, copy=copy)\n\u001b[1;32m    391\u001b[0m         \u001b[0;32melif\u001b[0m \u001b[0misinstance\u001b[0m\u001b[0;34m(\u001b[0m\u001b[0mdata\u001b[0m\u001b[0;34m,\u001b[0m \u001b[0mdict\u001b[0m\u001b[0;34m)\u001b[0m\u001b[0;34m:\u001b[0m\u001b[0;34m\u001b[0m\u001b[0;34m\u001b[0m\u001b[0m\n\u001b[0;32m--> 392\u001b[0;31m             \u001b[0mmgr\u001b[0m \u001b[0;34m=\u001b[0m \u001b[0minit_dict\u001b[0m\u001b[0;34m(\u001b[0m\u001b[0mdata\u001b[0m\u001b[0;34m,\u001b[0m \u001b[0mindex\u001b[0m\u001b[0;34m,\u001b[0m \u001b[0mcolumns\u001b[0m\u001b[0;34m,\u001b[0m \u001b[0mdtype\u001b[0m\u001b[0;34m=\u001b[0m\u001b[0mdtype\u001b[0m\u001b[0;34m)\u001b[0m\u001b[0;34m\u001b[0m\u001b[0;34m\u001b[0m\u001b[0m\n\u001b[0m\u001b[1;32m    393\u001b[0m         \u001b[0;32melif\u001b[0m \u001b[0misinstance\u001b[0m\u001b[0;34m(\u001b[0m\u001b[0mdata\u001b[0m\u001b[0;34m,\u001b[0m \u001b[0mma\u001b[0m\u001b[0;34m.\u001b[0m\u001b[0mMaskedArray\u001b[0m\u001b[0;34m)\u001b[0m\u001b[0;34m:\u001b[0m\u001b[0;34m\u001b[0m\u001b[0;34m\u001b[0m\u001b[0m\n\u001b[1;32m    394\u001b[0m             \u001b[0;32mimport\u001b[0m \u001b[0mnumpy\u001b[0m\u001b[0;34m.\u001b[0m\u001b[0mma\u001b[0m\u001b[0;34m.\u001b[0m\u001b[0mmrecords\u001b[0m \u001b[0;32mas\u001b[0m \u001b[0mmrecords\u001b[0m\u001b[0;34m\u001b[0m\u001b[0;34m\u001b[0m\u001b[0m\n",
      "\u001b[0;32m~/Sites/env/haden/lib/python3.7/site-packages/pandas/core/internals/construction.py\u001b[0m in \u001b[0;36minit_dict\u001b[0;34m(data, index, columns, dtype)\u001b[0m\n\u001b[1;32m    210\u001b[0m         \u001b[0marrays\u001b[0m \u001b[0;34m=\u001b[0m \u001b[0;34m[\u001b[0m\u001b[0mdata\u001b[0m\u001b[0;34m[\u001b[0m\u001b[0mk\u001b[0m\u001b[0;34m]\u001b[0m \u001b[0;32mfor\u001b[0m \u001b[0mk\u001b[0m \u001b[0;32min\u001b[0m \u001b[0mkeys\u001b[0m\u001b[0;34m]\u001b[0m\u001b[0;34m\u001b[0m\u001b[0;34m\u001b[0m\u001b[0m\n\u001b[1;32m    211\u001b[0m \u001b[0;34m\u001b[0m\u001b[0m\n\u001b[0;32m--> 212\u001b[0;31m     \u001b[0;32mreturn\u001b[0m \u001b[0marrays_to_mgr\u001b[0m\u001b[0;34m(\u001b[0m\u001b[0marrays\u001b[0m\u001b[0;34m,\u001b[0m \u001b[0mdata_names\u001b[0m\u001b[0;34m,\u001b[0m \u001b[0mindex\u001b[0m\u001b[0;34m,\u001b[0m \u001b[0mcolumns\u001b[0m\u001b[0;34m,\u001b[0m \u001b[0mdtype\u001b[0m\u001b[0;34m=\u001b[0m\u001b[0mdtype\u001b[0m\u001b[0;34m)\u001b[0m\u001b[0;34m\u001b[0m\u001b[0;34m\u001b[0m\u001b[0m\n\u001b[0m\u001b[1;32m    213\u001b[0m \u001b[0;34m\u001b[0m\u001b[0m\n\u001b[1;32m    214\u001b[0m \u001b[0;34m\u001b[0m\u001b[0m\n",
      "\u001b[0;32m~/Sites/env/haden/lib/python3.7/site-packages/pandas/core/internals/construction.py\u001b[0m in \u001b[0;36marrays_to_mgr\u001b[0;34m(arrays, arr_names, index, columns, dtype)\u001b[0m\n\u001b[1;32m     49\u001b[0m     \u001b[0;31m# figure out the index, if necessary\u001b[0m\u001b[0;34m\u001b[0m\u001b[0;34m\u001b[0m\u001b[0;34m\u001b[0m\u001b[0m\n\u001b[1;32m     50\u001b[0m     \u001b[0;32mif\u001b[0m \u001b[0mindex\u001b[0m \u001b[0;32mis\u001b[0m \u001b[0;32mNone\u001b[0m\u001b[0;34m:\u001b[0m\u001b[0;34m\u001b[0m\u001b[0;34m\u001b[0m\u001b[0m\n\u001b[0;32m---> 51\u001b[0;31m         \u001b[0mindex\u001b[0m \u001b[0;34m=\u001b[0m \u001b[0mextract_index\u001b[0m\u001b[0;34m(\u001b[0m\u001b[0marrays\u001b[0m\u001b[0;34m)\u001b[0m\u001b[0;34m\u001b[0m\u001b[0;34m\u001b[0m\u001b[0m\n\u001b[0m\u001b[1;32m     52\u001b[0m     \u001b[0;32melse\u001b[0m\u001b[0;34m:\u001b[0m\u001b[0;34m\u001b[0m\u001b[0;34m\u001b[0m\u001b[0m\n\u001b[1;32m     53\u001b[0m         \u001b[0mindex\u001b[0m \u001b[0;34m=\u001b[0m \u001b[0mensure_index\u001b[0m\u001b[0;34m(\u001b[0m\u001b[0mindex\u001b[0m\u001b[0;34m)\u001b[0m\u001b[0;34m\u001b[0m\u001b[0;34m\u001b[0m\u001b[0m\n",
      "\u001b[0;32m~/Sites/env/haden/lib/python3.7/site-packages/pandas/core/internals/construction.py\u001b[0m in \u001b[0;36mextract_index\u001b[0;34m(data)\u001b[0m\n\u001b[1;32m    315\u001b[0m             \u001b[0mlengths\u001b[0m \u001b[0;34m=\u001b[0m \u001b[0mlist\u001b[0m\u001b[0;34m(\u001b[0m\u001b[0mset\u001b[0m\u001b[0;34m(\u001b[0m\u001b[0mraw_lengths\u001b[0m\u001b[0;34m)\u001b[0m\u001b[0;34m)\u001b[0m\u001b[0;34m\u001b[0m\u001b[0;34m\u001b[0m\u001b[0m\n\u001b[1;32m    316\u001b[0m             \u001b[0;32mif\u001b[0m \u001b[0mlen\u001b[0m\u001b[0;34m(\u001b[0m\u001b[0mlengths\u001b[0m\u001b[0;34m)\u001b[0m \u001b[0;34m>\u001b[0m \u001b[0;36m1\u001b[0m\u001b[0;34m:\u001b[0m\u001b[0;34m\u001b[0m\u001b[0;34m\u001b[0m\u001b[0m\n\u001b[0;32m--> 317\u001b[0;31m                 \u001b[0;32mraise\u001b[0m \u001b[0mValueError\u001b[0m\u001b[0;34m(\u001b[0m\u001b[0;34m'arrays must all be same length'\u001b[0m\u001b[0;34m)\u001b[0m\u001b[0;34m\u001b[0m\u001b[0;34m\u001b[0m\u001b[0m\n\u001b[0m\u001b[1;32m    318\u001b[0m \u001b[0;34m\u001b[0m\u001b[0m\n\u001b[1;32m    319\u001b[0m             \u001b[0;32mif\u001b[0m \u001b[0mhave_dicts\u001b[0m\u001b[0;34m:\u001b[0m\u001b[0;34m\u001b[0m\u001b[0;34m\u001b[0m\u001b[0m\n",
      "\u001b[0;31mValueError\u001b[0m: arrays must all be same length"
     ]
    }
   ],
   "source": [
    "# breaks with large json file\n",
    "df = pd.read_json(file)"
   ]
  },
  {
   "cell_type": "markdown",
   "metadata": {},
   "source": [
    "## Basic data cleaning"
   ]
  },
  {
   "cell_type": "code",
   "execution_count": 5,
   "metadata": {},
   "outputs": [
    {
     "name": "stdout",
     "output_type": "stream",
     "text": [
      "<class 'pandas.core.frame.DataFrame'>\n",
      "RangeIndex: 292311 entries, 0 to 292310\n",
      "Data columns (total 12 columns):\n",
      "nct_id                               292311 non-null object\n",
      "study_first_submitted                292311 non-null object\n",
      "source                               292311 non-null object\n",
      "brief_title                          292311 non-null object\n",
      "condition                            292311 non-null object\n",
      "condition_browse/mesh_term           292311 non-null object\n",
      "intervention_browse/mesh_term        292311 non-null object\n",
      "detailed_description/textblock       292311 non-null object\n",
      "brief_summary/textblock              292311 non-null object\n",
      "location/facility/address/city       292311 non-null object\n",
      "location/facility/address/country    292311 non-null object\n",
      "location/facility/address/zip        292311 non-null object\n",
      "dtypes: object(12)\n",
      "memory usage: 26.8+ MB\n"
     ]
    }
   ],
   "source": [
    "#Check data\n",
    "df.info()"
   ]
  },
  {
   "cell_type": "code",
   "execution_count": 6,
   "metadata": {},
   "outputs": [
    {
     "data": {
      "text/html": [
       "<div>\n",
       "<style scoped>\n",
       "    .dataframe tbody tr th:only-of-type {\n",
       "        vertical-align: middle;\n",
       "    }\n",
       "\n",
       "    .dataframe tbody tr th {\n",
       "        vertical-align: top;\n",
       "    }\n",
       "\n",
       "    .dataframe thead th {\n",
       "        text-align: right;\n",
       "    }\n",
       "</style>\n",
       "<table border=\"1\" class=\"dataframe\">\n",
       "  <thead>\n",
       "    <tr style=\"text-align: right;\">\n",
       "      <th></th>\n",
       "      <th>nct_id</th>\n",
       "      <th>study_first_submitted</th>\n",
       "      <th>source</th>\n",
       "      <th>brief_title</th>\n",
       "      <th>condition</th>\n",
       "      <th>condition_browse/mesh_term</th>\n",
       "      <th>intervention_browse/mesh_term</th>\n",
       "      <th>detailed_description/textblock</th>\n",
       "      <th>brief_summary/textblock</th>\n",
       "      <th>location/facility/address/city</th>\n",
       "      <th>location/facility/address/country</th>\n",
       "      <th>location/facility/address/zip</th>\n",
       "    </tr>\n",
       "  </thead>\n",
       "  <tbody>\n",
       "    <tr>\n",
       "      <th>0</th>\n",
       "      <td>NCT00391586</td>\n",
       "      <td>October 23, 2006</td>\n",
       "      <td>New Mexico Cancer Care Alliance</td>\n",
       "      <td>Erlotinib and Standard Platinum-Based Chemothe...</td>\n",
       "      <td>Carcinoma, Non-Small-Cell Lung</td>\n",
       "      <td>Carcinoma</td>\n",
       "      <td>Paclitaxel</td>\n",
       "      <td>\\n      To compare the activities (the progres...</td>\n",
       "      <td>\\n      This study was conducted to compare th...</td>\n",
       "      <td>Albuquerque</td>\n",
       "      <td>United States</td>\n",
       "      <td>87102</td>\n",
       "    </tr>\n",
       "    <tr>\n",
       "      <th>1</th>\n",
       "      <td>NCT03472664</td>\n",
       "      <td>March 12, 2018</td>\n",
       "      <td>Wake Forest University Health Sciences</td>\n",
       "      <td>Brain Energy for Amyloid Transformation in Alz...</td>\n",
       "      <td>Alzheimer Disease</td>\n",
       "      <td>Alzheimer Disease</td>\n",
       "      <td>None</td>\n",
       "      <td>\\n      This study will examine the effects of...</td>\n",
       "      <td>\\n      The Brain Energy for Amyloid Transform...</td>\n",
       "      <td>Winston-Salem</td>\n",
       "      <td>United States</td>\n",
       "      <td>27157</td>\n",
       "    </tr>\n",
       "    <tr>\n",
       "      <th>2</th>\n",
       "      <td>NCT02443948</td>\n",
       "      <td>March 19, 2015</td>\n",
       "      <td>Fondazione del Piemonte per l'Oncologia</td>\n",
       "      <td>Circulating Cell-free Tumor DNA in the Plasma ...</td>\n",
       "      <td>Gastrointestinal Stromal Tumor (GIST)</td>\n",
       "      <td>Gastrointestinal Stromal Tumors</td>\n",
       "      <td>None</td>\n",
       "      <td>\\n      Demetri and colleagues presented, at t...</td>\n",
       "      <td>\\n      This observational study is proposed t...</td>\n",
       "      <td>Candiolo</td>\n",
       "      <td>Italy</td>\n",
       "      <td>10060</td>\n",
       "    </tr>\n",
       "    <tr>\n",
       "      <th>3</th>\n",
       "      <td>NCT03757312</td>\n",
       "      <td>November 27, 2018</td>\n",
       "      <td>Nationwide Children's Hospital</td>\n",
       "      <td>A Pilot Study of Optic Nerve Ultrasound Follow...</td>\n",
       "      <td>Congenital Heart Disease</td>\n",
       "      <td>Heart Diseases</td>\n",
       "      <td>None</td>\n",
       "      <td>None</td>\n",
       "      <td>\\n      The purpose of the proposed study is t...</td>\n",
       "      <td>Columbus</td>\n",
       "      <td>United States</td>\n",
       "      <td>43205</td>\n",
       "    </tr>\n",
       "    <tr>\n",
       "      <th>4</th>\n",
       "      <td>NCT02818309</td>\n",
       "      <td>June 21, 2016</td>\n",
       "      <td>National Taiwan University Hospital</td>\n",
       "      <td>Lesogaberan in Chinese Patients With Refractor...</td>\n",
       "      <td>Gastroesophageal Reflux Disease</td>\n",
       "      <td>Gastroesophageal Reflux</td>\n",
       "      <td>Lesogaberan</td>\n",
       "      <td>\\n      To test the efficacy and safety of les...</td>\n",
       "      <td>\\n      Lesogaberan may be used in Chinese GER...</td>\n",
       "      <td>Taipei</td>\n",
       "      <td>Taiwan</td>\n",
       "      <td>100</td>\n",
       "    </tr>\n",
       "  </tbody>\n",
       "</table>\n",
       "</div>"
      ],
      "text/plain": [
       "        nct_id study_first_submitted                                   source  \\\n",
       "0  NCT00391586      October 23, 2006          New Mexico Cancer Care Alliance   \n",
       "1  NCT03472664        March 12, 2018   Wake Forest University Health Sciences   \n",
       "2  NCT02443948        March 19, 2015  Fondazione del Piemonte per l'Oncologia   \n",
       "3  NCT03757312     November 27, 2018           Nationwide Children's Hospital   \n",
       "4  NCT02818309         June 21, 2016      National Taiwan University Hospital   \n",
       "\n",
       "                                         brief_title  \\\n",
       "0  Erlotinib and Standard Platinum-Based Chemothe...   \n",
       "1  Brain Energy for Amyloid Transformation in Alz...   \n",
       "2  Circulating Cell-free Tumor DNA in the Plasma ...   \n",
       "3  A Pilot Study of Optic Nerve Ultrasound Follow...   \n",
       "4  Lesogaberan in Chinese Patients With Refractor...   \n",
       "\n",
       "                               condition       condition_browse/mesh_term  \\\n",
       "0         Carcinoma, Non-Small-Cell Lung                        Carcinoma   \n",
       "1                      Alzheimer Disease                Alzheimer Disease   \n",
       "2  Gastrointestinal Stromal Tumor (GIST)  Gastrointestinal Stromal Tumors   \n",
       "3               Congenital Heart Disease                   Heart Diseases   \n",
       "4        Gastroesophageal Reflux Disease          Gastroesophageal Reflux   \n",
       "\n",
       "  intervention_browse/mesh_term  \\\n",
       "0                    Paclitaxel   \n",
       "1                          None   \n",
       "2                          None   \n",
       "3                          None   \n",
       "4                   Lesogaberan   \n",
       "\n",
       "                      detailed_description/textblock  \\\n",
       "0  \\n      To compare the activities (the progres...   \n",
       "1  \\n      This study will examine the effects of...   \n",
       "2  \\n      Demetri and colleagues presented, at t...   \n",
       "3                                               None   \n",
       "4  \\n      To test the efficacy and safety of les...   \n",
       "\n",
       "                             brief_summary/textblock  \\\n",
       "0  \\n      This study was conducted to compare th...   \n",
       "1  \\n      The Brain Energy for Amyloid Transform...   \n",
       "2  \\n      This observational study is proposed t...   \n",
       "3  \\n      The purpose of the proposed study is t...   \n",
       "4  \\n      Lesogaberan may be used in Chinese GER...   \n",
       "\n",
       "  location/facility/address/city location/facility/address/country  \\\n",
       "0                    Albuquerque                     United States   \n",
       "1                  Winston-Salem                     United States   \n",
       "2                       Candiolo                             Italy   \n",
       "3                       Columbus                     United States   \n",
       "4                         Taipei                            Taiwan   \n",
       "\n",
       "  location/facility/address/zip  \n",
       "0                         87102  \n",
       "1                         27157  \n",
       "2                         10060  \n",
       "3                         43205  \n",
       "4                           100  "
      ]
     },
     "execution_count": 6,
     "metadata": {},
     "output_type": "execute_result"
    }
   ],
   "source": [
    "df.head()"
   ]
  },
  {
   "cell_type": "code",
   "execution_count": 7,
   "metadata": {},
   "outputs": [],
   "source": [
    "# remove \\n values\n",
    "df = df.replace(r'\\n',' ', regex=True) "
   ]
  },
  {
   "cell_type": "code",
   "execution_count": null,
   "metadata": {},
   "outputs": [],
   "source": [
    "# df.set_index('nct_id', inplace=True)"
   ]
  },
  {
   "cell_type": "code",
   "execution_count": 10,
   "metadata": {},
   "outputs": [
    {
     "data": {
      "text/plain": [
       "Index(['nct_id', 'study_first_submitted', 'source', 'brief_title', 'condition',\n",
       "       'condition_browse/mesh_term', 'intervention_browse/mesh_term',\n",
       "       'detailed_description/textblock', 'brief_summary/textblock',\n",
       "       'location/facility/address/city', 'location/facility/address/country',\n",
       "       'location/facility/address/zip'],\n",
       "      dtype='object')"
      ]
     },
     "execution_count": 10,
     "metadata": {},
     "output_type": "execute_result"
    }
   ],
   "source": [
    "df.columns"
   ]
  },
  {
   "cell_type": "code",
   "execution_count": 11,
   "metadata": {},
   "outputs": [],
   "source": [
    "# Rename columns\n",
    "df.columns = ['id', \n",
    "              'submission_date',\n",
    "              'source', \n",
    "              'brief_title', \n",
    "              'condition', \n",
    "              'mesh_term_condition', \n",
    "              'mesh_term_intervention', \n",
    "              'full_description', \n",
    "              'summary', \n",
    "              'city', \n",
    "              'country', \n",
    "              'zip']"
   ]
  },
  {
   "cell_type": "code",
   "execution_count": 12,
   "metadata": {},
   "outputs": [
    {
     "data": {
      "text/html": [
       "<div>\n",
       "<style scoped>\n",
       "    .dataframe tbody tr th:only-of-type {\n",
       "        vertical-align: middle;\n",
       "    }\n",
       "\n",
       "    .dataframe tbody tr th {\n",
       "        vertical-align: top;\n",
       "    }\n",
       "\n",
       "    .dataframe thead th {\n",
       "        text-align: right;\n",
       "    }\n",
       "</style>\n",
       "<table border=\"1\" class=\"dataframe\">\n",
       "  <thead>\n",
       "    <tr style=\"text-align: right;\">\n",
       "      <th></th>\n",
       "      <th>id</th>\n",
       "      <th>submission_date</th>\n",
       "      <th>source</th>\n",
       "      <th>brief_title</th>\n",
       "      <th>condition</th>\n",
       "      <th>mesh_term_condition</th>\n",
       "      <th>mesh_term_intervention</th>\n",
       "      <th>full_description</th>\n",
       "      <th>summary</th>\n",
       "      <th>city</th>\n",
       "      <th>country</th>\n",
       "      <th>zip</th>\n",
       "    </tr>\n",
       "  </thead>\n",
       "  <tbody>\n",
       "    <tr>\n",
       "      <th>0</th>\n",
       "      <td>NCT00391586</td>\n",
       "      <td>October 23, 2006</td>\n",
       "      <td>New Mexico Cancer Care Alliance</td>\n",
       "      <td>Erlotinib and Standard Platinum-Based Chemothe...</td>\n",
       "      <td>Carcinoma, Non-Small-Cell Lung</td>\n",
       "      <td>Carcinoma</td>\n",
       "      <td>Paclitaxel</td>\n",
       "      <td>To compare the activities (the progress...</td>\n",
       "      <td>This study was conducted to compare the...</td>\n",
       "      <td>Albuquerque</td>\n",
       "      <td>United States</td>\n",
       "      <td>87102</td>\n",
       "    </tr>\n",
       "    <tr>\n",
       "      <th>1</th>\n",
       "      <td>NCT03472664</td>\n",
       "      <td>March 12, 2018</td>\n",
       "      <td>Wake Forest University Health Sciences</td>\n",
       "      <td>Brain Energy for Amyloid Transformation in Alz...</td>\n",
       "      <td>Alzheimer Disease</td>\n",
       "      <td>Alzheimer Disease</td>\n",
       "      <td>None</td>\n",
       "      <td>This study will examine the effects of ...</td>\n",
       "      <td>The Brain Energy for Amyloid Transforma...</td>\n",
       "      <td>Winston-Salem</td>\n",
       "      <td>United States</td>\n",
       "      <td>27157</td>\n",
       "    </tr>\n",
       "    <tr>\n",
       "      <th>2</th>\n",
       "      <td>NCT02443948</td>\n",
       "      <td>March 19, 2015</td>\n",
       "      <td>Fondazione del Piemonte per l'Oncologia</td>\n",
       "      <td>Circulating Cell-free Tumor DNA in the Plasma ...</td>\n",
       "      <td>Gastrointestinal Stromal Tumor (GIST)</td>\n",
       "      <td>Gastrointestinal Stromal Tumors</td>\n",
       "      <td>None</td>\n",
       "      <td>Demetri and colleagues presented, at th...</td>\n",
       "      <td>This observational study is proposed to...</td>\n",
       "      <td>Candiolo</td>\n",
       "      <td>Italy</td>\n",
       "      <td>10060</td>\n",
       "    </tr>\n",
       "    <tr>\n",
       "      <th>3</th>\n",
       "      <td>NCT03757312</td>\n",
       "      <td>November 27, 2018</td>\n",
       "      <td>Nationwide Children's Hospital</td>\n",
       "      <td>A Pilot Study of Optic Nerve Ultrasound Follow...</td>\n",
       "      <td>Congenital Heart Disease</td>\n",
       "      <td>Heart Diseases</td>\n",
       "      <td>None</td>\n",
       "      <td>None</td>\n",
       "      <td>The purpose of the proposed study is to...</td>\n",
       "      <td>Columbus</td>\n",
       "      <td>United States</td>\n",
       "      <td>43205</td>\n",
       "    </tr>\n",
       "    <tr>\n",
       "      <th>4</th>\n",
       "      <td>NCT02818309</td>\n",
       "      <td>June 21, 2016</td>\n",
       "      <td>National Taiwan University Hospital</td>\n",
       "      <td>Lesogaberan in Chinese Patients With Refractor...</td>\n",
       "      <td>Gastroesophageal Reflux Disease</td>\n",
       "      <td>Gastroesophageal Reflux</td>\n",
       "      <td>Lesogaberan</td>\n",
       "      <td>To test the efficacy and safety of leso...</td>\n",
       "      <td>Lesogaberan may be used in Chinese GERD...</td>\n",
       "      <td>Taipei</td>\n",
       "      <td>Taiwan</td>\n",
       "      <td>100</td>\n",
       "    </tr>\n",
       "  </tbody>\n",
       "</table>\n",
       "</div>"
      ],
      "text/plain": [
       "            id    submission_date                                   source  \\\n",
       "0  NCT00391586   October 23, 2006          New Mexico Cancer Care Alliance   \n",
       "1  NCT03472664     March 12, 2018   Wake Forest University Health Sciences   \n",
       "2  NCT02443948     March 19, 2015  Fondazione del Piemonte per l'Oncologia   \n",
       "3  NCT03757312  November 27, 2018           Nationwide Children's Hospital   \n",
       "4  NCT02818309      June 21, 2016      National Taiwan University Hospital   \n",
       "\n",
       "                                         brief_title  \\\n",
       "0  Erlotinib and Standard Platinum-Based Chemothe...   \n",
       "1  Brain Energy for Amyloid Transformation in Alz...   \n",
       "2  Circulating Cell-free Tumor DNA in the Plasma ...   \n",
       "3  A Pilot Study of Optic Nerve Ultrasound Follow...   \n",
       "4  Lesogaberan in Chinese Patients With Refractor...   \n",
       "\n",
       "                               condition              mesh_term_condition  \\\n",
       "0         Carcinoma, Non-Small-Cell Lung                        Carcinoma   \n",
       "1                      Alzheimer Disease                Alzheimer Disease   \n",
       "2  Gastrointestinal Stromal Tumor (GIST)  Gastrointestinal Stromal Tumors   \n",
       "3               Congenital Heart Disease                   Heart Diseases   \n",
       "4        Gastroesophageal Reflux Disease          Gastroesophageal Reflux   \n",
       "\n",
       "  mesh_term_intervention                                   full_description  \\\n",
       "0             Paclitaxel         To compare the activities (the progress...   \n",
       "1                   None         This study will examine the effects of ...   \n",
       "2                   None         Demetri and colleagues presented, at th...   \n",
       "3                   None                                               None   \n",
       "4            Lesogaberan         To test the efficacy and safety of leso...   \n",
       "\n",
       "                                             summary           city  \\\n",
       "0         This study was conducted to compare the...    Albuquerque   \n",
       "1         The Brain Energy for Amyloid Transforma...  Winston-Salem   \n",
       "2         This observational study is proposed to...       Candiolo   \n",
       "3         The purpose of the proposed study is to...       Columbus   \n",
       "4         Lesogaberan may be used in Chinese GERD...         Taipei   \n",
       "\n",
       "         country    zip  \n",
       "0  United States  87102  \n",
       "1  United States  27157  \n",
       "2          Italy  10060  \n",
       "3  United States  43205  \n",
       "4         Taiwan    100  "
      ]
     },
     "execution_count": 12,
     "metadata": {},
     "output_type": "execute_result"
    }
   ],
   "source": [
    "df.head()"
   ]
  },
  {
   "cell_type": "markdown",
   "metadata": {},
   "source": [
    "## Add new date columns"
   ]
  },
  {
   "cell_type": "code",
   "execution_count": 13,
   "metadata": {},
   "outputs": [
    {
     "name": "stdout",
     "output_type": "stream",
     "text": [
      "CPU times: user 31.5 s, sys: 22.2 ms, total: 31.6 s\n",
      "Wall time: 31.6 s\n"
     ]
    }
   ],
   "source": [
    "# Create new column: study_first_submitted as dates\n",
    "%time df['full_date'] = pd.to_datetime(df['submission_date'])"
   ]
  },
  {
   "cell_type": "code",
   "execution_count": 14,
   "metadata": {},
   "outputs": [],
   "source": [
    "# Create new column: dates as year\n",
    "df['year'] = df['full_date'].dt.year"
   ]
  },
  {
   "cell_type": "code",
   "execution_count": 15,
   "metadata": {},
   "outputs": [],
   "source": [
    "# Delete submission date column\n",
    "df.drop('submission_date', axis=1, inplace=True)"
   ]
  },
  {
   "cell_type": "code",
   "execution_count": 16,
   "metadata": {},
   "outputs": [],
   "source": [
    "# Sort records by date\n",
    "df = df.sort_values(by ='full_date')"
   ]
  },
  {
   "cell_type": "code",
   "execution_count": 17,
   "metadata": {},
   "outputs": [
    {
     "data": {
      "text/html": [
       "<div>\n",
       "<style scoped>\n",
       "    .dataframe tbody tr th:only-of-type {\n",
       "        vertical-align: middle;\n",
       "    }\n",
       "\n",
       "    .dataframe tbody tr th {\n",
       "        vertical-align: top;\n",
       "    }\n",
       "\n",
       "    .dataframe thead th {\n",
       "        text-align: right;\n",
       "    }\n",
       "</style>\n",
       "<table border=\"1\" class=\"dataframe\">\n",
       "  <thead>\n",
       "    <tr style=\"text-align: right;\">\n",
       "      <th></th>\n",
       "      <th>id</th>\n",
       "      <th>source</th>\n",
       "      <th>brief_title</th>\n",
       "      <th>condition</th>\n",
       "      <th>mesh_term_condition</th>\n",
       "      <th>mesh_term_intervention</th>\n",
       "      <th>full_description</th>\n",
       "      <th>summary</th>\n",
       "      <th>city</th>\n",
       "      <th>country</th>\n",
       "      <th>zip</th>\n",
       "      <th>full_date</th>\n",
       "      <th>year</th>\n",
       "    </tr>\n",
       "  </thead>\n",
       "  <tbody>\n",
       "    <tr>\n",
       "      <th>153887</th>\n",
       "      <td>NCT00004639</td>\n",
       "      <td>University of Florida</td>\n",
       "      <td>Cleft Palate Surgery and Speech Development</td>\n",
       "      <td>Cleft Lip</td>\n",
       "      <td>Cleft Lip</td>\n",
       "      <td>None</td>\n",
       "      <td>This study is conducted with patients w...</td>\n",
       "      <td>Compare the outcome of two primary surg...</td>\n",
       "      <td>Gainesville</td>\n",
       "      <td>United States</td>\n",
       "      <td>32166</td>\n",
       "      <td>1999-09-17</td>\n",
       "      <td>1999</td>\n",
       "    </tr>\n",
       "    <tr>\n",
       "      <th>46938</th>\n",
       "      <td>NCT00004640</td>\n",
       "      <td>University of Washington</td>\n",
       "      <td>\"Clinical Trials to Enhance Elders' Oral Healt...</td>\n",
       "      <td>Tooth Loss</td>\n",
       "      <td>Periodontal Diseases</td>\n",
       "      <td>Chlorhexidine</td>\n",
       "      <td>\"TEETH\" is a double-blinded, randomized...</td>\n",
       "      <td>The purpose of this study is to determi...</td>\n",
       "      <td>Seattle</td>\n",
       "      <td>United States</td>\n",
       "      <td>98195-7134</td>\n",
       "      <td>1999-09-17</td>\n",
       "      <td>1999</td>\n",
       "    </tr>\n",
       "    <tr>\n",
       "      <th>182804</th>\n",
       "      <td>NCT00000267</td>\n",
       "      <td>National Institute on Drug Abuse (NIDA)</td>\n",
       "      <td>Risperidone Treatment in Dually-Diagnosed Indi...</td>\n",
       "      <td>Cocaine-Related Disorders</td>\n",
       "      <td>Cocaine-Related Disorders</td>\n",
       "      <td>Risperidone</td>\n",
       "      <td>None</td>\n",
       "      <td>The purpose of this study is to evaluat...</td>\n",
       "      <td>New York</td>\n",
       "      <td>United States</td>\n",
       "      <td>10032</td>\n",
       "      <td>1999-09-20</td>\n",
       "      <td>1999</td>\n",
       "    </tr>\n",
       "    <tr>\n",
       "      <th>73402</th>\n",
       "      <td>NCT00000244</td>\n",
       "      <td>University of Minnesota - Clinical and Transla...</td>\n",
       "      <td>Effects of Dynorphin 1-13 on Heroin Addiction - 1</td>\n",
       "      <td>Opioid-Related Disorders</td>\n",
       "      <td>Behavior, Addictive</td>\n",
       "      <td>Heroin</td>\n",
       "      <td>Randomized double blinded study of the ...</td>\n",
       "      <td>The purpose of this study is to evaluat...</td>\n",
       "      <td>Minneapolis</td>\n",
       "      <td>United States</td>\n",
       "      <td>55415</td>\n",
       "      <td>1999-09-20</td>\n",
       "      <td>1999</td>\n",
       "    </tr>\n",
       "    <tr>\n",
       "      <th>73336</th>\n",
       "      <td>NCT00000250</td>\n",
       "      <td>University of Chicago</td>\n",
       "      <td>Cold Water Immersion Modulates Reinforcing Eff...</td>\n",
       "      <td>Opioid-Related Disorders</td>\n",
       "      <td>Disease</td>\n",
       "      <td>Nitrous Oxide</td>\n",
       "      <td>None</td>\n",
       "      <td>The purpose of this study is to conduct...</td>\n",
       "      <td>Chicago</td>\n",
       "      <td>United States</td>\n",
       "      <td>60637</td>\n",
       "      <td>1999-09-20</td>\n",
       "      <td>1999</td>\n",
       "    </tr>\n",
       "  </tbody>\n",
       "</table>\n",
       "</div>"
      ],
      "text/plain": [
       "                 id                                             source  \\\n",
       "153887  NCT00004639                              University of Florida   \n",
       "46938   NCT00004640                           University of Washington   \n",
       "182804  NCT00000267            National Institute on Drug Abuse (NIDA)   \n",
       "73402   NCT00000244  University of Minnesota - Clinical and Transla...   \n",
       "73336   NCT00000250                              University of Chicago   \n",
       "\n",
       "                                              brief_title  \\\n",
       "153887        Cleft Palate Surgery and Speech Development   \n",
       "46938   \"Clinical Trials to Enhance Elders' Oral Healt...   \n",
       "182804  Risperidone Treatment in Dually-Diagnosed Indi...   \n",
       "73402   Effects of Dynorphin 1-13 on Heroin Addiction - 1   \n",
       "73336   Cold Water Immersion Modulates Reinforcing Eff...   \n",
       "\n",
       "                        condition        mesh_term_condition  \\\n",
       "153887                  Cleft Lip                  Cleft Lip   \n",
       "46938                  Tooth Loss       Periodontal Diseases   \n",
       "182804  Cocaine-Related Disorders  Cocaine-Related Disorders   \n",
       "73402    Opioid-Related Disorders        Behavior, Addictive   \n",
       "73336    Opioid-Related Disorders                    Disease   \n",
       "\n",
       "       mesh_term_intervention  \\\n",
       "153887                   None   \n",
       "46938           Chlorhexidine   \n",
       "182804            Risperidone   \n",
       "73402                  Heroin   \n",
       "73336           Nitrous Oxide   \n",
       "\n",
       "                                         full_description  \\\n",
       "153887         This study is conducted with patients w...   \n",
       "46938          \"TEETH\" is a double-blinded, randomized...   \n",
       "182804                                               None   \n",
       "73402          Randomized double blinded study of the ...   \n",
       "73336                                                None   \n",
       "\n",
       "                                                  summary         city  \\\n",
       "153887         Compare the outcome of two primary surg...  Gainesville   \n",
       "46938          The purpose of this study is to determi...      Seattle   \n",
       "182804         The purpose of this study is to evaluat...     New York   \n",
       "73402          The purpose of this study is to evaluat...  Minneapolis   \n",
       "73336          The purpose of this study is to conduct...      Chicago   \n",
       "\n",
       "              country         zip  full_date  year  \n",
       "153887  United States       32166 1999-09-17  1999  \n",
       "46938   United States  98195-7134 1999-09-17  1999  \n",
       "182804  United States       10032 1999-09-20  1999  \n",
       "73402   United States       55415 1999-09-20  1999  \n",
       "73336   United States       60637 1999-09-20  1999  "
      ]
     },
     "execution_count": 17,
     "metadata": {},
     "output_type": "execute_result"
    }
   ],
   "source": [
    "df.head()"
   ]
  },
  {
   "cell_type": "code",
   "execution_count": 18,
   "metadata": {},
   "outputs": [
    {
     "name": "stdout",
     "output_type": "stream",
     "text": [
      "<class 'pandas.core.frame.DataFrame'>\n",
      "Int64Index: 292311 entries, 153887 to 45170\n",
      "Data columns (total 13 columns):\n",
      "id                        292311 non-null object\n",
      "source                    292311 non-null object\n",
      "brief_title               292311 non-null object\n",
      "condition                 292311 non-null object\n",
      "mesh_term_condition       292311 non-null object\n",
      "mesh_term_intervention    292311 non-null object\n",
      "full_description          292311 non-null object\n",
      "summary                   292311 non-null object\n",
      "city                      292311 non-null object\n",
      "country                   292311 non-null object\n",
      "zip                       292311 non-null object\n",
      "full_date                 292311 non-null datetime64[ns]\n",
      "year                      292311 non-null int64\n",
      "dtypes: datetime64[ns](1), int64(1), object(11)\n",
      "memory usage: 31.2+ MB\n"
     ]
    }
   ],
   "source": [
    "df.info()"
   ]
  },
  {
   "cell_type": "markdown",
   "metadata": {},
   "source": [
    "## Subset of data"
   ]
  },
  {
   "cell_type": "code",
   "execution_count": 21,
   "metadata": {},
   "outputs": [],
   "source": [
    "def filter_data(year, df):\n",
    "    # Select data since 2008\n",
    "    df = [df['year'] > year]"
   ]
  },
  {
   "cell_type": "code",
   "execution_count": 22,
   "metadata": {},
   "outputs": [],
   "source": [
    "# Select data since 2008\n",
    "# df = df[df['year'] > 2007]\n",
    "# df.info()\n",
    "\n",
    "filter_data(2008, df)"
   ]
  },
  {
   "cell_type": "code",
   "execution_count": 23,
   "metadata": {},
   "outputs": [
    {
     "data": {
      "text/plain": [
       "2347"
      ]
     },
     "execution_count": 23,
     "metadata": {},
     "output_type": "execute_result"
    }
   ],
   "source": [
    "df.mesh_term_condition.nunique()"
   ]
  },
  {
   "cell_type": "code",
   "execution_count": 24,
   "metadata": {},
   "outputs": [
    {
     "data": {
      "text/plain": [
       "48389"
      ]
     },
     "execution_count": 24,
     "metadata": {},
     "output_type": "execute_result"
    }
   ],
   "source": [
    "df.condition.nunique()"
   ]
  },
  {
   "cell_type": "code",
   "execution_count": null,
   "metadata": {},
   "outputs": [],
   "source": [
    "df.mesh_term_intervention.nunique()"
   ]
  },
  {
   "cell_type": "markdown",
   "metadata": {},
   "source": [
    "## Export dataframe as csv"
   ]
  },
  {
   "cell_type": "code",
   "execution_count": 28,
   "metadata": {},
   "outputs": [],
   "source": [
    "def export_data_csv(df, path_to_csv = os.path.abspath('../data/csv/'), csv_file = '/clean_data.csv'):\n",
    "    try:\n",
    "        os.mkdir(path_to_csv)\n",
    "        print('{} created'.format(csv))\n",
    "    except IOError as e:\n",
    "        print(e)\n",
    "        pass\n",
    "    \n",
    "    df.to_csv(path_to_csv + csv_file)"
   ]
  },
  {
   "cell_type": "code",
   "execution_count": 29,
   "metadata": {},
   "outputs": [
    {
     "name": "stdout",
     "output_type": "stream",
     "text": [
      "[Errno 17] File exists: '/Users/cmserna/Sites/clinical trials/mvp/data/csv'\n"
     ]
    }
   ],
   "source": [
    "# Export dataframe as csv file\n",
    "\n",
    "# path_to_csv = os.path.abspath('../data/csv/')\n",
    "\n",
    "# try:\n",
    "#     os.mkdir(path_to_csv)\n",
    "#     print('{} created'.format(csv))\n",
    "# except IOError as e:\n",
    "#     print(e)\n",
    "#     pass\n",
    "\n",
    "export_data_csv(df)"
   ]
  },
  {
   "cell_type": "code",
   "execution_count": null,
   "metadata": {},
   "outputs": [],
   "source": [
    "csv_file = '/clean_data.csv'\n",
    "df.to_csv(path_to_csv + csv_file)"
   ]
  },
  {
   "cell_type": "code",
   "execution_count": null,
   "metadata": {},
   "outputs": [],
   "source": []
  }
 ],
 "metadata": {
  "kernelspec": {
   "display_name": "Python 3",
   "language": "python",
   "name": "python3"
  },
  "language_info": {
   "codemirror_mode": {
    "name": "ipython",
    "version": 3
   },
   "file_extension": ".py",
   "mimetype": "text/x-python",
   "name": "python",
   "nbconvert_exporter": "python",
   "pygments_lexer": "ipython3",
   "version": "3.7.3"
  }
 },
 "nbformat": 4,
 "nbformat_minor": 2
}
