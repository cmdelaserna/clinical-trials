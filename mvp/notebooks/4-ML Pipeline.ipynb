{
 "cells": [
  {
   "cell_type": "markdown",
   "metadata": {},
   "source": [
    "# Clinical trials: ML Pipeline\n"
   ]
  },
  {
   "cell_type": "code",
   "execution_count": 1,
   "metadata": {},
   "outputs": [],
   "source": [
    "import time\n",
    "import json\n",
    "import os\n",
    "import pandas as pd\n",
    "import matplotlib.pyplot as plt\n",
    "import sys\n",
    "import numpy as np"
   ]
  },
  {
   "cell_type": "code",
   "execution_count": 2,
   "metadata": {},
   "outputs": [],
   "source": [
    "base_color = \"#3298D0\"\n",
    "plot_size = (14, 10)\n",
    "\n",
    "# sys.stdout = open('/dev/stdout', 'w')"
   ]
  },
  {
   "cell_type": "code",
   "execution_count": 3,
   "metadata": {},
   "outputs": [],
   "source": [
    "# Path for csv folder & file\n",
    "path_to_csv_file = os.path.abspath('../data/csv/')\n",
    "\n",
    "# json file\n",
    "csv_file = '/clean_data'"
   ]
  },
  {
   "cell_type": "markdown",
   "metadata": {},
   "source": [
    "## Import csv file"
   ]
  },
  {
   "cell_type": "code",
   "execution_count": 4,
   "metadata": {},
   "outputs": [],
   "source": [
    "# Import json into a dataframe\n",
    "clean_csv_file = '{}{}.csv'.format(path_to_csv_file, csv_file)"
   ]
  },
  {
   "cell_type": "code",
   "execution_count": 5,
   "metadata": {},
   "outputs": [],
   "source": [
    "'''Use dask to improve data loading\n",
    "https://www.kaggle.com/shikhar1/yet-another-pandas-tutorial'''\n",
    "\n",
    "# breaks with large json file\n",
    "df = pd.read_csv(clean_csv_file)"
   ]
  },
  {
   "cell_type": "code",
   "execution_count": 6,
   "metadata": {},
   "outputs": [
    {
     "data": {
      "text/plain": [
       "(292311, 10)"
      ]
     },
     "execution_count": 6,
     "metadata": {},
     "output_type": "execute_result"
    }
   ],
   "source": [
    "df.shape"
   ]
  },
  {
   "cell_type": "code",
   "execution_count": 7,
   "metadata": {},
   "outputs": [
    {
     "data": {
      "text/html": [
       "<div>\n",
       "<style scoped>\n",
       "    .dataframe tbody tr th:only-of-type {\n",
       "        vertical-align: middle;\n",
       "    }\n",
       "\n",
       "    .dataframe tbody tr th {\n",
       "        vertical-align: top;\n",
       "    }\n",
       "\n",
       "    .dataframe thead th {\n",
       "        text-align: right;\n",
       "    }\n",
       "</style>\n",
       "<table border=\"1\" class=\"dataframe\">\n",
       "  <thead>\n",
       "    <tr style=\"text-align: right;\">\n",
       "      <th></th>\n",
       "      <th>Unnamed: 0</th>\n",
       "      <th>id</th>\n",
       "      <th>submission_date</th>\n",
       "      <th>source</th>\n",
       "      <th>brief_title</th>\n",
       "      <th>condition</th>\n",
       "      <th>full_description</th>\n",
       "      <th>summary</th>\n",
       "      <th>full_date</th>\n",
       "      <th>year</th>\n",
       "    </tr>\n",
       "  </thead>\n",
       "  <tbody>\n",
       "    <tr>\n",
       "      <th>0</th>\n",
       "      <td>153887</td>\n",
       "      <td>NCT00004639</td>\n",
       "      <td>September 17, 1999</td>\n",
       "      <td>University of Florida</td>\n",
       "      <td>Cleft Palate Surgery and Speech Development</td>\n",
       "      <td>Cleft Lip</td>\n",
       "      <td>This study is conducted with patients w...</td>\n",
       "      <td>Compare the outcome of two primary surg...</td>\n",
       "      <td>1999-09-17</td>\n",
       "      <td>1999</td>\n",
       "    </tr>\n",
       "    <tr>\n",
       "      <th>1</th>\n",
       "      <td>46938</td>\n",
       "      <td>NCT00004640</td>\n",
       "      <td>September 17, 1999</td>\n",
       "      <td>University of Washington</td>\n",
       "      <td>\"Clinical Trials to Enhance Elders' Oral Healt...</td>\n",
       "      <td>Tooth Loss</td>\n",
       "      <td>\"TEETH\" is a double-blinded, randomized...</td>\n",
       "      <td>The purpose of this study is to determi...</td>\n",
       "      <td>1999-09-17</td>\n",
       "      <td>1999</td>\n",
       "    </tr>\n",
       "    <tr>\n",
       "      <th>2</th>\n",
       "      <td>182804</td>\n",
       "      <td>NCT00000267</td>\n",
       "      <td>September 20, 1999</td>\n",
       "      <td>National Institute on Drug Abuse (NIDA)</td>\n",
       "      <td>Risperidone Treatment in Dually-Diagnosed Indi...</td>\n",
       "      <td>Cocaine-Related Disorders</td>\n",
       "      <td>None</td>\n",
       "      <td>The purpose of this study is to evaluat...</td>\n",
       "      <td>1999-09-20</td>\n",
       "      <td>1999</td>\n",
       "    </tr>\n",
       "    <tr>\n",
       "      <th>3</th>\n",
       "      <td>73402</td>\n",
       "      <td>NCT00000244</td>\n",
       "      <td>September 20, 1999</td>\n",
       "      <td>University of Minnesota - Clinical and Transla...</td>\n",
       "      <td>Effects of Dynorphin 1-13 on Heroin Addiction - 1</td>\n",
       "      <td>Opioid-Related Disorders</td>\n",
       "      <td>Randomized double blinded study of the ...</td>\n",
       "      <td>The purpose of this study is to evaluat...</td>\n",
       "      <td>1999-09-20</td>\n",
       "      <td>1999</td>\n",
       "    </tr>\n",
       "    <tr>\n",
       "      <th>4</th>\n",
       "      <td>73336</td>\n",
       "      <td>NCT00000250</td>\n",
       "      <td>September 20, 1999</td>\n",
       "      <td>University of Chicago</td>\n",
       "      <td>Cold Water Immersion Modulates Reinforcing Eff...</td>\n",
       "      <td>Opioid-Related Disorders</td>\n",
       "      <td>None</td>\n",
       "      <td>The purpose of this study is to conduct...</td>\n",
       "      <td>1999-09-20</td>\n",
       "      <td>1999</td>\n",
       "    </tr>\n",
       "  </tbody>\n",
       "</table>\n",
       "</div>"
      ],
      "text/plain": [
       "   Unnamed: 0           id     submission_date  \\\n",
       "0      153887  NCT00004639  September 17, 1999   \n",
       "1       46938  NCT00004640  September 17, 1999   \n",
       "2      182804  NCT00000267  September 20, 1999   \n",
       "3       73402  NCT00000244  September 20, 1999   \n",
       "4       73336  NCT00000250  September 20, 1999   \n",
       "\n",
       "                                              source  \\\n",
       "0                              University of Florida   \n",
       "1                           University of Washington   \n",
       "2            National Institute on Drug Abuse (NIDA)   \n",
       "3  University of Minnesota - Clinical and Transla...   \n",
       "4                              University of Chicago   \n",
       "\n",
       "                                         brief_title  \\\n",
       "0        Cleft Palate Surgery and Speech Development   \n",
       "1  \"Clinical Trials to Enhance Elders' Oral Healt...   \n",
       "2  Risperidone Treatment in Dually-Diagnosed Indi...   \n",
       "3  Effects of Dynorphin 1-13 on Heroin Addiction - 1   \n",
       "4  Cold Water Immersion Modulates Reinforcing Eff...   \n",
       "\n",
       "                   condition  \\\n",
       "0                  Cleft Lip   \n",
       "1                 Tooth Loss   \n",
       "2  Cocaine-Related Disorders   \n",
       "3   Opioid-Related Disorders   \n",
       "4   Opioid-Related Disorders   \n",
       "\n",
       "                                    full_description  \\\n",
       "0         This study is conducted with patients w...   \n",
       "1         \"TEETH\" is a double-blinded, randomized...   \n",
       "2                                               None   \n",
       "3         Randomized double blinded study of the ...   \n",
       "4                                               None   \n",
       "\n",
       "                                             summary   full_date  year  \n",
       "0         Compare the outcome of two primary surg...  1999-09-17  1999  \n",
       "1         The purpose of this study is to determi...  1999-09-17  1999  \n",
       "2         The purpose of this study is to evaluat...  1999-09-20  1999  \n",
       "3         The purpose of this study is to evaluat...  1999-09-20  1999  \n",
       "4         The purpose of this study is to conduct...  1999-09-20  1999  "
      ]
     },
     "execution_count": 7,
     "metadata": {},
     "output_type": "execute_result"
    }
   ],
   "source": [
    "df.head()"
   ]
  },
  {
   "cell_type": "code",
   "execution_count": 10,
   "metadata": {},
   "outputs": [],
   "source": [
    "# remove Unnamed column\n",
    "df = df.drop(columns = ['Unnamed: 0'])\n",
    "df = df.drop(columns = ['submission_date'])"
   ]
  },
  {
   "cell_type": "code",
   "execution_count": 11,
   "metadata": {},
   "outputs": [
    {
     "data": {
      "text/plain": [
       "Index(['id', 'source', 'brief_title', 'condition', 'full_description',\n",
       "       'summary', 'full_date', 'year'],\n",
       "      dtype='object')"
      ]
     },
     "execution_count": 11,
     "metadata": {},
     "output_type": "execute_result"
    }
   ],
   "source": [
    "df.columns"
   ]
  },
  {
   "cell_type": "markdown",
   "metadata": {},
   "source": [
    "## Optimize memory usage"
   ]
  },
  {
   "cell_type": "code",
   "execution_count": 12,
   "metadata": {},
   "outputs": [
    {
     "name": "stdout",
     "output_type": "stream",
     "text": [
      "Index                      80\n",
      "id                   19877148\n",
      "source               25074554\n",
      "brief_title          42416130\n",
      "condition            22395698\n",
      "full_description    476481119\n",
      "summary             220097905\n",
      "full_date            19584837\n",
      "year                  2338488\n",
      "dtype: int64\n",
      "<class 'pandas.core.frame.DataFrame'>\n",
      "RangeIndex: 292311 entries, 0 to 292310\n",
      "Data columns (total 8 columns):\n",
      "id                  292311 non-null object\n",
      "source              292311 non-null object\n",
      "brief_title         292311 non-null object\n",
      "condition           292311 non-null object\n",
      "full_description    292311 non-null object\n",
      "summary             292311 non-null object\n",
      "full_date           292311 non-null object\n",
      "year                292311 non-null int64\n",
      "dtypes: int64(1), object(7)\n",
      "memory usage: 17.8+ MB\n"
     ]
    }
   ],
   "source": [
    "print(df.memory_usage(deep=True))\n",
    "df.info(verbose=True)"
   ]
  },
  {
   "cell_type": "code",
   "execution_count": 10,
   "metadata": {},
   "outputs": [],
   "source": [
    "# Change data types\n",
    "df['id'] = df['id'].astype('str')\n",
    "for col in ['source', 'condition']:\n",
    "    df[col] = df[col].astype('category')"
   ]
  },
  {
   "cell_type": "code",
   "execution_count": 11,
   "metadata": {},
   "outputs": [],
   "source": [
    "df['full_date'] =  pd.to_datetime(df['full_date'])"
   ]
  },
  {
   "cell_type": "code",
   "execution_count": 12,
   "metadata": {},
   "outputs": [
    {
     "name": "stdout",
     "output_type": "stream",
     "text": [
      "Index                    80\n",
      "id                    68000\n",
      "source                80312\n",
      "brief_title          144719\n",
      "condition             77657\n",
      "full_description    1613753\n",
      "summary              756582\n",
      "full_date              8000\n",
      "year                   8000\n",
      "dtype: int64\n",
      "<class 'pandas.core.frame.DataFrame'>\n",
      "RangeIndex: 1000 entries, 0 to 999\n",
      "Data columns (total 8 columns):\n",
      "id                  1000 non-null object\n",
      "source              1000 non-null category\n",
      "brief_title         1000 non-null object\n",
      "condition           1000 non-null category\n",
      "full_description    1000 non-null object\n",
      "summary             1000 non-null object\n",
      "full_date           1000 non-null datetime64[ns]\n",
      "year                1000 non-null int64\n",
      "dtypes: category(2), datetime64[ns](1), int64(1), object(4)\n",
      "memory usage: 101.5+ KB\n"
     ]
    }
   ],
   "source": [
    "print(df.memory_usage(deep=True))\n",
    "df.info(verbose=True)"
   ]
  },
  {
   "cell_type": "code",
   "execution_count": 13,
   "metadata": {},
   "outputs": [
    {
     "name": "stdout",
     "output_type": "stream",
     "text": [
      "(1000, 8)\n",
      "id                  1000\n",
      "source               662\n",
      "brief_title          999\n",
      "condition            703\n",
      "full_description     665\n",
      "summary              999\n",
      "full_date            862\n",
      "year                  20\n",
      "dtype: int64\n"
     ]
    }
   ],
   "source": [
    "print(df.shape)\n",
    "print(df.nunique())"
   ]
  },
  {
   "cell_type": "markdown",
   "metadata": {},
   "source": [
    "## List of conditions\n",
    "- ftp://ftp.cdc.gov/pub/Health_Statistics/NCHS/Publications/ICD10CM/2019/"
   ]
  },
  {
   "cell_type": "code",
   "execution_count": 14,
   "metadata": {},
   "outputs": [],
   "source": [
    "import xml.etree.ElementTree as ET"
   ]
  },
  {
   "cell_type": "code",
   "execution_count": 15,
   "metadata": {},
   "outputs": [
    {
     "name": "stdout",
     "output_type": "stream",
     "text": [
      "['icd10cm_tabular_2019.xml']\n"
     ]
    }
   ],
   "source": [
    "list_conditions = '../data/icd10/'\n",
    "\n",
    "conditions = []\n",
    "\n",
    "for xml in os.listdir(list_conditions):\n",
    "    conditions.append(xml)\n",
    "\n",
    "print(conditions)"
   ]
  },
  {
   "cell_type": "code",
   "execution_count": 16,
   "metadata": {},
   "outputs": [
    {
     "name": "stdout",
     "output_type": "stream",
     "text": [
      "Parsed: icd10cm_tabular_2019.xml\n",
      "\n"
     ]
    }
   ],
   "source": [
    "icd = list_conditions + conditions[0] #full path\n",
    "tree = ET.parse(icd).getroot()\n",
    "print('Parsed: {}\\n'.format(conditions[0]))"
   ]
  },
  {
   "cell_type": "code",
   "execution_count": 17,
   "metadata": {},
   "outputs": [
    {
     "data": {
      "text/plain": [
       "44803"
      ]
     },
     "execution_count": 17,
     "metadata": {},
     "output_type": "execute_result"
    }
   ],
   "source": [
    "#Save titles from xml file in a list\n",
    "all_conditions = []\n",
    "    \n",
    "for i in tree.iter('desc'):\n",
    "    all_conditions.append(i.text)\n",
    "    \n",
    "len(all_conditions)"
   ]
  },
  {
   "cell_type": "code",
   "execution_count": 18,
   "metadata": {},
   "outputs": [
    {
     "data": {
      "text/plain": [
       "6163"
      ]
     },
     "execution_count": 18,
     "metadata": {},
     "output_type": "execute_result"
    }
   ],
   "source": [
    "# Remove long names\n",
    "result = []\n",
    "\n",
    "def count_words_list(words,size):\n",
    "    for w in words:\n",
    "        if len(w.split())<=size:\n",
    "            result.append(w)\n",
    "    return result\n",
    "\n",
    "count_words_list(all_conditions, 3)\n",
    "len(result)"
   ]
  },
  {
   "cell_type": "code",
   "execution_count": 19,
   "metadata": {},
   "outputs": [],
   "source": [
    "# clean conditions dataset\n",
    "all_conditions = [w.replace('unspecified', '') for w in all_conditions]\n",
    "all_conditions = [w.replace(',', '') for w in all_conditions]"
   ]
  },
  {
   "cell_type": "code",
   "execution_count": 20,
   "metadata": {},
   "outputs": [
    {
     "data": {
      "text/plain": [
       "6088"
      ]
     },
     "execution_count": 20,
     "metadata": {},
     "output_type": "execute_result"
    }
   ],
   "source": [
    "# Eliminate duplicated records\n",
    "all_conditions = list(set(result))\n",
    "len(all_conditions)"
   ]
  },
  {
   "cell_type": "markdown",
   "metadata": {},
   "source": [
    "## Classify docs using a list of conditions"
   ]
  },
  {
   "cell_type": "code",
   "execution_count": 21,
   "metadata": {},
   "outputs": [],
   "source": [
    "# Create a column with all text\n",
    "df['text'] = df['brief_title'] + df['summary'] + df['full_description']"
   ]
  },
  {
   "cell_type": "code",
   "execution_count": 22,
   "metadata": {},
   "outputs": [],
   "source": [
    "# Clean extra blank spaces\n",
    "df.text = df.text.replace('\\s+', ' ', regex=True)"
   ]
  },
  {
   "cell_type": "markdown",
   "metadata": {},
   "source": [
    "### Check for values in conditions list"
   ]
  },
  {
   "cell_type": "code",
   "execution_count": 23,
   "metadata": {},
   "outputs": [],
   "source": [
    "# Create dataframe to store vocabulary\n",
    "vocabulary_conditions = pd.DataFrame()"
   ]
  },
  {
   "cell_type": "code",
   "execution_count": null,
   "metadata": {},
   "outputs": [],
   "source": [
    "# PENDING: faster function\n",
    "# https://stackoverflow.com/questions/44960614/whats-the-fastest-way-to-acces-a-pandas-dataframe\n",
    "for term in all_conditions:\n",
    "    try:\n",
    "        vocabulary_conditions[term] = df['text'].str.contains(term, case = False).astype(int)\n",
    "        print(term)\n",
    "    except:\n",
    "        pass\n",
    "              "
   ]
  },
  {
   "cell_type": "code",
   "execution_count": null,
   "metadata": {},
   "outputs": [],
   "source": [
    "vocabulary_conditions.info()\n",
    "#463 Mb file"
   ]
  },
  {
   "cell_type": "code",
   "execution_count": null,
   "metadata": {},
   "outputs": [],
   "source": [
    "# Discard columns above a treshold\n",
    "vocabulary_conditions.describe()"
   ]
  },
  {
   "cell_type": "markdown",
   "metadata": {},
   "source": [
    "## ML Pipeline"
   ]
  },
  {
   "cell_type": "markdown",
   "metadata": {},
   "source": [
    "### DF transformations\n",
    "- Check which ones can be added to the preprocessor\n",
    "- Info: http://www.ultravioletanalytics.com/blog/tf-idf-basics-with-pandas-scikit-learn"
   ]
  },
  {
   "cell_type": "code",
   "execution_count": null,
   "metadata": {},
   "outputs": [],
   "source": [
    "# Create a column combining title + full description\n",
    "df['text'] = df['brief_title'] + df['summary'] + df['full_description']"
   ]
  },
  {
   "cell_type": "code",
   "execution_count": null,
   "metadata": {},
   "outputs": [],
   "source": [
    "# Clean extra blank spaces\n",
    "df.text = df.text.replace('\\s+', ' ', regex=True)"
   ]
  },
  {
   "cell_type": "markdown",
   "metadata": {},
   "source": [
    "### CountVectorizer"
   ]
  },
  {
   "cell_type": "code",
   "execution_count": null,
   "metadata": {},
   "outputs": [],
   "source": [
    "from sklearn.feature_extraction.text import CountVectorizer\n",
    "import re"
   ]
  },
  {
   "cell_type": "code",
   "execution_count": null,
   "metadata": {},
   "outputs": [],
   "source": [
    "pat_numbers = lambda x: re.sub(r'(\\d)+', '', x.lower())\n",
    "\n",
    "cv = CountVectorizer(stop_words='english',\n",
    "                     preprocessor = pat_numbers,\n",
    "                     max_features = 3000,\n",
    "                     lowercase = True,\n",
    "                     max_df = 0.5,\n",
    "                     ngram_range = (1, 3))"
   ]
  },
  {
   "cell_type": "code",
   "execution_count": null,
   "metadata": {},
   "outputs": [],
   "source": [
    "docs = list(df['full_description'])\n",
    "\n",
    "X = cv.fit_transform(docs)"
   ]
  },
  {
   "cell_type": "code",
   "execution_count": null,
   "metadata": {},
   "outputs": [],
   "source": [
    "len(cv.vocabulary_)"
   ]
  },
  {
   "cell_type": "code",
   "execution_count": null,
   "metadata": {},
   "outputs": [],
   "source": [
    "cv.vocabulary_"
   ]
  },
  {
   "cell_type": "code",
   "execution_count": null,
   "metadata": {},
   "outputs": [],
   "source": [
    "# Check for values in dictionary\n",
    "if 'breast cancer' in list(cv.vocabulary_):\n",
    "  print('yes')\n",
    "else:\n",
    "  print('no')"
   ]
  },
  {
   "cell_type": "code",
   "execution_count": null,
   "metadata": {},
   "outputs": [],
   "source": [
    "pd.DataFrame(X.toarray(), columns=cv.get_feature_names()).head()"
   ]
  },
  {
   "cell_type": "markdown",
   "metadata": {},
   "source": [
    "### TF-IDF"
   ]
  },
  {
   "cell_type": "code",
   "execution_count": null,
   "metadata": {},
   "outputs": [],
   "source": [
    "from sklearn.feature_extraction.text import TfidfTransformer"
   ]
  },
  {
   "cell_type": "code",
   "execution_count": null,
   "metadata": {},
   "outputs": [],
   "source": [
    "transformer = TfidfTransformer()\n",
    "tweights = transformer.fit_transform(X)\n",
    "tweights"
   ]
  },
  {
   "cell_type": "code",
   "execution_count": null,
   "metadata": {},
   "outputs": [],
   "source": [
    "# Pending: Reduced dimensionality\n",
    "\n"
   ]
  },
  {
   "cell_type": "code",
   "execution_count": null,
   "metadata": {},
   "outputs": [],
   "source": [
    "# turn weights data into a dataframe\n",
    "tf = pd.DataFrame(tweights.toarray(), columns=cv.get_feature_names())"
   ]
  },
  {
   "cell_type": "code",
   "execution_count": null,
   "metadata": {},
   "outputs": [],
   "source": [
    "# Top terms by average tf-idf weight\n",
    "weights = np.asarray(tweights.mean(axis=0)).ravel().tolist()\n",
    "weights_df = pd.DataFrame({'term': cv.get_feature_names(), 'weight': weights})\n",
    "weights_df.sort_values(by='weight', ascending=False).head(5)"
   ]
  },
  {
   "cell_type": "code",
   "execution_count": null,
   "metadata": {},
   "outputs": [],
   "source": [
    "# Check word\n",
    "def check_weight(word):\n",
    "    for w in word:\n",
    "        try:\n",
    "            print('{}: {}'.format(w, tf[w].mean()))\n",
    "        except KeyError:\n",
    "            print('{}: None'.format(w))\n",
    "\n",
    "search_terms = ['cancer', 'breast cancer', 'migraine', 'sarcoma']\n",
    "check_weight(search_terms)"
   ]
  },
  {
   "cell_type": "code",
   "execution_count": null,
   "metadata": {},
   "outputs": [],
   "source": [
    "# Merge df y tf-idf data by index\n",
    "pd.set_option('display.max_columns', None) \n",
    "tf.sample(5)\n",
    "# pd.merge(df, tf, left_index=True, right_index=True).sample(1)"
   ]
  },
  {
   "cell_type": "markdown",
   "metadata": {},
   "source": [
    "### Topic Modeling\n",
    "- https://nlpforhackers.io/topic-modeling/"
   ]
  },
  {
   "cell_type": "code",
   "execution_count": null,
   "metadata": {},
   "outputs": [],
   "source": []
  },
  {
   "cell_type": "markdown",
   "metadata": {},
   "source": [
    "### Test: Using Tensorflow \n",
    "- https://github.com/open-source-for-science/TensorFlow-Course?utm_campaign=explore-email&utm_medium=email&utm_source=newsletter&utm_term=weekly"
   ]
  },
  {
   "cell_type": "code",
   "execution_count": null,
   "metadata": {},
   "outputs": [],
   "source": []
  }
 ],
 "metadata": {
  "kernelspec": {
   "display_name": "Python 3",
   "language": "python",
   "name": "python3"
  },
  "language_info": {
   "codemirror_mode": {
    "name": "ipython",
    "version": 3
   },
   "file_extension": ".py",
   "mimetype": "text/x-python",
   "name": "python",
   "nbconvert_exporter": "python",
   "pygments_lexer": "ipython3",
   "version": "3.7.0"
  }
 },
 "nbformat": 4,
 "nbformat_minor": 2
}
