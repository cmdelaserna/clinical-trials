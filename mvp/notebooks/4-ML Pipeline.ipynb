{
 "cells": [
  {
   "cell_type": "markdown",
   "metadata": {},
   "source": [
    "# Clinical trials: ML Pipeline\n"
   ]
  },
  {
   "cell_type": "code",
   "execution_count": 1,
   "metadata": {},
   "outputs": [],
   "source": [
    "import time\n",
    "import json\n",
    "import os\n",
    "import pandas as pd\n",
    "import matplotlib.pyplot as plt\n",
    "import sys\n",
    "import numpy as np"
   ]
  },
  {
   "cell_type": "code",
   "execution_count": 2,
   "metadata": {},
   "outputs": [],
   "source": [
    "base_color = \"#3298D0\"\n",
    "plot_size = (14, 10)\n",
    "\n",
    "# sys.stdout = open('/dev/stdout', 'w')"
   ]
  },
  {
   "cell_type": "code",
   "execution_count": 3,
   "metadata": {},
   "outputs": [],
   "source": [
    "# Path for csv folder & file\n",
    "path_to_csv_file = os.path.abspath('../data/csv/')\n",
    "\n",
    "# json file\n",
    "csv_file = '/clean_data'"
   ]
  },
  {
   "cell_type": "markdown",
   "metadata": {},
   "source": [
    "## Import csv file"
   ]
  },
  {
   "cell_type": "code",
   "execution_count": 4,
   "metadata": {},
   "outputs": [],
   "source": [
    "# Import json into a dataframe\n",
    "clean_csv_file = '{}{}.csv'.format(path_to_csv_file, csv_file)"
   ]
  },
  {
   "cell_type": "code",
   "execution_count": 5,
   "metadata": {},
   "outputs": [],
   "source": [
    "'''Use dask to improve data loading\n",
    "https://www.kaggle.com/shikhar1/yet-another-pandas-tutorial'''\n",
    "\n",
    "# breaks with large json file\n",
    "df = pd.read_csv(clean_csv_file)"
   ]
  },
  {
   "cell_type": "code",
   "execution_count": 6,
   "metadata": {},
   "outputs": [
    {
     "data": {
      "text/html": [
       "<div>\n",
       "<style scoped>\n",
       "    .dataframe tbody tr th:only-of-type {\n",
       "        vertical-align: middle;\n",
       "    }\n",
       "\n",
       "    .dataframe tbody tr th {\n",
       "        vertical-align: top;\n",
       "    }\n",
       "\n",
       "    .dataframe thead th {\n",
       "        text-align: right;\n",
       "    }\n",
       "</style>\n",
       "<table border=\"1\" class=\"dataframe\">\n",
       "  <thead>\n",
       "    <tr style=\"text-align: right;\">\n",
       "      <th></th>\n",
       "      <th>Unnamed: 0</th>\n",
       "      <th>id</th>\n",
       "      <th>source</th>\n",
       "      <th>brief_title</th>\n",
       "      <th>condition</th>\n",
       "      <th>mesh_term_condition</th>\n",
       "      <th>mesh_term_intervention</th>\n",
       "      <th>full_description</th>\n",
       "      <th>summary</th>\n",
       "      <th>city</th>\n",
       "      <th>country</th>\n",
       "      <th>zip</th>\n",
       "      <th>full_date</th>\n",
       "      <th>year</th>\n",
       "    </tr>\n",
       "  </thead>\n",
       "  <tbody>\n",
       "    <tr>\n",
       "      <th>184577</th>\n",
       "      <td>184931</td>\n",
       "      <td>NCT02352441</td>\n",
       "      <td>Allina Health System</td>\n",
       "      <td>Cognitive Rehabilitation:ACTION Training for S...</td>\n",
       "      <td>Traumatic Brain Injury</td>\n",
       "      <td>Brain Injuries</td>\n",
       "      <td>None</td>\n",
       "      <td>The primary aims of this feasibility st...</td>\n",
       "      <td>Many Service members (SM) experience ex...</td>\n",
       "      <td>Fort Campbell North</td>\n",
       "      <td>United States</td>\n",
       "      <td>42223</td>\n",
       "      <td>2015-01-23</td>\n",
       "      <td>2015</td>\n",
       "    </tr>\n",
       "    <tr>\n",
       "      <th>276266</th>\n",
       "      <td>228016</td>\n",
       "      <td>NCT03541304</td>\n",
       "      <td>Sun Yat-sen University</td>\n",
       "      <td>High Dose Radiotherapy for the Treatment of Re...</td>\n",
       "      <td>Rectal Cancer</td>\n",
       "      <td>Rectal Neoplasms</td>\n",
       "      <td>None</td>\n",
       "      <td>None</td>\n",
       "      <td>While surgery remains the standard trea...</td>\n",
       "      <td>Guangzhou</td>\n",
       "      <td>China</td>\n",
       "      <td>510060</td>\n",
       "      <td>2018-05-18</td>\n",
       "      <td>2018</td>\n",
       "    </tr>\n",
       "    <tr>\n",
       "      <th>228075</th>\n",
       "      <td>15412</td>\n",
       "      <td>NCT02914730</td>\n",
       "      <td>Joslin Diabetes Center</td>\n",
       "      <td>Insulin Dosing Practices in Persons With Diabe...</td>\n",
       "      <td>Diabetes</td>\n",
       "      <td>None</td>\n",
       "      <td>None</td>\n",
       "      <td>None</td>\n",
       "      <td>In this cross-sectional study the inves...</td>\n",
       "      <td>Boston</td>\n",
       "      <td>United States</td>\n",
       "      <td>02215</td>\n",
       "      <td>2016-09-22</td>\n",
       "      <td>2016</td>\n",
       "    </tr>\n",
       "    <tr>\n",
       "      <th>2889</th>\n",
       "      <td>16871</td>\n",
       "      <td>NCT00001851</td>\n",
       "      <td>National Institutes of Health Clinical Center ...</td>\n",
       "      <td>Bone Marrow Injection to Replace Diseased Bone...</td>\n",
       "      <td>Polyostotic Fibrous Dysplasia</td>\n",
       "      <td>Fibrous Dysplasia, Polyostotic</td>\n",
       "      <td>None</td>\n",
       "      <td>Polyostotic fibrous dysplasia (PFD) is ...</td>\n",
       "      <td>This study will evaluate the effectiven...</td>\n",
       "      <td>Bethesda</td>\n",
       "      <td>United States</td>\n",
       "      <td>20892</td>\n",
       "      <td>1999-11-03</td>\n",
       "      <td>1999</td>\n",
       "    </tr>\n",
       "    <tr>\n",
       "      <th>54459</th>\n",
       "      <td>87020</td>\n",
       "      <td>NCT00672113</td>\n",
       "      <td>Bayer</td>\n",
       "      <td>Effects of Adalat LA and Coracten on Drug Leve...</td>\n",
       "      <td>Hypertension</td>\n",
       "      <td>Hypertension</td>\n",
       "      <td>Nifedipine</td>\n",
       "      <td>None</td>\n",
       "      <td>This study compares the effect of Adala...</td>\n",
       "      <td>Cambridge</td>\n",
       "      <td>United Kingdom</td>\n",
       "      <td>CB2 2XY</td>\n",
       "      <td>2008-04-16</td>\n",
       "      <td>2008</td>\n",
       "    </tr>\n",
       "    <tr>\n",
       "      <th>32705</th>\n",
       "      <td>263311</td>\n",
       "      <td>NCT00376272</td>\n",
       "      <td>Gruppo di Ricerca GISSI</td>\n",
       "      <td>GISSI-AF - Use of Valsartan an Angiotensin II ...</td>\n",
       "      <td>Atrial Fibrillation</td>\n",
       "      <td>Atrial Fibrillation</td>\n",
       "      <td>Valsartan</td>\n",
       "      <td>The protocol is sponsored by an indepen...</td>\n",
       "      <td>Study purpose The purpose of the study ...</td>\n",
       "      <td>Cortona</td>\n",
       "      <td>Italy</td>\n",
       "      <td>52040</td>\n",
       "      <td>2006-09-12</td>\n",
       "      <td>2006</td>\n",
       "    </tr>\n",
       "    <tr>\n",
       "      <th>238773</th>\n",
       "      <td>234723</td>\n",
       "      <td>NCT03054662</td>\n",
       "      <td>Cliniques universitaires Saint-Luc- Université...</td>\n",
       "      <td>Non Substitutive Strategies to Improve Haemoph...</td>\n",
       "      <td>Haemophilia</td>\n",
       "      <td>Hemophilia A</td>\n",
       "      <td>Hemostatics</td>\n",
       "      <td>1. Establish a baseline of the conditio...</td>\n",
       "      <td>This study aims to make an inventory of...</td>\n",
       "      <td>Abidjan</td>\n",
       "      <td>Côte D'Ivoire</td>\n",
       "      <td>None</td>\n",
       "      <td>2017-02-13</td>\n",
       "      <td>2017</td>\n",
       "    </tr>\n",
       "    <tr>\n",
       "      <th>162178</th>\n",
       "      <td>223876</td>\n",
       "      <td>NCT02077595</td>\n",
       "      <td>Chang Gung University</td>\n",
       "      <td>Effects of Transcutaneous Electrical Nerve Sti...</td>\n",
       "      <td>Transcutaneous Electrical Nerve Stimulation</td>\n",
       "      <td>None</td>\n",
       "      <td>None</td>\n",
       "      <td>None</td>\n",
       "      <td>Recently, non-invasive brain stimulatio...</td>\n",
       "      <td>Taoyuan</td>\n",
       "      <td>Taiwan</td>\n",
       "      <td>333</td>\n",
       "      <td>2014-02-11</td>\n",
       "      <td>2014</td>\n",
       "    </tr>\n",
       "    <tr>\n",
       "      <th>148279</th>\n",
       "      <td>154214</td>\n",
       "      <td>NCT01888432</td>\n",
       "      <td>Novartis</td>\n",
       "      <td>Efficacy and Safety of Everolimus in Liver Tra...</td>\n",
       "      <td>Liver Transplantation</td>\n",
       "      <td>None</td>\n",
       "      <td>Tacrolimus</td>\n",
       "      <td>This study was 24 month, multicenter st...</td>\n",
       "      <td>The purpose of this trial wa to demonst...</td>\n",
       "      <td>Los Angeles</td>\n",
       "      <td>United States</td>\n",
       "      <td>90033</td>\n",
       "      <td>2013-06-15</td>\n",
       "      <td>2013</td>\n",
       "    </tr>\n",
       "    <tr>\n",
       "      <th>67518</th>\n",
       "      <td>58123</td>\n",
       "      <td>NCT00850096</td>\n",
       "      <td>CPEX Pharmaceuticals Inc.</td>\n",
       "      <td>Effects of Nasulin Versus Placebo on Blood Glu...</td>\n",
       "      <td>Type 2 Diabetes</td>\n",
       "      <td>Diabetes Mellitus, Type 2</td>\n",
       "      <td>Insulin, Globin Zinc</td>\n",
       "      <td>This proof of concept trial has a rando...</td>\n",
       "      <td>The purpose of this study is:          ...</td>\n",
       "      <td>Chandler</td>\n",
       "      <td>United States</td>\n",
       "      <td>85225</td>\n",
       "      <td>2009-01-30</td>\n",
       "      <td>2009</td>\n",
       "    </tr>\n",
       "  </tbody>\n",
       "</table>\n",
       "</div>"
      ],
      "text/plain": [
       "        Unnamed: 0           id  \\\n",
       "184577      184931  NCT02352441   \n",
       "276266      228016  NCT03541304   \n",
       "228075       15412  NCT02914730   \n",
       "2889         16871  NCT00001851   \n",
       "54459        87020  NCT00672113   \n",
       "32705       263311  NCT00376272   \n",
       "238773      234723  NCT03054662   \n",
       "162178      223876  NCT02077595   \n",
       "148279      154214  NCT01888432   \n",
       "67518        58123  NCT00850096   \n",
       "\n",
       "                                                   source  \\\n",
       "184577                               Allina Health System   \n",
       "276266                             Sun Yat-sen University   \n",
       "228075                             Joslin Diabetes Center   \n",
       "2889    National Institutes of Health Clinical Center ...   \n",
       "54459                                               Bayer   \n",
       "32705                             Gruppo di Ricerca GISSI   \n",
       "238773  Cliniques universitaires Saint-Luc- Université...   \n",
       "162178                              Chang Gung University   \n",
       "148279                                           Novartis   \n",
       "67518                           CPEX Pharmaceuticals Inc.   \n",
       "\n",
       "                                              brief_title  \\\n",
       "184577  Cognitive Rehabilitation:ACTION Training for S...   \n",
       "276266  High Dose Radiotherapy for the Treatment of Re...   \n",
       "228075  Insulin Dosing Practices in Persons With Diabe...   \n",
       "2889    Bone Marrow Injection to Replace Diseased Bone...   \n",
       "54459   Effects of Adalat LA and Coracten on Drug Leve...   \n",
       "32705   GISSI-AF - Use of Valsartan an Angiotensin II ...   \n",
       "238773  Non Substitutive Strategies to Improve Haemoph...   \n",
       "162178  Effects of Transcutaneous Electrical Nerve Sti...   \n",
       "148279  Efficacy and Safety of Everolimus in Liver Tra...   \n",
       "67518   Effects of Nasulin Versus Placebo on Blood Glu...   \n",
       "\n",
       "                                          condition  \\\n",
       "184577                       Traumatic Brain Injury   \n",
       "276266                                Rectal Cancer   \n",
       "228075                                     Diabetes   \n",
       "2889                  Polyostotic Fibrous Dysplasia   \n",
       "54459                                  Hypertension   \n",
       "32705                           Atrial Fibrillation   \n",
       "238773                                  Haemophilia   \n",
       "162178  Transcutaneous Electrical Nerve Stimulation   \n",
       "148279                        Liver Transplantation   \n",
       "67518                               Type 2 Diabetes   \n",
       "\n",
       "                   mesh_term_condition mesh_term_intervention  \\\n",
       "184577                  Brain Injuries                   None   \n",
       "276266                Rectal Neoplasms                   None   \n",
       "228075                            None                   None   \n",
       "2889    Fibrous Dysplasia, Polyostotic                   None   \n",
       "54459                     Hypertension             Nifedipine   \n",
       "32705              Atrial Fibrillation              Valsartan   \n",
       "238773                    Hemophilia A            Hemostatics   \n",
       "162178                            None                   None   \n",
       "148279                            None             Tacrolimus   \n",
       "67518        Diabetes Mellitus, Type 2   Insulin, Globin Zinc   \n",
       "\n",
       "                                         full_description  \\\n",
       "184577         The primary aims of this feasibility st...   \n",
       "276266                                               None   \n",
       "228075                                               None   \n",
       "2889           Polyostotic fibrous dysplasia (PFD) is ...   \n",
       "54459                                                None   \n",
       "32705          The protocol is sponsored by an indepen...   \n",
       "238773         1. Establish a baseline of the conditio...   \n",
       "162178                                               None   \n",
       "148279         This study was 24 month, multicenter st...   \n",
       "67518          This proof of concept trial has a rando...   \n",
       "\n",
       "                                                  summary  \\\n",
       "184577         Many Service members (SM) experience ex...   \n",
       "276266         While surgery remains the standard trea...   \n",
       "228075         In this cross-sectional study the inves...   \n",
       "2889           This study will evaluate the effectiven...   \n",
       "54459          This study compares the effect of Adala...   \n",
       "32705          Study purpose The purpose of the study ...   \n",
       "238773         This study aims to make an inventory of...   \n",
       "162178         Recently, non-invasive brain stimulatio...   \n",
       "148279         The purpose of this trial wa to demonst...   \n",
       "67518          The purpose of this study is:          ...   \n",
       "\n",
       "                       city         country      zip   full_date  year  \n",
       "184577  Fort Campbell North   United States    42223  2015-01-23  2015  \n",
       "276266            Guangzhou           China   510060  2018-05-18  2018  \n",
       "228075               Boston   United States    02215  2016-09-22  2016  \n",
       "2889               Bethesda   United States    20892  1999-11-03  1999  \n",
       "54459             Cambridge  United Kingdom  CB2 2XY  2008-04-16  2008  \n",
       "32705               Cortona           Italy    52040  2006-09-12  2006  \n",
       "238773              Abidjan   Côte D'Ivoire     None  2017-02-13  2017  \n",
       "162178              Taoyuan          Taiwan      333  2014-02-11  2014  \n",
       "148279          Los Angeles   United States    90033  2013-06-15  2013  \n",
       "67518              Chandler   United States    85225  2009-01-30  2009  "
      ]
     },
     "execution_count": 6,
     "metadata": {},
     "output_type": "execute_result"
    }
   ],
   "source": [
    "df.sample(10)"
   ]
  },
  {
   "cell_type": "code",
   "execution_count": 7,
   "metadata": {},
   "outputs": [
    {
     "data": {
      "text/plain": [
       "(292311, 14)"
      ]
     },
     "execution_count": 7,
     "metadata": {},
     "output_type": "execute_result"
    }
   ],
   "source": [
    "df.shape"
   ]
  },
  {
   "cell_type": "code",
   "execution_count": 8,
   "metadata": {},
   "outputs": [
    {
     "data": {
      "text/plain": [
       "Index(['Unnamed: 0', 'id', 'source', 'brief_title', 'condition',\n",
       "       'mesh_term_condition', 'mesh_term_intervention', 'full_description',\n",
       "       'summary', 'city', 'country', 'zip', 'full_date', 'year'],\n",
       "      dtype='object')"
      ]
     },
     "execution_count": 8,
     "metadata": {},
     "output_type": "execute_result"
    }
   ],
   "source": [
    "df.columns"
   ]
  },
  {
   "cell_type": "code",
   "execution_count": 9,
   "metadata": {},
   "outputs": [],
   "source": [
    "# remove Unnamed column\n",
    "df = df.drop(columns = ['Unnamed: 0'])"
   ]
  },
  {
   "cell_type": "markdown",
   "metadata": {},
   "source": [
    "## Optimize memory usage"
   ]
  },
  {
   "cell_type": "code",
   "execution_count": 10,
   "metadata": {},
   "outputs": [
    {
     "name": "stdout",
     "output_type": "stream",
     "text": [
      "Index                            80\n",
      "id                         19877148\n",
      "source                     25074554\n",
      "brief_title                42416130\n",
      "condition                  22395698\n",
      "mesh_term_condition        20206540\n",
      "mesh_term_intervention     18946653\n",
      "full_description          476481119\n",
      "summary                   220097905\n",
      "city                       19067818\n",
      "country                    19413681\n",
      "zip                        18157364\n",
      "full_date                  19584837\n",
      "year                        2338488\n",
      "dtype: int64\n",
      "<class 'pandas.core.frame.DataFrame'>\n",
      "RangeIndex: 292311 entries, 0 to 292310\n",
      "Data columns (total 13 columns):\n",
      "id                        292311 non-null object\n",
      "source                    292311 non-null object\n",
      "brief_title               292311 non-null object\n",
      "condition                 292311 non-null object\n",
      "mesh_term_condition       292311 non-null object\n",
      "mesh_term_intervention    292311 non-null object\n",
      "full_description          292311 non-null object\n",
      "summary                   292311 non-null object\n",
      "city                      292311 non-null object\n",
      "country                   292311 non-null object\n",
      "zip                       292311 non-null object\n",
      "full_date                 292311 non-null object\n",
      "year                      292311 non-null int64\n",
      "dtypes: int64(1), object(12)\n",
      "memory usage: 29.0+ MB\n"
     ]
    }
   ],
   "source": [
    "print(df.memory_usage(deep=True))\n",
    "df.info(verbose=True)"
   ]
  },
  {
   "cell_type": "code",
   "execution_count": 11,
   "metadata": {},
   "outputs": [],
   "source": [
    "# Change data types\n",
    "df['id'] = df['id'].astype('str')\n",
    "for col in ['source', 'condition', 'city', 'country']:\n",
    "    df[col] = df[col].astype('category')"
   ]
  },
  {
   "cell_type": "code",
   "execution_count": 12,
   "metadata": {},
   "outputs": [],
   "source": [
    "df['full_date'] =  pd.to_datetime(df['full_date'])"
   ]
  },
  {
   "cell_type": "code",
   "execution_count": 13,
   "metadata": {},
   "outputs": [],
   "source": [
    "for col in ['zip', 'mesh_term_condition', 'mesh_term_intervention']:\n",
    "    df[col] = df[col].astype('str')"
   ]
  },
  {
   "cell_type": "code",
   "execution_count": 14,
   "metadata": {},
   "outputs": [
    {
     "name": "stdout",
     "output_type": "stream",
     "text": [
      "Index                            80\n",
      "id                         19877148\n",
      "source                      2874447\n",
      "brief_title                42416130\n",
      "condition                   6676111\n",
      "mesh_term_condition        20206540\n",
      "mesh_term_intervention     18946653\n",
      "full_description          476481119\n",
      "summary                   220097905\n",
      "city                        1723713\n",
      "country                      602746\n",
      "zip                        18157364\n",
      "full_date                   2338488\n",
      "year                        2338488\n",
      "dtype: int64\n",
      "<class 'pandas.core.frame.DataFrame'>\n",
      "RangeIndex: 292311 entries, 0 to 292310\n",
      "Data columns (total 13 columns):\n",
      "id                        292311 non-null object\n",
      "source                    292311 non-null category\n",
      "brief_title               292311 non-null object\n",
      "condition                 292311 non-null category\n",
      "mesh_term_condition       292311 non-null object\n",
      "mesh_term_intervention    292311 non-null object\n",
      "full_description          292311 non-null object\n",
      "summary                   292311 non-null object\n",
      "city                      292311 non-null category\n",
      "country                   292311 non-null category\n",
      "zip                       292311 non-null object\n",
      "full_date                 292311 non-null datetime64[ns]\n",
      "year                      292311 non-null int64\n",
      "dtypes: category(4), datetime64[ns](1), int64(1), object(7)\n",
      "memory usage: 25.7+ MB\n"
     ]
    }
   ],
   "source": [
    "print(df.memory_usage(deep=True))\n",
    "df.info(verbose=True)"
   ]
  },
  {
   "cell_type": "markdown",
   "metadata": {},
   "source": [
    "## Delete records before 2008"
   ]
  },
  {
   "cell_type": "code",
   "execution_count": 15,
   "metadata": {},
   "outputs": [],
   "source": [
    "# keep records since 2008\n",
    "df = df[df['year'] > 2007]"
   ]
  },
  {
   "cell_type": "code",
   "execution_count": 16,
   "metadata": {},
   "outputs": [
    {
     "data": {
      "text/html": [
       "<div>\n",
       "<style scoped>\n",
       "    .dataframe tbody tr th:only-of-type {\n",
       "        vertical-align: middle;\n",
       "    }\n",
       "\n",
       "    .dataframe tbody tr th {\n",
       "        vertical-align: top;\n",
       "    }\n",
       "\n",
       "    .dataframe thead th {\n",
       "        text-align: right;\n",
       "    }\n",
       "</style>\n",
       "<table border=\"1\" class=\"dataframe\">\n",
       "  <thead>\n",
       "    <tr style=\"text-align: right;\">\n",
       "      <th></th>\n",
       "      <th>id</th>\n",
       "      <th>source</th>\n",
       "      <th>brief_title</th>\n",
       "      <th>condition</th>\n",
       "      <th>mesh_term_condition</th>\n",
       "      <th>mesh_term_intervention</th>\n",
       "      <th>full_description</th>\n",
       "      <th>summary</th>\n",
       "      <th>city</th>\n",
       "      <th>country</th>\n",
       "      <th>zip</th>\n",
       "      <th>full_date</th>\n",
       "      <th>year</th>\n",
       "    </tr>\n",
       "  </thead>\n",
       "  <tbody>\n",
       "    <tr>\n",
       "      <th>49212</th>\n",
       "      <td>NCT00603590</td>\n",
       "      <td>Tehran University of Medical Sciences</td>\n",
       "      <td>Phase II Study of Heart Polypill Safety and Ef...</td>\n",
       "      <td>Cardiovascular Disease</td>\n",
       "      <td>Cardiovascular Diseases</td>\n",
       "      <td>Hydrochlorothiazide</td>\n",
       "      <td>None</td>\n",
       "      <td>Cardiovascular is a major cause of mort...</td>\n",
       "      <td>Kalaleh</td>\n",
       "      <td>Iran, Islamic Republic of</td>\n",
       "      <td>None</td>\n",
       "      <td>2008-01-01</td>\n",
       "      <td>2008</td>\n",
       "    </tr>\n",
       "    <tr>\n",
       "      <th>49213</th>\n",
       "      <td>NCT00589602</td>\n",
       "      <td>The Cleveland Clinic</td>\n",
       "      <td>T-Cell Depletion, Donor Hematopoietic Stem Cel...</td>\n",
       "      <td>Chronic Myeloproliferative Disorders</td>\n",
       "      <td>Multiple Myeloma</td>\n",
       "      <td>None</td>\n",
       "      <td>OBJECTIVES:        Primary          -  ...</td>\n",
       "      <td>RATIONALE: Giving chemotherapy and tota...</td>\n",
       "      <td>Cleveland</td>\n",
       "      <td>United States</td>\n",
       "      <td>44195</td>\n",
       "      <td>2008-01-01</td>\n",
       "      <td>2008</td>\n",
       "    </tr>\n",
       "    <tr>\n",
       "      <th>49214</th>\n",
       "      <td>NCT00592553</td>\n",
       "      <td>PTC Therapeutics</td>\n",
       "      <td>Phase 2b Study of PTC124 in Duchenne/Becker Mu...</td>\n",
       "      <td>Duchenne Muscular Dystrophy</td>\n",
       "      <td>Muscular Dystrophies</td>\n",
       "      <td>None</td>\n",
       "      <td>This study is a Phase 2b, multicenter, ...</td>\n",
       "      <td>Duchenne/Becker muscular dystrophy (DMD...</td>\n",
       "      <td>Sacramento</td>\n",
       "      <td>United States</td>\n",
       "      <td>45229-3039</td>\n",
       "      <td>2008-01-01</td>\n",
       "      <td>2008</td>\n",
       "    </tr>\n",
       "    <tr>\n",
       "      <th>49215</th>\n",
       "      <td>NCT00592332</td>\n",
       "      <td>Vanderbilt University</td>\n",
       "      <td>Hypoglycemia Associated Autonomic Failure in T...</td>\n",
       "      <td>Type 1 Diabetes</td>\n",
       "      <td>Diabetes Mellitus, Type 1</td>\n",
       "      <td>Alprazolam</td>\n",
       "      <td>Due to the fundamental importance of gl...</td>\n",
       "      <td>Alprazolam (Xanax) will blunt the body'...</td>\n",
       "      <td>Nashville</td>\n",
       "      <td>United States</td>\n",
       "      <td>37232</td>\n",
       "      <td>2008-01-01</td>\n",
       "      <td>2008</td>\n",
       "    </tr>\n",
       "    <tr>\n",
       "      <th>49216</th>\n",
       "      <td>NCT00585312</td>\n",
       "      <td>Pfizer</td>\n",
       "      <td>Trial In Pediatric Patients With Familial Aden...</td>\n",
       "      <td>Adenomatous Polyposis Coli</td>\n",
       "      <td>Colorectal Neoplasms</td>\n",
       "      <td>Celecoxib</td>\n",
       "      <td>Per DMC recommendation, the study was t...</td>\n",
       "      <td>To test whether celecoxib can be used t...</td>\n",
       "      <td>Chicago</td>\n",
       "      <td>United States</td>\n",
       "      <td>60612</td>\n",
       "      <td>2008-01-01</td>\n",
       "      <td>2008</td>\n",
       "    </tr>\n",
       "  </tbody>\n",
       "</table>\n",
       "</div>"
      ],
      "text/plain": [
       "                id                                 source  \\\n",
       "49212  NCT00603590  Tehran University of Medical Sciences   \n",
       "49213  NCT00589602                   The Cleveland Clinic   \n",
       "49214  NCT00592553                       PTC Therapeutics   \n",
       "49215  NCT00592332                  Vanderbilt University   \n",
       "49216  NCT00585312                                 Pfizer   \n",
       "\n",
       "                                             brief_title  \\\n",
       "49212  Phase II Study of Heart Polypill Safety and Ef...   \n",
       "49213  T-Cell Depletion, Donor Hematopoietic Stem Cel...   \n",
       "49214  Phase 2b Study of PTC124 in Duchenne/Becker Mu...   \n",
       "49215  Hypoglycemia Associated Autonomic Failure in T...   \n",
       "49216  Trial In Pediatric Patients With Familial Aden...   \n",
       "\n",
       "                                  condition        mesh_term_condition  \\\n",
       "49212                Cardiovascular Disease    Cardiovascular Diseases   \n",
       "49213  Chronic Myeloproliferative Disorders           Multiple Myeloma   \n",
       "49214           Duchenne Muscular Dystrophy       Muscular Dystrophies   \n",
       "49215                       Type 1 Diabetes  Diabetes Mellitus, Type 1   \n",
       "49216            Adenomatous Polyposis Coli       Colorectal Neoplasms   \n",
       "\n",
       "      mesh_term_intervention  \\\n",
       "49212    Hydrochlorothiazide   \n",
       "49213                   None   \n",
       "49214                   None   \n",
       "49215             Alprazolam   \n",
       "49216              Celecoxib   \n",
       "\n",
       "                                        full_description  \\\n",
       "49212                                               None   \n",
       "49213         OBJECTIVES:        Primary          -  ...   \n",
       "49214         This study is a Phase 2b, multicenter, ...   \n",
       "49215         Due to the fundamental importance of gl...   \n",
       "49216         Per DMC recommendation, the study was t...   \n",
       "\n",
       "                                                 summary        city  \\\n",
       "49212         Cardiovascular is a major cause of mort...     Kalaleh   \n",
       "49213         RATIONALE: Giving chemotherapy and tota...   Cleveland   \n",
       "49214         Duchenne/Becker muscular dystrophy (DMD...  Sacramento   \n",
       "49215         Alprazolam (Xanax) will blunt the body'...   Nashville   \n",
       "49216         To test whether celecoxib can be used t...     Chicago   \n",
       "\n",
       "                         country         zip  full_date  year  \n",
       "49212  Iran, Islamic Republic of        None 2008-01-01  2008  \n",
       "49213              United States       44195 2008-01-01  2008  \n",
       "49214              United States  45229-3039 2008-01-01  2008  \n",
       "49215              United States       37232 2008-01-01  2008  \n",
       "49216              United States       60612 2008-01-01  2008  "
      ]
     },
     "execution_count": 16,
     "metadata": {},
     "output_type": "execute_result"
    }
   ],
   "source": [
    "df.head()"
   ]
  },
  {
   "cell_type": "code",
   "execution_count": 17,
   "metadata": {},
   "outputs": [
    {
     "name": "stdout",
     "output_type": "stream",
     "text": [
      "(243099, 13)\n",
      "id                        243099\n",
      "source                     17558\n",
      "brief_title               241687\n",
      "condition                  45295\n",
      "mesh_term_condition         2267\n",
      "mesh_term_intervention      2246\n",
      "full_description          153312\n",
      "summary                   241037\n",
      "city                       10628\n",
      "country                      191\n",
      "zip                        20845\n",
      "full_date                   3982\n",
      "year                          11\n",
      "dtype: int64\n",
      "\n",
      "[2008 2009 2010 2011 2012 2013 2014 2015 2016 2017 2018]\n"
     ]
    }
   ],
   "source": [
    "print(df.shape)\n",
    "print(df.nunique())\n",
    "print('\\n{}'.format(df.year.unique()))"
   ]
  },
  {
   "cell_type": "code",
   "execution_count": 18,
   "metadata": {},
   "outputs": [
    {
     "name": "stdout",
     "output_type": "stream",
     "text": [
      "<class 'pandas.core.frame.DataFrame'>\n",
      "Int64Index: 243099 entries, 49212 to 292310\n",
      "Data columns (total 13 columns):\n",
      "id                        243099 non-null object\n",
      "source                    243099 non-null category\n",
      "brief_title               243099 non-null object\n",
      "condition                 243099 non-null category\n",
      "mesh_term_condition       243099 non-null object\n",
      "mesh_term_intervention    243099 non-null object\n",
      "full_description          243099 non-null object\n",
      "summary                   243099 non-null object\n",
      "city                      243099 non-null category\n",
      "country                   243099 non-null category\n",
      "zip                       243099 non-null object\n",
      "full_date                 243099 non-null datetime64[ns]\n",
      "year                      243099 non-null int64\n",
      "dtypes: category(4), datetime64[ns](1), int64(1), object(7)\n",
      "memory usage: 23.7+ MB\n"
     ]
    }
   ],
   "source": [
    "df.info()"
   ]
  },
  {
   "cell_type": "markdown",
   "metadata": {},
   "source": [
    "## Save conditions, mesh terms and sources"
   ]
  },
  {
   "cell_type": "code",
   "execution_count": 22,
   "metadata": {},
   "outputs": [],
   "source": [
    "def save_list_of_terms(column, final_list):\n",
    "    for term in df[column]:\n",
    "        final_list.append(term)\n",
    "        # Keep only unique values\n",
    "    final_list = sorted(set(final_list))\n",
    "    print('Number of {}: {}'.format(column, len(final_list)))"
   ]
  },
  {
   "cell_type": "code",
   "execution_count": 23,
   "metadata": {},
   "outputs": [
    {
     "name": "stdout",
     "output_type": "stream",
     "text": [
      "Number of condition: 45295\n"
     ]
    }
   ],
   "source": [
    "all_conditions = []\n",
    "save_list_of_terms('condition', all_conditions)"
   ]
  },
  {
   "cell_type": "code",
   "execution_count": 24,
   "metadata": {},
   "outputs": [
    {
     "name": "stdout",
     "output_type": "stream",
     "text": [
      "Number of mesh_term_condition: 2267\n"
     ]
    }
   ],
   "source": [
    "all_mesh_conditions = []\n",
    "save_list_of_terms('mesh_term_condition', all_mesh_conditions)"
   ]
  },
  {
   "cell_type": "code",
   "execution_count": 26,
   "metadata": {},
   "outputs": [
    {
     "name": "stdout",
     "output_type": "stream",
     "text": [
      "Number of mesh_term_intervention: 2246\n"
     ]
    }
   ],
   "source": [
    "all_mesh_interventions = []\n",
    "save_list_of_terms('mesh_term_intervention', all_mesh_interventions)"
   ]
  },
  {
   "cell_type": "code",
   "execution_count": 27,
   "metadata": {},
   "outputs": [
    {
     "name": "stdout",
     "output_type": "stream",
     "text": [
      "Number of source: 17558\n"
     ]
    }
   ],
   "source": [
    "all_sources = []\n",
    "save_list_of_terms('source', all_sources)"
   ]
  },
  {
   "cell_type": "markdown",
   "metadata": {},
   "source": [
    "## Reference: List of conditions\n",
    "- ftp://ftp.cdc.gov/pub/Health_Statistics/NCHS/Publications/ICD10CM/2019/"
   ]
  },
  {
   "cell_type": "code",
   "execution_count": null,
   "metadata": {},
   "outputs": [],
   "source": [
    "import xml.etree.ElementTree as ET"
   ]
  },
  {
   "cell_type": "code",
   "execution_count": null,
   "metadata": {},
   "outputs": [],
   "source": [
    "list_conditions = '../data/icd10/'\n",
    "\n",
    "conditions = []\n",
    "\n",
    "for xml in os.listdir(list_conditions):\n",
    "    conditions.append(xml)\n",
    "\n",
    "print(conditions)"
   ]
  },
  {
   "cell_type": "code",
   "execution_count": null,
   "metadata": {},
   "outputs": [],
   "source": [
    "icd = list_conditions + conditions[0] #full path\n",
    "tree = ET.parse(icd).getroot()\n",
    "print('Parsed: {}\\n'.format(conditions[0]))"
   ]
  },
  {
   "cell_type": "code",
   "execution_count": null,
   "metadata": {},
   "outputs": [],
   "source": [
    "#Save titles from xml file in a list\n",
    "all_conditions = []\n",
    "    \n",
    "for i in tree.iter('desc'):\n",
    "    all_conditions.append(i.text)\n",
    "    \n",
    "len(all_conditions)"
   ]
  },
  {
   "cell_type": "code",
   "execution_count": null,
   "metadata": {},
   "outputs": [],
   "source": [
    "# Remove long names\n",
    "result = []\n",
    "\n",
    "def count_words_list(words,size):\n",
    "    for w in words:\n",
    "        if len(w.split())<=size:\n",
    "            result.append(w)\n",
    "    return result\n",
    "\n",
    "count_words_list(all_conditions, 3)\n",
    "len(result)"
   ]
  },
  {
   "cell_type": "code",
   "execution_count": null,
   "metadata": {},
   "outputs": [],
   "source": [
    "# clean conditions dataset\n",
    "all_conditions = [w.replace('unspecified', '') for w in all_conditions]\n",
    "all_conditions = [w.replace(',', '') for w in all_conditions]"
   ]
  },
  {
   "cell_type": "code",
   "execution_count": null,
   "metadata": {},
   "outputs": [],
   "source": [
    "# Eliminate duplicated records\n",
    "all_conditions = list(set(result))\n",
    "len(all_conditions)"
   ]
  },
  {
   "cell_type": "markdown",
   "metadata": {},
   "source": [
    "## Classify docs using a list of conditions"
   ]
  },
  {
   "cell_type": "code",
   "execution_count": null,
   "metadata": {},
   "outputs": [],
   "source": [
    "# Create a column with all text\n",
    "df['text'] = df['brief_title'] + df['summary'] + df['full_description']"
   ]
  },
  {
   "cell_type": "code",
   "execution_count": null,
   "metadata": {},
   "outputs": [],
   "source": [
    "# Clean extra blank spaces\n",
    "df.text = df.text.replace('\\s+', ' ', regex=True)"
   ]
  },
  {
   "cell_type": "markdown",
   "metadata": {},
   "source": [
    "### Check for values in conditions list"
   ]
  },
  {
   "cell_type": "code",
   "execution_count": null,
   "metadata": {},
   "outputs": [],
   "source": [
    "# Create dataframe to store vocabulary\n",
    "vocabulary_conditions = pd.DataFrame()"
   ]
  },
  {
   "cell_type": "code",
   "execution_count": null,
   "metadata": {},
   "outputs": [],
   "source": [
    "# PENDING: faster function\n",
    "# https://stackoverflow.com/questions/44960614/whats-the-fastest-way-to-acces-a-pandas-dataframe\n",
    "for term in all_conditions:\n",
    "    try:\n",
    "        vocabulary_conditions[term] = df['text'].str.contains(term, case = False).astype(int)\n",
    "        print(term)\n",
    "    except:\n",
    "        pass\n",
    "              "
   ]
  },
  {
   "cell_type": "code",
   "execution_count": null,
   "metadata": {},
   "outputs": [],
   "source": [
    "vocabulary_conditions.info()\n",
    "#463 Mb file"
   ]
  },
  {
   "cell_type": "code",
   "execution_count": null,
   "metadata": {},
   "outputs": [],
   "source": [
    "# Discard columns above a treshold\n",
    "vocabulary_conditions.describe()"
   ]
  },
  {
   "cell_type": "markdown",
   "metadata": {},
   "source": [
    "## ML Pipeline"
   ]
  },
  {
   "cell_type": "markdown",
   "metadata": {},
   "source": [
    "### DF transformations\n",
    "- Check which ones can be added to the preprocessor\n",
    "- Info: http://www.ultravioletanalytics.com/blog/tf-idf-basics-with-pandas-scikit-learn"
   ]
  },
  {
   "cell_type": "code",
   "execution_count": null,
   "metadata": {},
   "outputs": [],
   "source": [
    "# Create a column combining title + full description\n",
    "df['text'] = df['brief_title'] + df['summary'] + df['full_description']"
   ]
  },
  {
   "cell_type": "code",
   "execution_count": null,
   "metadata": {},
   "outputs": [],
   "source": [
    "# Clean extra blank spaces\n",
    "df.text = df.text.replace('\\s+', ' ', regex=True)"
   ]
  },
  {
   "cell_type": "markdown",
   "metadata": {},
   "source": [
    "### CountVectorizer"
   ]
  },
  {
   "cell_type": "code",
   "execution_count": null,
   "metadata": {},
   "outputs": [],
   "source": [
    "from sklearn.feature_extraction.text import CountVectorizer\n",
    "import re"
   ]
  },
  {
   "cell_type": "code",
   "execution_count": null,
   "metadata": {},
   "outputs": [],
   "source": [
    "pat_numbers = lambda x: re.sub(r'(\\d)+', '', x.lower())\n",
    "\n",
    "cv = CountVectorizer(stop_words='english',\n",
    "                     preprocessor = pat_numbers,\n",
    "                     max_features = 3000,\n",
    "                     lowercase = True,\n",
    "                     max_df = 0.5,\n",
    "                     ngram_range = (1, 3))"
   ]
  },
  {
   "cell_type": "code",
   "execution_count": null,
   "metadata": {},
   "outputs": [],
   "source": [
    "docs = list(df['full_description'])\n",
    "\n",
    "X = cv.fit_transform(docs)"
   ]
  },
  {
   "cell_type": "code",
   "execution_count": null,
   "metadata": {},
   "outputs": [],
   "source": [
    "len(cv.vocabulary_)"
   ]
  },
  {
   "cell_type": "code",
   "execution_count": null,
   "metadata": {},
   "outputs": [],
   "source": [
    "cv.vocabulary_"
   ]
  },
  {
   "cell_type": "code",
   "execution_count": null,
   "metadata": {},
   "outputs": [],
   "source": [
    "# Check for values in dictionary\n",
    "if 'breast cancer' in list(cv.vocabulary_):\n",
    "  print('yes')\n",
    "else:\n",
    "  print('no')"
   ]
  },
  {
   "cell_type": "code",
   "execution_count": null,
   "metadata": {},
   "outputs": [],
   "source": [
    "pd.DataFrame(X.toarray(), columns=cv.get_feature_names()).head()"
   ]
  },
  {
   "cell_type": "markdown",
   "metadata": {},
   "source": [
    "### TF-IDF"
   ]
  },
  {
   "cell_type": "code",
   "execution_count": null,
   "metadata": {},
   "outputs": [],
   "source": [
    "from sklearn.feature_extraction.text import TfidfTransformer"
   ]
  },
  {
   "cell_type": "code",
   "execution_count": null,
   "metadata": {},
   "outputs": [],
   "source": [
    "transformer = TfidfTransformer()\n",
    "tweights = transformer.fit_transform(X)\n",
    "tweights"
   ]
  },
  {
   "cell_type": "code",
   "execution_count": null,
   "metadata": {},
   "outputs": [],
   "source": [
    "# Pending: Reduced dimensionality\n",
    "\n"
   ]
  },
  {
   "cell_type": "code",
   "execution_count": null,
   "metadata": {},
   "outputs": [],
   "source": [
    "# turn weights data into a dataframe\n",
    "tf = pd.DataFrame(tweights.toarray(), columns=cv.get_feature_names())"
   ]
  },
  {
   "cell_type": "code",
   "execution_count": null,
   "metadata": {},
   "outputs": [],
   "source": [
    "# Top terms by average tf-idf weight\n",
    "weights = np.asarray(tweights.mean(axis=0)).ravel().tolist()\n",
    "weights_df = pd.DataFrame({'term': cv.get_feature_names(), 'weight': weights})\n",
    "weights_df.sort_values(by='weight', ascending=False).head(5)"
   ]
  },
  {
   "cell_type": "code",
   "execution_count": null,
   "metadata": {},
   "outputs": [],
   "source": [
    "# Check word\n",
    "def check_weight(word):\n",
    "    for w in word:\n",
    "        try:\n",
    "            print('{}: {}'.format(w, tf[w].mean()))\n",
    "        except KeyError:\n",
    "            print('{}: None'.format(w))\n",
    "\n",
    "search_terms = ['cancer', 'breast cancer', 'migraine', 'sarcoma']\n",
    "check_weight(search_terms)"
   ]
  },
  {
   "cell_type": "code",
   "execution_count": null,
   "metadata": {},
   "outputs": [],
   "source": [
    "# Merge df y tf-idf data by index\n",
    "pd.set_option('display.max_columns', None) \n",
    "tf.sample(5)\n",
    "# pd.merge(df, tf, left_index=True, right_index=True).sample(1)"
   ]
  },
  {
   "cell_type": "markdown",
   "metadata": {},
   "source": [
    "### Topic Modeling\n",
    "- https://nlpforhackers.io/topic-modeling/"
   ]
  },
  {
   "cell_type": "code",
   "execution_count": null,
   "metadata": {},
   "outputs": [],
   "source": []
  },
  {
   "cell_type": "markdown",
   "metadata": {},
   "source": [
    "### Test: Using Tensorflow \n",
    "- https://github.com/open-source-for-science/TensorFlow-Course?utm_campaign=explore-email&utm_medium=email&utm_source=newsletter&utm_term=weekly"
   ]
  },
  {
   "cell_type": "code",
   "execution_count": null,
   "metadata": {},
   "outputs": [],
   "source": []
  }
 ],
 "metadata": {
  "kernelspec": {
   "display_name": "Python 3",
   "language": "python",
   "name": "python3"
  },
  "language_info": {
   "codemirror_mode": {
    "name": "ipython",
    "version": 3
   },
   "file_extension": ".py",
   "mimetype": "text/x-python",
   "name": "python",
   "nbconvert_exporter": "python",
   "pygments_lexer": "ipython3",
   "version": "3.7.0"
  }
 },
 "nbformat": 4,
 "nbformat_minor": 2
}
