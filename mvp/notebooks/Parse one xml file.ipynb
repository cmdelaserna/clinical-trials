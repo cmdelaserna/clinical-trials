{
 "cells": [
  {
   "cell_type": "markdown",
   "metadata": {},
   "source": [
    "# Clinical trials: setup & data importing\n"
   ]
  },
  {
   "cell_type": "code",
   "execution_count": 1,
   "metadata": {},
   "outputs": [],
   "source": [
    "#Data: clinicaltrials.gov\n",
    "#Source: wget https://clinicaltrials.gov/AllPublicXML.zip\n",
    "#Date: September 14, 2018 [9pm]"
   ]
  },
  {
   "cell_type": "code",
   "execution_count": 2,
   "metadata": {},
   "outputs": [],
   "source": [
    "# reset variables if needed\n",
    "# %reset"
   ]
  },
  {
   "cell_type": "code",
   "execution_count": 3,
   "metadata": {},
   "outputs": [],
   "source": [
    "import zipfile\n",
    "import sys\n",
    "import time\n",
    "import json\n",
    "import re\n",
    "import os\n",
    "import xml.etree.ElementTree as ET\n",
    "import shutil\n",
    "import pandas as pd\n",
    "from collections import Counter "
   ]
  },
  {
   "cell_type": "code",
   "execution_count": 4,
   "metadata": {},
   "outputs": [],
   "source": [
    "# Print messages to the terminal\n",
    "\n",
    "sys.stdout = open('/dev/stdout', 'w')\n"
   ]
  },
  {
   "cell_type": "markdown",
   "metadata": {},
   "source": [
    "## Parse one random trial"
   ]
  },
  {
   "cell_type": "code",
   "execution_count": 6,
   "metadata": {},
   "outputs": [],
   "source": [
    "# Save all paths to xml files in a new variable\n",
    "# Not dependent of unzip script\n",
    "\n",
    "xml_trials = '../data/all_trials/'\n",
    "\n",
    "data_xml = []\n",
    "\n",
    "for xml in os.listdir(xml_trials):\n",
    "    data_xml.append(xml)\n",
    "\n",
    "print('Number of files in data_trials_xml: {}'.format(len(data_xml)))\n",
    "print('First files: {}'.format(data_xml[0:5]))"
   ]
  },
  {
   "cell_type": "code",
   "execution_count": 7,
   "metadata": {},
   "outputs": [
    {
     "data": {
      "text/plain": [
       "'\\nSTART HERE FOR PARSING A NEW RANDOME FILE\\n'"
      ]
     },
     "execution_count": 7,
     "metadata": {},
     "output_type": "execute_result"
    }
   ],
   "source": [
    "'''\n",
    "START HERE FOR PARSING A NEW RANDOME FILE\n",
    "'''"
   ]
  },
  {
   "cell_type": "code",
   "execution_count": 8,
   "metadata": {},
   "outputs": [],
   "source": [
    "#parse random xml file\n",
    "import random\n",
    "n = random.randint(0, 150000)\n",
    "\n",
    "trial = xml_trials + data_xml[n] #full path\n",
    "tree = ET.parse(trial).getroot()\n",
    "print(\"Random: {}\\n\".format(n))\n",
    "print('File: {}\\n'.format(data_xml[n]))"
   ]
  },
  {
   "cell_type": "code",
   "execution_count": 9,
   "metadata": {},
   "outputs": [],
   "source": [
    "print('\\n----------- FILE ----------\\n')\n",
    "print(ET.tostring(tree).decode())"
   ]
  },
  {
   "cell_type": "code",
   "execution_count": null,
   "metadata": {},
   "outputs": [],
   "source": [
    "\n",
    "'''GO TO METHOD 4 FOR PARSING THE FILE'''\n"
   ]
  },
  {
   "cell_type": "markdown",
   "metadata": {},
   "source": [
    "## Method 1: Store keys & values from xml file in list"
   ]
  },
  {
   "cell_type": "code",
   "execution_count": null,
   "metadata": {},
   "outputs": [],
   "source": [
    "#Create Keys & Values with all info from the parsed trial\n",
    "keys_trial = []\n",
    "value_trial = []\n",
    "\n",
    "for nct in tree.iter('nct_id'):\n",
    "    id_trial = nct.text\n",
    "    \n",
    "for tag in tree:\n",
    "    for i in tag:\n",
    "        keys_trial.append(tag.tag)\n",
    "        keys_trial.append(i.tag)\n",
    "        value_trial.append(tag.text)\n",
    "        value_trial.append(i.text)\n",
    "        \n",
    "print(\"Random: {}\".format(n))\n",
    "print(\"Trial id: {}\".format(id_trial))\n",
    "print(\"Number of keys: {}\".format(len(keys_trial)))"
   ]
  },
  {
   "cell_type": "code",
   "execution_count": null,
   "metadata": {},
   "outputs": [],
   "source": [
    "# Check id, keys, values\n",
    "print(\"Trial id: {}\\n\".format(id_trial))\n",
    "for i, n in zip(keys_trial, value_trial):\n",
    "    print('Key: {}, Value: {}'.format(i, n))"
   ]
  },
  {
   "cell_type": "markdown",
   "metadata": {},
   "source": [
    "### Zip lists into a dictionary and save it as a json file\n",
    "- Use only for files with no duplicated keys"
   ]
  },
  {
   "cell_type": "code",
   "execution_count": null,
   "metadata": {},
   "outputs": [],
   "source": [
    "# Save data in a dictionary\n",
    "\n",
    "trial_dict = dict(zip(keys_trial, value_trial))\n",
    "\n",
    "\n",
    "# Dump dictionary into a json file\n",
    "\n",
    "with open('{}{}.json'.format(json_folder, id_trial), 'w') as fp:\n",
    "    json.dump(trial_dict, fp)\n",
    "    print('JSON file created\\n')\n",
    "\n",
    " \n",
    "print(\"Keys in list: {}\".format(len(keys_trial)))\n",
    "print('Keys in dictionary: {}\\n'.format(len(trial_dict.keys())))\n",
    "# print('Dictionary:\\n{}'.format(trial_dict))"
   ]
  },
  {
   "cell_type": "markdown",
   "metadata": {},
   "source": [
    "## Method 2: keep all duplicated keys"
   ]
  },
  {
   "cell_type": "code",
   "execution_count": null,
   "metadata": {},
   "outputs": [],
   "source": [
    "counts = Counter(keys_trial)\n",
    "for value, count in counts.most_common():\n",
    "    if count > 1:\n",
    "        print('{},{}'.format(value, count))"
   ]
  },
  {
   "cell_type": "code",
   "execution_count": null,
   "metadata": {},
   "outputs": [],
   "source": [
    "for s,num in counts.items():\n",
    "    if num > 1: \n",
    "        for suffix in range(1, num + 1): # suffix starts at 1 and increases by 1 each time\n",
    "            keys_trial[keys_trial.index(s)] = s + str(suffix) # replace each appearance of s"
   ]
  },
  {
   "cell_type": "code",
   "execution_count": null,
   "metadata": {},
   "outputs": [],
   "source": [
    "# Check all keys are preserved\n",
    "print(\"Number of keys in xml file: {}\".format(len(keys_trial)))\n",
    "print('Number of keys after changing names: {}'.format(len(keys_trial)))"
   ]
  },
  {
   "cell_type": "code",
   "execution_count": null,
   "metadata": {},
   "outputs": [],
   "source": [
    "# Create dictionary\n",
    "full_trial_dict = dict(zip(keys_trial, value_trial))\n",
    "\n",
    "print(\"Keys in list: {}\".format(len(keys_trial)))\n",
    "print('Keys in dictionary: {}\\n'.format(len(full_trial_dict.keys())))\n",
    "print('ID: {}\\n'.format(full_trial_dict['nct_id']))\n",
    "# print('Dictionary:\\n{}'.format(full_trial_dict))"
   ]
  },
  {
   "cell_type": "code",
   "execution_count": null,
   "metadata": {},
   "outputs": [],
   "source": [
    "# create dataframe from dictionary\n",
    "df_dict = pd.DataFrame.from_dict(full_trial_dict, orient='index', columns=[id_trial])\n",
    "\n",
    "pd.set_option('display.max_columns', 100)\n",
    "# display(df_dict)"
   ]
  },
  {
   "cell_type": "code",
   "execution_count": null,
   "metadata": {},
   "outputs": [],
   "source": [
    "# Dump dataframe into a json file\n",
    "\n",
    "json_folder = 'data/json/'\n",
    "df_dict.to_json('{}{}.json'.format(json_folder, id_trial))\n",
    "print('JSON file created\\n')"
   ]
  },
  {
   "cell_type": "code",
   "execution_count": null,
   "metadata": {},
   "outputs": [],
   "source": [
    "# Check: Import json file into a dataframe\n",
    "file_location = json_folder+id_trial\n",
    "df_trial = pd.read_json(file_location+'.json')\n",
    "\n",
    "print('File location: {}'.format(file_location))\n",
    "print('Trial id: {}'.format(id_trial))\n",
    "print('Dataframe shape: {}'.format(df_trial.shape))\n",
    "print(\"Keys in list: {}\".format(len(keys_trial)))"
   ]
  },
  {
   "cell_type": "code",
   "execution_count": null,
   "metadata": {},
   "outputs": [],
   "source": [
    "pd.set_option('display.max_rows', 200)\n",
    "display(df_trial)"
   ]
  },
  {
   "cell_type": "code",
   "execution_count": null,
   "metadata": {},
   "outputs": [],
   "source": [
    "# check basic data\n",
    "# Slice it\n",
    "print(df_trial[id_trial]['affiliation'])\n",
    "print(df_trial[id_trial]['country'])"
   ]
  },
  {
   "cell_type": "markdown",
   "metadata": {},
   "source": [
    "## Method 3: Parse only selected fields and save them in a dictionary"
   ]
  },
  {
   "cell_type": "code",
   "execution_count": null,
   "metadata": {
    "scrolled": true
   },
   "outputs": [],
   "source": [
    "# Check XML fields are available\n",
    "tree[0:]"
   ]
  },
  {
   "cell_type": "code",
   "execution_count": null,
   "metadata": {},
   "outputs": [],
   "source": [
    "final_dictionary = {}\n",
    "\n",
    "def parsing_specific_tags(dictionary, tag):\n",
    "    k = []\n",
    "    v = []\n",
    "    \n",
    "    for i in tree.iter(tag):\n",
    "        k.append(i.tag)\n",
    "        v.append(i.text)\n",
    "    print('Key: {}, Value: {}'.format(k, v))\n",
    "    \n",
    "    for n, h in zip(k, v):\n",
    "        dictionary[n] = h\n",
    "    \n",
    "    return dictionary\n",
    "\n",
    "parsing_specific_tags(final_dictionary, 'nct_id')\n",
    "parsing_specific_tags(final_dictionary, 'country')"
   ]
  },
  {
   "cell_type": "markdown",
   "metadata": {},
   "source": [
    "## Method 4: iterate over several tags and save info in a dictionary"
   ]
  },
  {
   "cell_type": "code",
   "execution_count": 57,
   "metadata": {},
   "outputs": [
    {
     "data": {
      "text/plain": [
       "{'condition': 'Open Heart Surgery',\n",
       " 'nct_id': 'NCT03106818',\n",
       " 'download_date': 'ClinicalTrials.gov processed this data on September 14, 2018',\n",
       " 'url': 'https://clinicaltrials.gov/show/NCT03106818',\n",
       " 'brief_title': 'Postoperative Pain Alleviation in Open Heart Surgery',\n",
       " 'official_title': 'Postoperative Pain Alleviation in Patients Undergoing Cardiac Surgery; Presternal Bupivacaine and Magnesium Infiltration Versus Conventional Intravenous Analgesia',\n",
       " 'agency': 'Assiut University',\n",
       " 'source': 'Assiut University',\n",
       " 'overall_status': 'Completed',\n",
       " 'start_date': 'July 2016',\n",
       " 'phase': 'N/A',\n",
       " 'study_type': 'Interventional',\n",
       " 'allocation': 'Randomized',\n",
       " 'study_first_submitted': 'April 4, 2017',\n",
       " 'verification_date': 'November 2017',\n",
       " 'mesh_term': 'Ketorolac',\n",
       " 'brief_summary': '\\n      Effective pain relief after cardiac surgery has assumed importance with the introduction of\\n      fast track discharge protocols that requires early weaning from mechanical ventilation.\\n      Inadequate pain control reduces the capacity to cough, mobility, increases the frequency of\\n      atelectasis, and prolongs recovery. Infiltration of local anesthetics near the surgical wound\\n      has shown to improve early postoperative pain in various surgical procedures.\\n\\n      Magnesium is the fourth most plentiful cation in our body. It has antinociceptive effects in\\n      animal and human models of pain.\\n    ',\n",
       " 'detailed_description': '\\n      Effective pain relief after cardiac surgery has assumed importance with the introduction of\\n      fast track discharge protocols that requires early weaning from mechanical ventilation.\\n      Inadequate pain control reduces the capacity to cough, mobility, increases the frequency of\\n      atelectasis, and prolongs recovery.\\n\\n      A major cause of pain after cardiac surgery is the median sternotomy particularly on the\\n      first two postoperative days.\\n\\n      The most often used analgesics in these patients are parenteral opioids which can lead to\\n      undesirable side-effects as sedation, respiratory depression, nausea, and vomiting.\\n\\n      Infiltration of local anesthetics near the surgical wound has shown to improve early\\n      postoperative pain in various surgical procedures.\\n\\n      Magnesium is the fourth most plentiful cation in our body. It has antinociceptive effects in\\n      animal and human models of pain.\\n\\n      It has been mentioned in a systematic review that it may be worthwhile to further study the\\n      role of supplemental magnesium in providing perioperative analgesia, because this is a\\n      relatively harmless molecule, is not expensive and also because the biological basis for its\\n      potential antinociceptive effect is promising.\\n\\n      These effects are primarily based on physiological calcium antagonism, that is\\n      voltage-dependent regulation of calcium influx into the cell, and noncompetitive antagonism\\n      of N-methyl-D-aspartate (NMDA) receptors.\\n\\n      there is a need to evaluate and compare local magnesium with bupivacaine , in comparison to\\n      bupivacain ,and other conventional intarvenous analgesics\\n    '}"
      ]
     },
     "execution_count": 57,
     "metadata": {},
     "output_type": "execute_result"
    }
   ],
   "source": [
    "def parsing_several_tags(dictionary, tag, nested, condition):\n",
    "    k = []\n",
    "    v = []\n",
    "    \n",
    "    # append first condition\n",
    "    k.append(condition)\n",
    "    value_condition = tree.find(condition)\n",
    "    v.append(value_condition.text)\n",
    "    \n",
    "    # append all condition tags\n",
    "#     for c in tree.findall(condition):\n",
    "#         print('Conditions: {} : {}'.format(condition, c.text))\n",
    "    \n",
    "    # append list of tags\n",
    "    for t in tag:\n",
    "        for i in tree.iter(t):\n",
    "            k.append(i.tag)\n",
    "            v.append(i.text)\n",
    "     \n",
    "    # append list of nested tags\n",
    "    for n in nested:\n",
    "        for child in tree.findall(n + '/textblock'):\n",
    "            k.append(n)\n",
    "            v.append(child.text)\n",
    "            \n",
    "    # zip data into a dictionary\n",
    "    dictionary = dict(zip(k, v))\n",
    "    \n",
    "    return dictionary\n",
    "\n",
    "\n",
    "# Variables for the function\n",
    "tags_dictionary = {}\n",
    "\n",
    "condition = 'condition'\n",
    "\n",
    "list_of_tags = ['nct_id', \n",
    "                'download_date',\n",
    "                'url', \n",
    "                'brief_title',\n",
    "                'acronym',\n",
    "                'official_title',\n",
    "                'agency',\n",
    "                'source',\n",
    "               'overall_status',\n",
    "                'start_date',\n",
    "                'phase',\n",
    "                'study_type',\n",
    "                'allocation',\n",
    "                'study_first_submitted',\n",
    "                'verification_date',\n",
    "                'mesh_term'\n",
    "               ]\n",
    "\n",
    "nested_tags = ['brief_summary',\n",
    "              'detailed_description']\n",
    "\n",
    "\n",
    "parsing_several_tags(tags_dictionary, list_of_tags, nested_tags, condition)"
   ]
  },
  {
   "cell_type": "markdown",
   "metadata": {},
   "source": []
  }
 ],
 "metadata": {
  "kernelspec": {
   "display_name": "Python 3",
   "language": "python",
   "name": "python3"
  },
  "language_info": {
   "codemirror_mode": {
    "name": "ipython",
    "version": 3
   },
   "file_extension": ".py",
   "mimetype": "text/x-python",
   "name": "python",
   "nbconvert_exporter": "python",
   "pygments_lexer": "ipython3",
   "version": "3.7.3"
  }
 },
 "nbformat": 4,
 "nbformat_minor": 2
}
