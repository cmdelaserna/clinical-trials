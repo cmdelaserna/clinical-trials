{
 "cells": [
  {
   "cell_type": "code",
   "execution_count": 1,
   "metadata": {},
   "outputs": [],
   "source": [
    "import pandas as pd\n",
    "from sqlalchemy import create_engine\n",
    "import psycopg2\n",
    "import pandas as pd\n",
    "import numpy as np\n",
    "from datetime import datetime"
   ]
  },
  {
   "cell_type": "markdown",
   "metadata": {},
   "source": [
    "### Connect to DB, create df"
   ]
  },
  {
   "cell_type": "code",
   "execution_count": 2,
   "metadata": {},
   "outputs": [],
   "source": [
    "# AACT postgres db\n",
    "\n",
    "host = 'postgresql://cms@localhost:5432/' \n",
    "\n",
    "db = 'aact'\n",
    "connection = host + db\n",
    "\n",
    "engine = create_engine(connection)"
   ]
  },
  {
   "cell_type": "code",
   "execution_count": 3,
   "metadata": {},
   "outputs": [
    {
     "name": "stdout",
     "output_type": "stream",
     "text": [
      "CPU times: user 16.2 ms, sys: 6.49 ms, total: 22.7 ms\n",
      "Wall time: 37 ms\n"
     ]
    }
   ],
   "source": [
    "%time df = pd.read_sql_query(\"SELECT * from celiac\", engine)"
   ]
  },
  {
   "cell_type": "code",
   "execution_count": 4,
   "metadata": {},
   "outputs": [],
   "source": [
    "# ClinicalTrials db\n",
    "\n",
    "trials_host = 'postgresql://cms@localhost:5432/' \n",
    "\n",
    "trials_db = 'ClinicalTrials'\n",
    "trials_connection = trials_host + trials_db\n",
    "\n",
    "trials_engine = create_engine(trials_connection)"
   ]
  },
  {
   "cell_type": "code",
   "execution_count": 5,
   "metadata": {},
   "outputs": [
    {
     "name": "stdout",
     "output_type": "stream",
     "text": [
      "CPU times: user 16.9 ms, sys: 8.29 ms, total: 25.2 ms\n",
      "Wall time: 84 ms\n"
     ]
    }
   ],
   "source": [
    "%time trials_df = pd.read_sql_query(\"SELECT * from celiac\", trials_engine)"
   ]
  },
  {
   "cell_type": "markdown",
   "metadata": {},
   "source": [
    "### Add missing years"
   ]
  },
  {
   "cell_type": "code",
   "execution_count": 8,
   "metadata": {},
   "outputs": [
    {
     "name": "stdout",
     "output_type": "stream",
     "text": [
      "<class 'pandas.core.frame.DataFrame'>\n",
      "Int64Index: 18 entries, 0 to 17\n",
      "Data columns (total 3 columns):\n",
      "year_posted          18 non-null object\n",
      "nct_id               18 non-null int64\n",
      "recruiting_status    18 non-null float64\n",
      "dtypes: float64(1), int64(1), object(1)\n",
      "memory usage: 576.0+ bytes\n"
     ]
    }
   ],
   "source": [
    "## AACT db\n",
    "df_year = df.groupby(['year_posted'], as_index=False).agg({'nct_id':'count', 'recruiting_status':'sum'})\n",
    "df_year.info()"
   ]
  },
  {
   "cell_type": "code",
   "execution_count": 6,
   "metadata": {},
   "outputs": [
    {
     "name": "stdout",
     "output_type": "stream",
     "text": [
      "<class 'pandas.core.frame.DataFrame'>\n",
      "Int64Index: 16 entries, 0 to 15\n",
      "Data columns (total 3 columns):\n",
      "year_submitted       16 non-null int64\n",
      "nct_id               16 non-null int64\n",
      "recruiting_labels    16 non-null int64\n",
      "dtypes: int64(3)\n",
      "memory usage: 512.0 bytes\n"
     ]
    }
   ],
   "source": [
    "## ClinicTrials db\n",
    "trials_df_year = trials_df.groupby(['year_submitted'], as_index=False).agg({'nct_id':'count', 'recruiting_labels':'sum'})\n",
    "trials_df_year.info()"
   ]
  },
  {
   "cell_type": "code",
   "execution_count": null,
   "metadata": {},
   "outputs": [],
   "source": [
    "### Bug: change data type in aact db year_posted column. Postgres"
   ]
  }
 ],
 "metadata": {
  "kernelspec": {
   "display_name": "Python 3",
   "language": "python",
   "name": "python3"
  },
  "language_info": {
   "codemirror_mode": {
    "name": "ipython",
    "version": 3
   },
   "file_extension": ".py",
   "mimetype": "text/x-python",
   "name": "python",
   "nbconvert_exporter": "python",
   "pygments_lexer": "ipython3",
   "version": "3.7.5"
  }
 },
 "nbformat": 4,
 "nbformat_minor": 2
}
