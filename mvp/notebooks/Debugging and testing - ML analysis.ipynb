{
 "cells": [
  {
   "cell_type": "markdown",
   "metadata": {},
   "source": [
    "## Debugging and testing ML pipeline"
   ]
  },
  {
   "cell_type": "code",
   "execution_count": 1,
   "metadata": {},
   "outputs": [],
   "source": [
    "import time\n",
    "import json\n",
    "import os\n",
    "import pandas as pd\n",
    "import matplotlib.pyplot as plt\n",
    "import sys\n",
    "import numpy as np"
   ]
  },
  {
   "cell_type": "markdown",
   "metadata": {},
   "source": [
    "### Load json file in a dataframe"
   ]
  },
  {
   "cell_type": "code",
   "execution_count": 2,
   "metadata": {},
   "outputs": [],
   "source": [
    "# paths\n",
    "path_to_json_file = os.path.abspath('../data/json/')\n",
    "\n",
    "# json file\n",
    "json_file = '/sample_json' #name json file  \n",
    "file = '{}{}.json'.format(path_to_json_file, json_file)"
   ]
  },
  {
   "cell_type": "code",
   "execution_count": 3,
   "metadata": {},
   "outputs": [],
   "source": [
    "# load json file\n",
    "df = pd.read_json(file)"
   ]
  },
  {
   "cell_type": "markdown",
   "metadata": {},
   "source": [
    "### Optimize memory usage"
   ]
  },
  {
   "cell_type": "code",
   "execution_count": 25,
   "metadata": {},
   "outputs": [
    {
     "name": "stdout",
     "output_type": "stream",
     "text": [
      "Index                                     24000\n",
      "nct_id                                   204000\n",
      "study_first_submitted                    215818\n",
      "source                                   257075\n",
      "brief_title                              435621\n",
      "overall_status                           204020\n",
      "verification_date                        204177\n",
      "study_type                               212966\n",
      "study_first_posted                       215652\n",
      "last_update_submitted                    215347\n",
      "last_update_posted                       215248\n",
      "phase                                    187658\n",
      "condition                                230697\n",
      "condition_browse/mesh_term               206817\n",
      "intervention_browse/mesh_term            193515\n",
      "detailed_description/textblock          4885542\n",
      "brief_summary/textblock                 2259640\n",
      "location/facility/address/city           195564\n",
      "location/facility/address/country        199018\n",
      "location/facility/address/zip            186319\n",
      "sponsors/lead_sponsor/agency             256266\n",
      "sponsors/lead_sponsor/agency_class       188193\n",
      "study_design_info/allocation             195146\n",
      "study_design_info/intervention_model     221691\n",
      "study_design_info/primary_purpose        196617\n",
      "dtype: int64\n",
      "<class 'pandas.core.frame.DataFrame'>\n",
      "Int64Index: 3000 entries, 0 to 999\n",
      "Data columns (total 24 columns):\n",
      "nct_id                                  3000 non-null object\n",
      "study_first_submitted                   3000 non-null object\n",
      "source                                  3000 non-null object\n",
      "brief_title                             3000 non-null object\n",
      "overall_status                          3000 non-null object\n",
      "verification_date                       2991 non-null object\n",
      "study_type                              3000 non-null object\n",
      "study_first_posted                      3000 non-null object\n",
      "last_update_submitted                   3000 non-null object\n",
      "last_update_posted                      3000 non-null object\n",
      "phase                                   3000 non-null object\n",
      "condition                               3000 non-null object\n",
      "condition_browse/mesh_term              3000 non-null object\n",
      "intervention_browse/mesh_term           3000 non-null object\n",
      "detailed_description/textblock          3000 non-null object\n",
      "brief_summary/textblock                 3000 non-null object\n",
      "location/facility/address/city          3000 non-null object\n",
      "location/facility/address/country       3000 non-null object\n",
      "location/facility/address/zip           3000 non-null object\n",
      "sponsors/lead_sponsor/agency            3000 non-null object\n",
      "sponsors/lead_sponsor/agency_class      3000 non-null object\n",
      "study_design_info/allocation            3000 non-null object\n",
      "study_design_info/intervention_model    3000 non-null object\n",
      "study_design_info/primary_purpose       3000 non-null object\n",
      "dtypes: object(24)\n",
      "memory usage: 585.9+ KB\n"
     ]
    }
   ],
   "source": [
    "print(df.memory_usage(deep=True))\n",
    "df.info(verbose=True)"
   ]
  },
  {
   "cell_type": "code",
   "execution_count": 19,
   "metadata": {},
   "outputs": [],
   "source": [
    "# Change data types\n",
    "df['nct_id'] = df['nct_id'].astype('str')"
   ]
  },
  {
   "cell_type": "code",
   "execution_count": null,
   "metadata": {},
   "outputs": [],
   "source": []
  }
 ],
 "metadata": {
  "kernelspec": {
   "display_name": "Python 3",
   "language": "python",
   "name": "python3"
  },
  "language_info": {
   "codemirror_mode": {
    "name": "ipython",
    "version": 3
   },
   "file_extension": ".py",
   "mimetype": "text/x-python",
   "name": "python",
   "nbconvert_exporter": "python",
   "pygments_lexer": "ipython3",
   "version": "3.7.3"
  }
 },
 "nbformat": 4,
 "nbformat_minor": 2
}
