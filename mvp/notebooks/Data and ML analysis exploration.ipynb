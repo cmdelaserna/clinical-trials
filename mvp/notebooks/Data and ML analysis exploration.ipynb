{
 "cells": [
  {
   "cell_type": "markdown",
   "metadata": {},
   "source": [
    "## Debugging and testing ML pipeline"
   ]
  },
  {
   "cell_type": "code",
   "execution_count": 1,
   "metadata": {},
   "outputs": [],
   "source": [
    "import time\n",
    "import json\n",
    "import os\n",
    "import pandas as pd\n",
    "import matplotlib.pyplot as plt\n",
    "import sys\n",
    "import numpy as np\n",
    "import seaborn as sns\n",
    "import networkx as nx"
   ]
  },
  {
   "cell_type": "markdown",
   "metadata": {},
   "source": [
    "### Load json file in a dataframe"
   ]
  },
  {
   "cell_type": "code",
   "execution_count": 2,
   "metadata": {},
   "outputs": [],
   "source": [
    "# paths\n",
    "path_to_json_file = os.path.abspath('../data/json/')\n",
    "\n",
    "# json file\n",
    "json_file = '/all_parsed_data_json' #name json file  \n",
    "file = '{}{}.json'.format(path_to_json_file, json_file)"
   ]
  },
  {
   "cell_type": "code",
   "execution_count": 3,
   "metadata": {},
   "outputs": [],
   "source": [
    "# load json file\n",
    "df = pd.read_json(file)"
   ]
  },
  {
   "cell_type": "code",
   "execution_count": 4,
   "metadata": {},
   "outputs": [],
   "source": [
    "# print(df.memory_usage(deep=True))\n",
    "# df.info(verbose=True)"
   ]
  },
  {
   "cell_type": "code",
   "execution_count": 5,
   "metadata": {},
   "outputs": [
    {
     "data": {
      "text/html": [
       "<div>\n",
       "<style scoped>\n",
       "    .dataframe tbody tr th:only-of-type {\n",
       "        vertical-align: middle;\n",
       "    }\n",
       "\n",
       "    .dataframe tbody tr th {\n",
       "        vertical-align: top;\n",
       "    }\n",
       "\n",
       "    .dataframe thead th {\n",
       "        text-align: right;\n",
       "    }\n",
       "</style>\n",
       "<table border=\"1\" class=\"dataframe\">\n",
       "  <thead>\n",
       "    <tr style=\"text-align: right;\">\n",
       "      <th></th>\n",
       "      <th>nct_id</th>\n",
       "      <th>study_first_submitted</th>\n",
       "      <th>source</th>\n",
       "      <th>brief_title</th>\n",
       "      <th>overall_status</th>\n",
       "      <th>verification_date</th>\n",
       "      <th>study_type</th>\n",
       "      <th>study_first_posted</th>\n",
       "      <th>last_update_submitted</th>\n",
       "      <th>last_update_posted</th>\n",
       "      <th>...</th>\n",
       "      <th>detailed_description/textblock</th>\n",
       "      <th>brief_summary/textblock</th>\n",
       "      <th>location/facility/address/city</th>\n",
       "      <th>location/facility/address/country</th>\n",
       "      <th>location/facility/address/zip</th>\n",
       "      <th>sponsors/lead_sponsor/agency</th>\n",
       "      <th>sponsors/lead_sponsor/agency_class</th>\n",
       "      <th>study_design_info/allocation</th>\n",
       "      <th>study_design_info/intervention_model</th>\n",
       "      <th>study_design_info/primary_purpose</th>\n",
       "    </tr>\n",
       "  </thead>\n",
       "  <tbody>\n",
       "    <tr>\n",
       "      <th>0</th>\n",
       "      <td>NCT00391586</td>\n",
       "      <td>October 23, 2006</td>\n",
       "      <td>New Mexico Cancer Care Alliance</td>\n",
       "      <td>Erlotinib and Standard Platinum-Based Chemothe...</td>\n",
       "      <td>Terminated</td>\n",
       "      <td>August 2015</td>\n",
       "      <td>Interventional</td>\n",
       "      <td>October 24, 2006</td>\n",
       "      <td>August 14, 2015</td>\n",
       "      <td>August 17, 2015</td>\n",
       "      <td>...</td>\n",
       "      <td>\\n      To compare the activities (the progres...</td>\n",
       "      <td>\\n      This study was conducted to compare th...</td>\n",
       "      <td>Albuquerque</td>\n",
       "      <td>United States</td>\n",
       "      <td>87102</td>\n",
       "      <td>New Mexico Cancer Care Alliance</td>\n",
       "      <td>Other</td>\n",
       "      <td>None</td>\n",
       "      <td>Single Group Assignment</td>\n",
       "      <td>Treatment</td>\n",
       "    </tr>\n",
       "    <tr>\n",
       "      <th>1</th>\n",
       "      <td>NCT03472664</td>\n",
       "      <td>March 12, 2018</td>\n",
       "      <td>Wake Forest University Health Sciences</td>\n",
       "      <td>Brain Energy for Amyloid Transformation in Alz...</td>\n",
       "      <td>Recruiting</td>\n",
       "      <td>July 2018</td>\n",
       "      <td>Interventional</td>\n",
       "      <td>March 21, 2018</td>\n",
       "      <td>July 30, 2018</td>\n",
       "      <td>August 1, 2018</td>\n",
       "      <td>...</td>\n",
       "      <td>\\n      This study will examine the effects of...</td>\n",
       "      <td>\\n      The Brain Energy for Amyloid Transform...</td>\n",
       "      <td>Winston-Salem</td>\n",
       "      <td>United States</td>\n",
       "      <td>27157</td>\n",
       "      <td>Wake Forest University Health Sciences</td>\n",
       "      <td>Other</td>\n",
       "      <td>Randomized</td>\n",
       "      <td>Parallel Assignment</td>\n",
       "      <td>Treatment</td>\n",
       "    </tr>\n",
       "    <tr>\n",
       "      <th>10</th>\n",
       "      <td>NCT01009658</td>\n",
       "      <td>November 6, 2009</td>\n",
       "      <td>Gunma University</td>\n",
       "      <td>MSG and Gastrointestinal Motility</td>\n",
       "      <td>Completed</td>\n",
       "      <td>March 2015</td>\n",
       "      <td>Interventional</td>\n",
       "      <td>November 9, 2009</td>\n",
       "      <td>March 25, 2015</td>\n",
       "      <td>March 26, 2015</td>\n",
       "      <td>...</td>\n",
       "      <td>\\n      Amino acids such as monosodium glutama...</td>\n",
       "      <td>\\n      The purpose of this study is to clarif...</td>\n",
       "      <td>Maebashi</td>\n",
       "      <td>Japan</td>\n",
       "      <td>3718511</td>\n",
       "      <td>Gunma University</td>\n",
       "      <td>Other</td>\n",
       "      <td>Randomized</td>\n",
       "      <td>Crossover Assignment</td>\n",
       "      <td>Basic Science</td>\n",
       "    </tr>\n",
       "    <tr>\n",
       "      <th>100</th>\n",
       "      <td>NCT03184311</td>\n",
       "      <td>June 2, 2017</td>\n",
       "      <td>Cantonal Hosptal, Baselland</td>\n",
       "      <td>High-intensity Interval Training in Heart Fail...</td>\n",
       "      <td>Not yet recruiting</td>\n",
       "      <td>June 2017</td>\n",
       "      <td>Interventional</td>\n",
       "      <td>June 12, 2017</td>\n",
       "      <td>June 9, 2017</td>\n",
       "      <td>June 12, 2017</td>\n",
       "      <td>...</td>\n",
       "      <td>\\n      Heart failure (HF) with preserved ejec...</td>\n",
       "      <td>\\n      This study investigates the effects of...</td>\n",
       "      <td>None</td>\n",
       "      <td>None</td>\n",
       "      <td>None</td>\n",
       "      <td>Cantonal Hosptal, Baselland</td>\n",
       "      <td>Other</td>\n",
       "      <td>Randomized</td>\n",
       "      <td>Parallel Assignment</td>\n",
       "      <td>Treatment</td>\n",
       "    </tr>\n",
       "    <tr>\n",
       "      <th>1000</th>\n",
       "      <td>NCT00093301</td>\n",
       "      <td>October 5, 2004</td>\n",
       "      <td>Wentworth Area Health Services</td>\n",
       "      <td>Levosimendan Versus Dobutamine in Shock Patients</td>\n",
       "      <td>Unknown status</td>\n",
       "      <td>December 2011</td>\n",
       "      <td>Interventional</td>\n",
       "      <td>October 7, 2004</td>\n",
       "      <td>June 23, 2005</td>\n",
       "      <td>June 24, 2005</td>\n",
       "      <td>...</td>\n",
       "      <td>None</td>\n",
       "      <td>\\n      The purpose of the study is to compare...</td>\n",
       "      <td>Penrith</td>\n",
       "      <td>Australia</td>\n",
       "      <td>2750</td>\n",
       "      <td>Wentworth Area Health Services</td>\n",
       "      <td>Other</td>\n",
       "      <td>Randomized</td>\n",
       "      <td>Parallel Assignment</td>\n",
       "      <td>Treatment</td>\n",
       "    </tr>\n",
       "  </tbody>\n",
       "</table>\n",
       "<p>5 rows × 24 columns</p>\n",
       "</div>"
      ],
      "text/plain": [
       "           nct_id study_first_submitted  \\\n",
       "0     NCT00391586      October 23, 2006   \n",
       "1     NCT03472664        March 12, 2018   \n",
       "10    NCT01009658      November 6, 2009   \n",
       "100   NCT03184311          June 2, 2017   \n",
       "1000  NCT00093301       October 5, 2004   \n",
       "\n",
       "                                      source  \\\n",
       "0            New Mexico Cancer Care Alliance   \n",
       "1     Wake Forest University Health Sciences   \n",
       "10                          Gunma University   \n",
       "100              Cantonal Hosptal, Baselland   \n",
       "1000          Wentworth Area Health Services   \n",
       "\n",
       "                                            brief_title      overall_status  \\\n",
       "0     Erlotinib and Standard Platinum-Based Chemothe...          Terminated   \n",
       "1     Brain Energy for Amyloid Transformation in Alz...          Recruiting   \n",
       "10                    MSG and Gastrointestinal Motility           Completed   \n",
       "100   High-intensity Interval Training in Heart Fail...  Not yet recruiting   \n",
       "1000   Levosimendan Versus Dobutamine in Shock Patients      Unknown status   \n",
       "\n",
       "     verification_date      study_type study_first_posted  \\\n",
       "0          August 2015  Interventional   October 24, 2006   \n",
       "1            July 2018  Interventional     March 21, 2018   \n",
       "10          March 2015  Interventional   November 9, 2009   \n",
       "100          June 2017  Interventional      June 12, 2017   \n",
       "1000     December 2011  Interventional    October 7, 2004   \n",
       "\n",
       "     last_update_submitted last_update_posted  ...  \\\n",
       "0          August 14, 2015    August 17, 2015  ...   \n",
       "1            July 30, 2018     August 1, 2018  ...   \n",
       "10          March 25, 2015     March 26, 2015  ...   \n",
       "100           June 9, 2017      June 12, 2017  ...   \n",
       "1000         June 23, 2005      June 24, 2005  ...   \n",
       "\n",
       "                         detailed_description/textblock  \\\n",
       "0     \\n      To compare the activities (the progres...   \n",
       "1     \\n      This study will examine the effects of...   \n",
       "10    \\n      Amino acids such as monosodium glutama...   \n",
       "100   \\n      Heart failure (HF) with preserved ejec...   \n",
       "1000                                               None   \n",
       "\n",
       "                                brief_summary/textblock  \\\n",
       "0     \\n      This study was conducted to compare th...   \n",
       "1     \\n      The Brain Energy for Amyloid Transform...   \n",
       "10    \\n      The purpose of this study is to clarif...   \n",
       "100   \\n      This study investigates the effects of...   \n",
       "1000  \\n      The purpose of the study is to compare...   \n",
       "\n",
       "     location/facility/address/city location/facility/address/country  \\\n",
       "0                       Albuquerque                     United States   \n",
       "1                     Winston-Salem                     United States   \n",
       "10                         Maebashi                             Japan   \n",
       "100                            None                              None   \n",
       "1000                        Penrith                         Australia   \n",
       "\n",
       "     location/facility/address/zip            sponsors/lead_sponsor/agency  \\\n",
       "0                            87102         New Mexico Cancer Care Alliance   \n",
       "1                            27157  Wake Forest University Health Sciences   \n",
       "10                         3718511                        Gunma University   \n",
       "100                           None             Cantonal Hosptal, Baselland   \n",
       "1000                          2750          Wentworth Area Health Services   \n",
       "\n",
       "     sponsors/lead_sponsor/agency_class study_design_info/allocation  \\\n",
       "0                                 Other                         None   \n",
       "1                                 Other                   Randomized   \n",
       "10                                Other                   Randomized   \n",
       "100                               Other                   Randomized   \n",
       "1000                              Other                   Randomized   \n",
       "\n",
       "     study_design_info/intervention_model study_design_info/primary_purpose  \n",
       "0                 Single Group Assignment                         Treatment  \n",
       "1                     Parallel Assignment                         Treatment  \n",
       "10                   Crossover Assignment                     Basic Science  \n",
       "100                   Parallel Assignment                         Treatment  \n",
       "1000                  Parallel Assignment                         Treatment  \n",
       "\n",
       "[5 rows x 24 columns]"
      ]
     },
     "execution_count": 5,
     "metadata": {},
     "output_type": "execute_result"
    }
   ],
   "source": [
    "df.head()"
   ]
  },
  {
   "cell_type": "markdown",
   "metadata": {},
   "source": [
    "## df setup\n",
    "- Change data types & optimize memory usage\n",
    "- Extract year\n",
    "- Clean /n in text"
   ]
  },
  {
   "cell_type": "code",
   "execution_count": 6,
   "metadata": {},
   "outputs": [],
   "source": [
    "# Change data types: Dates\n",
    "columns_dates = ['study_first_submitted', 'study_first_posted', 'last_update_submitted', 'last_update_posted', 'verification_date']\n",
    "for col in columns_dates:\n",
    "    df[col] = df[col].astype('datetime64')\n",
    "        "
   ]
  },
  {
   "cell_type": "code",
   "execution_count": 7,
   "metadata": {},
   "outputs": [],
   "source": [
    "# # check\n",
    "# for i in columns_dates:\n",
    "#     print(df[i].dtypes)"
   ]
  },
  {
   "cell_type": "code",
   "execution_count": 8,
   "metadata": {},
   "outputs": [],
   "source": [
    "# Extract year \n",
    "df['year_submitted'] = df['study_first_submitted'].dt.year\n",
    "df['year_last_updated'] = df['last_update_submitted'].dt.year"
   ]
  },
  {
   "cell_type": "code",
   "execution_count": 9,
   "metadata": {},
   "outputs": [],
   "source": [
    "# Remove /n\n",
    "df = df.replace(r'\\n',' ', regex=True)"
   ]
  },
  {
   "cell_type": "code",
   "execution_count": 10,
   "metadata": {},
   "outputs": [],
   "source": [
    "#check dataset\n",
    "# pd.set_option('display.max_colwidth', -1)\n",
    "# pd.set_option('display.max_columns', 500)\n",
    "# df.sample(1)"
   ]
  },
  {
   "cell_type": "code",
   "execution_count": 11,
   "metadata": {
    "scrolled": true
   },
   "outputs": [
    {
     "data": {
      "text/plain": [
       "'new mexico cancer care allianceerlotinib and standard platinum-based chemotherapy for newly diagnosed, advanced non-small cell carcinoma of the lungcarcinoma, non-small-cell lungcarcinomapaclitaxel       to compare the activities (the progression-free survival, the incidence and severity of       toxicities, and reversibility of toxicities) of erlotinib to that of platinum-based therapy       in nsclc. a sequential therapy design has been chosen such that all patients will receive any       potential benefits of both platinum-based and erlotinib therapy, without compromising       survival by denying anyone potential therapy. with this design, progression-free survival       will be tracked by treatment received. however, data will be generated which will show the       safety and efficacy of erlotinib in the frontline setting (alone and with historical       comparison to platinum-based therapy), as well as the potential safety and activity of       platinum-based therapy in the \"second-line\" (post-erlotinib) setting. this should allow for       the demonstration of the relative median time to progression, objective response and clinical       benefit rates, overall survival, and safety and tolerability of erlotinib and platinum-based       therapy in both the frontline and second-line settings in nsclc. also, in this fashion, the       treatments serve as controls for each other, as well as being compared to historical       controls; in the first line treatment portion, the platinum-based regimens serve as the       historical control, while in the second-line setting, erlotinib serves as the historical       control arm.            this study was conducted to compare the activities of erlotinib to that of intravenous,       platinum-based therapy in the treatment of non-small cell lung cancer (nsclc). the goal of       this trial was to demonstrate clinical equivalence of erlotinib to platinum-based frontline       therapy, compared to historical controls.     '"
      ]
     },
     "execution_count": 11,
     "metadata": {},
     "output_type": "execute_result"
    }
   ],
   "source": [
    "# Put all texts in a single column\n",
    "df['all_text'] = df['source'] + df['brief_title'] + df['condition'] + df['condition_browse/mesh_term'] + df['intervention_browse/mesh_term'] + df['detailed_description/textblock'] + df['brief_summary/textblock']\n",
    "df['all_text'] = df['all_text'].str.lower()\n",
    "df['all_text'][0]"
   ]
  },
  {
   "cell_type": "markdown",
   "metadata": {},
   "source": [
    "### Basic analysis"
   ]
  },
  {
   "cell_type": "code",
   "execution_count": 12,
   "metadata": {},
   "outputs": [],
   "source": [
    "# Plot variables plt\n",
    "blue = '#3298D0'\n",
    "base_color = ['#3298D0', '#d7191c', '#ffffbf']\n",
    "plot_size = (16, 12)"
   ]
  },
  {
   "cell_type": "code",
   "execution_count": 13,
   "metadata": {},
   "outputs": [],
   "source": [
    "# Plot variables sns\n",
    "plt.rcParams['figure.figsize'] = (20.0, 10.0)\n",
    "plt.rcParams['font.family'] = \"arial\""
   ]
  },
  {
   "cell_type": "code",
   "execution_count": 14,
   "metadata": {},
   "outputs": [
    {
     "data": {
      "text/plain": [
       "(1998, 2020)"
      ]
     },
     "execution_count": 14,
     "metadata": {},
     "output_type": "execute_result"
    },
    {
     "data": {
      "image/png": "[encoded data removed]",
      "text/plain": [
       "<Figure size 1440x720 with 1 Axes>"
      ]
     },
     "metadata": {
      "needs_background": "light"
     },
     "output_type": "display_data"
    }
   ],
   "source": [
    "#trials per year -matplotlib\n",
    "trials_per_year = df.groupby('year_submitted').nct_id.count()\n",
    "\n",
    "plt.bar(trials_per_year.index, trials_per_year)\n",
    "plt.xlabel('Year')\n",
    "plt.ylabel('Number of clinical trials submitted')\n",
    "plt.xlim(1998, 2020)"
   ]
  },
  {
   "cell_type": "code",
   "execution_count": 15,
   "metadata": {},
   "outputs": [
    {
     "data": {
      "text/plain": [
       "year_submitted  sponsors/lead_sponsor/agency_class\n",
       "1999            Industry                               517\n",
       "                NIH                                   1586\n",
       "                Other                                 1527\n",
       "                U.S. Fed                                15\n",
       "2000            Industry                                98\n",
       "Name: nct_id, dtype: int64"
      ]
     },
     "execution_count": 15,
     "metadata": {},
     "output_type": "execute_result"
    }
   ],
   "source": [
    "# group by two groups: year submitted, agency class\n",
    "trials_year_status = df.groupby(['year_submitted','sponsors/lead_sponsor/agency_class']).nct_id.count()\n",
    "trials_year_status['total'] = trials_year_status.sum()\n",
    "trials_year_status.head()"
   ]
  },
  {
   "cell_type": "code",
   "execution_count": 16,
   "metadata": {},
   "outputs": [],
   "source": [
    "# group by sponsor total -sns\n",
    "sponsor = df.groupby(['sponsors/lead_sponsor/agency_class']).nct_id.count()\n",
    "sponsor['total'] = sponsor.sum()\n",
    "sponsor = pd.Series.to_frame(sponsor)"
   ]
  },
  {
   "cell_type": "code",
   "execution_count": 17,
   "metadata": {},
   "outputs": [],
   "source": [
    "#add percentage\n",
    "sponsor ['percentage'] = round(sponsor.nct_id / sponsor.nct_id.total * 100)"
   ]
  },
  {
   "cell_type": "code",
   "execution_count": 18,
   "metadata": {},
   "outputs": [
    {
     "name": "stderr",
     "output_type": "stream",
     "text": [
      "/Users/cms/Sites/env/haden/lib/python3.7/site-packages/ipykernel_launcher.py:1: FutureWarning: \n",
      "Passing list-likes to .loc or [] with any missing label will raise\n",
      "KeyError in the future, you can use .reindex() as an alternative.\n",
      "\n",
      "See the documentation here:\n",
      "https://pandas.pydata.org/pandas-docs/stable/indexing.html#deprecate-loc-reindex-listlike\n",
      "  \"\"\"Entry point for launching an IPython kernel.\n"
     ]
    },
    {
     "data": {
      "text/plain": [
       "<matplotlib.axes._subplots.AxesSubplot at 0x12184fc18>"
      ]
     },
     "execution_count": 18,
     "metadata": {},
     "output_type": "execute_result"
    },
    {
     "data": {
      "image/png": "[encoded data removed]",
      "text/plain": [
       "<Figure size 1440x720 with 1 Axes>"
      ]
     },
     "metadata": {
      "needs_background": "light"
     },
     "output_type": "display_data"
    }
   ],
   "source": [
    "sponsor.loc[['nct_id', 'total']]\n",
    "sns.barplot(x=sponsor.index, y=sponsor.percentage, data=sponsor)"
   ]
  },
  {
   "cell_type": "markdown",
   "metadata": {},
   "source": [
    "## Conditions & mesh terms exploration"
   ]
  },
  {
   "cell_type": "code",
   "execution_count": 20,
   "metadata": {},
   "outputs": [
    {
     "data": {
      "text/html": [
       "<div>\n",
       "<style scoped>\n",
       "    .dataframe tbody tr th:only-of-type {\n",
       "        vertical-align: middle;\n",
       "    }\n",
       "\n",
       "    .dataframe tbody tr th {\n",
       "        vertical-align: top;\n",
       "    }\n",
       "\n",
       "    .dataframe thead th {\n",
       "        text-align: right;\n",
       "    }\n",
       "</style>\n",
       "<table border=\"1\" class=\"dataframe\">\n",
       "  <thead>\n",
       "    <tr style=\"text-align: right;\">\n",
       "      <th></th>\n",
       "      <th>nct_id</th>\n",
       "    </tr>\n",
       "    <tr>\n",
       "      <th>condition</th>\n",
       "      <th></th>\n",
       "    </tr>\n",
       "  </thead>\n",
       "  <tbody>\n",
       "    <tr>\n",
       "      <th>Healthy</th>\n",
       "      <td>6546</td>\n",
       "    </tr>\n",
       "    <tr>\n",
       "      <th>Breast Cancer</th>\n",
       "      <td>4609</td>\n",
       "    </tr>\n",
       "    <tr>\n",
       "      <th>Obesity</th>\n",
       "      <td>3039</td>\n",
       "    </tr>\n",
       "    <tr>\n",
       "      <th>HIV Infections</th>\n",
       "      <td>2469</td>\n",
       "    </tr>\n",
       "    <tr>\n",
       "      <th>Asthma</th>\n",
       "      <td>2454</td>\n",
       "    </tr>\n",
       "    <tr>\n",
       "      <th>Prostate Cancer</th>\n",
       "      <td>2386</td>\n",
       "    </tr>\n",
       "    <tr>\n",
       "      <th>Hypertension</th>\n",
       "      <td>1996</td>\n",
       "    </tr>\n",
       "    <tr>\n",
       "      <th>Schizophrenia</th>\n",
       "      <td>1964</td>\n",
       "    </tr>\n",
       "    <tr>\n",
       "      <th>Coronary Artery Disease</th>\n",
       "      <td>1830</td>\n",
       "    </tr>\n",
       "    <tr>\n",
       "      <th>Pain</th>\n",
       "      <td>1741</td>\n",
       "    </tr>\n",
       "  </tbody>\n",
       "</table>\n",
       "</div>"
      ],
      "text/plain": [
       "                         nct_id\n",
       "condition                      \n",
       "Healthy                    6546\n",
       "Breast Cancer              4609\n",
       "Obesity                    3039\n",
       "HIV Infections             2469\n",
       "Asthma                     2454\n",
       "Prostate Cancer            2386\n",
       "Hypertension               1996\n",
       "Schizophrenia              1964\n",
       "Coronary Artery Disease    1830\n",
       "Pain                       1741"
      ]
     },
     "execution_count": 20,
     "metadata": {},
     "output_type": "execute_result"
    }
   ],
   "source": [
    "# Most frequent conditions\n",
    "conditions = df.groupby('condition').nct_id.count()\n",
    "conditions = pd.Series.to_frame(conditions)\n",
    "conditions.sort_values('nct_id', ascending=False).head(10)"
   ]
  },
  {
   "cell_type": "code",
   "execution_count": 21,
   "metadata": {},
   "outputs": [
    {
     "data": {
      "text/plain": [
       "<matplotlib.axes._subplots.AxesSubplot at 0x28c2c3fd0>"
      ]
     },
     "execution_count": 21,
     "metadata": {},
     "output_type": "execute_result"
    },
    {
     "data": {
      "image/png": "[encoded data removed]",
      "text/plain": [
       "<Figure size 1440x720 with 1 Axes>"
      ]
     },
     "metadata": {
      "needs_background": "light"
     },
     "output_type": "display_data"
    }
   ],
   "source": [
    "# histogram\n",
    "sns.distplot(conditions, kde=False, rug=True)"
   ]
  },
  {
   "cell_type": "code",
   "execution_count": 22,
   "metadata": {},
   "outputs": [
    {
     "data": {
      "text/html": [
       "<div>\n",
       "<style scoped>\n",
       "    .dataframe tbody tr th:only-of-type {\n",
       "        vertical-align: middle;\n",
       "    }\n",
       "\n",
       "    .dataframe tbody tr th {\n",
       "        vertical-align: top;\n",
       "    }\n",
       "\n",
       "    .dataframe thead th {\n",
       "        text-align: right;\n",
       "    }\n",
       "</style>\n",
       "<table border=\"1\" class=\"dataframe\">\n",
       "  <thead>\n",
       "    <tr style=\"text-align: right;\">\n",
       "      <th></th>\n",
       "      <th>condition_browse/mesh_term</th>\n",
       "      <th>nct_id</th>\n",
       "    </tr>\n",
       "  </thead>\n",
       "  <tbody>\n",
       "    <tr>\n",
       "      <th>1573</th>\n",
       "      <td>None</td>\n",
       "      <td>58494</td>\n",
       "    </tr>\n",
       "    <tr>\n",
       "      <th>576</th>\n",
       "      <td>Diabetes Mellitus</td>\n",
       "      <td>9102</td>\n",
       "    </tr>\n",
       "    <tr>\n",
       "      <th>281</th>\n",
       "      <td>Breast Neoplasms</td>\n",
       "      <td>6399</td>\n",
       "    </tr>\n",
       "    <tr>\n",
       "      <th>2157</th>\n",
       "      <td>Syndrome</td>\n",
       "      <td>6102</td>\n",
       "    </tr>\n",
       "    <tr>\n",
       "      <th>598</th>\n",
       "      <td>Disease</td>\n",
       "      <td>4931</td>\n",
       "    </tr>\n",
       "    <tr>\n",
       "      <th>323</th>\n",
       "      <td>Carcinoma</td>\n",
       "      <td>4660</td>\n",
       "    </tr>\n",
       "    <tr>\n",
       "      <th>1327</th>\n",
       "      <td>Lymphoma</td>\n",
       "      <td>4303</td>\n",
       "    </tr>\n",
       "    <tr>\n",
       "      <th>1312</th>\n",
       "      <td>Lung Neoplasms</td>\n",
       "      <td>3956</td>\n",
       "    </tr>\n",
       "    <tr>\n",
       "      <th>1090</th>\n",
       "      <td>Hypertension</td>\n",
       "      <td>3740</td>\n",
       "    </tr>\n",
       "    <tr>\n",
       "      <th>1155</th>\n",
       "      <td>Infection</td>\n",
       "      <td>3649</td>\n",
       "    </tr>\n",
       "  </tbody>\n",
       "</table>\n",
       "</div>"
      ],
      "text/plain": [
       "     condition_browse/mesh_term  nct_id\n",
       "1573                       None   58494\n",
       "576           Diabetes Mellitus    9102\n",
       "281            Breast Neoplasms    6399\n",
       "2157                   Syndrome    6102\n",
       "598                     Disease    4931\n",
       "323                   Carcinoma    4660\n",
       "1327                   Lymphoma    4303\n",
       "1312             Lung Neoplasms    3956\n",
       "1090               Hypertension    3740\n",
       "1155                  Infection    3649"
      ]
     },
     "execution_count": 22,
     "metadata": {},
     "output_type": "execute_result"
    }
   ],
   "source": [
    "mesh_term = df.groupby('condition_browse/mesh_term', as_index=False).nct_id.count()\n",
    "mesh_term.sort_values('nct_id', ascending=False).head(10)"
   ]
  },
  {
   "cell_type": "code",
   "execution_count": 23,
   "metadata": {},
   "outputs": [
    {
     "data": {
      "text/plain": [
       "<matplotlib.axes._subplots.AxesSubplot at 0x28c2c2198>"
      ]
     },
     "execution_count": 23,
     "metadata": {},
     "output_type": "execute_result"
    },
    {
     "data": {
      "image/png": "[encoded data removed]",
      "text/plain": [
       "<Figure size 1440x720 with 1 Axes>"
      ]
     },
     "metadata": {
      "needs_background": "light"
     },
     "output_type": "display_data"
    }
   ],
   "source": [
    "#histogram\n",
    "sns.distplot(mesh_term.nct_id, kde=False, rug=True)"
   ]
  },
  {
   "cell_type": "code",
   "execution_count": 24,
   "metadata": {},
   "outputs": [
    {
     "data": {
      "text/html": [
       "<div>\n",
       "<style scoped>\n",
       "    .dataframe tbody tr th:only-of-type {\n",
       "        vertical-align: middle;\n",
       "    }\n",
       "\n",
       "    .dataframe tbody tr th {\n",
       "        vertical-align: top;\n",
       "    }\n",
       "\n",
       "    .dataframe thead th {\n",
       "        text-align: right;\n",
       "    }\n",
       "</style>\n",
       "<table border=\"1\" class=\"dataframe\">\n",
       "  <thead>\n",
       "    <tr style=\"text-align: right;\">\n",
       "      <th></th>\n",
       "      <th>nct_id</th>\n",
       "    </tr>\n",
       "    <tr>\n",
       "      <th>intervention_browse/mesh_term</th>\n",
       "      <th></th>\n",
       "    </tr>\n",
       "  </thead>\n",
       "  <tbody>\n",
       "    <tr>\n",
       "      <th>None</th>\n",
       "      <td>169063</td>\n",
       "    </tr>\n",
       "    <tr>\n",
       "      <th>Vaccines</th>\n",
       "      <td>5632</td>\n",
       "    </tr>\n",
       "    <tr>\n",
       "      <th>Insulin</th>\n",
       "      <td>2858</td>\n",
       "    </tr>\n",
       "    <tr>\n",
       "      <th>Paclitaxel</th>\n",
       "      <td>2741</td>\n",
       "    </tr>\n",
       "    <tr>\n",
       "      <th>Vitamins</th>\n",
       "      <td>2439</td>\n",
       "    </tr>\n",
       "    <tr>\n",
       "      <th>Anesthetics</th>\n",
       "      <td>2392</td>\n",
       "    </tr>\n",
       "    <tr>\n",
       "      <th>Pharmaceutical Solutions</th>\n",
       "      <td>2242</td>\n",
       "    </tr>\n",
       "    <tr>\n",
       "      <th>Cyclophosphamide</th>\n",
       "      <td>2039</td>\n",
       "    </tr>\n",
       "    <tr>\n",
       "      <th>Cisplatin</th>\n",
       "      <td>2033</td>\n",
       "    </tr>\n",
       "    <tr>\n",
       "      <th>Dexamethasone</th>\n",
       "      <td>2033</td>\n",
       "    </tr>\n",
       "  </tbody>\n",
       "</table>\n",
       "</div>"
      ],
      "text/plain": [
       "                               nct_id\n",
       "intervention_browse/mesh_term        \n",
       "None                           169063\n",
       "Vaccines                         5632\n",
       "Insulin                          2858\n",
       "Paclitaxel                       2741\n",
       "Vitamins                         2439\n",
       "Anesthetics                      2392\n",
       "Pharmaceutical Solutions         2242\n",
       "Cyclophosphamide                 2039\n",
       "Cisplatin                        2033\n",
       "Dexamethasone                    2033"
      ]
     },
     "execution_count": 24,
     "metadata": {},
     "output_type": "execute_result"
    }
   ],
   "source": [
    "interventions = df.groupby('intervention_browse/mesh_term').nct_id.count()\n",
    "interventions = pd.Series.to_frame(interventions)\n",
    "interventions.sort_values('nct_id', ascending=False).head(10)"
   ]
  },
  {
   "cell_type": "code",
   "execution_count": 25,
   "metadata": {},
   "outputs": [
    {
     "data": {
      "text/plain": [
       "<matplotlib.axes._subplots.AxesSubplot at 0x28bce0a90>"
      ]
     },
     "execution_count": 25,
     "metadata": {},
     "output_type": "execute_result"
    },
    {
     "data": {
      "image/png": "[encoded data removed]",
      "text/plain": [
       "<Figure size 1440x720 with 1 Axes>"
      ]
     },
     "metadata": {
      "needs_background": "light"
     },
     "output_type": "display_data"
    }
   ],
   "source": [
    "#histogram\n",
    "sns.distplot(interventions.nct_id, kde=False, rug=True)"
   ]
  },
  {
   "cell_type": "code",
   "execution_count": 26,
   "metadata": {},
   "outputs": [
    {
     "name": "stdout",
     "output_type": "stream",
     "text": [
      "2411\n",
      "50164\n",
      "2655\n"
     ]
    }
   ],
   "source": [
    "print(len(mesh_term))\n",
    "print(len(conditions))\n",
    "print(len(interventions))"
   ]
  },
  {
   "cell_type": "markdown",
   "metadata": {},
   "source": [
    "## Pandas simple search function"
   ]
  },
  {
   "cell_type": "code",
   "execution_count": 27,
   "metadata": {},
   "outputs": [],
   "source": [
    "# Full search function\n",
    "def full_search_pandas(column, term, df):\n",
    "    #search term\n",
    "    term_upper = term.upper()\n",
    "    term_capital = term.capitalize()\n",
    "    term_lower = term.lower()\n",
    "    \n",
    "    try:\n",
    "        term = df[(df[column].str.contains(term_upper, regex=False)) | (df[column].str.contains(term_capital, regex=False)) | (df[column].str.contains(term_lower, regex=False))]\n",
    "\n",
    "        # Full context for term searched\n",
    "        print('Unique conditions {}'.format(term.condition.nunique()))\n",
    "        print('Unique condition/mesh_terms: {}'.format(term['condition_browse/mesh_term'].nunique()))\n",
    "        print('Unique interventon/mesh_terms: {}'.format(term['intervention_browse/mesh_term'].nunique()))\n",
    "        print('Total number of studies: {}'.format(len(term)))\n",
    "\n",
    "        #Chart: term over years\n",
    "        sns.countplot(x=\"year_submitted\", color='lightcoral', data=term)\n",
    "    \n",
    "    except ValueError as e:\n",
    "        print(e)\n",
    "        print('No results')\n"
   ]
  },
  {
   "cell_type": "markdown",
   "metadata": {},
   "source": [
    "## Test 1: Cisplatin"
   ]
  },
  {
   "cell_type": "code",
   "execution_count": 28,
   "metadata": {},
   "outputs": [
    {
     "name": "stdout",
     "output_type": "stream",
     "text": [
      "Unique conditions 930\n",
      "Unique condition/mesh_terms: 127\n",
      "Unique interventon/mesh_terms: 135\n",
      "Total number of studies: 3396\n"
     ]
    },
    {
     "data": {
      "image/png": "[encoded data removed]",
      "text/plain": [
       "<Figure size 1440x720 with 1 Axes>"
      ]
     },
     "metadata": {
      "needs_background": "light"
     },
     "output_type": "display_data"
    }
   ],
   "source": [
    "full_search_pandas('all_text', 'cisplatin', df)"
   ]
  },
  {
   "cell_type": "markdown",
   "metadata": {},
   "source": [
    "## Test 2: Pain"
   ]
  },
  {
   "cell_type": "code",
   "execution_count": 29,
   "metadata": {},
   "outputs": [
    {
     "name": "stdout",
     "output_type": "stream",
     "text": [
      "Unique conditions 8890\n",
      "Unique condition/mesh_terms: 1218\n",
      "Unique interventon/mesh_terms: 1013\n",
      "Total number of studies: 30748\n"
     ]
    },
    {
     "data": {
      "image/png": "[encoded data removed]",
      "text/plain": [
       "<Figure size 1440x720 with 1 Axes>"
      ]
     },
     "metadata": {
      "needs_background": "light"
     },
     "output_type": "display_data"
    }
   ],
   "source": [
    "full_search_pandas('all_text', 'pain', df)"
   ]
  },
  {
   "cell_type": "markdown",
   "metadata": {},
   "source": [
    "## Test 3: Specific drug"
   ]
  },
  {
   "cell_type": "code",
   "execution_count": 159,
   "metadata": {},
   "outputs": [
    {
     "name": "stdout",
     "output_type": "stream",
     "text": [
      "Unique conditions 0\n",
      "Unique condition/mesh_terms: 0\n",
      "Unique interventon/mesh_terms: 0\n",
      "Total number of studies: 0\n",
      "min() arg is an empty sequence\n",
      "No results\n"
     ]
    }
   ],
   "source": [
    "full_search_pandas('all_text', 'calquence', df)"
   ]
  },
  {
   "cell_type": "markdown",
   "metadata": {},
   "source": [
    "## Test 4: Pipeline"
   ]
  },
  {
   "cell_type": "code",
   "execution_count": 31,
   "metadata": {},
   "outputs": [
    {
     "name": "stdout",
     "output_type": "stream",
     "text": [
      "Unique conditions 1151\n",
      "Unique condition/mesh_terms: 291\n",
      "Unique interventon/mesh_terms: 284\n",
      "Total number of studies: 2973\n"
     ]
    },
    {
     "data": {
      "image/png": "[encoded data removed]",
      "text/plain": [
       "<Figure size 1440x720 with 1 Axes>"
      ]
     },
     "metadata": {
      "needs_background": "light"
     },
     "output_type": "display_data"
    }
   ],
   "source": [
    "full_search_pandas('all_text', 'Novartis', df)"
   ]
  },
  {
   "cell_type": "markdown",
   "metadata": {},
   "source": [
    "## Aggregating data by two elements"
   ]
  },
  {
   "cell_type": "code",
   "execution_count": 157,
   "metadata": {},
   "outputs": [],
   "source": [
    "#Function\n",
    "\n",
    "def search_aggregate(df, term, colum1, colum2):\n",
    "    term = term.lower()\n",
    "    try:\n",
    "        term = df[(df['all_text'].str.contains(term, regex=False))]\n",
    "        term_grouped = term.groupby([colum1, colum2])['nct_id'].count().reset_index()\n",
    "\n",
    "        # Context for term searched\n",
    "        print('Unique conditions {}'.format(term.condition.nunique()))\n",
    "        print('Total number of studies: {}'.format(len(term)))\n",
    "\n",
    "        #Chart: term over years\n",
    "        sns.countplot(x=colum2, color='lightcoral', data=term)\n",
    "    \n",
    "    except ValueError as e:\n",
    "        print(e)\n",
    "        print('No results')\n",
    "        pass\n",
    "        \n",
    "    except KeyError as e:\n",
    "        print(e)\n",
    "        print('No results')\n",
    "        pass\n",
    "        \n",
    "    return term_grouped.sort_values(['nct_id'], ascending=False).head()"
   ]
  },
  {
   "cell_type": "code",
   "execution_count": 158,
   "metadata": {},
   "outputs": [
    {
     "name": "stdout",
     "output_type": "stream",
     "text": [
      "Unique conditions 1151\n",
      "Total number of studies: 2973\n"
     ]
    },
    {
     "data": {
      "text/html": [
       "<div>\n",
       "<style scoped>\n",
       "    .dataframe tbody tr th:only-of-type {\n",
       "        vertical-align: middle;\n",
       "    }\n",
       "\n",
       "    .dataframe tbody tr th {\n",
       "        vertical-align: top;\n",
       "    }\n",
       "\n",
       "    .dataframe thead th {\n",
       "        text-align: right;\n",
       "    }\n",
       "</style>\n",
       "<table border=\"1\" class=\"dataframe\">\n",
       "  <thead>\n",
       "    <tr style=\"text-align: right;\">\n",
       "      <th></th>\n",
       "      <th>year_submitted</th>\n",
       "      <th>overall_status</th>\n",
       "      <th>nct_id</th>\n",
       "    </tr>\n",
       "  </thead>\n",
       "  <tbody>\n",
       "    <tr>\n",
       "      <th>8</th>\n",
       "      <td>2005</td>\n",
       "      <td>Completed</td>\n",
       "      <td>339</td>\n",
       "    </tr>\n",
       "    <tr>\n",
       "      <th>20</th>\n",
       "      <td>2007</td>\n",
       "      <td>Completed</td>\n",
       "      <td>227</td>\n",
       "    </tr>\n",
       "    <tr>\n",
       "      <th>13</th>\n",
       "      <td>2006</td>\n",
       "      <td>Completed</td>\n",
       "      <td>226</td>\n",
       "    </tr>\n",
       "    <tr>\n",
       "      <th>26</th>\n",
       "      <td>2008</td>\n",
       "      <td>Completed</td>\n",
       "      <td>203</td>\n",
       "    </tr>\n",
       "    <tr>\n",
       "      <th>45</th>\n",
       "      <td>2011</td>\n",
       "      <td>Completed</td>\n",
       "      <td>198</td>\n",
       "    </tr>\n",
       "  </tbody>\n",
       "</table>\n",
       "</div>"
      ],
      "text/plain": [
       "    year_submitted overall_status  nct_id\n",
       "8             2005      Completed     339\n",
       "20            2007      Completed     227\n",
       "13            2006      Completed     226\n",
       "26            2008      Completed     203\n",
       "45            2011      Completed     198"
      ]
     },
     "execution_count": 158,
     "metadata": {},
     "output_type": "execute_result"
    },
    {
     "data": {
      "image/png": "[encoded data removed]",
      "text/plain": [
       "<Figure size 1440x720 with 1 Axes>"
      ]
     },
     "metadata": {
      "needs_background": "light"
     },
     "output_type": "display_data"
    }
   ],
   "source": [
    "search_aggregate(df,'novartis', 'year_submitted', 'overall_status')"
   ]
  },
  {
   "cell_type": "markdown",
   "metadata": {},
   "source": [
    "## Machine Learning workflow\n",
    "- Normalization: lemmatization, and stop-word removal\n",
    "- TD-IDF by context\n",
    "- Link: http://kavita-ganesan.com/extracting-keywords-from-text-tfidf/"
   ]
  },
  {
   "cell_type": "code",
   "execution_count": null,
   "metadata": {},
   "outputs": [],
   "source": [
    "# CountVectorizer"
   ]
  }
 ],
 "metadata": {
  "kernelspec": {
   "display_name": "Python 3",
   "language": "python",
   "name": "python3"
  },
  "language_info": {
   "codemirror_mode": {
    "name": "ipython",
    "version": 3
   },
   "file_extension": ".py",
   "mimetype": "text/x-python",
   "name": "python",
   "nbconvert_exporter": "python",
   "pygments_lexer": "ipython3",
   "version": "3.7.3"
  }
 },
 "nbformat": 4,
 "nbformat_minor": 2
}
