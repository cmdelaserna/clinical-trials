{
 "cells": [
  {
   "cell_type": "markdown",
   "metadata": {},
   "source": [
    "## Debugging and testing ML pipeline"
   ]
  },
  {
   "cell_type": "code",
   "execution_count": 1,
   "metadata": {},
   "outputs": [],
   "source": [
    "import time\n",
    "import json\n",
    "import os\n",
    "import pandas as pd\n",
    "import matplotlib.pyplot as plt\n",
    "import sys\n",
    "import numpy as np\n",
    "import seaborn as sns"
   ]
  },
  {
   "cell_type": "markdown",
   "metadata": {},
   "source": [
    "### Load json file in a dataframe"
   ]
  },
  {
   "cell_type": "code",
   "execution_count": 2,
   "metadata": {},
   "outputs": [],
   "source": [
    "# paths\n",
    "path_to_json_file = os.path.abspath('../data/json/')\n",
    "\n",
    "# json file\n",
    "json_file = '/all_parsed_data_json' #name json file  \n",
    "file = '{}{}.json'.format(path_to_json_file, json_file)"
   ]
  },
  {
   "cell_type": "code",
   "execution_count": 3,
   "metadata": {},
   "outputs": [],
   "source": [
    "# load json file\n",
    "df = pd.read_json(file)"
   ]
  },
  {
   "cell_type": "code",
   "execution_count": null,
   "metadata": {},
   "outputs": [],
   "source": [
    "# print(df.memory_usage(deep=True))\n",
    "# df.info(verbose=True)"
   ]
  },
  {
   "cell_type": "code",
   "execution_count": null,
   "metadata": {},
   "outputs": [],
   "source": [
    "# df.nunique()"
   ]
  },
  {
   "cell_type": "markdown",
   "metadata": {},
   "source": [
    "## df setup\n",
    "- Change data types & optimize memory usage\n",
    "- Extract year\n",
    "- Clean /n in text"
   ]
  },
  {
   "cell_type": "code",
   "execution_count": 4,
   "metadata": {},
   "outputs": [],
   "source": [
    "# Change data types: Dates\n",
    "columns_dates = ['study_first_submitted', 'study_first_posted', 'last_update_submitted', 'last_update_posted', 'verification_date']\n",
    "for col in columns_dates:\n",
    "    df[col] = df[col].astype('datetime64')"
   ]
  },
  {
   "cell_type": "code",
   "execution_count": 5,
   "metadata": {},
   "outputs": [],
   "source": [
    "# # check\n",
    "# for i in columns_dates:\n",
    "#     print(df[i].dtypes)"
   ]
  },
  {
   "cell_type": "code",
   "execution_count": 6,
   "metadata": {},
   "outputs": [],
   "source": [
    "# Extract year \n",
    "df['year_submitted'] = df['study_first_submitted'].dt.year\n",
    "df['year_last_updated'] = df['last_update_submitted'].dt.year"
   ]
  },
  {
   "cell_type": "code",
   "execution_count": 7,
   "metadata": {},
   "outputs": [],
   "source": [
    "# Remove /n\n",
    "df = df.replace(r'\\n',' ', regex=True)"
   ]
  },
  {
   "cell_type": "code",
   "execution_count": null,
   "metadata": {},
   "outputs": [],
   "source": [
    "#check dataset\n",
    "# pd.set_option('display.max_colwidth', -1)\n",
    "# pd.set_option('display.max_columns', 500)\n",
    "# df.sample(1)"
   ]
  },
  {
   "cell_type": "code",
   "execution_count": 57,
   "metadata": {
    "scrolled": true
   },
   "outputs": [
    {
     "data": {
      "text/plain": [
       "'Erlotinib and Standard Platinum-Based Chemotherapy for Newly Diagnosed, Advanced Non-Small Cell Carcinoma of the LungCarcinoma, Non-Small-Cell LungCarcinomaPaclitaxel       To compare the activities (the progression-free survival, the incidence and severity of       toxicities, and reversibility of toxicities) of erlotinib to that of platinum-based therapy       in NSCLC. A sequential therapy design has been chosen such that all patients will receive any       potential benefits of both platinum-based and erlotinib therapy, without compromising       survival by denying anyone potential therapy. With this design, progression-free survival       will be tracked by treatment received. However, data will be generated which will show the       safety and efficacy of erlotinib in the frontline setting (alone and with historical       comparison to platinum-based therapy), as well as the potential safety and activity of       platinum-based therapy in the \"second-line\" (post-erlotinib) setting. This should allow for       the demonstration of the relative median time to progression, objective response and clinical       benefit rates, overall survival, and safety and tolerability of erlotinib and platinum-based       therapy in both the frontline and second-line settings in NSCLC. Also, in this fashion, the       treatments serve as controls for each other, as well as being compared to historical       controls; in the first line treatment portion, the platinum-based regimens serve as the       historical control, while in the second-line setting, erlotinib serves as the historical       control arm.            This study was conducted to compare the activities of erlotinib to that of intravenous,       platinum-based therapy in the treatment of non-small cell lung cancer (NSCLC). The goal of       this trial was to demonstrate clinical equivalence of erlotinib to platinum-based frontline       therapy, compared to historical controls.     '"
      ]
     },
     "execution_count": 57,
     "metadata": {},
     "output_type": "execute_result"
    }
   ],
   "source": [
    "# Put all texts in a single column\n",
    "df['all_text'] = df['brief_title'] + df['condition'] + df['condition_browse/mesh_term'] + df['intervention_browse/mesh_term'] + df['detailed_description/textblock'] + df['brief_summary/textblock']\n",
    "df['all_text'][0]"
   ]
  },
  {
   "cell_type": "markdown",
   "metadata": {},
   "source": [
    "### Basic analysis"
   ]
  },
  {
   "cell_type": "code",
   "execution_count": 8,
   "metadata": {},
   "outputs": [],
   "source": [
    "# Plot variables plt\n",
    "blue = '#3298D0'\n",
    "base_color = ['#3298D0', '#d7191c', '#ffffbf']\n",
    "plot_size = (16, 12)"
   ]
  },
  {
   "cell_type": "code",
   "execution_count": 9,
   "metadata": {},
   "outputs": [],
   "source": [
    "# Plot variables sns\n",
    "plt.rcParams['figure.figsize'] = (20.0, 10.0)\n",
    "plt.rcParams['font.family'] = \"arial\""
   ]
  },
  {
   "cell_type": "code",
   "execution_count": 10,
   "metadata": {},
   "outputs": [
    {
     "data": {
      "text/plain": [
       "(1998, 2020)"
      ]
     },
     "execution_count": 10,
     "metadata": {},
     "output_type": "execute_result"
    },
    {
     "data": {
      "image/png": "[encoded data removed]",
      "text/plain": [
       "<Figure size 1440x720 with 1 Axes>"
      ]
     },
     "metadata": {
      "needs_background": "light"
     },
     "output_type": "display_data"
    }
   ],
   "source": [
    "#trials per year -matplotlib\n",
    "trials_per_year = df.groupby('year_submitted').nct_id.count()\n",
    "\n",
    "plt.bar(trials_per_year.index, trials_per_year)\n",
    "plt.xlabel('Year')\n",
    "plt.ylabel('Number of clinical trials submitted')\n",
    "plt.xlim(1998, 2020)"
   ]
  },
  {
   "cell_type": "code",
   "execution_count": 11,
   "metadata": {},
   "outputs": [
    {
     "data": {
      "text/plain": [
       "year_submitted  sponsors/lead_sponsor/agency_class\n",
       "1999            Industry                               517\n",
       "                NIH                                   1586\n",
       "                Other                                 1527\n",
       "                U.S. Fed                                15\n",
       "2000            Industry                                98\n",
       "Name: nct_id, dtype: int64"
      ]
     },
     "execution_count": 11,
     "metadata": {},
     "output_type": "execute_result"
    }
   ],
   "source": [
    "# group by two groups: year submitted, agency class\n",
    "trials_year_status = df.groupby(['year_submitted','sponsors/lead_sponsor/agency_class']).nct_id.count()\n",
    "trials_year_status['total'] = trials_year_status.sum()\n",
    "trials_year_status.head()"
   ]
  },
  {
   "cell_type": "code",
   "execution_count": 12,
   "metadata": {},
   "outputs": [],
   "source": [
    "# group by sponsor total -sns\n",
    "sponsor = df.groupby(['sponsors/lead_sponsor/agency_class']).nct_id.count()\n",
    "sponsor['total'] = sponsor.sum()\n",
    "sponsor = pd.Series.to_frame(sponsor)"
   ]
  },
  {
   "cell_type": "code",
   "execution_count": 13,
   "metadata": {},
   "outputs": [],
   "source": [
    "#add percentage\n",
    "sponsor ['percentage'] = round(sponsor.nct_id / sponsor.nct_id.total * 100)"
   ]
  },
  {
   "cell_type": "code",
   "execution_count": 14,
   "metadata": {},
   "outputs": [
    {
     "name": "stderr",
     "output_type": "stream",
     "text": [
      "/Users/cms/Sites/env/haden/lib/python3.7/site-packages/ipykernel_launcher.py:1: FutureWarning: \n",
      "Passing list-likes to .loc or [] with any missing label will raise\n",
      "KeyError in the future, you can use .reindex() as an alternative.\n",
      "\n",
      "See the documentation here:\n",
      "https://pandas.pydata.org/pandas-docs/stable/indexing.html#deprecate-loc-reindex-listlike\n",
      "  \"\"\"Entry point for launching an IPython kernel.\n"
     ]
    },
    {
     "data": {
      "text/plain": [
       "<matplotlib.axes._subplots.AxesSubplot at 0x28c793b00>"
      ]
     },
     "execution_count": 14,
     "metadata": {},
     "output_type": "execute_result"
    },
    {
     "data": {
      "image/png": "[encoded data removed]",
      "text/plain": [
       "<Figure size 1440x720 with 1 Axes>"
      ]
     },
     "metadata": {
      "needs_background": "light"
     },
     "output_type": "display_data"
    }
   ],
   "source": [
    "sponsor.loc[['nct_id', 'total']]\n",
    "sns.barplot(x=sponsor.index, y=sponsor.percentage, data=sponsor)"
   ]
  },
  {
   "cell_type": "markdown",
   "metadata": {},
   "source": [
    "## Conditions & mesh terms exploration"
   ]
  },
  {
   "cell_type": "code",
   "execution_count": 15,
   "metadata": {},
   "outputs": [
    {
     "data": {
      "text/html": [
       "<div>\n",
       "<style scoped>\n",
       "    .dataframe tbody tr th:only-of-type {\n",
       "        vertical-align: middle;\n",
       "    }\n",
       "\n",
       "    .dataframe tbody tr th {\n",
       "        vertical-align: top;\n",
       "    }\n",
       "\n",
       "    .dataframe thead th {\n",
       "        text-align: right;\n",
       "    }\n",
       "</style>\n",
       "<table border=\"1\" class=\"dataframe\">\n",
       "  <thead>\n",
       "    <tr style=\"text-align: right;\">\n",
       "      <th></th>\n",
       "      <th>nct_id</th>\n",
       "    </tr>\n",
       "    <tr>\n",
       "      <th>condition</th>\n",
       "      <th></th>\n",
       "    </tr>\n",
       "  </thead>\n",
       "  <tbody>\n",
       "    <tr>\n",
       "      <th>Healthy</th>\n",
       "      <td>6546</td>\n",
       "    </tr>\n",
       "    <tr>\n",
       "      <th>Breast Cancer</th>\n",
       "      <td>4609</td>\n",
       "    </tr>\n",
       "    <tr>\n",
       "      <th>Obesity</th>\n",
       "      <td>3039</td>\n",
       "    </tr>\n",
       "    <tr>\n",
       "      <th>HIV Infections</th>\n",
       "      <td>2469</td>\n",
       "    </tr>\n",
       "    <tr>\n",
       "      <th>Asthma</th>\n",
       "      <td>2454</td>\n",
       "    </tr>\n",
       "    <tr>\n",
       "      <th>Prostate Cancer</th>\n",
       "      <td>2386</td>\n",
       "    </tr>\n",
       "    <tr>\n",
       "      <th>Hypertension</th>\n",
       "      <td>1996</td>\n",
       "    </tr>\n",
       "    <tr>\n",
       "      <th>Schizophrenia</th>\n",
       "      <td>1964</td>\n",
       "    </tr>\n",
       "    <tr>\n",
       "      <th>Coronary Artery Disease</th>\n",
       "      <td>1830</td>\n",
       "    </tr>\n",
       "    <tr>\n",
       "      <th>Pain</th>\n",
       "      <td>1741</td>\n",
       "    </tr>\n",
       "  </tbody>\n",
       "</table>\n",
       "</div>"
      ],
      "text/plain": [
       "                         nct_id\n",
       "condition                      \n",
       "Healthy                    6546\n",
       "Breast Cancer              4609\n",
       "Obesity                    3039\n",
       "HIV Infections             2469\n",
       "Asthma                     2454\n",
       "Prostate Cancer            2386\n",
       "Hypertension               1996\n",
       "Schizophrenia              1964\n",
       "Coronary Artery Disease    1830\n",
       "Pain                       1741"
      ]
     },
     "execution_count": 15,
     "metadata": {},
     "output_type": "execute_result"
    }
   ],
   "source": [
    "# Most frequent conditions\n",
    "conditions = df.groupby('condition').nct_id.count()\n",
    "conditions = pd.Series.to_frame(conditions)\n",
    "conditions.sort_values('nct_id', ascending=False).head(10)"
   ]
  },
  {
   "cell_type": "code",
   "execution_count": 18,
   "metadata": {},
   "outputs": [
    {
     "data": {
      "text/plain": [
       "<matplotlib.axes._subplots.AxesSubplot at 0x28c76e908>"
      ]
     },
     "execution_count": 18,
     "metadata": {},
     "output_type": "execute_result"
    },
    {
     "data": {
      "image/png": "[encoded data removed]",
      "text/plain": [
       "<Figure size 1440x720 with 1 Axes>"
      ]
     },
     "metadata": {
      "needs_background": "light"
     },
     "output_type": "display_data"
    }
   ],
   "source": [
    "# histogram\n",
    "sns.distplot(conditions, kde=False, rug=True)"
   ]
  },
  {
   "cell_type": "code",
   "execution_count": 16,
   "metadata": {},
   "outputs": [
    {
     "data": {
      "text/html": [
       "<div>\n",
       "<style scoped>\n",
       "    .dataframe tbody tr th:only-of-type {\n",
       "        vertical-align: middle;\n",
       "    }\n",
       "\n",
       "    .dataframe tbody tr th {\n",
       "        vertical-align: top;\n",
       "    }\n",
       "\n",
       "    .dataframe thead th {\n",
       "        text-align: right;\n",
       "    }\n",
       "</style>\n",
       "<table border=\"1\" class=\"dataframe\">\n",
       "  <thead>\n",
       "    <tr style=\"text-align: right;\">\n",
       "      <th></th>\n",
       "      <th>condition_browse/mesh_term</th>\n",
       "      <th>nct_id</th>\n",
       "    </tr>\n",
       "  </thead>\n",
       "  <tbody>\n",
       "    <tr>\n",
       "      <th>1573</th>\n",
       "      <td>None</td>\n",
       "      <td>58494</td>\n",
       "    </tr>\n",
       "    <tr>\n",
       "      <th>576</th>\n",
       "      <td>Diabetes Mellitus</td>\n",
       "      <td>9102</td>\n",
       "    </tr>\n",
       "    <tr>\n",
       "      <th>281</th>\n",
       "      <td>Breast Neoplasms</td>\n",
       "      <td>6399</td>\n",
       "    </tr>\n",
       "    <tr>\n",
       "      <th>2157</th>\n",
       "      <td>Syndrome</td>\n",
       "      <td>6102</td>\n",
       "    </tr>\n",
       "    <tr>\n",
       "      <th>598</th>\n",
       "      <td>Disease</td>\n",
       "      <td>4931</td>\n",
       "    </tr>\n",
       "    <tr>\n",
       "      <th>323</th>\n",
       "      <td>Carcinoma</td>\n",
       "      <td>4660</td>\n",
       "    </tr>\n",
       "    <tr>\n",
       "      <th>1327</th>\n",
       "      <td>Lymphoma</td>\n",
       "      <td>4303</td>\n",
       "    </tr>\n",
       "    <tr>\n",
       "      <th>1312</th>\n",
       "      <td>Lung Neoplasms</td>\n",
       "      <td>3956</td>\n",
       "    </tr>\n",
       "    <tr>\n",
       "      <th>1090</th>\n",
       "      <td>Hypertension</td>\n",
       "      <td>3740</td>\n",
       "    </tr>\n",
       "    <tr>\n",
       "      <th>1155</th>\n",
       "      <td>Infection</td>\n",
       "      <td>3649</td>\n",
       "    </tr>\n",
       "  </tbody>\n",
       "</table>\n",
       "</div>"
      ],
      "text/plain": [
       "     condition_browse/mesh_term  nct_id\n",
       "1573                       None   58494\n",
       "576           Diabetes Mellitus    9102\n",
       "281            Breast Neoplasms    6399\n",
       "2157                   Syndrome    6102\n",
       "598                     Disease    4931\n",
       "323                   Carcinoma    4660\n",
       "1327                   Lymphoma    4303\n",
       "1312             Lung Neoplasms    3956\n",
       "1090               Hypertension    3740\n",
       "1155                  Infection    3649"
      ]
     },
     "execution_count": 16,
     "metadata": {},
     "output_type": "execute_result"
    }
   ],
   "source": [
    "mesh_term = df.groupby('condition_browse/mesh_term', as_index=False).nct_id.count()\n",
    "mesh_term.sort_values('nct_id', ascending=False).head(10)"
   ]
  },
  {
   "cell_type": "code",
   "execution_count": 22,
   "metadata": {},
   "outputs": [
    {
     "data": {
      "text/plain": [
       "<matplotlib.axes._subplots.AxesSubplot at 0x28be0fac8>"
      ]
     },
     "execution_count": 22,
     "metadata": {},
     "output_type": "execute_result"
    },
    {
     "data": {
      "image/png": "[encoded data removed]",
      "text/plain": [
       "<Figure size 1440x720 with 1 Axes>"
      ]
     },
     "metadata": {
      "needs_background": "light"
     },
     "output_type": "display_data"
    }
   ],
   "source": [
    "#histogram\n",
    "sns.distplot(mesh_term.nct_id, kde=False, rug=True)"
   ]
  },
  {
   "cell_type": "code",
   "execution_count": 28,
   "metadata": {},
   "outputs": [
    {
     "data": {
      "text/html": [
       "<div>\n",
       "<style scoped>\n",
       "    .dataframe tbody tr th:only-of-type {\n",
       "        vertical-align: middle;\n",
       "    }\n",
       "\n",
       "    .dataframe tbody tr th {\n",
       "        vertical-align: top;\n",
       "    }\n",
       "\n",
       "    .dataframe thead th {\n",
       "        text-align: right;\n",
       "    }\n",
       "</style>\n",
       "<table border=\"1\" class=\"dataframe\">\n",
       "  <thead>\n",
       "    <tr style=\"text-align: right;\">\n",
       "      <th></th>\n",
       "      <th>nct_id</th>\n",
       "    </tr>\n",
       "    <tr>\n",
       "      <th>intervention_browse/mesh_term</th>\n",
       "      <th></th>\n",
       "    </tr>\n",
       "  </thead>\n",
       "  <tbody>\n",
       "    <tr>\n",
       "      <th>None</th>\n",
       "      <td>169063</td>\n",
       "    </tr>\n",
       "    <tr>\n",
       "      <th>Vaccines</th>\n",
       "      <td>5632</td>\n",
       "    </tr>\n",
       "    <tr>\n",
       "      <th>Insulin</th>\n",
       "      <td>2858</td>\n",
       "    </tr>\n",
       "    <tr>\n",
       "      <th>Paclitaxel</th>\n",
       "      <td>2741</td>\n",
       "    </tr>\n",
       "    <tr>\n",
       "      <th>Vitamins</th>\n",
       "      <td>2439</td>\n",
       "    </tr>\n",
       "    <tr>\n",
       "      <th>Anesthetics</th>\n",
       "      <td>2392</td>\n",
       "    </tr>\n",
       "    <tr>\n",
       "      <th>Pharmaceutical Solutions</th>\n",
       "      <td>2242</td>\n",
       "    </tr>\n",
       "    <tr>\n",
       "      <th>Cyclophosphamide</th>\n",
       "      <td>2039</td>\n",
       "    </tr>\n",
       "    <tr>\n",
       "      <th>Cisplatin</th>\n",
       "      <td>2033</td>\n",
       "    </tr>\n",
       "    <tr>\n",
       "      <th>Dexamethasone</th>\n",
       "      <td>2033</td>\n",
       "    </tr>\n",
       "  </tbody>\n",
       "</table>\n",
       "</div>"
      ],
      "text/plain": [
       "                               nct_id\n",
       "intervention_browse/mesh_term        \n",
       "None                           169063\n",
       "Vaccines                         5632\n",
       "Insulin                          2858\n",
       "Paclitaxel                       2741\n",
       "Vitamins                         2439\n",
       "Anesthetics                      2392\n",
       "Pharmaceutical Solutions         2242\n",
       "Cyclophosphamide                 2039\n",
       "Cisplatin                        2033\n",
       "Dexamethasone                    2033"
      ]
     },
     "execution_count": 28,
     "metadata": {},
     "output_type": "execute_result"
    }
   ],
   "source": [
    "interventions = df.groupby('intervention_browse/mesh_term').nct_id.count()\n",
    "interventions = pd.Series.to_frame(interventions)\n",
    "interventions.sort_values('nct_id', ascending=False).head(10)"
   ]
  },
  {
   "cell_type": "code",
   "execution_count": 29,
   "metadata": {},
   "outputs": [
    {
     "data": {
      "text/plain": [
       "<matplotlib.axes._subplots.AxesSubplot at 0x28bcdacf8>"
      ]
     },
     "execution_count": 29,
     "metadata": {},
     "output_type": "execute_result"
    },
    {
     "data": {
      "image/png": "[encoded data removed]",
      "text/plain": [
       "<Figure size 1440x720 with 1 Axes>"
      ]
     },
     "metadata": {
      "needs_background": "light"
     },
     "output_type": "display_data"
    }
   ],
   "source": [
    "#histogram\n",
    "sns.distplot(interventions.nct_id, kde=False, rug=True)"
   ]
  },
  {
   "cell_type": "code",
   "execution_count": 30,
   "metadata": {},
   "outputs": [
    {
     "name": "stdout",
     "output_type": "stream",
     "text": [
      "2411\n",
      "50164\n",
      "2655\n"
     ]
    }
   ],
   "source": [
    "print(len(mesh_term))\n",
    "print(len(conditions))\n",
    "print(len(interventions))"
   ]
  },
  {
   "cell_type": "markdown",
   "metadata": {},
   "source": [
    "## Test 1: Cisplatin"
   ]
  },
  {
   "cell_type": "code",
   "execution_count": 56,
   "metadata": {},
   "outputs": [
    {
     "data": {
      "text/plain": [
       "2033"
      ]
     },
     "execution_count": 56,
     "metadata": {},
     "output_type": "execute_result"
    }
   ],
   "source": [
    "cisplatin = df[df['intervention_browse/mesh_term'] == 'Cisplatin']\n",
    "len(cisplatin)"
   ]
  },
  {
   "cell_type": "code",
   "execution_count": 40,
   "metadata": {},
   "outputs": [
    {
     "data": {
      "text/plain": [
       "<matplotlib.axes._subplots.AxesSubplot at 0x28bb4c0f0>"
      ]
     },
     "execution_count": 40,
     "metadata": {},
     "output_type": "execute_result"
    },
    {
     "data": {
      "image/png": "[encoded data removed]",
      "text/plain": [
       "<Figure size 1440x720 with 1 Axes>"
      ]
     },
     "metadata": {
      "needs_background": "light"
     },
     "output_type": "display_data"
    }
   ],
   "source": [
    "cisplatin_years = cisplatin.groupby('year_submitted').nct_id.count()\n",
    "cisplatin_years = pd.Series.to_frame(cisplatin_years)\n",
    "sns.barplot(x=cisplatin_years.index, y=cisplatin_years.nct_id, data=cisplatin_years, color='c')"
   ]
  },
  {
   "cell_type": "code",
   "execution_count": 49,
   "metadata": {},
   "outputs": [
    {
     "name": "stdout",
     "output_type": "stream",
     "text": [
      "640\n",
      "93\n",
      "['Cisplatin']\n"
     ]
    }
   ],
   "source": [
    "# Full context for cisplatin (test search)\n",
    "print(cisplatin.condition.nunique())\n",
    "print(cisplatin['condition_browse/mesh_term'].nunique())\n",
    "print(cisplatin['intervention_browse/mesh_term'].unique())"
   ]
  },
  {
   "cell_type": "markdown",
   "metadata": {},
   "source": [
    "## Test 2: Pain"
   ]
  },
  {
   "cell_type": "code",
   "execution_count": 55,
   "metadata": {},
   "outputs": [
    {
     "data": {
      "text/plain": [
       "1741"
      ]
     },
     "execution_count": 55,
     "metadata": {},
     "output_type": "execute_result"
    }
   ],
   "source": [
    "pain = df[df['condition'] == 'Pain']\n",
    "len(pain)"
   ]
  },
  {
   "cell_type": "code",
   "execution_count": 52,
   "metadata": {},
   "outputs": [
    {
     "data": {
      "text/plain": [
       "<matplotlib.axes._subplots.AxesSubplot at 0x28bab8eb8>"
      ]
     },
     "execution_count": 52,
     "metadata": {},
     "output_type": "execute_result"
    },
    {
     "data": {
      "image/png": "[encoded data removed]",
      "text/plain": [
       "<Figure size 1440x720 with 1 Axes>"
      ]
     },
     "metadata": {
      "needs_background": "light"
     },
     "output_type": "display_data"
    }
   ],
   "source": [
    "pain_years = pain.groupby('year_submitted').nct_id.count()\n",
    "pain_years = pd.Series.to_frame(pain_years)\n",
    "sns.barplot(x=pain_years.index, y=pain_years.nct_id, data=pain_years, color='c')"
   ]
  },
  {
   "cell_type": "code",
   "execution_count": 54,
   "metadata": {},
   "outputs": [
    {
     "name": "stdout",
     "output_type": "stream",
     "text": [
      "1\n",
      "162\n",
      "146\n"
     ]
    }
   ],
   "source": [
    "# Full context for cisplatin (test search)\n",
    "print(pain.condition.nunique())\n",
    "print(pain['condition_browse/mesh_term'].nunique())\n",
    "print(pain['intervention_browse/mesh_term'].nunique())"
   ]
  },
  {
   "cell_type": "markdown",
   "metadata": {},
   "source": [
    "## Test 3: Specific term in all_text"
   ]
  },
  {
   "cell_type": "code",
   "execution_count": 67,
   "metadata": {},
   "outputs": [
    {
     "data": {
      "text/plain": [
       "310"
      ]
     },
     "execution_count": 67,
     "metadata": {},
     "output_type": "execute_result"
    }
   ],
   "source": [
    "gen = df[df['all_text'].str.contains(\"RSV\")]\n",
    "len(gen)"
   ]
  },
  {
   "cell_type": "code",
   "execution_count": 63,
   "metadata": {},
   "outputs": [
    {
     "data": {
      "text/plain": [
       "<matplotlib.axes._subplots.AxesSubplot at 0x28ba66b70>"
      ]
     },
     "execution_count": 63,
     "metadata": {},
     "output_type": "execute_result"
    },
    {
     "data": {
      "image/png": "[encoded data removed]",
      "text/plain": [
       "<Figure size 1440x720 with 1 Axes>"
      ]
     },
     "metadata": {
      "needs_background": "light"
     },
     "output_type": "display_data"
    }
   ],
   "source": [
    "gen_years = gen.groupby('year_submitted').nct_id.count()\n",
    "gen_years = pd.Series.to_frame(gen_years)\n",
    "sns.barplot(x=gen_years.index, y=gen_years.nct_id, data=gen_years, color='c')"
   ]
  },
  {
   "cell_type": "code",
   "execution_count": 64,
   "metadata": {},
   "outputs": [
    {
     "name": "stdout",
     "output_type": "stream",
     "text": [
      "114\n",
      "52\n",
      "40\n"
     ]
    }
   ],
   "source": [
    "# Full context for cisplatin (test search)\n",
    "print(gen.condition.nunique())\n",
    "print(gen['condition_browse/mesh_term'].nunique())\n",
    "print(gen['intervention_browse/mesh_term'].nunique())"
   ]
  },
  {
   "cell_type": "code",
   "execution_count": 91,
   "metadata": {},
   "outputs": [
    {
     "name": "stdout",
     "output_type": "stream",
     "text": [
      "['Virus Diseases' 'Bronchiolitis' 'None' 'Cough' 'Influenza, Human'\n",
      " 'Pneumonia' 'Lung Diseases' 'Infection' 'Periodontitis'\n",
      " 'Muscular Dystrophies' 'Arteriosclerosis' 'Asthma'\n",
      " 'Coronary Artery Disease' 'Respiratory Syncytial Virus Infections'\n",
      " 'Respiratory Insufficiency' 'Respiratory Tract Infections'\n",
      " 'Muscular Diseases' 'Wounds and Injuries' 'Diabetes Mellitus'\n",
      " 'Respiratory Sounds' 'Overweight' 'Melanoma' 'Encephalitis'\n",
      " 'Disease Susceptibility' 'Premature Birth' 'Croup' 'Breast Neoplasms'\n",
      " 'Refractive Errors' 'Dyspnea' 'Respiratory Aspiration' 'Meningitis'\n",
      " 'Chronic Disease' 'Suicidal Ideation' 'Paramyxoviridae Infections'\n",
      " 'Kidney Diseases' 'Pain, Postoperative' 'Emergencies' 'Heart Diseases'\n",
      " 'Neoplasms' 'Syndrome' 'Prostatic Neoplasms' 'Sclerosis'\n",
      " 'Brain Neoplasms' 'Coinfection' 'Infant Death' 'Furcation Defects'\n",
      " 'Sepsis' 'Rhinitis' 'Bronchial Hyperreactivity' 'Heart Failure'\n",
      " 'Inflammation' 'Metabolic Syndrome']\n"
     ]
    }
   ],
   "source": [
    "print(gen['condition_browse/mesh_term'].unique())"
   ]
  },
  {
   "cell_type": "markdown",
   "metadata": {},
   "source": [
    "## Test 4: Pipeline"
   ]
  },
  {
   "cell_type": "code",
   "execution_count": 80,
   "metadata": {},
   "outputs": [
    {
     "data": {
      "text/plain": [
       "2742"
      ]
     },
     "execution_count": 80,
     "metadata": {},
     "output_type": "execute_result"
    }
   ],
   "source": [
    "pipeline = df[df['source'].str.contains(\"Novartis\")]\n",
    "len(pipeline)"
   ]
  },
  {
   "cell_type": "code",
   "execution_count": 81,
   "metadata": {},
   "outputs": [
    {
     "data": {
      "text/plain": [
       "<matplotlib.axes._subplots.AxesSubplot at 0x289d5e400>"
      ]
     },
     "execution_count": 81,
     "metadata": {},
     "output_type": "execute_result"
    },
    {
     "data": {
      "image/png": "[encoded data removed]",
      "text/plain": [
       "<Figure size 1440x720 with 1 Axes>"
      ]
     },
     "metadata": {
      "needs_background": "light"
     },
     "output_type": "display_data"
    }
   ],
   "source": [
    "pipeline_years = pipeline.groupby('year_submitted').nct_id.count()\n",
    "pipeline_years = pd.Series.to_frame(pipeline_years)\n",
    "sns.barplot(x=pipeline_years.index, y=pipeline_years.nct_id, data=pipeline_years, color='c')"
   ]
  },
  {
   "cell_type": "code",
   "execution_count": 82,
   "metadata": {},
   "outputs": [
    {
     "name": "stdout",
     "output_type": "stream",
     "text": [
      "1055\n",
      "267\n",
      "262\n"
     ]
    }
   ],
   "source": [
    "# Full context for pipeline (test search)\n",
    "print(pipeline.condition.nunique())\n",
    "print(pipeline['condition_browse/mesh_term'].nunique())\n",
    "print(pipeline['intervention_browse/mesh_term'].nunique())"
   ]
  },
  {
   "cell_type": "code",
   "execution_count": 83,
   "metadata": {},
   "outputs": [
    {
     "data": {
      "text/plain": [
       "330"
      ]
     },
     "execution_count": 83,
     "metadata": {},
     "output_type": "execute_result"
    }
   ],
   "source": [
    "pipeline_na = pipeline.dropna()\n",
    "pipeline_phase = pipeline_na[pipeline_na['phase'].str.contains(\"Phase 3\")]\n",
    "len(pipeline_phase)"
   ]
  },
  {
   "cell_type": "code",
   "execution_count": 84,
   "metadata": {},
   "outputs": [
    {
     "data": {
      "text/plain": [
       "<matplotlib.axes._subplots.AxesSubplot at 0x289cf5ef0>"
      ]
     },
     "execution_count": 84,
     "metadata": {},
     "output_type": "execute_result"
    },
    {
     "data": {
      "image/png": "[encoded data removed]",
      "text/plain": [
       "<Figure size 1440x720 with 1 Axes>"
      ]
     },
     "metadata": {
      "needs_background": "light"
     },
     "output_type": "display_data"
    }
   ],
   "source": [
    "pipeline_phase_years = pipeline_phase.groupby('year_submitted').nct_id.count()\n",
    "pipeline_phase_years = pd.Series.to_frame(pipeline_phase_years)\n",
    "sns.barplot(x=pipeline_phase_years.index, y=pipeline_phase_years.nct_id, data=pipeline_phase_years, color='c')"
   ]
  },
  {
   "cell_type": "code",
   "execution_count": 85,
   "metadata": {},
   "outputs": [
    {
     "name": "stdout",
     "output_type": "stream",
     "text": [
      "210\n",
      "103\n",
      "108\n"
     ]
    }
   ],
   "source": [
    "# Full context for pipeline Phase 3\n",
    "print(pipeline_phase.condition.nunique())\n",
    "print(pipeline_phase['condition_browse/mesh_term'].nunique())\n",
    "print(pipeline_phase['intervention_browse/mesh_term'].nunique())"
   ]
  },
  {
   "cell_type": "markdown",
   "metadata": {},
   "source": [
    "## Machine Learning workflow\n",
    "- Normalization: lowercasing, lemmatization, and stop-word removal\n",
    "- TD-IDF by context"
   ]
  },
  {
   "cell_type": "code",
   "execution_count": null,
   "metadata": {},
   "outputs": [],
   "source": [
    "# CountVectorizer"
   ]
  }
 ],
 "metadata": {
  "kernelspec": {
   "display_name": "Python 3",
   "language": "python",
   "name": "python3"
  },
  "language_info": {
   "codemirror_mode": {
    "name": "ipython",
    "version": 3
   },
   "file_extension": ".py",
   "mimetype": "text/x-python",
   "name": "python",
   "nbconvert_exporter": "python",
   "pygments_lexer": "ipython3",
   "version": "3.7.3"
  }
 },
 "nbformat": 4,
 "nbformat_minor": 2
}
