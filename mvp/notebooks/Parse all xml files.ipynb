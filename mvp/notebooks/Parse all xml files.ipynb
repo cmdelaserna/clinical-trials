{
 "cells": [
  {
   "cell_type": "markdown",
   "metadata": {},
   "source": [
    "# Clinical trials: Parse all XML files\n"
   ]
  },
  {
   "cell_type": "code",
   "execution_count": 1,
   "metadata": {},
   "outputs": [],
   "source": [
    "#Data: clinicaltrials.gov"
   ]
  },
  {
   "cell_type": "code",
   "execution_count": 2,
   "metadata": {},
   "outputs": [
    {
     "name": "stdout",
     "output_type": "stream",
     "text": [
      "Once deleted, variables cannot be recovered. Proceed (y/[n])? y\n"
     ]
    },
    {
     "data": {
      "application/javascript": [
       "IPython.notebook.set_autosave_interval(0)"
      ]
     },
     "metadata": {},
     "output_type": "display_data"
    },
    {
     "name": "stdout",
     "output_type": "stream",
     "text": [
      "Autosave disabled\n"
     ]
    }
   ],
   "source": [
    "# reset variables and turn off autosave\n",
    "%reset\n",
    "%autosave 0"
   ]
  },
  {
   "cell_type": "code",
   "execution_count": 3,
   "metadata": {},
   "outputs": [],
   "source": [
    "import zipfile\n",
    "import sys\n",
    "import time\n",
    "import json\n",
    "import re\n",
    "import os\n",
    "import xml.etree.ElementTree as ET\n",
    "import shutil\n",
    "import pandas as pd\n",
    "from collections import Counter "
   ]
  },
  {
   "cell_type": "code",
   "execution_count": 4,
   "metadata": {},
   "outputs": [],
   "source": [
    "# Print messages to the terminal\n",
    "\n",
    "sys.stdout = open('/dev/stdout', 'w')\n"
   ]
  },
  {
   "cell_type": "markdown",
   "metadata": {},
   "source": [
    "## Setup: create paths and folders"
   ]
  },
  {
   "cell_type": "code",
   "execution_count": 7,
   "metadata": {},
   "outputs": [],
   "source": [
    "'''\n",
    "Create paths and folders\n",
    "'''\n",
    "\n",
    "# Folders with xml files\n",
    "path_to_all_xml_trials = os.path.abspath('../data/all_trials/')\n",
    "\n",
    "# Test folder ~100 files\n",
    "path_to_test_folder = os.path.abspath('../data/test/')\n",
    "\n",
    "# Path for json folder\n",
    "path_to_json_file = os.path.abspath('../data/json/')\n",
    "\n",
    "# Variable for all parsed files\n",
    "all_parsed_files = []\n"
   ]
  },
  {
   "cell_type": "code",
   "execution_count": 8,
   "metadata": {},
   "outputs": [],
   "source": [
    "# Create folders\n",
    "\n",
    "def create_folders(paths=[]):\n",
    "    for p in paths:\n",
    "        try:\n",
    "            os.mkdir(p)\n",
    "            if p:\n",
    "                print('{} created'.format(p))\n",
    "        except IOError as e:\n",
    "            print(e)\n",
    "            pass\n",
    "\n",
    "    print('\\nSetup folders created\\n')\n",
    "    \n",
    "all_folders = [path_to_all_xml_trials, path_to_test_folder, path_to_json_file]\n",
    "    \n",
    "# create folders\n",
    "create_folders(all_folders)"
   ]
  },
  {
   "cell_type": "code",
   "execution_count": null,
   "metadata": {},
   "outputs": [],
   "source": [
    "'''\n",
    "Function to create test folder by selecting 100 random files from all trials\n",
    "'''\n",
    "\n",
    "import random\n",
    "\n",
    "filenames = random.sample(os.listdir(dirpath), 100)\n",
    "for fname in filenames:\n",
    "    srcpath = os.path.join(dirpath, fname))\n",
    "    shutil.copyfile(srcpath, destDirectory)\n",
    "\n",
    "\n"
   ]
  },
  {
   "cell_type": "markdown",
   "metadata": {},
   "source": [
    "## Parse all xml files"
   ]
  },
  {
   "cell_type": "code",
   "execution_count": null,
   "metadata": {},
   "outputs": [],
   "source": [
    "'''\n",
    "Parse a folder all xml files and save them in a all_parsed_files variable.\n",
    "Slow. Checks for xml files\n",
    "'''\n",
    "\n",
    "def parse_xml_files(path_to_folder):\n",
    "    \n",
    "    for filename in os.listdir(path_to_folder):\n",
    "        if not filename.endswith('.xml'): continue\n",
    "        fullname = os.path.join(path_to_folder, filename)\n",
    "        all_parsed_files.append(ET.parse(fullname).getroot())\n",
    "        \n",
    "        # Checking message to the terminal\n",
    "        print(\"{} file parsed\\n\".format(fullname))\n",
    "\n",
    "    print('Number of files parsed: {}'.format(len(all_parsed_files)))\n",
    "    print('Files parsed in: {} seconds'.format(str(performance)))\n",
    "        \n",
    "    return all_parsed_files"
   ]
  },
  {
   "cell_type": "code",
   "execution_count": null,
   "metadata": {},
   "outputs": [],
   "source": [
    "# Run function\n",
    "%time parse_xml_files(xml_trials_path)\n",
    "\n",
    "'''\n",
    "Estimated: \n",
    "Number of files parsed: 284374\n",
    "Files parsed in: 1989 seconds\n",
    "CPU times: user 6min 41s, sys: 13min 27s, total: 20min 9s\n",
    "Wall time: 33min 9s\n",
    "'''"
   ]
  },
  {
   "cell_type": "markdown",
   "metadata": {},
   "source": [
    "## Parse all xml files and dump results in a single json file"
   ]
  },
  {
   "cell_type": "code",
   "execution_count": null,
   "metadata": {},
   "outputs": [],
   "source": [
    "'''\n",
    "Create folder and path for json file\n",
    "'''\n",
    "\n",
    "json_folder = 'data/json/'\n",
    "\n",
    "try:\n",
    "    os.mkdir(json_folder)\n",
    "    if name:\n",
    "        print(\"Folder {} created\".format(name))\n",
    "except IOError as e:\n",
    "    print(e)\n",
    "    pass\n"
   ]
  },
  {
   "cell_type": "code",
   "execution_count": null,
   "metadata": {},
   "outputs": [],
   "source": [
    "# Variables for parsing function: path and dictionary\n",
    "\n",
    "all_data_dictionary = {}\n",
    "\n",
    "json_file = 'all_trials_json' #name json file  \n"
   ]
  },
  {
   "cell_type": "markdown",
   "metadata": {},
   "source": [
    "## Method 1: Function to parse tags in files"
   ]
  },
  {
   "cell_type": "code",
   "execution_count": null,
   "metadata": {},
   "outputs": [],
   "source": [
    "# Slow. ~30 minutes to parse all files checking for only two tags\n",
    "# All tags need to be in the doc or will throw an error\n",
    "\n",
    "'''\n",
    "Find values by tag in XML files, save them in a dictionary, and export them to a json file\n",
    "'''\n",
    "\n",
    "def create_dictionary_from_tag(tag, parsed_files = all_parsed_files, name_dictionary = all_data_dictionary):\n",
    "    \n",
    "    # Variable to store values\n",
    "    keys = []\n",
    "    values = []\n",
    "    \n",
    "    # Iterate through all xml parsed files and tags, and append data to values\n",
    "    for n in parsed_files:\n",
    "        for i in n.iter(tag):\n",
    "            if i.text != 0:\n",
    "                values.append(i.text)\n",
    "            else:\n",
    "                values.append('nan') #get values\n",
    "                # Checking message to the terminal\n",
    "            print(\"{} file parsed\\n\".format(i.text))\n",
    "    \n",
    "    # Create dictionary and set tags as keys\n",
    "    name_dictionary.setdefault(tag, [])\n",
    "    \n",
    "    # Append values to dictionary\n",
    "    for i in values:\n",
    "        name_dictionary[tag].append(i)\n",
    "        print(\"{} file added to the dictionary\\n\".format(i))\n",
    "    \n",
    "    # Dump dictionary into a JSON file\n",
    "    with open('{}{}.json'.format(json_folder, json_file), 'w') as fp:\n",
    "        json.dump(all_data_dictionary, fp)\n",
    "        print('JSON file created\\n')\n",
    "        \n",
    "        json_size = round(os.path.getsize(json_folder + json_file + '.json') / 1000000, 2)\n",
    "        print(\"JSON file: {} Mb\".format(json_size))\n",
    "    \n",
    "        "
   ]
  },
  {
   "cell_type": "code",
   "execution_count": null,
   "metadata": {},
   "outputs": [],
   "source": [
    "# Execute function only with unique values\n",
    "%time create_dictionary_from_tag('nct_id')\n",
    "%time create_dictionary_from_tag('study_first_submitted')\n",
    "%time create_dictionary_from_tag('source')\n",
    "\n",
    "'''JSON file: 21.58 Mb\n",
    "CPU times: user 28.7 s, sys: 1min 51s, total: 2min 20s\n",
    "Wall time: 4min 47s'''"
   ]
  },
  {
   "cell_type": "code",
   "execution_count": null,
   "metadata": {},
   "outputs": [],
   "source": [
    "'''\n",
    "# Tags potentially with multiple or missing values\n",
    "'official title'\n",
    "'url'\n",
    "'detailed_description'\n",
    "'brief_summary'\n",
    "\n",
    "''''"
   ]
  },
  {
   "cell_type": "markdown",
   "metadata": {},
   "source": [
    "## >> Import json file in a dataframe"
   ]
  },
  {
   "cell_type": "code",
   "execution_count": null,
   "metadata": {},
   "outputs": [],
   "source": [
    "'''\n",
    "Check number of values for each key before creating a dataframe\n",
    "'''\n",
    "%time \n",
    "for key, value in all_data_dictionary.items():\n",
    "    print(key, len(list(filter(bool, value))))\n"
   ]
  },
  {
   "cell_type": "code",
   "execution_count": null,
   "metadata": {},
   "outputs": [],
   "source": []
  },
  {
   "cell_type": "code",
   "execution_count": null,
   "metadata": {},
   "outputs": [],
   "source": [
    "# Import json into a dataframe\n",
    "\n",
    "df = pd.read_json(json_folder + json_file + '.json')\n"
   ]
  },
  {
   "cell_type": "code",
   "execution_count": null,
   "metadata": {},
   "outputs": [],
   "source": [
    "print(df.columns)\n",
    "print(df.describe())"
   ]
  },
  {
   "cell_type": "code",
   "execution_count": null,
   "metadata": {},
   "outputs": [],
   "source": [
    "df"
   ]
  },
  {
   "cell_type": "code",
   "execution_count": null,
   "metadata": {},
   "outputs": [],
   "source": []
  }
 ],
 "metadata": {
  "kernelspec": {
   "display_name": "Python 3",
   "language": "python",
   "name": "python3"
  },
  "language_info": {
   "codemirror_mode": {
    "name": "ipython",
    "version": 3
   },
   "file_extension": ".py",
   "mimetype": "text/x-python",
   "name": "python",
   "nbconvert_exporter": "python",
   "pygments_lexer": "ipython3",
   "version": "3.7.0"
  }
 },
 "nbformat": 4,
 "nbformat_minor": 2
}
