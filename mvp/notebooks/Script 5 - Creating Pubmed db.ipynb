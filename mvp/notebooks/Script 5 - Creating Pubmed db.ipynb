{
 "cells": [
  {
   "cell_type": "code",
   "execution_count": 20,
   "metadata": {},
   "outputs": [],
   "source": [
    "import sqlite3"
   ]
  },
  {
   "cell_type": "code",
   "execution_count": 11,
   "metadata": {},
   "outputs": [],
   "source": [
    "# Create folders for data\n",
    "\n",
    "def create_folders(paths = []):\n",
    "    for p in paths:\n",
    "        try:\n",
    "            os.mkdir(p)\n",
    "            if p:\n",
    "                print('{} created'.format(p))\n",
    "        except IOError as e:\n",
    "            print(e)\n",
    "            pass\n",
    "        \n",
    "    print('\\nSetup folders created\\n')\n",
    "    \n",
    "path_to_pubmed = ['../data/pubmed/']\n",
    "\n",
    "create_folders(path_to_pubmed)"
   ]
  },
  {
   "cell_type": "markdown",
   "metadata": {},
   "source": [
    "## Download data from the terminal"
   ]
  },
  {
   "cell_type": "code",
   "execution_count": null,
   "metadata": {},
   "outputs": [],
   "source": [
    "'''\n",
    "Download data from terminal\n",
    "https://github.com/titipata/pubmed_parser/wiki/Download-and-preprocess-MEDLINE-dataset\n",
    "\n",
    "- MEDLINE BULK DOWNLOAD -\n",
    "wget ftp://ftp.ncbi.nlm.nih.gov/pubmed/baseline/*.gz\n",
    "\n",
    "- MEDLINE UPDATES -\n",
    "wget ftp://ftp.ncbi.nlm.nih.gov/pubmed/updatefiles/*.gz\n",
    "'''"
   ]
  },
  {
   "cell_type": "markdown",
   "metadata": {},
   "source": [
    "## Create sqlite db"
   ]
  },
  {
   "cell_type": "code",
   "execution_count": 18,
   "metadata": {},
   "outputs": [
    {
     "name": "stdout",
     "output_type": "stream",
     "text": [
      "Error\n"
     ]
    }
   ],
   "source": [
    "path_to_pubmed_db = os.path.abspath('../data/working_data/')\n",
    "\n",
    "try: \n",
    "    os.mkdir(path_to_pubmed_db)\n",
    "except:\n",
    "    pass\n",
    "    print('Error')"
   ]
  },
  {
   "cell_type": "code",
   "execution_count": 21,
   "metadata": {},
   "outputs": [
    {
     "data": {
      "text/plain": [
       "<sqlite3.Connection at 0x1114af030>"
      ]
     },
     "execution_count": 21,
     "metadata": {},
     "output_type": "execute_result"
    }
   ],
   "source": [
    "# Create and connect to db\n",
    "conn = sqlite3.connect('../data/working_data/pubmedDB.db')\n",
    "conn"
   ]
  },
  {
   "cell_type": "code",
   "execution_count": null,
   "metadata": {},
   "outputs": [],
   "source": []
  }
 ],
 "metadata": {
  "kernelspec": {
   "display_name": "Python 3",
   "language": "python",
   "name": "python3"
  },
  "language_info": {
   "codemirror_mode": {
    "name": "ipython",
    "version": 3
   },
   "file_extension": ".py",
   "mimetype": "text/x-python",
   "name": "python",
   "nbconvert_exporter": "python",
   "pygments_lexer": "ipython3",
   "version": "3.7.3"
  }
 },
 "nbformat": 4,
 "nbformat_minor": 2
}
