{
 "cells": [
  {
   "cell_type": "markdown",
   "metadata": {},
   "source": [
    "# Clinical trials: setup & data importing\n"
   ]
  },
  {
   "cell_type": "code",
   "execution_count": 1,
   "metadata": {},
   "outputs": [],
   "source": [
    "#Data: clinicaltrials.gov\n",
    "#Source: wget https://clinicaltrials.gov/AllPublicXML.zip\n",
    "#Date: September 14, 2018 [9pm]"
   ]
  },
  {
   "cell_type": "code",
   "execution_count": 3,
   "metadata": {},
   "outputs": [],
   "source": [
    "# reset variables if needed\n",
    "# %reset"
   ]
  },
  {
   "cell_type": "code",
   "execution_count": 4,
   "metadata": {},
   "outputs": [],
   "source": [
    "import zipfile\n",
    "import time\n",
    "import json\n",
    "import re\n",
    "import os\n",
    "import xml.etree.ElementTree as ET\n",
    "import shutil\n",
    "import pandas as pd\n",
    "from collections import Counter "
   ]
  },
  {
   "cell_type": "markdown",
   "metadata": {},
   "source": [
    "## Parse one random trial"
   ]
  },
  {
   "cell_type": "code",
   "execution_count": 5,
   "metadata": {},
   "outputs": [
    {
     "name": "stdout",
     "output_type": "stream",
     "text": [
      "Number of files in data_trials_xml: 284374\n",
      "First files: ['NCT00391586.xml', 'NCT03472664.xml', 'NCT02443948.xml', 'NCT02818309.xml', 'NCT00092989.xml']\n"
     ]
    }
   ],
   "source": [
    "# Save all paths to xml files in a new variable\n",
    "# Not dependent of unzip script\n",
    "\n",
    "xml_trials = 'data/all_trials/'\n",
    "\n",
    "data_xml = []\n",
    "\n",
    "for xml in os.listdir(xml_trials):\n",
    "    data_xml.append(xml)\n",
    "\n",
    "print('Number of files in data_trials_xml: {}'.format(len(data_xml)))\n",
    "print('First files: {}'.format(data_xml[0:5]))"
   ]
  },
  {
   "cell_type": "code",
   "execution_count": 6,
   "metadata": {},
   "outputs": [
    {
     "name": "stdout",
     "output_type": "stream",
     "text": [
      "Random: 124252\n",
      "\n",
      "File: NCT02004106.xml\n",
      "\n"
     ]
    }
   ],
   "source": [
    "#parse random xml file\n",
    "import random\n",
    "n = random.randint(0, 150000)\n",
    "\n",
    "trial = xml_trials + data_xml[n] #full path\n",
    "tree = ET.parse(trial).getroot()\n",
    "print(\"Random: {}\\n\".format(n))\n",
    "print('File: {}\\n'.format(data_xml[n]))"
   ]
  },
  {
   "cell_type": "code",
   "execution_count": 7,
   "metadata": {},
   "outputs": [
    {
     "data": {
      "text/plain": [
       "b'<clinical_study>\\n  \\n  <required_header>\\n    <download_date>ClinicalTrials.gov processed this data on September 14, 2018</download_date>\\n    <link_text>Link to the current ClinicalTrials.gov record.</link_text>\\n    <url>https://clinicaltrials.gov/show/NCT02004106</url>\\n  </required_header>\\n  <id_info>\\n    <org_study_id>BP28920</org_study_id>\\n    <secondary_id>2013-003041-41</secondary_id>\\n    <nct_id>NCT02004106</nct_id>\\n  </id_info>\\n  <brief_title>A Study to Evaluate Safety, Pharmacokinetics, and Efficacy of RO6895882 in Participants With Advanced and/or Metastatic Solid Tumors</brief_title>\\n  <official_title>An Open-Label, Multi-Center, Dose-Escalation, Phase I Study With an Expansion Phase, to Evaluate Safety, Pharmacokinetics and Therapeutic Activity of RO6895882, an Immunocytokine, Consisting of a Variant of Interleukin-2 (IL-2v) Targeting Carcinoembryonic Antigen (CEA) Administered Intravenously, in Patients With Advanced and/or Metastatic Solid Tumors</official_title>\\n  <sponsors>\\n    <lead_sponsor>\\n      <agency>Hoffmann-La Roche</agency>\\n      <agency_class>Industry</agency_class>\\n    </lead_sponsor>\\n  </sponsors>\\n  <source>Hoffmann-La Roche</source>\\n  <brief_summary>\\n    <textblock>\\n      This open-label, multi-center, dose-escalation study will evaluate the safety,\\n      pharmacokinetics, and therapeutic activity of RO6895882 in participants with Carcinoembryonic\\n      Antigen (CEA)-positive solid tumors who have progressed on the standard of care therapy. The\\n      study will be conducted in 3 parts. Part 1 will be a single ascending dose study in single\\n      participant cohort at low RO6895882 dose (less than or equal to [&lt;/=] 6 milligrams [mg]).\\n      Part 2 will be a dose-escalation study of RO6895882 monotherapy given every week (qw), every\\n      2 weeks (q2w), and possibly every 3 weeks (q3w). Part 3 will be an expansion phase of the qw,\\n      q2w, and possibly q3w at maximum tolerated dose (MTD) (as determined in Part 2). Part 3 will\\n      only be conducted if the risk/benefit assessment, as evaluated by the Sponsor and the\\n      investigators, is in favor of the participants. Participants will be treated until disease\\n      progression, unacceptable toxicity or withdrawal from treatment for other reasons or death\\n      for a maximum duration of 24 months.\\n    </textblock>\\n  </brief_summary>\\n  <overall_status>Completed</overall_status>\\n  <start_date type=\"Actual\">December 31, 2013</start_date>\\n  <completion_date type=\"Actual\">August 31, 2016</completion_date>\\n  <primary_completion_date type=\"Actual\">August 31, 2016</primary_completion_date>\\n  <phase>Phase 1</phase>\\n  <study_type>Interventional</study_type>\\n  <has_expanded_access>No</has_expanded_access>\\n  <study_design_info>\\n    <allocation>Non-Randomized</allocation>\\n    <intervention_model>Parallel Assignment</intervention_model>\\n    <primary_purpose>Treatment</primary_purpose>\\n    <masking>None (Open Label)</masking>\\n  </study_design_info>\\n  <primary_outcome>\\n    <measure>Part 2: Percentage of Participants With Dose-Limiting Toxicity (DLT)</measure>\\n    <time_frame>Part 2: within 21 days after the highest dose administration</time_frame>\\n  </primary_outcome>\\n  <primary_outcome>\\n    <measure>Part 2: MTD of RO6895882</measure>\\n    <time_frame>Part 2: within 21 days after the highest dose administration</time_frame>\\n  </primary_outcome>\\n  <primary_outcome>\\n    <measure>Percentage of Participants With Adverse Events</measure>\\n    <time_frame>Day 1 up to 28 days after last dose of study drug (up to approximately 25 months)</time_frame>\\n  </primary_outcome>\\n  <primary_outcome>\\n    <measure>Percentage of Participants With Anti-drug Antibodies (ADAs) Against RO6895882</measure>\\n    <time_frame>Baseline up to 28-days after last dose (up to approximately 25 months) (please see outcome measure description for detailed time frame)</time_frame>\\n    <description>Part 1: Predose (Hour [Hr] 0). Part 2/3: qw schedule (1 cycle = 1 week): Predose in Cycle 1, 4, 5, 6, thereafter every 2 months; Part 2/3: q2w schedule (1 cycle = 2 weeks): Predose in Cycle 1, 4, 6, thereafter every 8 weeks. Part 2/3: q3w schedule (1 cycle = 3 weeks): Predose in Cycle 1, 2, 3, 4, 6, thereafter every 9 weeks. Additionally at treatment discontinuation or at 28-days after last dose (up to approximately 25 months)</description>\\n  </primary_outcome>\\n  <primary_outcome>\\n    <measure>Area Under the Serum Concentration-Time Curve (AUC) of RO6895882</measure>\\n    <time_frame>Baseline up to 28-days after last dose (up to approximately 25 months) (please see outcome measure description for detailed time frame)</time_frame>\\n    <description>Predose (Hr 0), 1 hr post start of infusion (SoI), at end of infusion (EoI), 2, 4, 24, 72, 96, 216 hrs post Day 1 dose. Part 2/3: qw schedule (1 cycle = 1 week): Predose, 1 hr post SoI, at EoI, 2, 4 hrs after EoI, 24, 72, 96 hrs postdose in Cycle 1, 5 (include 120 hrs postdose); Predose, 24, 96 hrs postdose in Cycle 2, 3, 4; Predose in any later cycle. Part 2/3: q2w schedule (1 cycle = 2 weeks): Predose, 1 hr post SoI, at EoI, 2, 4, 24, 72, 96, 120, 168, 312 hrs postdose in Cycle 1, 4 (exclude 312 hrs postdose); Predose, 24, 96, 168 hrs postdose in Cycle 2; Predose in all later cycles. Part 2/3: q3w schedule (1 cycle = 3 weeks): Predose, 1 hr post SoI, at EoI, 2, 4, 24, 72, 96, 120, 168, 312, 480 hrs postdose in Cycle 1; Predose, 24, 96, 312 hrs postdose in Cycle 2; Predose, at EoI, 1, 2, 4 hrs post EoI, 24, 72, 96, 120, 168, 312 hrs postdose in Cycle 3; Predose, 24, 72, 120, 312 hrs postdose in Cycle 4; Predose in all later cycles. Maximum infusion length = 2 hrs.</description>\\n  </primary_outcome>\\n  <primary_outcome>\\n    <measure>Minimum Observed Serum Concentration (Cmin) of RO6895882</measure>\\n    <time_frame>Part 1/2/3: Predose (Hr 0) in all cycles (maximum up to 25 months) (cycle length = 1, 2, or 3 weeks, respectively)</time_frame>\\n  </primary_outcome>\\n  <primary_outcome>\\n    <measure>Maximum Observed Serum Concentration (Cmax) of RO6895882</measure>\\n    <time_frame>Baseline up to 28-days after last dose (up to approximately 25 months) (please see outcome measure description for detailed time frame)</time_frame>\\n    <description>Part 1: Predose (Hr 0), 1 hr post SoI, at EoI, 2, 4, 24, 72, 96, 216 hrs post Day 1 dose. Part 2/3: qw schedule (1 Cycle = 1 week): Predose, 1 hr post SoI, at EoI, 2, 4 hrs after EoI, 24, 72, 96 hrs postdose in Cycle 1, 5 (include 120 hrs postdose); Predose, 24, 96 hrs postdose in Cycle 2, 3, 4; Predose in any later cycle. Part 2/3: q2w schedule (1 Cycle = 2 weeks): Predose, 1 hr post SoI, at EoI, 2, 4, 24, 72, 96, 120, 168, 312 hrs postdose in Cycle 1, 4 (exclude 312 hrs postdose); Predose, 24, 96, 168 hrs postdose in Cycle 2; Predose in all later cycles. Part 2/3: q3w schedule (1 Cycle = 3 weeks): Predose, 1 hr post SoI, at EoI, 2, 4, 24, 72, 96, 120, 168, 312, 480 hrs postdose in Cycle 1; Predose, 24, 96, 312 hrs postdose in Cycle 2; Predose, at EoI, 1, 2, 4 hrs post EoI, 24, 72, 96, 120, 168, 312 hrs postdose in Cycle 3; Predose, 24, 72, 120, 312 hrs postdose in Cycle 4; Predose in all later cycles. Maximum infusion length = 2 hrs.</description>\\n  </primary_outcome>\\n  <primary_outcome>\\n    <measure>Clearance (CL) of RO6895882</measure>\\n    <time_frame>Baseline up to 28-days after last dose (up to approximately 25 months) (please see outcome measure description for detailed time frame)</time_frame>\\n    <description>Part 1: Predose (Hr 0), 1 hr post SoI, at EoI, 2, 4, 24, 72, 96, 216 hrs post Day 1 dose. Part 2/3: qw schedule (1 Cycle = 1 week): Predose, 1 hr post SoI, at EoI, 2, 4 hrs after EoI, 24, 72, 96 hrs postdose in Cycle 1, 5 (include 120 hrs postdose); Predose, 24, 96 hrs postdose in Cycle 2, 3, 4; Predose in any later cycle. Part 2/3: q2w schedule (1 Cycle = 2 weeks): Predose, 1 hr post SoI, at EoI, 2, 4, 24, 72, 96, 120, 168, 312 hrs postdose in Cycle 1, 4 (exclude 312 hrs postdose); Predose, 24, 96, 168 hrs postdose in Cycle 2; Predose in all later cycles. Part 2/3: q3w schedule (1 Cycle = 3 weeks): Predose, 1 hr post SoI, at EoI, 2, 4, 24, 72, 96, 120, 168, 312, 480 hrs postdose in Cycle 1; Predose, 24, 96, 312 hrs postdose in Cycle 2; Predose, at EoI, 1, 2, 4 hrs post EoI, 24, 72, 96, 120, 168, 312 hrs postdose in Cycle 3; Predose, 24, 72, 120, 312 hrs postdose in Cycle 4; Predose in all later cycles. Maximum infusion length = 2 hrs.</description>\\n  </primary_outcome>\\n  <primary_outcome>\\n    <measure>Volume of Distribution at Steady State (Vss) of RO6895882</measure>\\n    <time_frame>Baseline up to 28-days after last dose (up to approximately 25 months) (please see outcome measure description for detailed time frame)</time_frame>\\n    <description>Part 1: Predose (Hr 0), 1 hr post SoI, at EoI, 2, 4, 24, 72, 96, 216 hrs post Day 1 dose. Part 2/3: qw schedule (1 Cycle = 1 week): Predose, 1 hr post SoI, at EoI, 2, 4 hrs after EoI, 24, 72, 96 hrs postdose in Cycle 1, 5 (include 120 hrs postdose); Predose, 24, 96 hrs postdose in Cycle 2, 3, 4; Predose in any later cycle. Part 2/3: q2w schedule (1 Cycle = 2 weeks): Predose, 1 hr post SoI, at EoI, 2, 4, 24, 72, 96, 120, 168, 312 hrs postdose in Cycle 1, 4 (exclude 312 hrs postdose); Predose, 24, 96, 168 hrs postdose in Cycle 2; Predose in all later cycles. Part 2/3: q3w schedule (1 Cycle = 3 weeks): Predose, 1 hr post SoI, at EoI, 2, 4, 24, 72, 96, 120, 168, 312, 480 hrs postdose in Cycle 1; Predose, 24, 96, 312 hrs postdose in Cycle 2; Predose, at EoI, 1, 2, 4 hrs post EoI, 24, 72, 96, 120, 168, 312 hrs postdose in Cycle 3; Predose, 24, 72, 120, 312 hrs postdose in Cycle 4; Predose in all later cycles. Maximum infusion length = 2 hrs.</description>\\n  </primary_outcome>\\n  <primary_outcome>\\n    <measure>Half-life (t1/2) of RO6895882</measure>\\n    <time_frame>Baseline up to 28-days after last dose (up to approximately 25 months) (please see outcome measure description for detailed time frame)</time_frame>\\n    <description>Part 1: Predose (Hr 0), 1 hr post SoI, at EoI, 2, 4, 24, 72, 96, 216 hrs post Day 1 dose. Part 2/3: qw schedule (1 Cycle = 1 week): Predose, 1 hr post SoI, at EoI, 2, 4 hrs after EoI, 24, 72, 96 hrs postdose in Cycle 1, 5 (include 120 hrs postdose); Predose, 24, 96 hrs postdose in Cycle 2, 3, 4; Predose in any later cycle. Part 2/3: q2w schedule (1 Cycle = 2 weeks): Predose, 1 hr post SoI, at EoI, 2, 4, 24, 72, 96, 120, 168, 312 hrs postdose in Cycle 1, 4 (exclude 312 hrs postdose); Predose, 24, 96, 168 hrs postdose in Cycle 2; Predose in all later cycles. Part 2/3: q3w schedule (1 Cycle = 3 weeks): Predose, 1 hr post SoI, at EoI, 2, 4, 24, 72, 96, 120, 168, 312, 480 hrs postdose in Cycle 1; Predose, 24, 96, 312 hrs postdose in Cycle 2; Predose, at EoI, 1, 2, 4 hrs post EoI, 24, 72, 96, 120, 168, 312 hrs postdose in Cycle 3; Predose, 24, 72, 120, 312 hrs postdose in Cycle 4; Predose in all later cycles. Maximum infusion length = 2 hrs.</description>\\n  </primary_outcome>\\n  <secondary_outcome>\\n    <measure>Count of Cluster of Differentiation (CD) 4+ Cells Analyzed by Flow Cytometry</measure>\\n    <time_frame>Baseline up to 28-days after last dose (up to approximately 25 months) (please see outcome measure description for detailed time frame)</time_frame>\\n    <description>Part 1: Predose (Hr 0), at EoI, Day (D) 2. Part 2/3: qw schedule (1 cycle = 1 week): Cycle (C) 1: Predose, at EoI, D2, D5; C2: Predose, at EoI, D2; C3: Predose, at EoI; C4: Predose. Part 2/3: q2w schedule (1 cycle = 2 weeks): C1, C4: Predose, at EoI, D2, D5, C2: Predose, at EoI, D2; C3: Predose, at EoI. Part 2/3: q3w schedule (1 cycle = 3 weeks): C1: Predose, at EoI, Day 2, 5, 14; C3: Predose, at EoI, Day 2, 5; C2, C4: Predose, at EoI, Day 2. Maximum infusion length = 2 hrs.</description>\\n  </secondary_outcome>\\n  <secondary_outcome>\\n    <measure>Count of CD8+ Cells Analyzed by Flow Cytometry</measure>\\n    <time_frame>Baseline up to 28-days after last dose (up to approximately 25 months) (please see outcome measure description for detailed time frame)</time_frame>\\n    <description>Part 1: Predose (Hr 0), at EoI, Day (D) 2. Part 2/3: qw schedule (1 cycle = 1 week): Cycle (C) 1: Predose, at EoI, D2, D5; C2: Predose, at EoI, D2; C3: Predose, at EoI; C4: Predose. Part 2/3: q2w schedule (1 cycle = 2 weeks): C1, C4: Predose, at EoI, D2, D5, C2: Predose, at EoI, D2; C3: Predose, at EoI. Part 2/3: q3w schedule (1 cycle = 3 weeks): C1: Predose, at EoI, Day 2, 5, 14; C3: Predose, at EoI, Day 2, 5; C2, C4: Predose, at EoI, Day 2. Maximum infusion length = 2 hrs.</description>\\n  </secondary_outcome>\\n  <secondary_outcome>\\n    <measure>Count of B Lymphocyte Cells Analyzed by Flow Cytometry</measure>\\n    <time_frame>Baseline up to 28-days after last dose (up to approximately 25 months) (please see outcome measure description for detailed time frame)</time_frame>\\n    <description>Part 1: Predose (Hr 0), at EoI, Day (D) 2. Part 2/3: qw schedule (1 cycle = 1 week): Cycle (C) 1: Predose, at EoI, D2, D5; C2: Predose, at EoI, D2; C3: Predose, at EoI; C4: Predose. Part 2/3: q2w schedule (1 cycle = 2 weeks): C1, C4: Predose, at EoI, D2, D5, C2: Predose, at EoI, D2; C3: Predose, at EoI. Part 2/3: q3w schedule (1 cycle = 3 weeks): C1: Predose, at EoI, Day 2, 5, 14; C3: Predose, at EoI, Day 2, 5; C2, C4: Predose, at EoI, Day 2. Maximum infusion length = 2 hrs</description>\\n  </secondary_outcome>\\n  <secondary_outcome>\\n    <measure>Count of Natural Killer (NK) Cells Analyzed by Flow Cytometry</measure>\\n    <time_frame>Baseline up to 28-days after last dose (up to approximately 25 months) (please see outcome measure description for detailed time frame)</time_frame>\\n    <description>Part 1: Predose (Hr 0), at EoI, Day (D) 2. Part 2/3: qw schedule (1 cycle = 1 week): Cycle (C) 1: Predose, at EoI, D2, D5; C2: Predose, at EoI, D2; C3: Predose, at EoI; C4: Predose. Part 2/3: q2w schedule (1 cycle = 2 weeks): C1, C4: Predose, at EoI, D2, D5, C2: Predose, at EoI, D2; C3: Predose, at EoI. Part 2/3: q3w schedule (1 cycle = 3 weeks): C1: Predose, at EoI, Day 2, 5, 14; C3: Predose, at EoI, Day 2, 5; C2, C4: Predose, at EoI, Day 2. Maximum infusion length = 2 hrs</description>\\n  </secondary_outcome>\\n  <secondary_outcome>\\n    <measure>Count of Monocytes Cells Analyzed by Flow Cytometry</measure>\\n    <time_frame>Baseline up to 28-days after last dose (up to approximately 25 months) (please see outcome measure description for detailed time frame)</time_frame>\\n    <description>Part 1: Predose (Hr 0), at EoI, Day (D) 2. Part 2/3: qw schedule (1 cycle = 1 week): Cycle (C) 1: Predose, at EoI, D2, D5; C2: Predose, at EoI, D2; C3: Predose, at EoI; C4: Predose. Part 2/3: q2w schedule (1 cycle = 2 weeks): C1, C4: Predose, at EoI, D2, D5, C2: Predose, at EoI, D2; C3: Predose, at EoI. Part 2/3: q3w schedule (1 cycle = 3 weeks): C1: Predose, at EoI, Day 2, 5, 14; C3: Predose, at EoI, Day 2, 5; C2, C4: Predose, at EoI, Day 2. Maximum infusion length = 2 hrs.</description>\\n  </secondary_outcome>\\n  <secondary_outcome>\\n    <measure>Percentage of Participants With Objective Response Assessed According to Response Evaluation Criteria in Solid Tumors (RECIST) Version 1.1 (v 1.1)</measure>\\n    <time_frame>From Screening until disease progression or death (up to approximately 25 months)</time_frame>\\n  </secondary_outcome>\\n  <secondary_outcome>\\n    <measure>Percentage of Participants With Stable Disease Assessed According to RECIST v 1.1</measure>\\n    <time_frame>From Screening until disease progression or death (up to approximately 25 months)</time_frame>\\n  </secondary_outcome>\\n  <secondary_outcome>\\n    <measure>Percentage of Participants With Disease Control Assessed According to RECIST v 1.1</measure>\\n    <time_frame>From Screening until disease progression or death (up to approximately 25 months)</time_frame>\\n  </secondary_outcome>\\n  <secondary_outcome>\\n    <measure>Progression-Free Survival Assessed According to RECIST v 1.1</measure>\\n    <time_frame>From Screening until disease progression or death (up to approximately 25 months)</time_frame>\\n  </secondary_outcome>\\n  <number_of_arms>3</number_of_arms>\\n  <enrollment type=\"Actual\">110</enrollment>\\n  <condition>Neoplasms</condition>\\n  <arm_group>\\n    <arm_group_label>Part 1: RO6895882 Single Ascending Dose</arm_group_label>\\n    <arm_group_type>Experimental</arm_group_type>\\n    <description>Participants will receive RO6895882 at ascending doses (&lt;/= 6 mg) as a single intravenous (IV) infusion.</description>\\n  </arm_group>\\n  <arm_group>\\n    <arm_group_label>Part 2: RO6895882 Dose Escalation Monotherapy</arm_group_label>\\n    <arm_group_type>Experimental</arm_group_type>\\n    <description>Participants in different cohorts will receive RO6895882 at ascending doses as IV infusion qw, q2w or q3w. After completion of Part 2 all participants have the option to receive the recommended RO6895882 dose once defined in Part 2 at the discretion of investigator.</description>\\n  </arm_group>\\n  <arm_group>\\n    <arm_group_label>Part 3: RO6895882 MTD Expansion</arm_group_label>\\n    <arm_group_type>Experimental</arm_group_type>\\n    <description>Participants will receive RO6895882 at MTD determined in Part 2 as IV infusion qw, q2w or q3w.</description>\\n  </arm_group>\\n  <intervention>\\n    <intervention_type>Drug</intervention_type>\\n    <intervention_name>RO6895882</intervention_name>\\n    <description>Participants will receive RO6895882 at different dose levels and schedules defined in respective arms as IV infusion.</description>\\n    <arm_group_label>Part 1: RO6895882 Single Ascending Dose</arm_group_label>\\n    <arm_group_label>Part 2: RO6895882 Dose Escalation Monotherapy</arm_group_label>\\n    <arm_group_label>Part 3: RO6895882 MTD Expansion</arm_group_label>\\n  </intervention>\\n  <eligibility>\\n    <criteria>\\n      <textblock>\\n        Inclusion Criteria:\\n\\n          -  Participants with confirmed advanced and/or metastatic solid tumor, with at least one\\n             tumor lesion of non-critical location accessible to biopsy who have progressed on the\\n             standard of care therapy\\n\\n          -  Locally confirmed CEA expression in tumor tissue (more than [&gt;] 20 percent (%) of\\n             tumor cells staining with at least moderate intensity) or centrally confirmed CEA\\n             expression if no archival tumor tissue and fresh biopsy is collected\\n\\n          -  Radiologically measurable and clinically evaluable disease\\n\\n          -  Life expectancy of greater than or equal to (&gt;/=) 12 weeks\\n\\n          -  Eastern Cooperative Oncology Group (ECOG) performance status (PS) 0-1\\n\\n          -  All acute toxic effects of any prior radiotherapy, chemotherapy or surgical procedure\\n             must have resolved to Grade &lt;/=1, except alopecia (any grade) and Grade 2 peripheral\\n             neuropathy\\n\\n          -  Adequate hematological, liver, and renal function\\n\\n          -  Negative serum pregnancy test within 7 days prior to study treatment in premenopausal\\n             women and women &lt;/=2 years after menopause\\n\\n          -  Participants with Gilbert\\'s syndrome will be eligible for the study. A diagnosis of\\n             Gilbert\\'s syndrome will be based on the exclusion of other diseases based on the\\n             following criteria: (i) unconjugated hyperbilirubinemia noted on several occasions;\\n             (ii) no evidence of hemolysis (normal hemoglobin, reticulocyte count, and Lactate\\n             dehydrogenase); (iii) normal liver function tests; (iv) absence of other diseases\\n             associated with unconjugated hyperbilirubinemia\\n\\n        Exclusion Criteria:\\n\\n          -  History or clinical evidence of central nervous system (CNS) primary tumors or\\n             metastases including leptomeningeal metastases unless they have been previously\\n             treated, are asymptomatic and have had no requirement for steroids or enzyme inducing\\n             anticonvulsants in the last 14 days before screening\\n\\n          -  Participants with an active second malignancy (other than non-melanoma skin cancer, or\\n             cervical carcinoma in situ). Participants who have a history of malignancy are not\\n             considered to have an active malignancy if they have completed therapy and are\\n             considered by their treating physician to be at less than (&lt;) 30% risk for relapse\\n\\n          -  Evidence of significant, uncontrolled concomitant diseases which could affect\\n             compliance with the protocol or interpretation of results, including diabetes\\n             mellitus, history of relevant pulmonary disorders and known autoimmune diseases\\n\\n          -  Uncontrolled hypertension (systolic &gt;150 millimeter of mercury [mmHg] and/or diastolic\\n             &gt;100 mmHg), unstable angina, congestive heart failure (CHF) of any New York Heart\\n             Association (NYHA) classification, serious cardiac arrhythmia requiring treatment\\n             (exceptions: atrial fibrillation, paroxysmal supraventricular tachycardia), history of\\n             myocardial infarction within 6 months of enrollment\\n\\n          -  Active or uncontrolled infections\\n\\n          -  Known infection with human immunodeficiency virus (HIV), seropositive status\\n\\n          -  Positive test results for chronic hepatitis B infection (defined as positive Hepatitis\\n             B surface antigen [HBsAg] serology and/or HBcAb status)\\n\\n          -  Positive test results for hepatitis C (hepatitis C virus [HCV] antibody serology\\n             testing)\\n\\n          -  Any other diseases, metabolic dysfunction, physical examination finding, or clinical\\n             laboratory finding giving reasonable suspicion of a disease or condition that would\\n             contraindicate the use of an investigational drug\\n\\n          -  Pregnant or breast-feeding women\\n\\n          -  Known hypersensitivity to any of the components of RO6895882\\n\\n          -  Concurrent therapy with any other investigational drug\\n\\n          -  Regular immunosuppressive therapy (that is, for organ transplantation, chronic\\n             rheumatologic disease)\\n\\n          -  Chronic use of steroids (including inhaled) will not be allowed. Concurrent high doses\\n             of systemic corticosteroids. High dose is considered as &gt;20 mg of dexamethasone a day\\n             (or equivalent) for &gt;7 consecutive days\\n\\n          -  Radiotherapy within the last 4 weeks before start of study drug treatment with the\\n             exception of limited field palliative radiotherapy for bone pain relief\\n      </textblock>\\n    </criteria>\\n    <gender>All</gender>\\n    <minimum_age>18 Years</minimum_age>\\n    <maximum_age>N/A</maximum_age>\\n    <healthy_volunteers>No</healthy_volunteers>\\n  </eligibility>\\n  <overall_official>\\n    <last_name>Clinical Trials</last_name>\\n    <role>Study Director</role>\\n    <affiliation>Hoffmann-La Roche</affiliation>\\n  </overall_official>\\n  <location>\\n    <facility>\\n      <name>Memorial Sloan Kettering Cancer Center</name>\\n      <address>\\n        <city>New York</city>\\n        <state>New York</state>\\n        <zip>10065</zip>\\n        <country>United States</country>\\n      </address>\\n    </facility>\\n  </location>\\n  <location>\\n    <facility>\\n      <name>Rigshospitalet, Onkologisk Klinik</name>\\n      <address>\\n        <city>K&#248;benhavn &#216;</city>\\n        <zip>2100</zip>\\n        <country>Denmark</country>\\n      </address>\\n    </facility>\\n  </location>\\n  <location>\\n    <facility>\\n      <name>Helsinki University Central Hospital; Dept of Oncology</name>\\n      <address>\\n        <city>Helsinki</city>\\n        <zip>00029</zip>\\n        <country>Finland</country>\\n      </address>\\n    </facility>\\n  </location>\\n  <location>\\n    <facility>\\n      <name>Institut Gustave Roussy; Departement Oncologie Medicale</name>\\n      <address>\\n        <city>Villejuif</city>\\n        <zip>94805</zip>\\n        <country>France</country>\\n      </address>\\n    </facility>\\n  </location>\\n  <location>\\n    <facility>\\n      <name>Antoni van Leeuwenhoek Ziekenhuis</name>\\n      <address>\\n        <city>Amsterdam</city>\\n        <zip>1066 CX</zip>\\n        <country>Netherlands</country>\\n      </address>\\n    </facility>\\n  </location>\\n  <location>\\n    <facility>\\n      <name>VU MEDISCH CENTRUM; Dept. of Medical Oncology</name>\\n      <address>\\n        <city>Amsterdam</city>\\n        <zip>1081 HV</zip>\\n        <country>Netherlands</country>\\n      </address>\\n    </facility>\\n  </location>\\n  <location>\\n    <facility>\\n      <name>Clinica Universitaria de Navarra; Servicio de oncolog&#237;a</name>\\n      <address>\\n        <city>Pamplona</city>\\n        <state>Navarra</state>\\n        <zip>31008</zip>\\n        <country>Spain</country>\\n      </address>\\n    </facility>\\n  </location>\\n  <location>\\n    <facility>\\n      <name>Hospital Univ Vall d\\'Hebron; Servicio de Oncologia</name>\\n      <address>\\n        <city>Barcelona</city>\\n        <zip>08035</zip>\\n        <country>Spain</country>\\n      </address>\\n    </facility>\\n  </location>\\n  <location>\\n    <facility>\\n      <name>CHUV; Departement d\\'Oncologie</name>\\n      <address>\\n        <city>Lausanne</city>\\n        <zip>1011</zip>\\n        <country>Switzerland</country>\\n      </address>\\n    </facility>\\n  </location>\\n  <location>\\n    <facility>\\n      <name>Oxford University Hospitals NHS Trust - Churchill Hospital</name>\\n      <address>\\n        <city>Oxford</city>\\n        <zip>OX3 7LE</zip>\\n        <country>United Kingdom</country>\\n      </address>\\n    </facility>\\n  </location>\\n  <location_countries>\\n    <country>Denmark</country>\\n    <country>Finland</country>\\n    <country>France</country>\\n    <country>Netherlands</country>\\n    <country>Spain</country>\\n    <country>Switzerland</country>\\n    <country>United Kingdom</country>\\n    <country>United States</country>\\n  </location_countries>\\n  <verification_date>March 2018</verification_date>\\n  \\n  \\n  \\n  \\n  \\n  \\n  \\n  \\n  <study_first_submitted>December 3, 2013</study_first_submitted>\\n  <study_first_submitted_qc>December 3, 2013</study_first_submitted_qc>\\n  <study_first_posted type=\"Estimate\">December 6, 2013</study_first_posted>\\n  <last_update_submitted>March 2, 2018</last_update_submitted>\\n  <last_update_submitted_qc>March 2, 2018</last_update_submitted_qc>\\n  <last_update_posted type=\"Actual\">March 6, 2018</last_update_posted>\\n  <responsible_party>\\n    <responsible_party_type>Sponsor</responsible_party_type>\\n  </responsible_party>\\n  \\n</clinical_study>'"
      ]
     },
     "execution_count": 7,
     "metadata": {},
     "output_type": "execute_result"
    }
   ],
   "source": [
    "ET.tostring(tree)"
   ]
  },
  {
   "cell_type": "markdown",
   "metadata": {},
   "source": [
    "## Method 1: Store keys & values from xml file in list"
   ]
  },
  {
   "cell_type": "code",
   "execution_count": null,
   "metadata": {},
   "outputs": [],
   "source": [
    "#Create Keys & Values with all info from the parsed trial\n",
    "keys_trial = []\n",
    "value_trial = []\n",
    "\n",
    "for nct in tree.iter('nct_id'):\n",
    "    id_trial = nct.text\n",
    "    \n",
    "for tag in tree:\n",
    "    for i in tag:\n",
    "        keys_trial.append(tag.tag)\n",
    "        keys_trial.append(i.tag)\n",
    "        value_trial.append(tag.text)\n",
    "        value_trial.append(i.text)\n",
    "        \n",
    "print(\"Random: {}\".format(n))\n",
    "print(\"Trial id: {}\".format(id_trial))\n",
    "print(\"Number of keys: {}\".format(len(keys_trial)))"
   ]
  },
  {
   "cell_type": "code",
   "execution_count": null,
   "metadata": {},
   "outputs": [],
   "source": [
    "# Check id, keys, values\n",
    "print(\"Trial id: {}\\n\".format(id_trial))\n",
    "for i, n in zip(keys_trial, value_trial):\n",
    "    print('Key: {}, Value: {}'.format(i, n))"
   ]
  },
  {
   "cell_type": "markdown",
   "metadata": {},
   "source": [
    "### Zip lists into a dictionary and save it as a json file\n",
    "- Use only for files with no duplicated keys"
   ]
  },
  {
   "cell_type": "code",
   "execution_count": null,
   "metadata": {},
   "outputs": [],
   "source": [
    "# Save data in a dictionary\n",
    "\n",
    "trial_dict = dict(zip(keys_trial, value_trial))\n",
    "\n",
    "\n",
    "# Dump dictionary into a json file\n",
    "\n",
    "with open('{}{}.json'.format(json_folder, id_trial), 'w') as fp:\n",
    "    json.dump(trial_dict, fp)\n",
    "    print('JSON file created\\n')\n",
    "\n",
    " \n",
    "print(\"Keys in list: {}\".format(len(keys_trial)))\n",
    "print('Keys in dictionary: {}\\n'.format(len(trial_dict.keys())))\n",
    "# print('Dictionary:\\n{}'.format(trial_dict))"
   ]
  },
  {
   "cell_type": "markdown",
   "metadata": {},
   "source": [
    "## Method 2: keep all duplicated keys"
   ]
  },
  {
   "cell_type": "code",
   "execution_count": null,
   "metadata": {},
   "outputs": [],
   "source": [
    "counts = Counter(keys_trial)\n",
    "for value, count in counts.most_common():\n",
    "    if count > 1:\n",
    "        print('{},{}'.format(value, count))"
   ]
  },
  {
   "cell_type": "code",
   "execution_count": null,
   "metadata": {},
   "outputs": [],
   "source": [
    "for s,num in counts.items():\n",
    "    if num > 1: \n",
    "        for suffix in range(1, num + 1): # suffix starts at 1 and increases by 1 each time\n",
    "            keys_trial[keys_trial.index(s)] = s + str(suffix) # replace each appearance of s"
   ]
  },
  {
   "cell_type": "code",
   "execution_count": null,
   "metadata": {},
   "outputs": [],
   "source": [
    "# Check all keys are preserved\n",
    "print(\"Number of keys in xml file: {}\".format(len(keys_trial)))\n",
    "print('Number of keys after changing names: {}'.format(len(keys_trial)))"
   ]
  },
  {
   "cell_type": "code",
   "execution_count": null,
   "metadata": {},
   "outputs": [],
   "source": [
    "# Create dictionary\n",
    "full_trial_dict = dict(zip(keys_trial, value_trial))\n",
    "\n",
    "print(\"Keys in list: {}\".format(len(keys_trial)))\n",
    "print('Keys in dictionary: {}\\n'.format(len(full_trial_dict.keys())))\n",
    "print('ID: {}\\n'.format(full_trial_dict['nct_id']))\n",
    "# print('Dictionary:\\n{}'.format(full_trial_dict))"
   ]
  },
  {
   "cell_type": "code",
   "execution_count": null,
   "metadata": {},
   "outputs": [],
   "source": [
    "# create dataframe from dictionary\n",
    "df_dict = pd.DataFrame.from_dict(full_trial_dict, orient='index', columns=[id_trial])\n",
    "\n",
    "pd.set_option('display.max_columns', 100)\n",
    "# display(df_dict)"
   ]
  },
  {
   "cell_type": "code",
   "execution_count": null,
   "metadata": {},
   "outputs": [],
   "source": [
    "# Dump dataframe into a json file\n",
    "\n",
    "json_folder = 'data/json/'\n",
    "df_dict.to_json('{}{}.json'.format(json_folder, id_trial))\n",
    "print('JSON file created\\n')"
   ]
  },
  {
   "cell_type": "code",
   "execution_count": null,
   "metadata": {},
   "outputs": [],
   "source": [
    "# Check: Import json file into a dataframe\n",
    "file_location = json_folder+id_trial\n",
    "df_trial = pd.read_json(file_location+'.json')\n",
    "\n",
    "print('File location: {}'.format(file_location))\n",
    "print('Trial id: {}'.format(id_trial))\n",
    "print('Dataframe shape: {}'.format(df_trial.shape))\n",
    "print(\"Keys in list: {}\".format(len(keys_trial)))"
   ]
  },
  {
   "cell_type": "code",
   "execution_count": null,
   "metadata": {},
   "outputs": [],
   "source": [
    "pd.set_option('display.max_rows', 200)\n",
    "display(df_trial)"
   ]
  },
  {
   "cell_type": "code",
   "execution_count": null,
   "metadata": {},
   "outputs": [],
   "source": [
    "# check basic data\n",
    "# Slice it\n",
    "print(df_trial[id_trial]['affiliation'])\n",
    "print(df_trial[id_trial]['country'])"
   ]
  },
  {
   "cell_type": "markdown",
   "metadata": {},
   "source": [
    "## Method 3: Parse only selected fields and save them in a dictionary"
   ]
  },
  {
   "cell_type": "code",
   "execution_count": null,
   "metadata": {
    "scrolled": true
   },
   "outputs": [],
   "source": [
    "# Check XML fields are available\n",
    "tree[0:]"
   ]
  },
  {
   "cell_type": "code",
   "execution_count": null,
   "metadata": {},
   "outputs": [],
   "source": [
    "final_dictionary = {}\n",
    "\n",
    "def parsing_specific_tags(dictionary, tag):\n",
    "    k = []\n",
    "    v = []\n",
    "    \n",
    "    for i in tree.iter(tag):\n",
    "        k.append(i.tag)\n",
    "        v.append(i.text)\n",
    "    print('Key: {}, Value: {}'.format(k, v))\n",
    "    \n",
    "    for n, h in zip(k, v):\n",
    "        dictionary[n] = h\n",
    "    \n",
    "    return dictionary\n",
    "\n",
    "parsing_specific_tags(final_dictionary, 'nct_id')\n",
    "parsing_specific_tags(final_dictionary, 'country')"
   ]
  },
  {
   "cell_type": "markdown",
   "metadata": {},
   "source": [
    "## Method 4: iterate over several tags and save info in a dictionary"
   ]
  },
  {
   "cell_type": "code",
   "execution_count": 8,
   "metadata": {},
   "outputs": [
    {
     "name": "stdout",
     "output_type": "stream",
     "text": [
      "Keys: ['nct_id', 'country', 'country', 'country', 'country', 'country', 'country', 'country', 'country', 'country', 'country', 'country', 'country', 'country', 'country', 'country', 'country', 'country', 'country'], Values: ['NCT02004106', 'United States', 'Denmark', 'Finland', 'France', 'Netherlands', 'Netherlands', 'Spain', 'Spain', 'Switzerland', 'United Kingdom', 'Denmark', 'Finland', 'France', 'Netherlands', 'Spain', 'Switzerland', 'United Kingdom', 'United States']\n"
     ]
    },
    {
     "data": {
      "text/plain": [
       "{'nct_id': 'NCT02004106', 'country': 'United States'}"
      ]
     },
     "execution_count": 8,
     "metadata": {},
     "output_type": "execute_result"
    }
   ],
   "source": [
    "tags_dictionary = {}\n",
    "\n",
    "def parsing_several_tags(dictionary = tags_dictionary, tag = []):\n",
    "    k = []\n",
    "    v = []\n",
    "    \n",
    "    for p in tag:\n",
    "        for i in tree.iter(p):\n",
    "            k.append(i.tag)\n",
    "            v.append(i.text)\n",
    "            \n",
    "    print('Keys: {}, Values: {}'.format(k, v))\n",
    "    \n",
    "    dictionary = dict(zip(k, v))\n",
    "    \n",
    "    return dictionary\n",
    "\n",
    "\n",
    "list_of_tags = ['nct_id','country']\n",
    "\n",
    "parsing_several_tags(tags_dictionary, list_of_tags)"
   ]
  },
  {
   "cell_type": "code",
   "execution_count": null,
   "metadata": {},
   "outputs": [],
   "source": []
  }
 ],
 "metadata": {
  "kernelspec": {
   "display_name": "Python 3",
   "language": "python",
   "name": "python3"
  },
  "language_info": {
   "codemirror_mode": {
    "name": "ipython",
    "version": 3
   },
   "file_extension": ".py",
   "mimetype": "text/x-python",
   "name": "python",
   "nbconvert_exporter": "python",
   "pygments_lexer": "ipython3",
   "version": "3.6.5"
  }
 },
 "nbformat": 4,
 "nbformat_minor": 2
}
