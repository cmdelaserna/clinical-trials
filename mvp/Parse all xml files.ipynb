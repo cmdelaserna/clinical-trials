{
 "cells": [
  {
   "cell_type": "markdown",
   "metadata": {},
   "source": [
    "# Clinical trials: Parse all XML files\n"
   ]
  },
  {
   "cell_type": "code",
   "execution_count": 57,
   "metadata": {},
   "outputs": [],
   "source": [
    "#Data: clinicaltrials.gov\n",
    "#Source: wget https://clinicaltrials.gov/AllPublicXML.zip\n",
    "#Date: September 14, 2018 [9pm]"
   ]
  },
  {
   "cell_type": "code",
   "execution_count": 58,
   "metadata": {},
   "outputs": [
    {
     "name": "stdout",
     "output_type": "stream",
     "text": [
      "Once deleted, variables cannot be recovered. Proceed (y/[n])? y\n"
     ]
    }
   ],
   "source": [
    "# reset variables if needed\n",
    "%reset"
   ]
  },
  {
   "cell_type": "code",
   "execution_count": 59,
   "metadata": {},
   "outputs": [],
   "source": [
    "import zipfile\n",
    "import sys\n",
    "import time\n",
    "import json\n",
    "import re\n",
    "import os\n",
    "import xml.etree.ElementTree as ET\n",
    "import shutil\n",
    "import pandas as pd\n",
    "from collections import Counter "
   ]
  },
  {
   "cell_type": "code",
   "execution_count": 60,
   "metadata": {},
   "outputs": [],
   "source": [
    "# Print messages to the terminal\n",
    "\n",
    "sys.stdout = open('/dev/stdout', 'w')\n"
   ]
  },
  {
   "cell_type": "markdown",
   "metadata": {},
   "source": [
    "## Import all xml files from folder"
   ]
  },
  {
   "cell_type": "code",
   "execution_count": 61,
   "metadata": {},
   "outputs": [],
   "source": [
    "'''\n",
    "Parse a folder of xml files and save them in a all_parsed_files variable.\n",
    "Slow function that checks for xml files\n",
    "'''\n",
    "\n",
    "def parse_xml_files(path_to_folder):\n",
    "    start = time.time()\n",
    "    \n",
    "    for filename in os.listdir(path_to_folder):\n",
    "        if not filename.endswith('.xml'): continue\n",
    "        fullname = os.path.join(path_to_folder, filename)\n",
    "        all_parsed_files.append(ET.parse(fullname).getroot())\n",
    "        \n",
    "        # Checking message to the terminal\n",
    "        print(\"{} file parsed\\n\".format(fullname))\n",
    "        \n",
    "    end = time.time()\n",
    "    performance = round(end - start)\n",
    "\n",
    "    print('Number of files parsed: {}'.format(len(all_parsed_files)))\n",
    "    print('Files parsed in: {} seconds'.format(str(performance)))\n",
    "        \n",
    "    return all_parsed_files"
   ]
  },
  {
   "cell_type": "code",
   "execution_count": 62,
   "metadata": {},
   "outputs": [
    {
     "data": {
      "text/plain": [
       "[<Element 'clinical_study' at 0x117705958>,\n",
       " <Element 'clinical_study' at 0x108263228>,\n",
       " <Element 'clinical_study' at 0x117903ea8>,\n",
       " <Element 'clinical_study' at 0x1177639f8>]"
      ]
     },
     "execution_count": 62,
     "metadata": {},
     "output_type": "execute_result"
    }
   ],
   "source": [
    "'''\n",
    "Execute function\n",
    "'''\n",
    "\n",
    "# Folders with xml files\n",
    "xml_trials_path = 'data/all_trials/' #all xml files\n",
    "test_folder = 'data/test/' #use for debugging\n",
    "\n",
    "# Variable for all parsed files\n",
    "all_parsed_files = []\n",
    "\n",
    "# Run function\n",
    "%time parse_xml_files(test_folder)"
   ]
  },
  {
   "cell_type": "markdown",
   "metadata": {},
   "source": [
    "## Parse all xml files and dump results in a single json file"
   ]
  },
  {
   "cell_type": "code",
   "execution_count": 63,
   "metadata": {},
   "outputs": [],
   "source": [
    "# Create folder for json file\n",
    "\n",
    "json_folder = 'data/json/'\n",
    "\n",
    "try:\n",
    "    os.mkdir(json_folder)\n",
    "    if name:\n",
    "        print(\"Folder {} created\".format(name))\n",
    "except IOError as e:\n",
    "    print(e)\n",
    "    pass\n"
   ]
  },
  {
   "cell_type": "code",
   "execution_count": 64,
   "metadata": {},
   "outputs": [],
   "source": [
    "# Variables for parsing function: path and dictionary\n",
    "\n",
    "all_data_dictionary = {}\n",
    "\n",
    "json_file = 'all_trials_json' #name json file  \n"
   ]
  },
  {
   "cell_type": "markdown",
   "metadata": {},
   "source": [
    "### Function to parse tags in files (slow)"
   ]
  },
  {
   "cell_type": "code",
   "execution_count": 65,
   "metadata": {},
   "outputs": [],
   "source": [
    "# Slow. ~30 minutes to parse all files checking for only two tags\n",
    "\n",
    "'''\n",
    "Find values by tag in XML files, save them in a dictionary, and export them to a json file\n",
    "'''\n",
    "\n",
    "def create_dictionary_from_tag(tag, parsed_files = all_parsed_files, name_dictionary = all_data_dictionary):\n",
    "    \n",
    "    # Variable to store values\n",
    "    values = []\n",
    "    \n",
    "    # Iterate through all xml parsed files and tags, and append data to values\n",
    "    for n in parsed_files:\n",
    "        for i in n.iter(tag):\n",
    "            values.append(i.text) #get values\n",
    "            # Checking message to the terminal\n",
    "            print(\"{} file parsed\\n\".format(i.text))\n",
    "    \n",
    "    # Create dictionary and set tags as keys\n",
    "    name_dictionary.setdefault(tag, [])\n",
    "    \n",
    "    # Append values to dictionary\n",
    "    for i in values:\n",
    "        name_dictionary[tag].append(i)\n",
    "        print(\"{} file added to the dictionary\\n\".format(i))\n",
    "    \n",
    "    # Dump dictionary into a JSON file\n",
    "    with open('{}{}.json'.format(json_folder, json_file), 'w') as fp:\n",
    "        json.dump(all_data_dictionary, fp)\n",
    "        print('JSON file created\\n')\n",
    "        \n",
    "        json_size = round(os.path.getsize(json_folder + json_file + '.json') / 1000000, 2)\n",
    "        print(\"JSON file: {} Mb\".format(json_size))\n",
    "        \n",
    "    return name_dictionary\n",
    "        \n",
    "        "
   ]
  },
  {
   "cell_type": "code",
   "execution_count": 66,
   "metadata": {},
   "outputs": [
    {
     "data": {
      "text/plain": [
       "{'nct_id': ['NCT00000106', 'NCT00000104', 'NCT00000105', 'NCT00000102'],\n",
       " 'condition': ['Rheumatic Diseases',\n",
       "  'Lead Poisoning',\n",
       "  'Cancer',\n",
       "  'Congenital Adrenal Hyperplasia']}"
      ]
     },
     "execution_count": 66,
     "metadata": {},
     "output_type": "execute_result"
    }
   ],
   "source": [
    "# Execute function\n",
    "%time create_dictionary_from_tag('nct_id')\n",
    "%time create_dictionary_from_tag('condition')"
   ]
  },
  {
   "cell_type": "code",
   "execution_count": 70,
   "metadata": {},
   "outputs": [
    {
     "data": {
      "text/plain": [
       "{'nct_id': ['NCT00000106', 'NCT00000104', 'NCT00000105', 'NCT00000102'],\n",
       " 'condition': ['Rheumatic Diseases',\n",
       "  'Lead Poisoning',\n",
       "  'Cancer',\n",
       "  'Congenital Adrenal Hyperplasia'],\n",
       " 'brief_title': ['41.8 Degree Centigrade Whole Body Hyperthermia for the Treatment of Rheumatoid Diseases',\n",
       "  'Does Lead Burden Alter Neuropsychological Development?',\n",
       "  'Vaccination With Tetanus and KLH to Assess Immune Responses.',\n",
       "  'Congenital Adrenal Hyperplasia: Calcium Channels as Therapeutic Targets']}"
      ]
     },
     "execution_count": 70,
     "metadata": {},
     "output_type": "execute_result"
    }
   ],
   "source": [
    "# New additions to the dictionary\n",
    "%time create_dictionary_from_tag('brief_title')"
   ]
  },
  {
   "cell_type": "markdown",
   "metadata": {},
   "source": [
    "## Import json file in a dataframe"
   ]
  },
  {
   "cell_type": "code",
   "execution_count": 71,
   "metadata": {},
   "outputs": [],
   "source": [
    "# Import json into a dataframe\n",
    "\n",
    "df = pd.read_json(json_folder + json_file + '.json')\n"
   ]
  },
  {
   "cell_type": "code",
   "execution_count": 72,
   "metadata": {},
   "outputs": [
    {
     "data": {
      "text/plain": [
       "Index(['nct_id', 'condition', 'brief_title'], dtype='object')"
      ]
     },
     "execution_count": 72,
     "metadata": {},
     "output_type": "execute_result"
    }
   ],
   "source": [
    "df.columns"
   ]
  },
  {
   "cell_type": "code",
   "execution_count": 74,
   "metadata": {},
   "outputs": [
    {
     "data": {
      "text/html": [
       "<div>\n",
       "<style scoped>\n",
       "    .dataframe tbody tr th:only-of-type {\n",
       "        vertical-align: middle;\n",
       "    }\n",
       "\n",
       "    .dataframe tbody tr th {\n",
       "        vertical-align: top;\n",
       "    }\n",
       "\n",
       "    .dataframe thead th {\n",
       "        text-align: right;\n",
       "    }\n",
       "</style>\n",
       "<table border=\"1\" class=\"dataframe\">\n",
       "  <thead>\n",
       "    <tr style=\"text-align: right;\">\n",
       "      <th></th>\n",
       "      <th>nct_id</th>\n",
       "      <th>condition</th>\n",
       "      <th>brief_title</th>\n",
       "    </tr>\n",
       "  </thead>\n",
       "  <tbody>\n",
       "    <tr>\n",
       "      <th>0</th>\n",
       "      <td>NCT00000106</td>\n",
       "      <td>Rheumatic Diseases</td>\n",
       "      <td>41.8 Degree Centigrade Whole Body Hyperthermia...</td>\n",
       "    </tr>\n",
       "    <tr>\n",
       "      <th>1</th>\n",
       "      <td>NCT00000104</td>\n",
       "      <td>Lead Poisoning</td>\n",
       "      <td>Does Lead Burden Alter Neuropsychological Deve...</td>\n",
       "    </tr>\n",
       "    <tr>\n",
       "      <th>2</th>\n",
       "      <td>NCT00000105</td>\n",
       "      <td>Cancer</td>\n",
       "      <td>Vaccination With Tetanus and KLH to Assess Imm...</td>\n",
       "    </tr>\n",
       "    <tr>\n",
       "      <th>3</th>\n",
       "      <td>NCT00000102</td>\n",
       "      <td>Congenital Adrenal Hyperplasia</td>\n",
       "      <td>Congenital Adrenal Hyperplasia: Calcium Channe...</td>\n",
       "    </tr>\n",
       "  </tbody>\n",
       "</table>\n",
       "</div>"
      ],
      "text/plain": [
       "        nct_id                       condition  \\\n",
       "0  NCT00000106              Rheumatic Diseases   \n",
       "1  NCT00000104                  Lead Poisoning   \n",
       "2  NCT00000105                          Cancer   \n",
       "3  NCT00000102  Congenital Adrenal Hyperplasia   \n",
       "\n",
       "                                         brief_title  \n",
       "0  41.8 Degree Centigrade Whole Body Hyperthermia...  \n",
       "1  Does Lead Burden Alter Neuropsychological Deve...  \n",
       "2  Vaccination With Tetanus and KLH to Assess Imm...  \n",
       "3  Congenital Adrenal Hyperplasia: Calcium Channe...  "
      ]
     },
     "execution_count": 74,
     "metadata": {},
     "output_type": "execute_result"
    }
   ],
   "source": [
    "df"
   ]
  },
  {
   "cell_type": "code",
   "execution_count": null,
   "metadata": {},
   "outputs": [],
   "source": []
  }
 ],
 "metadata": {
  "kernelspec": {
   "display_name": "Python 3",
   "language": "python",
   "name": "python3"
  },
  "language_info": {
   "codemirror_mode": {
    "name": "ipython",
    "version": 3
   },
   "file_extension": ".py",
   "mimetype": "text/x-python",
   "name": "python",
   "nbconvert_exporter": "python",
   "pygments_lexer": "ipython3",
   "version": "3.7.0"
  }
 },
 "nbformat": 4,
 "nbformat_minor": 2
}
