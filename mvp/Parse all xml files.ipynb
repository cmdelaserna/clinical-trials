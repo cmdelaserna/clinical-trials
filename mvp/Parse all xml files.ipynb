{
 "cells": [
  {
   "cell_type": "markdown",
   "metadata": {},
   "source": [
    "# Clinical trials: Parse all XML files\n"
   ]
  },
  {
   "cell_type": "code",
   "execution_count": null,
   "metadata": {},
   "outputs": [],
   "source": [
    "#Data: clinicaltrials.gov\n",
    "#Source: wget https://clinicaltrials.gov/AllPublicXML.zip\n",
    "#Date: September 14, 2018 [9pm]"
   ]
  },
  {
   "cell_type": "code",
   "execution_count": null,
   "metadata": {},
   "outputs": [],
   "source": [
    "# reset variables if needed\n",
    "# %reset"
   ]
  },
  {
   "cell_type": "code",
   "execution_count": null,
   "metadata": {},
   "outputs": [],
   "source": [
    "import zipfile\n",
    "import sys\n",
    "import time\n",
    "import json\n",
    "import re\n",
    "import os\n",
    "import xml.etree.ElementTree as ET\n",
    "import shutil\n",
    "import pandas as pd\n",
    "from collections import Counter "
   ]
  },
  {
   "cell_type": "code",
   "execution_count": null,
   "metadata": {},
   "outputs": [],
   "source": [
    "# Print messages to the terminal\n",
    "\n",
    "sys.stdout = open('/dev/stdout', 'w')\n"
   ]
  },
  {
   "cell_type": "markdown",
   "metadata": {},
   "source": [
    "## Import all xml files from folder"
   ]
  },
  {
   "cell_type": "code",
   "execution_count": null,
   "metadata": {},
   "outputs": [],
   "source": [
    "'''\n",
    "Parse a folder of xml files and save them in a all_parsed_files variable.\n",
    "Slow function to check only for xml files\n",
    "'''\n",
    "\n",
    "def parse_xml_files(path_to_folder):\n",
    "    start = time.time()\n",
    "    \n",
    "    for filename in os.listdir(path_to_folder):\n",
    "        if not filename.endswith('.xml'): continue\n",
    "        fullname = os.path.join(path_to_folder, filename)\n",
    "        all_parsed_files.append(ET.parse(fullname).getroot())\n",
    "        \n",
    "        # Checking message to the terminal\n",
    "        print(\"{} file parsed\\n\".format(fullname))\n",
    "        \n",
    "    end = time.time()\n",
    "    performance = round(end - start)\n",
    "\n",
    "    print('Number of files parsed: {}'.format(len(all_parsed_files)))\n",
    "    print('Files parsed in: {} seconds'.format(str(performance)))\n",
    "        \n",
    "    return all_parsed_files\n",
    "\n",
    "# Folders with xml files\n",
    "xml_trials_path = 'data/all_trials/' #all xml files\n",
    "test_folder = 'data/test/' #use for debugging\n",
    "\n",
    "# # Variable for all parsed files\n",
    "all_parsed_files = []\n",
    "\n",
    "# Run function\n",
    "%time parse_xml_files(xml_trials_path)"
   ]
  },
  {
   "cell_type": "code",
   "execution_count": null,
   "metadata": {},
   "outputs": [],
   "source": [
    "'''\n",
    "Number of files parsed: 284374\n",
    "Files parsed in: 2001 seconds\n",
    "CPU times: user 6min 52s, sys: 13min 4s, total: 19min 56s\n",
    "Wall time: 33min 21s\n",
    "'''"
   ]
  },
  {
   "cell_type": "code",
   "execution_count": null,
   "metadata": {},
   "outputs": [],
   "source": [
    "'''\n",
    "Faster option:\n",
    "Parse a folder of xml files and save them in a all_parsed_files variable\n",
    "'''\n",
    "\n",
    "xml_trials = 'data/all_trials/'\n",
    "\n",
    "all_parsed_files = []\n",
    "\n",
    "for xml in os.listdir(xml_trials):\n",
    "    print('File parsed {}'.format(xml))\n",
    "    %time all_parsed_files.append(xml)\n",
    "\n",
    "print('Number of files in data_trials_xml: {}'.format(len(all_parsed_files)))\n",
    "print('First files: {}'.format(all_parsed_files[0:5]))"
   ]
  },
  {
   "cell_type": "code",
   "execution_count": null,
   "metadata": {},
   "outputs": [],
   "source": [
    "#Resulting variable\n",
    "\n",
    "# all_parsed_files"
   ]
  },
  {
   "cell_type": "markdown",
   "metadata": {},
   "source": [
    "## Parse all xml files and dump results in a json file"
   ]
  },
  {
   "cell_type": "code",
   "execution_count": null,
   "metadata": {},
   "outputs": [],
   "source": [
    "# Create folder for json file\n",
    "\n",
    "json_folder = 'data/json/'\n",
    "\n",
    "try:\n",
    "    os.mkdir(json_folder)\n",
    "    if name:\n",
    "        print(\"Folder {} created\".format(name))\n",
    "except IOError as e:\n",
    "    print(e)\n",
    "    pass\n"
   ]
  },
  {
   "cell_type": "code",
   "execution_count": null,
   "metadata": {},
   "outputs": [],
   "source": [
    "# Variables for parsing function: path and dictionary\n",
    "\n",
    "all_data_dictionary = {}\n",
    "\n",
    "json_file = 'all_trials_json' #name json file  \n"
   ]
  },
  {
   "cell_type": "code",
   "execution_count": null,
   "metadata": {},
   "outputs": [],
   "source": [
    "# Slow. ~30 minutes to parse all files checking for only two tags\n",
    "\n",
    "'''\n",
    "Function to find values by tag in XML files, \n",
    "save them in a dictionary, and export them to a json file\n",
    "'''\n",
    "\n",
    "def create_dictionary_from_tag(tag, parsed_files = all_parsed_files, name_dictionary = all_data_dictionary):\n",
    "    \n",
    "    values = []\n",
    "    \n",
    "    for n in parsed_files:\n",
    "        for i in n.iter(tag):\n",
    "            values.append(i.text) #get values\n",
    "            # Checking message to the terminal\n",
    "            print(\"{} file parsed\\n\".format(i.text))\n",
    "    \n",
    "    # Create dictionary and set key\n",
    "    name_dictionary.setdefault(tag, [])\n",
    "    \n",
    "    for i in values:\n",
    "        name_dictionary[tag].append(i)\n",
    "        print(\"{} file added to the dictionary\\n\".format(i))\n",
    "        \n",
    "    with open('{}{}.json'.format(json_folder, json_file), 'w') as fp:\n",
    "        json.dump(all_data_dictionary, fp)\n",
    "        print('JSON file created\\n')\n",
    "        \n",
    "        json_size = round(os.path.getsize(json_folder + json_file + '.json') / 1000000, 2)\n",
    "        print(\"JSON file: {} Mb\".format(json_size))"
   ]
  },
  {
   "cell_type": "code",
   "execution_count": null,
   "metadata": {},
   "outputs": [],
   "source": [
    "# Execute function\n",
    "\n",
    "%time create_dictionary_from_tag('nct_id')\n",
    "%time create_dictionary_from_tag('nct_id')\n",
    "%time create_dictionary_from_tag('brief_title')\n",
    "%time create_dictionary_from_tag('sponsor')\n",
    "%time create_dictionary_from_tag('textblock')\n",
    "%time create_dictionary_from_tag('intervention_name')\n",
    "%time create_dictionary_from_tag('intervention_name')"
   ]
  },
  {
   "cell_type": "code",
   "execution_count": null,
   "metadata": {},
   "outputs": [],
   "source": [
    "# Function not working\n",
    "\n",
    "'''\n",
    "Function to save info from several tags in several files, \n",
    "and save keys and values in a dictionary\n",
    "'''\n",
    "\n",
    "tags_dictionary = {}\n",
    "\n",
    "def parsing_several_tags(name_dictionary, tag, parsed_files):\n",
    "    k = []\n",
    "    v = []\n",
    "    \n",
    "    for p in tag:\n",
    "        for n in parsed_files:\n",
    "            for i in n.iter(p):\n",
    "                k.append(i.tag)\n",
    "                v.append(i.text)\n",
    "\n",
    "                print(\"{} file parsed\\n\".format(i.text))\n",
    "                \n",
    "    print(\"Keys and Values from several tags & files stored\")\n",
    "    \n",
    "    name_dictionary = dict(zip(k, v))\n",
    "    \n",
    "    return name_dictionary\n",
    "\n",
    "\n",
    "list_of_tags = ['nct_id','country']\n",
    "\n",
    "parsing_several_tags(tags_dictionary, list_of_tags, all_parsed_files)"
   ]
  },
  {
   "cell_type": "markdown",
   "metadata": {},
   "source": [
    "## Import json file in a dataframe"
   ]
  },
  {
   "cell_type": "code",
   "execution_count": null,
   "metadata": {},
   "outputs": [],
   "source": [
    "# Import json into a dataframe\n",
    "df = pd.read_json(json_folder + json_file + '.json')"
   ]
  },
  {
   "cell_type": "code",
   "execution_count": null,
   "metadata": {},
   "outputs": [],
   "source": [
    "df.columns"
   ]
  },
  {
   "cell_type": "code",
   "execution_count": null,
   "metadata": {},
   "outputs": [],
   "source": [
    "df.loc[0:5]"
   ]
  },
  {
   "cell_type": "code",
   "execution_count": null,
   "metadata": {},
   "outputs": [],
   "source": []
  }
 ],
 "metadata": {
  "kernelspec": {
   "display_name": "Python 3",
   "language": "python",
   "name": "python3"
  },
  "language_info": {
   "codemirror_mode": {
    "name": "ipython",
    "version": 3
   },
   "file_extension": ".py",
   "mimetype": "text/x-python",
   "name": "python",
   "nbconvert_exporter": "python",
   "pygments_lexer": "ipython3",
   "version": "3.6.5"
  }
 },
 "nbformat": 4,
 "nbformat_minor": 2
}
