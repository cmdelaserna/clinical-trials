{
 "cells": [
  {
   "cell_type": "markdown",
   "metadata": {},
   "source": [
    "# Clinical trials: setup & data importing\n"
   ]
  },
  {
   "cell_type": "code",
   "execution_count": 1,
   "metadata": {},
   "outputs": [],
   "source": [
    "#Data: clinicaltrials.gov\n",
    "#Source: wget https://clinicaltrials.gov/AllPublicXML.zip\n",
    "#Date: September 14, 2018 [9pm]"
   ]
  },
  {
   "cell_type": "code",
   "execution_count": 2,
   "metadata": {},
   "outputs": [],
   "source": [
    "import zipfile\n",
    "import time\n",
    "import json\n",
    "import re\n",
    "import os\n",
    "import xml.etree.ElementTree as ET\n",
    "import shutil\n",
    "import pandas as pd"
   ]
  },
  {
   "cell_type": "markdown",
   "metadata": {},
   "source": [
    "## Unzip bulk download"
   ]
  },
  {
   "cell_type": "code",
   "execution_count": null,
   "metadata": {
    "scrolled": true
   },
   "outputs": [],
   "source": [
    "# Create folders for data\n",
    "\n",
    "cwd = os.getcwd()\n",
    "\n",
    "def create_folders(name):\n",
    "    try:\n",
    "        os.mkdir(name)\n",
    "        if name:\n",
    "            print(\"Folder {} created\".format(name))\n",
    "    except IOError as e:\n",
    "        print(e)\n",
    "        pass\n",
    "\n",
    "\n",
    "create_folders(\"data/all_trials\")\n",
    "create_folders(\"data/unzip\")\n",
    "create_folders(\"data/json\")\n",
    "create_folders(\"data/logs\")"
   ]
  },
  {
   "cell_type": "code",
   "execution_count": 38,
   "metadata": {},
   "outputs": [],
   "source": [
    "# Paths for data\n",
    "\n",
    "download = \"data/AllPublicXML.zip\"\n",
    "dest = 'data/unzip/'\n",
    "all_trials = 'data/all_trials/'\n",
    "json_folder = 'data/json/'\n",
    "logs = 'data/logs/'"
   ]
  },
  {
   "cell_type": "code",
   "execution_count": null,
   "metadata": {},
   "outputs": [],
   "source": [
    "# Unzip bulk download from clinicaltrials.gov\n",
    "\n",
    "def unzip_file(f, dest):\n",
    "    start = time.time()\n",
    "    print(\"Unzipping file...\")\n",
    "    data_zip = zipfile.ZipFile(f)\n",
    "    data_zip.extractall(dest)    \n",
    "    end = time.time()\n",
    "    performance = round((end - start)/60, 2)\n",
    "    print(\"File unzipped in \" + str(performance) + \" minutes\")\n",
    "\n",
    " \n",
    "#unzip_file(download, dest)"
   ]
  },
  {
   "cell_type": "code",
   "execution_count": null,
   "metadata": {
    "scrolled": true
   },
   "outputs": [],
   "source": [
    "# Number of folders\n",
    "\n",
    "folders = []\n",
    "\n",
    "for i in os.listdir(dest):\n",
    "    folders.append(i)\n",
    "\n",
    "print(\"Number of folders: \" + str(len(folders)))\n",
    "print(\"First 5 folders: \" + str(folders[0:5]))"
   ]
  },
  {
   "cell_type": "code",
   "execution_count": 39,
   "metadata": {},
   "outputs": [
    {
     "name": "stdout",
     "output_type": "stream",
     "text": [
      "Number of trials: 0\n"
     ]
    }
   ],
   "source": [
    "# Function to calculate number of trials in unzipped file\n",
    "\n",
    "def list_files(dir):\n",
    "    r = []\n",
    "    for root, dirs, files in os.walk(dir):\n",
    "        for name in files:\n",
    "            r.append(os.path.join(root, name))\n",
    "    return r\n",
    "\n",
    "\n",
    "data = list_files(dest)\n",
    "print(\"Number of trials: \" + str(len(data)-1))"
   ]
  },
  {
   "cell_type": "code",
   "execution_count": null,
   "metadata": {},
   "outputs": [],
   "source": [
    "# Move all xml files into all_trials folder\n",
    "\n",
    "filename = 'logs_moving_xml_files_to_one_folder.txt'\n",
    "start = time.time()\n",
    "\n",
    "for d in data: \n",
    "    try:\n",
    "        if d.endswith('.xml'):\n",
    "            shutil.move(d, all_trials)\n",
    "    except IOError as e:\n",
    "        with open(logs+filename, 'w+') as file:\n",
    "            file.write(str(e) + '/n')\n",
    "        pass\n",
    "\n",
    "end = time.time()\n",
    "performance = round((end - start), 2)\n",
    "print(str(\"Files moved to \" + str(all_trials) + \" in \" + str(performance) + \" seconds\"))"
   ]
  },
  {
   "cell_type": "code",
   "execution_count": 52,
   "metadata": {},
   "outputs": [
    {
     "name": "stdout",
     "output_type": "stream",
     "text": [
      "All_Trials folder: 6.09 Gb\n",
      "['NCT00391586.xml', 'NCT03472664.xml', 'NCT02443948.xml', 'NCT02818309.xml', 'NCT00092989.xml']\n"
     ]
    }
   ],
   "source": [
    "# Get all_trials numbers & size\n",
    "\n",
    "records = [] \n",
    "\n",
    "def get_size(start_path):\n",
    "    total_size = 0\n",
    "    for dirpath, dirnames, filenames in os.walk(start_path):\n",
    "        for f in filenames:\n",
    "            records.append(f)\n",
    "            fp = os.path.join(dirpath, f)\n",
    "            total_size += os.path.getsize(fp)\n",
    "    return total_size / 1000000000\n",
    "\n",
    "\n",
    "print(\"All_Trials folder: \" + str(round(get_size(all_trials), 2)) + \" Gb\")\n",
    "print(records[0:5])"
   ]
  },
  {
   "cell_type": "code",
   "execution_count": 57,
   "metadata": {},
   "outputs": [
    {
     "name": "stdout",
     "output_type": "stream",
     "text": [
      "[Errno 2] No such file or directory: 'data/unzip/'\n"
     ]
    }
   ],
   "source": [
    "# Remove unzip files after completing setup\n",
    "\n",
    "try:\n",
    "    shutil.rmtree(dest)\n",
    "    print(\"unzip folder deleted\")\n",
    "except IOError as e:\n",
    "    print(e)\n",
    "    pass"
   ]
  }
 ],
 "metadata": {
  "kernelspec": {
   "display_name": "Python 3",
   "language": "python",
   "name": "python3"
  },
  "language_info": {
   "codemirror_mode": {
    "name": "ipython",
    "version": 3
   },
   "file_extension": ".py",
   "mimetype": "text/x-python",
   "name": "python",
   "nbconvert_exporter": "python",
   "pygments_lexer": "ipython3",
   "version": "3.6.5"
  }
 },
 "nbformat": 4,
 "nbformat_minor": 2
}
